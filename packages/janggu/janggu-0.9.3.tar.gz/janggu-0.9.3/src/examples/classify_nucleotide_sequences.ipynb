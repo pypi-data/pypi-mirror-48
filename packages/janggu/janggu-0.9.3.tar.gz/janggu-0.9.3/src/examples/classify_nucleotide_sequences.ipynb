{
 "cells": [
  {
   "cell_type": "markdown",
   "metadata": {},
   "source": [
    "# Classify Oct4 and Mafk binding sites"
   ]
  },
  {
   "cell_type": "markdown",
   "metadata": {},
   "source": [
    "In this tutorial we fit a simple model to distinguish Oct4 from Mafk bound sites obtained from ChIP-seq experiments."
   ]
  },
  {
   "cell_type": "code",
   "execution_count": 1,
   "metadata": {},
   "outputs": [
    {
     "name": "stderr",
     "output_type": "stream",
     "text": [
      "/home/wkopp/anaconda3/envs/jdev/lib/python3.6/site-packages/h5py/__init__.py:36: FutureWarning: Conversion of the second argument of issubdtype from `float` to `np.floating` is deprecated. In future, it will be treated as `np.float64 == np.dtype(float).type`.\n",
      "  from ._conv import register_converters as _register_converters\n",
      "Using TensorFlow backend.\n"
     ]
    }
   ],
   "source": [
    "import os\n",
    "import numpy as np\n",
    "import pandas as pd\n",
    "import pkg_resources\n",
    "\n",
    "from keras import backend as K\n",
    "from keras.layers import Conv2D\n",
    "from keras.layers import GlobalAveragePooling2D\n",
    "from keras.layers import Maximum\n",
    "\n",
    "from janggu import Janggu\n",
    "from janggu import Scorer\n",
    "from janggu import inputlayer\n",
    "from janggu import outputdense\n",
    "from janggu.data import Array\n",
    "from janggu.data import Bioseq\n",
    "from janggu.layers import Complement\n",
    "from janggu.layers import DnaConv2D\n",
    "from janggu.layers import Reverse\n",
    "from janggu.utils import ExportClustermap\n",
    "from janggu.utils import ExportTsv\n",
    "\n",
    "import matplotlib\n",
    "\n",
    "np.random.seed(1234)\n",
    "\n",
    "from IPython.display import Image"
   ]
  },
  {
   "cell_type": "markdown",
   "metadata": {},
   "source": [
    "Next we chose the output directory, the sequence feature order and the whether to use a model that scans only the forward strand or\n",
    "a model that scans both strands simultaneously."
   ]
  },
  {
   "cell_type": "code",
   "execution_count": 2,
   "metadata": {},
   "outputs": [],
   "source": [
    "modeltype = 'dnaconv'\n",
    "#modeltype = 'double'\n",
    "#modeltype = 'single'\n",
    "order = 3"
   ]
  },
  {
   "cell_type": "markdown",
   "metadata": {},
   "source": [
    "modeltype 'dnaconv' and 'double' both scan the DNA sequence on both strands for motif occurrences, while 'single' only scans the forward strand."
   ]
  },
  {
   "cell_type": "markdown",
   "metadata": {},
   "source": [
    "Next we set the JANGGU_OUTPUT environment variable, which defines the folder in which all results are stored."
   ]
  },
  {
   "cell_type": "code",
   "execution_count": 3,
   "metadata": {},
   "outputs": [],
   "source": [
    "os.environ['JANGGU_OUTPUT'] = '/home/wkopp/janggu_examples'"
   ]
  },
  {
   "cell_type": "markdown",
   "metadata": {},
   "source": [
    "We use the following input files for the example:"
   ]
  },
  {
   "cell_type": "code",
   "execution_count": 4,
   "metadata": {},
   "outputs": [],
   "source": [
    "# load the dataset\n",
    "DATA_PATH = pkg_resources.resource_filename('janggu', 'resources/')\n",
    "OCT4 = os.path.join(DATA_PATH, 'sample.fa')\n",
    "MAFK = os.path.join(DATA_PATH, 'sample2.fa')\n",
    "\n",
    "OCT4_TEST = os.path.join(DATA_PATH, 'sample_test.fa')\n",
    "MAFK_TEST = os.path.join(DATA_PATH, 'sample2_test.fa')"
   ]
  },
  {
   "cell_type": "markdown",
   "metadata": {},
   "source": [
    "The DNA sequences, which are used as input for the models, can be loaded using into a Bioseq dataset object"
   ]
  },
  {
   "cell_type": "code",
   "execution_count": 5,
   "metadata": {},
   "outputs": [
    {
     "name": "stdout",
     "output_type": "stream",
     "text": [
      "reload /home/wkopp/janggu_examples/datasets/dna/063903497a4e66bfec7bb41889f46fc672c2bf5be2fe3690bb7636316a5d45d8.npz\n",
      "reload /home/wkopp/janggu_examples/datasets/dna/fa540b911dab9baf0ef0916f95342d1a28d5ecd543359b32d7378c9ca1ca44fd.npz\n"
     ]
    }
   ],
   "source": [
    "DNA = Bioseq.create_from_seq('dna', fastafile=[OCT4, MAFK],\n",
    "                             order=order, cache=True)\n",
    "DNA_TEST = Bioseq.create_from_seq('dna', fastafile=[OCT4_TEST, MAFK_TEST],\n",
    "                                  order=order, cache=True)\n"
   ]
  },
  {
   "cell_type": "markdown",
   "metadata": {},
   "source": [
    "The output labels for the training and test set can be obtained as follows"
   ]
  },
  {
   "cell_type": "code",
   "execution_count": 6,
   "metadata": {},
   "outputs": [],
   "source": [
    "# helper function\n",
    "def nseqs(filename):\n",
    "    \"\"\"This function extracts the number of sequences\n",
    "    from the fasta file.\n",
    "    \"\"\"\n",
    "    return sum((1 for line in open(filename) if line[0] == '>'))\n",
    "\n",
    "Y = np.asarray([[1] for line in range(nseqs(OCT4))] +\n",
    "               [[0] for line in range(nseqs(MAFK))])\n",
    "LABELS = Array('y', Y, conditions=['TF-binding'])\n",
    "\n",
    "Y = np.asarray([[1] for _ in range(nseqs(OCT4_TEST))] +\n",
    "               [[0] for _ in range(nseqs(MAFK_TEST))])\n",
    "LABELS_TEST = Array('y', Y, conditions=['TF-binding'])\n"
   ]
  },
  {
   "cell_type": "markdown",
   "metadata": {},
   "source": [
    "Next, we define three different network topologies using the Janggu framework. The first one considers only the forward strand, whereas the latter two scan both DNA strands for motif matches."
   ]
  },
  {
   "cell_type": "code",
   "execution_count": 7,
   "metadata": {},
   "outputs": [],
   "source": [
    "\n",
    "@inputlayer\n",
    "@outputdense('sigmoid')\n",
    "def single_stranded_model(inputs, inp, oup, params):\n",
    "    \"\"\" keras model that scans a DNA sequence using\n",
    "    a number of motifs.\n",
    "\n",
    "    This model only scans one strand for sequence patterns.\n",
    "    \"\"\"\n",
    "    with inputs.use('dna') as layer:\n",
    "        # the name in inputs.use() should be the same as the dataset name.\n",
    "        layer = Conv2D(params[0], (params[1], 1), activation=params[2])(layer)\n",
    "    output = GlobalAveragePooling2D(name='motif')(layer)\n",
    "    return inputs, output"
   ]
  },
  {
   "cell_type": "code",
   "execution_count": 8,
   "metadata": {},
   "outputs": [],
   "source": [
    "@inputlayer\n",
    "@outputdense('sigmoid')\n",
    "def double_stranded_model(inputs, inp, oup, params):\n",
    "    \"\"\" keras model for scanning both DNA strands.\n",
    "\n",
    "    Sequence patterns may be present on either strand.\n",
    "    By scanning both DNA strands with the same motifs (kernels)\n",
    "    the performance of the model will generally improve.\n",
    "\n",
    "    In the model below, this is achieved by reverse complementing\n",
    "    the input tensor and keeping the convolution filters fixed.\n",
    "    \"\"\"\n",
    "    with inputs.use('dna') as layer:\n",
    "        # the name in inputs.use() should be the same as the dataset name.\n",
    "        forward = layer\n",
    "    convlayer = Conv2D(params[0], (params[1], 1), activation=params[2])\n",
    "    revcomp = Reverse()(forward)\n",
    "    revcomp = Complement()(revcomp)\n",
    "\n",
    "    forward = convlayer(forward)\n",
    "    revcomp = convlayer(revcomp)\n",
    "    revcomp = Reverse()(revcomp)\n",
    "    layer = Maximum()([forward, revcomp])\n",
    "    output = GlobalAveragePooling2D(name='motif')(layer)\n",
    "    return inputs, output\n"
   ]
  },
  {
   "cell_type": "code",
   "execution_count": 9,
   "metadata": {},
   "outputs": [],
   "source": [
    "@inputlayer\n",
    "@outputdense('sigmoid')\n",
    "def double_stranded_model_dnaconv(inputs, inp, oup, params):\n",
    "    \"\"\" keras model for scanning both DNA strands.\n",
    "\n",
    "    A more elegant way of scanning both strands for motif occurrences\n",
    "    is achieved by the DnaConv2D layer wrapper, which internally\n",
    "    performs the convolution operation with the normal kernel weights\n",
    "    and the reverse complemented weights.\n",
    "    \"\"\"\n",
    "    with inputs.use('dna') as layer:\n",
    "        # the name in inputs.use() should be the same as the dataset name.\n",
    "        conv = DnaConv2D(Conv2D(params[0],\n",
    "                                (params[1], 1),\n",
    "                                activation=params[2]), name='conv1')(layer)\n",
    "\n",
    "    output = GlobalAveragePooling2D(name='motif')(conv)\n",
    "    return inputs, output"
   ]
  },
  {
   "cell_type": "code",
   "execution_count": 10,
   "metadata": {},
   "outputs": [],
   "source": [
    "if modeltype == 'single':\n",
    "    modeltemplate = single_stranded_model\n",
    "elif modeltype == 'double':\n",
    "    modeltemplate = double_stranded_model\n",
    "else:\n",
    "    modeltemplate = double_stranded_model_dnaconv\n",
    "\n",
    "K.clear_session()"
   ]
  },
  {
   "cell_type": "markdown",
   "metadata": {},
   "source": [
    "Instantiate a new model."
   ]
  },
  {
   "cell_type": "code",
   "execution_count": 11,
   "metadata": {},
   "outputs": [],
   "source": [
    "modelname = 'fasta_seqs_m{}_o{}'.format(modeltype, order)"
   ]
  },
  {
   "cell_type": "code",
   "execution_count": 12,
   "metadata": {},
   "outputs": [
    {
     "name": "stdout",
     "output_type": "stream",
     "text": [
      "_________________________________________________________________\n",
      "Layer (type)                 Output Shape              Param #   \n",
      "=================================================================\n",
      "dna (InputLayer)             (None, 198, 1, 64)        0         \n",
      "_________________________________________________________________\n",
      "conv1 (DnaConv2D)            (None, 178, 1, 30)        40350     \n",
      "_________________________________________________________________\n",
      "motif (GlobalAveragePooling2 (None, 30)                0         \n",
      "_________________________________________________________________\n",
      "y (Dense)                    (None, 1)                 31        \n",
      "=================================================================\n",
      "Total params: 40,381\n",
      "Trainable params: 40,381\n",
      "Non-trainable params: 0\n",
      "_________________________________________________________________\n"
     ]
    }
   ],
   "source": [
    "# create a new model object\n",
    "model = Janggu.create(template=modeltemplate,\n",
    "                      modelparams=(30, 21, 'relu'),\n",
    "                      inputs=DNA,\n",
    "                      outputs=LABELS,\n",
    "                      name=modelname)\n",
    "\n",
    "model.compile(optimizer='adadelta', loss='binary_crossentropy',\n",
    "              metrics=['acc'])\n",
    "model.summary()\n"
   ]
  },
  {
   "cell_type": "markdown",
   "metadata": {},
   "source": [
    "And train it"
   ]
  },
  {
   "cell_type": "code",
   "execution_count": null,
   "metadata": {},
   "outputs": [
    {
     "name": "stdout",
     "output_type": "stream",
     "text": [
      "Epoch 1/100\n"
     ]
    }
   ],
   "source": [
    "# fit the model\n",
    "hist = model.fit(DNA, LABELS, epochs=100)"
   ]
  },
  {
   "cell_type": "markdown",
   "metadata": {},
   "source": [
    "Finally, we can evaluate various performance measures, including the area under the ROC curve or the area under the precision recall curve."
   ]
  },
  {
   "cell_type": "code",
   "execution_count": null,
   "metadata": {},
   "outputs": [],
   "source": [
    "model.evaluate(DNA_TEST, LABELS_TEST, datatags=['test'],\n",
    "               callbacks=['prc', 'auprc', 'roc', 'auroc'])"
   ]
  },
  {
   "cell_type": "markdown",
   "metadata": {},
   "source": [
    "The results of this evaluation can be found in the output folder"
   ]
  },
  {
   "cell_type": "code",
   "execution_count": null,
   "metadata": {},
   "outputs": [],
   "source": [
    "evaluation_folder = os.path.join(os.environ['JANGGU_OUTPUT'], 'evaluation', modelname, 'test')"
   ]
  },
  {
   "cell_type": "markdown",
   "metadata": {},
   "source": [
    "It contains summary figures of the PRC and ROC curve"
   ]
  },
  {
   "cell_type": "code",
   "execution_count": null,
   "metadata": {},
   "outputs": [],
   "source": [
    "Image(os.path.join(evaluation_folder, 'prc.png'))"
   ]
  },
  {
   "cell_type": "code",
   "execution_count": null,
   "metadata": {},
   "outputs": [],
   "source": [
    "Image(os.path.join(evaluation_folder, 'roc.png'))"
   ]
  },
  {
   "cell_type": "markdown",
   "metadata": {},
   "source": [
    "The scores are also exported in table form"
   ]
  },
  {
   "cell_type": "code",
   "execution_count": null,
   "metadata": {},
   "outputs": [],
   "source": [
    "pd.read_csv(os.path.join(evaluation_folder, 'auprc.tsv'))"
   ]
  },
  {
   "cell_type": "code",
   "execution_count": null,
   "metadata": {},
   "outputs": [],
   "source": [
    "pd.read_csv(os.path.join(evaluation_folder, 'auroc.tsv'))"
   ]
  }
 ],
 "metadata": {
  "kernelspec": {
   "display_name": "Python 3",
   "language": "python",
   "name": "python3"
  },
  "language_info": {
   "codemirror_mode": {
    "name": "ipython",
    "version": 3
   },
   "file_extension": ".py",
   "mimetype": "text/x-python",
   "name": "python",
   "nbconvert_exporter": "python",
   "pygments_lexer": "ipython3",
   "version": "3.6.8"
  }
 },
 "nbformat": 4,
 "nbformat_minor": 2
}
