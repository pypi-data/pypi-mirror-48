{
 "cells": [
  {
   "cell_type": "code",
   "execution_count": 1,
   "metadata": {},
   "outputs": [
    {
     "data": {
      "text/html": [
       "<div>\n",
       "<style scoped>\n",
       "    .dataframe tbody tr th:only-of-type {\n",
       "        vertical-align: middle;\n",
       "    }\n",
       "\n",
       "    .dataframe tbody tr th {\n",
       "        vertical-align: top;\n",
       "    }\n",
       "\n",
       "    .dataframe thead th {\n",
       "        text-align: right;\n",
       "    }\n",
       "</style>\n",
       "<table border=\"1\" class=\"dataframe\">\n",
       "  <thead>\n",
       "    <tr style=\"text-align: right;\">\n",
       "      <th></th>\n",
       "      <th>Yield</th>\n",
       "      <th>BiologicalMaterial01</th>\n",
       "      <th>BiologicalMaterial02</th>\n",
       "      <th>BiologicalMaterial03</th>\n",
       "      <th>BiologicalMaterial04</th>\n",
       "      <th>BiologicalMaterial05</th>\n",
       "      <th>BiologicalMaterial06</th>\n",
       "      <th>BiologicalMaterial07</th>\n",
       "      <th>BiologicalMaterial08</th>\n",
       "      <th>BiologicalMaterial09</th>\n",
       "      <th>...</th>\n",
       "      <th>ManufacturingProcess36</th>\n",
       "      <th>ManufacturingProcess37</th>\n",
       "      <th>ManufacturingProcess38</th>\n",
       "      <th>ManufacturingProcess39</th>\n",
       "      <th>ManufacturingProcess40</th>\n",
       "      <th>ManufacturingProcess41</th>\n",
       "      <th>ManufacturingProcess42</th>\n",
       "      <th>ManufacturingProcess43</th>\n",
       "      <th>ManufacturingProcess44</th>\n",
       "      <th>ManufacturingProcess45</th>\n",
       "    </tr>\n",
       "  </thead>\n",
       "  <tbody>\n",
       "    <tr>\n",
       "      <th>0</th>\n",
       "      <td>43.12</td>\n",
       "      <td>7.48</td>\n",
       "      <td>64.47</td>\n",
       "      <td>72.41</td>\n",
       "      <td>13.82</td>\n",
       "      <td>17.71</td>\n",
       "      <td>54.45</td>\n",
       "      <td>100.0</td>\n",
       "      <td>18.72</td>\n",
       "      <td>12.95</td>\n",
       "      <td>...</td>\n",
       "      <td>0.019</td>\n",
       "      <td>0.8</td>\n",
       "      <td>2</td>\n",
       "      <td>7.3</td>\n",
       "      <td>0.0</td>\n",
       "      <td>0.0</td>\n",
       "      <td>11.7</td>\n",
       "      <td>0.7</td>\n",
       "      <td>2.0</td>\n",
       "      <td>2.2</td>\n",
       "    </tr>\n",
       "    <tr>\n",
       "      <th>1</th>\n",
       "      <td>43.06</td>\n",
       "      <td>6.94</td>\n",
       "      <td>63.60</td>\n",
       "      <td>72.06</td>\n",
       "      <td>15.70</td>\n",
       "      <td>19.42</td>\n",
       "      <td>54.72</td>\n",
       "      <td>100.0</td>\n",
       "      <td>18.85</td>\n",
       "      <td>13.13</td>\n",
       "      <td>...</td>\n",
       "      <td>0.019</td>\n",
       "      <td>1.0</td>\n",
       "      <td>2</td>\n",
       "      <td>7.3</td>\n",
       "      <td>0.0</td>\n",
       "      <td>0.0</td>\n",
       "      <td>11.4</td>\n",
       "      <td>0.8</td>\n",
       "      <td>2.0</td>\n",
       "      <td>2.2</td>\n",
       "    </tr>\n",
       "    <tr>\n",
       "      <th>2</th>\n",
       "      <td>41.49</td>\n",
       "      <td>6.94</td>\n",
       "      <td>63.60</td>\n",
       "      <td>72.06</td>\n",
       "      <td>15.70</td>\n",
       "      <td>19.42</td>\n",
       "      <td>54.72</td>\n",
       "      <td>100.0</td>\n",
       "      <td>18.85</td>\n",
       "      <td>13.13</td>\n",
       "      <td>...</td>\n",
       "      <td>0.019</td>\n",
       "      <td>1.2</td>\n",
       "      <td>3</td>\n",
       "      <td>7.4</td>\n",
       "      <td>0.0</td>\n",
       "      <td>0.0</td>\n",
       "      <td>11.4</td>\n",
       "      <td>0.9</td>\n",
       "      <td>1.9</td>\n",
       "      <td>2.1</td>\n",
       "    </tr>\n",
       "    <tr>\n",
       "      <th>3</th>\n",
       "      <td>42.45</td>\n",
       "      <td>6.94</td>\n",
       "      <td>63.60</td>\n",
       "      <td>72.06</td>\n",
       "      <td>15.70</td>\n",
       "      <td>19.42</td>\n",
       "      <td>54.72</td>\n",
       "      <td>100.0</td>\n",
       "      <td>18.85</td>\n",
       "      <td>13.13</td>\n",
       "      <td>...</td>\n",
       "      <td>0.019</td>\n",
       "      <td>1.8</td>\n",
       "      <td>3</td>\n",
       "      <td>7.1</td>\n",
       "      <td>0.0</td>\n",
       "      <td>0.0</td>\n",
       "      <td>11.3</td>\n",
       "      <td>0.8</td>\n",
       "      <td>1.9</td>\n",
       "      <td>2.4</td>\n",
       "    </tr>\n",
       "    <tr>\n",
       "      <th>4</th>\n",
       "      <td>42.04</td>\n",
       "      <td>7.17</td>\n",
       "      <td>61.23</td>\n",
       "      <td>70.01</td>\n",
       "      <td>13.36</td>\n",
       "      <td>18.67</td>\n",
       "      <td>52.83</td>\n",
       "      <td>100.0</td>\n",
       "      <td>17.88</td>\n",
       "      <td>12.62</td>\n",
       "      <td>...</td>\n",
       "      <td>0.019</td>\n",
       "      <td>1.5</td>\n",
       "      <td>2</td>\n",
       "      <td>7.0</td>\n",
       "      <td>0.0</td>\n",
       "      <td>0.0</td>\n",
       "      <td>11.0</td>\n",
       "      <td>1.0</td>\n",
       "      <td>1.9</td>\n",
       "      <td>1.8</td>\n",
       "    </tr>\n",
       "  </tbody>\n",
       "</table>\n",
       "<p>5 rows × 58 columns</p>\n",
       "</div>"
      ],
      "text/plain": [
       "   Yield  BiologicalMaterial01  BiologicalMaterial02  BiologicalMaterial03  \\\n",
       "0  43.12                  7.48                 64.47                 72.41   \n",
       "1  43.06                  6.94                 63.60                 72.06   \n",
       "2  41.49                  6.94                 63.60                 72.06   \n",
       "3  42.45                  6.94                 63.60                 72.06   \n",
       "4  42.04                  7.17                 61.23                 70.01   \n",
       "\n",
       "   BiologicalMaterial04  BiologicalMaterial05  BiologicalMaterial06  \\\n",
       "0                 13.82                 17.71                 54.45   \n",
       "1                 15.70                 19.42                 54.72   \n",
       "2                 15.70                 19.42                 54.72   \n",
       "3                 15.70                 19.42                 54.72   \n",
       "4                 13.36                 18.67                 52.83   \n",
       "\n",
       "   BiologicalMaterial07  BiologicalMaterial08  BiologicalMaterial09  ...  \\\n",
       "0                 100.0                 18.72                 12.95  ...   \n",
       "1                 100.0                 18.85                 13.13  ...   \n",
       "2                 100.0                 18.85                 13.13  ...   \n",
       "3                 100.0                 18.85                 13.13  ...   \n",
       "4                 100.0                 17.88                 12.62  ...   \n",
       "\n",
       "   ManufacturingProcess36  ManufacturingProcess37  ManufacturingProcess38  \\\n",
       "0                   0.019                     0.8                       2   \n",
       "1                   0.019                     1.0                       2   \n",
       "2                   0.019                     1.2                       3   \n",
       "3                   0.019                     1.8                       3   \n",
       "4                   0.019                     1.5                       2   \n",
       "\n",
       "   ManufacturingProcess39  ManufacturingProcess40  ManufacturingProcess41  \\\n",
       "0                     7.3                     0.0                     0.0   \n",
       "1                     7.3                     0.0                     0.0   \n",
       "2                     7.4                     0.0                     0.0   \n",
       "3                     7.1                     0.0                     0.0   \n",
       "4                     7.0                     0.0                     0.0   \n",
       "\n",
       "   ManufacturingProcess42  ManufacturingProcess43  ManufacturingProcess44  \\\n",
       "0                    11.7                     0.7                     2.0   \n",
       "1                    11.4                     0.8                     2.0   \n",
       "2                    11.4                     0.9                     1.9   \n",
       "3                    11.3                     0.8                     1.9   \n",
       "4                    11.0                     1.0                     1.9   \n",
       "\n",
       "   ManufacturingProcess45  \n",
       "0                     2.2  \n",
       "1                     2.2  \n",
       "2                     2.1  \n",
       "3                     2.4  \n",
       "4                     1.8  \n",
       "\n",
       "[5 rows x 58 columns]"
      ]
     },
     "execution_count": 1,
     "metadata": {},
     "output_type": "execute_result"
    }
   ],
   "source": [
    "# pip install -U jrpyml\n",
    "\n",
    "import jrpyml\n",
    "manufacturing = jrpyml.datasets.load_manufacturing()\n",
    "manufacturing.head()"
   ]
  },
  {
   "cell_type": "code",
   "execution_count": 2,
   "metadata": {},
   "outputs": [
    {
     "data": {
      "text/html": [
       "<div>\n",
       "<style scoped>\n",
       "    .dataframe tbody tr th:only-of-type {\n",
       "        vertical-align: middle;\n",
       "    }\n",
       "\n",
       "    .dataframe tbody tr th {\n",
       "        vertical-align: top;\n",
       "    }\n",
       "\n",
       "    .dataframe thead th {\n",
       "        text-align: right;\n",
       "    }\n",
       "</style>\n",
       "<table border=\"1\" class=\"dataframe\">\n",
       "  <thead>\n",
       "    <tr style=\"text-align: right;\">\n",
       "      <th></th>\n",
       "      <th>Yield</th>\n",
       "      <th>BiologicalMaterial01</th>\n",
       "      <th>BiologicalMaterial02</th>\n",
       "      <th>BiologicalMaterial03</th>\n",
       "      <th>BiologicalMaterial04</th>\n",
       "      <th>BiologicalMaterial05</th>\n",
       "      <th>BiologicalMaterial06</th>\n",
       "      <th>BiologicalMaterial07</th>\n",
       "      <th>BiologicalMaterial08</th>\n",
       "      <th>BiologicalMaterial09</th>\n",
       "      <th>...</th>\n",
       "      <th>ManufacturingProcess36</th>\n",
       "      <th>ManufacturingProcess37</th>\n",
       "      <th>ManufacturingProcess38</th>\n",
       "      <th>ManufacturingProcess39</th>\n",
       "      <th>ManufacturingProcess40</th>\n",
       "      <th>ManufacturingProcess41</th>\n",
       "      <th>ManufacturingProcess42</th>\n",
       "      <th>ManufacturingProcess43</th>\n",
       "      <th>ManufacturingProcess44</th>\n",
       "      <th>ManufacturingProcess45</th>\n",
       "    </tr>\n",
       "  </thead>\n",
       "  <tbody>\n",
       "    <tr>\n",
       "      <th>count</th>\n",
       "      <td>152.000000</td>\n",
       "      <td>152.000000</td>\n",
       "      <td>152.000000</td>\n",
       "      <td>152.000000</td>\n",
       "      <td>152.000000</td>\n",
       "      <td>152.000000</td>\n",
       "      <td>152.000000</td>\n",
       "      <td>152.000000</td>\n",
       "      <td>152.000000</td>\n",
       "      <td>152.000000</td>\n",
       "      <td>...</td>\n",
       "      <td>152.000000</td>\n",
       "      <td>152.000000</td>\n",
       "      <td>152.000000</td>\n",
       "      <td>152.000000</td>\n",
       "      <td>152.000000</td>\n",
       "      <td>152.000000</td>\n",
       "      <td>152.000000</td>\n",
       "      <td>152.000000</td>\n",
       "      <td>152.000000</td>\n",
       "      <td>152.000000</td>\n",
       "    </tr>\n",
       "    <tr>\n",
       "      <th>mean</th>\n",
       "      <td>40.128092</td>\n",
       "      <td>6.311513</td>\n",
       "      <td>55.318421</td>\n",
       "      <td>67.788618</td>\n",
       "      <td>12.160132</td>\n",
       "      <td>18.423487</td>\n",
       "      <td>48.597697</td>\n",
       "      <td>100.016382</td>\n",
       "      <td>17.390132</td>\n",
       "      <td>12.874013</td>\n",
       "      <td>...</td>\n",
       "      <td>0.019645</td>\n",
       "      <td>0.988816</td>\n",
       "      <td>2.631579</td>\n",
       "      <td>7.023684</td>\n",
       "      <td>0.019079</td>\n",
       "      <td>0.025000</td>\n",
       "      <td>11.538816</td>\n",
       "      <td>0.887500</td>\n",
       "      <td>1.860526</td>\n",
       "      <td>2.203289</td>\n",
       "    </tr>\n",
       "    <tr>\n",
       "      <th>std</th>\n",
       "      <td>1.882432</td>\n",
       "      <td>0.667980</td>\n",
       "      <td>3.998068</td>\n",
       "      <td>4.153574</td>\n",
       "      <td>1.745342</td>\n",
       "      <td>1.835511</td>\n",
       "      <td>3.772880</td>\n",
       "      <td>0.115830</td>\n",
       "      <td>0.611356</td>\n",
       "      <td>0.409173</td>\n",
       "      <td>...</td>\n",
       "      <td>0.000833</td>\n",
       "      <td>0.428234</td>\n",
       "      <td>0.483971</td>\n",
       "      <td>1.009605</td>\n",
       "      <td>0.039422</td>\n",
       "      <td>0.054286</td>\n",
       "      <td>0.276221</td>\n",
       "      <td>0.902191</td>\n",
       "      <td>0.087009</td>\n",
       "      <td>0.180293</td>\n",
       "    </tr>\n",
       "    <tr>\n",
       "      <th>min</th>\n",
       "      <td>35.250000</td>\n",
       "      <td>4.580000</td>\n",
       "      <td>46.870000</td>\n",
       "      <td>57.560000</td>\n",
       "      <td>9.380000</td>\n",
       "      <td>13.240000</td>\n",
       "      <td>40.600000</td>\n",
       "      <td>100.000000</td>\n",
       "      <td>15.880000</td>\n",
       "      <td>11.730000</td>\n",
       "      <td>...</td>\n",
       "      <td>0.018000</td>\n",
       "      <td>0.000000</td>\n",
       "      <td>2.000000</td>\n",
       "      <td>0.000000</td>\n",
       "      <td>0.000000</td>\n",
       "      <td>0.000000</td>\n",
       "      <td>10.500000</td>\n",
       "      <td>0.000000</td>\n",
       "      <td>1.600000</td>\n",
       "      <td>1.800000</td>\n",
       "    </tr>\n",
       "    <tr>\n",
       "      <th>25%</th>\n",
       "      <td>38.692500</td>\n",
       "      <td>5.900000</td>\n",
       "      <td>52.670000</td>\n",
       "      <td>64.340000</td>\n",
       "      <td>11.150000</td>\n",
       "      <td>17.090000</td>\n",
       "      <td>45.840000</td>\n",
       "      <td>100.000000</td>\n",
       "      <td>17.000000</td>\n",
       "      <td>12.620000</td>\n",
       "      <td>...</td>\n",
       "      <td>0.019000</td>\n",
       "      <td>0.700000</td>\n",
       "      <td>2.000000</td>\n",
       "      <td>7.100000</td>\n",
       "      <td>0.000000</td>\n",
       "      <td>0.000000</td>\n",
       "      <td>11.400000</td>\n",
       "      <td>0.500000</td>\n",
       "      <td>1.800000</td>\n",
       "      <td>2.100000</td>\n",
       "    </tr>\n",
       "    <tr>\n",
       "      <th>50%</th>\n",
       "      <td>39.905000</td>\n",
       "      <td>6.275000</td>\n",
       "      <td>54.495000</td>\n",
       "      <td>67.040000</td>\n",
       "      <td>12.020000</td>\n",
       "      <td>18.260000</td>\n",
       "      <td>47.890000</td>\n",
       "      <td>100.000000</td>\n",
       "      <td>17.415000</td>\n",
       "      <td>12.880000</td>\n",
       "      <td>...</td>\n",
       "      <td>0.020000</td>\n",
       "      <td>1.000000</td>\n",
       "      <td>3.000000</td>\n",
       "      <td>7.200000</td>\n",
       "      <td>0.000000</td>\n",
       "      <td>0.000000</td>\n",
       "      <td>11.600000</td>\n",
       "      <td>0.800000</td>\n",
       "      <td>1.900000</td>\n",
       "      <td>2.200000</td>\n",
       "    </tr>\n",
       "    <tr>\n",
       "      <th>75%</th>\n",
       "      <td>41.455000</td>\n",
       "      <td>6.762500</td>\n",
       "      <td>58.180000</td>\n",
       "      <td>71.050000</td>\n",
       "      <td>12.727500</td>\n",
       "      <td>19.277500</td>\n",
       "      <td>50.850000</td>\n",
       "      <td>100.000000</td>\n",
       "      <td>17.760000</td>\n",
       "      <td>13.140000</td>\n",
       "      <td>...</td>\n",
       "      <td>0.020000</td>\n",
       "      <td>1.225000</td>\n",
       "      <td>3.000000</td>\n",
       "      <td>7.300000</td>\n",
       "      <td>0.000000</td>\n",
       "      <td>0.000000</td>\n",
       "      <td>11.700000</td>\n",
       "      <td>1.000000</td>\n",
       "      <td>1.900000</td>\n",
       "      <td>2.300000</td>\n",
       "    </tr>\n",
       "    <tr>\n",
       "      <th>max</th>\n",
       "      <td>46.340000</td>\n",
       "      <td>8.810000</td>\n",
       "      <td>64.750000</td>\n",
       "      <td>78.250000</td>\n",
       "      <td>23.090000</td>\n",
       "      <td>24.850000</td>\n",
       "      <td>59.380000</td>\n",
       "      <td>100.830000</td>\n",
       "      <td>18.850000</td>\n",
       "      <td>14.080000</td>\n",
       "      <td>...</td>\n",
       "      <td>0.022000</td>\n",
       "      <td>2.000000</td>\n",
       "      <td>3.000000</td>\n",
       "      <td>7.500000</td>\n",
       "      <td>0.100000</td>\n",
       "      <td>0.200000</td>\n",
       "      <td>12.100000</td>\n",
       "      <td>11.000000</td>\n",
       "      <td>2.100000</td>\n",
       "      <td>2.600000</td>\n",
       "    </tr>\n",
       "  </tbody>\n",
       "</table>\n",
       "<p>8 rows × 58 columns</p>\n",
       "</div>"
      ],
      "text/plain": [
       "            Yield  BiologicalMaterial01  BiologicalMaterial02  \\\n",
       "count  152.000000            152.000000            152.000000   \n",
       "mean    40.128092              6.311513             55.318421   \n",
       "std      1.882432              0.667980              3.998068   \n",
       "min     35.250000              4.580000             46.870000   \n",
       "25%     38.692500              5.900000             52.670000   \n",
       "50%     39.905000              6.275000             54.495000   \n",
       "75%     41.455000              6.762500             58.180000   \n",
       "max     46.340000              8.810000             64.750000   \n",
       "\n",
       "       BiologicalMaterial03  BiologicalMaterial04  BiologicalMaterial05  \\\n",
       "count            152.000000            152.000000            152.000000   \n",
       "mean              67.788618             12.160132             18.423487   \n",
       "std                4.153574              1.745342              1.835511   \n",
       "min               57.560000              9.380000             13.240000   \n",
       "25%               64.340000             11.150000             17.090000   \n",
       "50%               67.040000             12.020000             18.260000   \n",
       "75%               71.050000             12.727500             19.277500   \n",
       "max               78.250000             23.090000             24.850000   \n",
       "\n",
       "       BiologicalMaterial06  BiologicalMaterial07  BiologicalMaterial08  \\\n",
       "count            152.000000            152.000000            152.000000   \n",
       "mean              48.597697            100.016382             17.390132   \n",
       "std                3.772880              0.115830              0.611356   \n",
       "min               40.600000            100.000000             15.880000   \n",
       "25%               45.840000            100.000000             17.000000   \n",
       "50%               47.890000            100.000000             17.415000   \n",
       "75%               50.850000            100.000000             17.760000   \n",
       "max               59.380000            100.830000             18.850000   \n",
       "\n",
       "       BiologicalMaterial09  ...  ManufacturingProcess36  \\\n",
       "count            152.000000  ...              152.000000   \n",
       "mean              12.874013  ...                0.019645   \n",
       "std                0.409173  ...                0.000833   \n",
       "min               11.730000  ...                0.018000   \n",
       "25%               12.620000  ...                0.019000   \n",
       "50%               12.880000  ...                0.020000   \n",
       "75%               13.140000  ...                0.020000   \n",
       "max               14.080000  ...                0.022000   \n",
       "\n",
       "       ManufacturingProcess37  ManufacturingProcess38  ManufacturingProcess39  \\\n",
       "count              152.000000              152.000000              152.000000   \n",
       "mean                 0.988816                2.631579                7.023684   \n",
       "std                  0.428234                0.483971                1.009605   \n",
       "min                  0.000000                2.000000                0.000000   \n",
       "25%                  0.700000                2.000000                7.100000   \n",
       "50%                  1.000000                3.000000                7.200000   \n",
       "75%                  1.225000                3.000000                7.300000   \n",
       "max                  2.000000                3.000000                7.500000   \n",
       "\n",
       "       ManufacturingProcess40  ManufacturingProcess41  ManufacturingProcess42  \\\n",
       "count              152.000000              152.000000              152.000000   \n",
       "mean                 0.019079                0.025000               11.538816   \n",
       "std                  0.039422                0.054286                0.276221   \n",
       "min                  0.000000                0.000000               10.500000   \n",
       "25%                  0.000000                0.000000               11.400000   \n",
       "50%                  0.000000                0.000000               11.600000   \n",
       "75%                  0.000000                0.000000               11.700000   \n",
       "max                  0.100000                0.200000               12.100000   \n",
       "\n",
       "       ManufacturingProcess43  ManufacturingProcess44  ManufacturingProcess45  \n",
       "count              152.000000              152.000000              152.000000  \n",
       "mean                 0.887500                1.860526                2.203289  \n",
       "std                  0.902191                0.087009                0.180293  \n",
       "min                  0.000000                1.600000                1.800000  \n",
       "25%                  0.500000                1.800000                2.100000  \n",
       "50%                  0.800000                1.900000                2.200000  \n",
       "75%                  1.000000                1.900000                2.300000  \n",
       "max                 11.000000                2.100000                2.600000  \n",
       "\n",
       "[8 rows x 58 columns]"
      ]
     },
     "execution_count": 2,
     "metadata": {},
     "output_type": "execute_result"
    }
   ],
   "source": [
    "manufacturing.describe()"
   ]
  },
  {
   "cell_type": "code",
   "execution_count": 3,
   "metadata": {},
   "outputs": [
    {
     "data": {
      "text/plain": [
       "<Figure size 640x480 with 1 Axes>"
      ]
     },
     "metadata": {},
     "output_type": "display_data"
    }
   ],
   "source": [
    "manufacturing.plot.scatter(x = 'BiologicalMaterial01', y = 'Yield')\n",
    "import matplotlib.pyplot as plt\n",
    "\n",
    "plt.show()"
   ]
  },
  {
   "cell_type": "code",
   "execution_count": 4,
   "metadata": {},
   "outputs": [
    {
     "data": {
      "text/plain": [
       "<seaborn.axisgrid.PairGrid at 0x7fcd3a27c2e8>"
      ]
     },
     "execution_count": 4,
     "metadata": {},
     "output_type": "execute_result"
    },
    {
     "data": {
      "image/png": "[encoded data removed]",
      "text/plain": [
       "<Figure size 900x180 with 5 Axes>"
      ]
     },
     "metadata": {},
     "output_type": "display_data"
    }
   ],
   "source": [
    "import seaborn as sns\n",
    "\n",
    "var = manufacturing.columns[:5]\n",
    "\n",
    "sns.pairplot(data = manufacturing, x_vars = var, y_vars = 'Yield')"
   ]
  },
  {
   "cell_type": "code",
   "execution_count": 5,
   "metadata": {},
   "outputs": [],
   "source": [
    "plt.show()"
   ]
  },
  {
   "cell_type": "code",
   "execution_count": 6,
   "metadata": {},
   "outputs": [],
   "source": [
    "from sklearn.linear_model import LinearRegression\n",
    "from sklearn.metrics import mean_squared_error, make_scorer\n",
    "from sklearn.model_selection import cross_validate\n",
    "from sklearn.preprocessing import StandardScaler\n",
    "from sklearn.pipeline import Pipeline"
   ]
  },
  {
   "cell_type": "code",
   "execution_count": 7,
   "metadata": {},
   "outputs": [],
   "source": [
    "X  = manufacturing.drop('Yield', axis = 1)\n",
    "y = manufacturing['Yield']"
   ]
  },
  {
   "cell_type": "markdown",
   "metadata": {},
   "source": [
    "We have separated inputs from outputs, and done some exploratory analysis in terms of graphics and summary stats. \n",
    "\n",
    "We will also mimic doing the full train test idea, even though we only have a small amount of data. So I wouldn't in practice do this for this example, because I don't feel i have enough data to be throwing things away for training. \n"
   ]
  },
  {
   "cell_type": "code",
   "execution_count": 8,
   "metadata": {},
   "outputs": [],
   "source": [
    "from sklearn.model_selection import train_test_split\n",
    "\n",
    "X_train, X_test, y_train, y_test = train_test_split(X, y)"
   ]
  },
  {
   "cell_type": "code",
   "execution_count": 9,
   "metadata": {},
   "outputs": [
    {
     "name": "stdout",
     "output_type": "stream",
     "text": [
      "(114, 57)\n",
      "(38, 57)\n"
     ]
    }
   ],
   "source": [
    "print(X_train.shape)\n",
    "print(X_test.shape)"
   ]
  },
  {
   "cell_type": "markdown",
   "metadata": {},
   "source": [
    "I will now forget about the test set completely until the end of the day"
   ]
  },
  {
   "cell_type": "markdown",
   "metadata": {},
   "source": [
    "I will use the train set here, for all model fitting and cross validation"
   ]
  },
  {
   "cell_type": "markdown",
   "metadata": {},
   "source": [
    "Prepare for model fitting, create objects etc"
   ]
  },
  {
   "cell_type": "code",
   "execution_count": 10,
   "metadata": {},
   "outputs": [],
   "source": [
    "linear_pipe = Pipeline([\n",
    "    ('preprocessing', StandardScaler()),\n",
    "    ('model', LinearRegression())\n",
    "])"
   ]
  },
  {
   "cell_type": "markdown",
   "metadata": {},
   "source": [
    "Prepare the metric function for measuring predictions, i.e my mean squared error metric"
   ]
  },
  {
   "cell_type": "code",
   "execution_count": 11,
   "metadata": {},
   "outputs": [],
   "source": [
    "score_fn = make_scorer(mean_squared_error, greater_is_better=False)"
   ]
  },
  {
   "cell_type": "code",
   "execution_count": 12,
   "metadata": {},
   "outputs": [],
   "source": [
    "results = cross_validate(linear_pipe, X_train, y_train, scoring=score_fn, cv=10)"
   ]
  },
  {
   "cell_type": "code",
   "execution_count": 13,
   "metadata": {},
   "outputs": [
    {
     "data": {
      "text/plain": [
       "array([-4.75141047e+00, -1.56061181e+00, -7.22296629e+00, -1.16046455e+02,\n",
       "       -1.52826568e+00, -3.90968124e+23, -3.37978305e+00, -3.70945730e+00,\n",
       "       -4.48339251e+00, -2.22640019e+00])"
      ]
     },
     "execution_count": 13,
     "metadata": {},
     "output_type": "execute_result"
    }
   ],
   "source": [
    "results['test_score']"
   ]
  },
  {
   "cell_type": "markdown",
   "metadata": {},
   "source": [
    "Might be worried that one cross validation estimate of error, was very different to the others. So I would likely want to investigate at some point, not necessarily now, what is going on here.\n",
    "\n",
    "One quick investigation might be, do cross validation again"
   ]
  },
  {
   "cell_type": "code",
   "execution_count": 14,
   "metadata": {},
   "outputs": [
    {
     "data": {
      "text/plain": [
       "-3.9096812421449186e+22"
      ]
     },
     "execution_count": 14,
     "metadata": {},
     "output_type": "execute_result"
    }
   ],
   "source": [
    "results['test_score'].mean()"
   ]
  },
  {
   "cell_type": "markdown",
   "metadata": {},
   "source": [
    "I have a baseline error rate. if i do anything more complex, I want to make sure that I am doing better than this.\n",
    "\n",
    "## What about interpreting what we have?"
   ]
  },
  {
   "cell_type": "markdown",
   "metadata": {},
   "source": [
    "now I have an idea, I will  fit with all of the training data"
   ]
  },
  {
   "cell_type": "code",
   "execution_count": 15,
   "metadata": {},
   "outputs": [
    {
     "data": {
      "text/plain": [
       "Pipeline(memory=None,\n",
       "         steps=[('preprocessing',\n",
       "                 StandardScaler(copy=True, with_mean=True, with_std=True)),\n",
       "                ('model',\n",
       "                 LinearRegression(copy_X=True, fit_intercept=True, n_jobs=None,\n",
       "                                  normalize=False))],\n",
       "         verbose=False)"
      ]
     },
     "execution_count": 15,
     "metadata": {},
     "output_type": "execute_result"
    }
   ],
   "source": [
    "linear_pipe.fit(X_train, y_train)"
   ]
  },
  {
   "cell_type": "code",
   "execution_count": 16,
   "metadata": {},
   "outputs": [
    {
     "data": {
      "text/plain": [
       "array([ 3.43615965e-01, -1.09448563e+00,  1.98442595e-01,  1.67406767e+00,\n",
       "        2.52192049e-01, -2.42880317e-01, -1.60865008e-01,  3.90975170e-01,\n",
       "       -7.66773289e-02, -1.57163369e+00, -1.00343278e-01,  8.21071734e-02,\n",
       "        2.51975367e-01, -4.45331132e-01, -9.18285445e-02,  4.60733598e-01,\n",
       "        2.19952188e-02,  6.44348403e-02, -5.81499967e-02, -1.84023214e-01,\n",
       "        9.78775311e-01,  5.66854491e-01, -6.30164548e-01,  2.28019175e-01,\n",
       "       -1.60149449e+13,  3.43205777e-01, -1.46313930e-01,  4.65314243e-01,\n",
       "        2.03234603e+13, -4.51201426e-01,  4.42375107e-01, -6.80213851e-01,\n",
       "       -1.12512276e+13, -3.16406250e-01,  1.75048828e-01, -3.65234375e-01,\n",
       "        1.18510742e+01, -1.42841797e+01,  5.43945312e-01, -5.46508789e-01,\n",
       "        1.94531250e+00, -2.34375000e-02,  1.32934570e-01,  1.24609375e+00,\n",
       "       -8.21289062e-01,  2.05078125e-02, -1.84326172e-02, -2.61230469e-02,\n",
       "       -4.16015625e-01, -7.22656250e-02,  5.27343750e-02,  2.34863281e-01,\n",
       "       -2.51953125e-01, -2.78320312e-01,  1.58203125e-01, -3.32031250e-02,\n",
       "        1.46484375e-01])"
      ]
     },
     "execution_count": 16,
     "metadata": {},
     "output_type": "execute_result"
    }
   ],
   "source": [
    "linear_pipe.named_steps['model'].coef_"
   ]
  },
  {
   "cell_type": "code",
   "execution_count": 17,
   "metadata": {},
   "outputs": [
    {
     "name": "stdout",
     "output_type": "stream",
     "text": [
      "BiologicalMaterial11\n"
     ]
    },
    {
     "data": {
      "text/plain": [
       "-0.1003432782711669"
      ]
     },
     "execution_count": 17,
     "metadata": {},
     "output_type": "execute_result"
    }
   ],
   "source": [
    "print(X.columns[10])\n",
    "linear_pipe.named_steps['model'].coef_[10]"
   ]
  },
  {
   "cell_type": "markdown",
   "metadata": {},
   "source": [
    "because i preprocessed, the relative size of coefficients is important, informative\n",
    "\n",
    "i will grab the five largest effect sizes, to try to get an idea of the most important things"
   ]
  },
  {
   "cell_type": "code",
   "execution_count": 18,
   "metadata": {},
   "outputs": [
    {
     "data": {
      "text/plain": [
       "Index(['ManufacturingProcess17', 'ManufacturingProcess25',\n",
       "       'ManufacturingProcess29', 'BiologicalMaterial04',\n",
       "       'ManufacturingProcess32'],\n",
       "      dtype='object')"
      ]
     },
     "execution_count": 18,
     "metadata": {},
     "output_type": "execute_result"
    }
   ],
   "source": [
    "import numpy as np\n",
    "ix = np.argsort(linear_pipe.named_steps['model'].coef_)[::-1][:5]\n",
    "\n",
    "X_train.columns[ix]"
   ]
  },
  {
   "cell_type": "markdown",
   "metadata": {},
   "source": [
    "for increasing yield, it seems the most important are these manufacturing variables, in particular increases in these manufacturing variables increases yield"
   ]
  },
  {
   "cell_type": "code",
   "execution_count": 19,
   "metadata": {},
   "outputs": [
    {
     "data": {
      "text/plain": [
       "Index(['ManufacturingProcess17', 'ManufacturingProcess13',\n",
       "       'ManufacturingProcess21', 'ManufacturingProcess26',\n",
       "       'ManufacturingProcess25'],\n",
       "      dtype='object')"
      ]
     },
     "execution_count": 19,
     "metadata": {},
     "output_type": "execute_result"
    }
   ],
   "source": [
    "X_train.columns[np.argsort(np.abs(linear_pipe.named_steps['model'].coef_))[::-1][:5]]"
   ]
  },
  {
   "cell_type": "markdown",
   "metadata": {},
   "source": [
    "How do i know if any of this infor is something I might trust?"
   ]
  },
  {
   "cell_type": "markdown",
   "metadata": {},
   "source": [
    "OK I have some baseline, but considering model error size against original variation in y, and the fact that some estimated coefficients seem counter to what I expected from exploratory analysis. I am very skeptical that this should a candidate for \"good\" model."
   ]
  },
  {
   "cell_type": "code",
   "execution_count": 20,
   "metadata": {},
   "outputs": [
    {
     "data": {
      "image/png": "[encoded data removed]",
      "text/plain": [
       "<Figure size 432x288 with 1 Axes>"
      ]
     },
     "metadata": {},
     "output_type": "display_data"
    }
   ],
   "source": [
    "manufacturing.plot.scatter(x = 'BiologicalMaterial07', y = 'Yield')\n",
    "plt.show()"
   ]
  },
  {
   "cell_type": "markdown",
   "metadata": {},
   "source": [
    "I have an explanation as to why this isn't doing very well. I have not much data for a lot of variable coefficients. So I almost certainly want  a model with fewer coefficients. Include less terms in the model, to make better inferences and predictions."
   ]
  },
  {
   "cell_type": "code",
   "execution_count": 21,
   "metadata": {},
   "outputs": [],
   "source": [
    "from sklearn.linear_model import LassoCV\n",
    "\n",
    "lasso_pipe = Pipeline([\n",
    "    ('prep', StandardScaler()),\n",
    "    ('model', LassoCV(cv = 10, max_iter = 5000))\n",
    "])\n",
    "\n",
    "results = lasso_pipe.fit(X_train, y_train)"
   ]
  },
  {
   "cell_type": "markdown",
   "metadata": {},
   "source": [
    "Examine my cross validated lasso"
   ]
  },
  {
   "cell_type": "code",
   "execution_count": 22,
   "metadata": {},
   "outputs": [],
   "source": [
    "lasso_pipe.named_steps['model'].coef_\n",
    "\n",
    "alpha = lasso_pipe.named_steps['model'].alpha_"
   ]
  },
  {
   "cell_type": "code",
   "execution_count": 23,
   "metadata": {},
   "outputs": [],
   "source": [
    "from sklearn.linear_model import Lasso\n",
    "\n",
    "lasso_pipe = Pipeline([\n",
    "    ('prep', StandardScaler()),\n",
    "    ('model', Lasso(alpha = alpha, max_iter = 5000))\n",
    "])\n",
    "\n",
    "results = cross_validate(lasso_pipe, X_train, y_train, cv=10, scoring=score_fn)\n",
    "\n"
   ]
  },
  {
   "cell_type": "code",
   "execution_count": 24,
   "metadata": {},
   "outputs": [
    {
     "name": "stdout",
     "output_type": "stream",
     "text": [
      "-1.5431674766742849\n"
     ]
    },
    {
     "data": {
      "text/plain": [
       "array([ 0.        ,  0.        ,  0.        , -0.        ,  0.0686831 ,\n",
       "        0.        , -0.        , -0.        , -0.        , -0.        ,\n",
       "        0.        ,  0.        ,  0.21134777, -0.04512571, -0.04042795,\n",
       "        0.00402871, -0.        ,  0.06588646, -0.09567336, -0.        ,\n",
       "        0.77268756,  0.        ,  0.        ,  0.        , -0.01574935,\n",
       "        0.        ,  0.01367795,  0.        , -0.02215442,  0.        ,\n",
       "        0.02279982,  0.        , -0.        , -0.16518879,  0.        ,\n",
       "       -0.16904318,  0.        ,  0.        ,  0.        , -0.20060593,\n",
       "        0.        ,  0.        ,  0.        ,  0.73543912, -0.        ,\n",
       "        0.19870935, -0.        , -0.09207668, -0.16016   , -0.        ,\n",
       "        0.08987977,  0.02677121,  0.        , -0.21381259, -0.        ,\n",
       "        0.        ,  0.0655666 ])"
      ]
     },
     "execution_count": 24,
     "metadata": {},
     "output_type": "execute_result"
    }
   ],
   "source": [
    "print(results['test_score'].mean())\n",
    "\n",
    "lasso_pipe.fit(X_train, y_train)\n",
    "\n",
    "lasso_pipe.named_steps['model'].coef_"
   ]
  },
  {
   "cell_type": "markdown",
   "metadata": {},
   "source": [
    "# OK so now what?"
   ]
  },
  {
   "cell_type": "markdown",
   "metadata": {},
   "source": [
    "Something else we might consider here is transformation of variables\n",
    "\n",
    "We should examine where our model is not performing very well at the moment\n",
    "\n",
    "We could do this with a sequence of plots"
   ]
  },
  {
   "cell_type": "code",
   "execution_count": 25,
   "metadata": {},
   "outputs": [
    {
     "data": {
      "text/plain": [
       "array([ 4, 12, 13, 14, 15, 17, 18, 20, 24, 26, 28, 30, 33, 35, 39, 43, 45,\n",
       "       47, 48, 50, 51, 53, 56])"
      ]
     },
     "execution_count": 25,
     "metadata": {},
     "output_type": "execute_result"
    }
   ],
   "source": [
    "ix = np.where(lasso_pipe.named_steps['model'].coef_ != 0)[0]\n",
    "ix"
   ]
  },
  {
   "cell_type": "code",
   "execution_count": 26,
   "metadata": {},
   "outputs": [
    {
     "data": {
      "application/vnd.jupyter.widget-view+json": {
       "model_id": "4946ac1b9a4e440aaae56c97ade6a477",
       "version_major": 2,
       "version_minor": 0
      },
      "text/plain": [
       "interactive(children=(Dropdown(description='x', options=('BiologicalMaterial05', 'ManufacturingProcess01', 'Ma…"
      ]
     },
     "metadata": {},
     "output_type": "display_data"
    },
    {
     "data": {
      "image/png": "[encoded data removed]",
      "text/plain": [
       "<Figure size 432x288 with 1 Axes>"
      ]
     },
     "metadata": {},
     "output_type": "display_data"
    }
   ],
   "source": [
    "from ipywidgets import interact\n",
    "\n",
    "cols = X_train.columns[ix]\n",
    "\n",
    "@interact\n",
    "def plot(x = cols):\n",
    "    index = np.where(X_train.columns == x)[0]\n",
    "    plt.scatter(X_train[x], y_train, title = lasso_pipe.named_steps['model'].coef_[index])\n",
    "    plt.show()"
   ]
  },
  {
   "cell_type": "code",
   "execution_count": 27,
   "metadata": {},
   "outputs": [],
   "source": [
    "predicted = lasso_pipe.predict(X_train)\n",
    "\n",
    "residuals = y_train - predicted"
   ]
  },
  {
   "cell_type": "code",
   "execution_count": 28,
   "metadata": {},
   "outputs": [
    {
     "data": {
      "application/vnd.jupyter.widget-view+json": {
       "model_id": "08cf7e5cb6f943f38767cbe717e56933",
       "version_major": 2,
       "version_minor": 0
      },
      "text/plain": [
       "interactive(children=(Dropdown(description='x', options=('BiologicalMaterial05', 'ManufacturingProcess01', 'Ma…"
      ]
     },
     "metadata": {},
     "output_type": "display_data"
    }
   ],
   "source": [
    "cols = X_train.columns[ix]\n",
    "\n",
    "@interact\n",
    "def plot(x = cols):\n",
    "    plt.scatter(X_train[x], residuals)\n",
    "    plt.show()"
   ]
  },
  {
   "cell_type": "code",
   "execution_count": 29,
   "metadata": {},
   "outputs": [
    {
     "data": {
      "text/plain": [
       "[<matplotlib.lines.Line2D at 0x7fcd2b2e5f28>]"
      ]
     },
     "execution_count": 29,
     "metadata": {},
     "output_type": "execute_result"
    },
    {
     "data": {
      "image/png": "[encoded data removed]",
      "text/plain": [
       "<Figure size 432x288 with 1 Axes>"
      ]
     },
     "metadata": {},
     "output_type": "display_data"
    }
   ],
   "source": [
    "plt.scatter(y_train, predicted)\n",
    "plt.plot([36,46],[36,46])"
   ]
  },
  {
   "cell_type": "code",
   "execution_count": null,
   "metadata": {},
   "outputs": [],
   "source": [
    "sns.pairplot(X_train.iloc[:,ix])\n",
    "plt.show()"
   ]
  },
  {
   "cell_type": "markdown",
   "metadata": {},
   "source": [
    "# PCR"
   ]
  },
  {
   "cell_type": "code",
   "execution_count": null,
   "metadata": {},
   "outputs": [],
   "source": [
    "from sklearn.decomposition import PCA\n",
    "\n",
    "pcr_pipe = Pipeline([\n",
    "    ('prep', StandardScaler()),\n",
    "    ('pca', PCA()),\n",
    "    ('model', LinearRegression())\n",
    "])\n",
    "\n",
    "from sklearn.model_selection import GridSearchCV\n",
    "\n",
    "params = {\n",
    "    'pca__n_components' : np.arange(1,11)\n",
    "}\n",
    "\n",
    "search = GridSearchCV(\n",
    "    pcr_pipe, params, cv=10, scoring = score_fn,\n",
    "    return_train_score = False\n",
    ")\n"
   ]
  },
  {
   "cell_type": "code",
   "execution_count": null,
   "metadata": {},
   "outputs": [],
   "source": [
    "results = search.fit(X_train, y_train)"
   ]
  },
  {
   "cell_type": "code",
   "execution_count": null,
   "metadata": {},
   "outputs": [],
   "source": [
    "import pandas as pd\n",
    "\n",
    "pd.DataFrame(results.cv_results_)[['params', 'mean_test_score']]"
   ]
  },
  {
   "cell_type": "code",
   "execution_count": null,
   "metadata": {},
   "outputs": [],
   "source": [
    "pcr_pipe = Pipeline([\n",
    "    ('prep', StandardScaler()),\n",
    "    ('pca', PCA(n_components=8)),\n",
    "    ('model', LinearRegression())\n",
    "])\n",
    "\n",
    "pcr_pipe.fit(X_train, y_train)\n",
    "\n",
    "cross_validate(pcr_pipe, X_train, y_train, cv=10)['test_score'].mean()"
   ]
  },
  {
   "cell_type": "code",
   "execution_count": null,
   "metadata": {},
   "outputs": [],
   "source": [
    "pcr_pipe.named_steps['model'].coef_"
   ]
  },
  {
   "cell_type": "code",
   "execution_count": null,
   "metadata": {},
   "outputs": [],
   "source": []
  },
  {
   "cell_type": "code",
   "execution_count": null,
   "metadata": {},
   "outputs": [],
   "source": [
    "from sklearn.cross_decomposition import PLSRegression\n",
    "\n",
    "pls_pipe = Pipeline([\n",
    "  ('prep', StandardScaler()),\n",
    "    ('model', PLSRegression())\n",
    "])\n",
    "\n",
    "params = {\n",
    "    'model__n_components' : np.arange(1,11)\n",
    "}\n",
    "\n",
    "search = GridSearchCV(\n",
    "    pls_pipe, params, cv=10, scoring=score_fn,\n",
    "    return_train_score = False\n",
    ")\n",
    "\n",
    "results = search.fit(X_train, y_train)"
   ]
  },
  {
   "cell_type": "code",
   "execution_count": null,
   "metadata": {},
   "outputs": [],
   "source": [
    "pd.DataFrame(results.cv_results_)[['params', 'mean_test_score']]"
   ]
  },
  {
   "cell_type": "code",
   "execution_count": null,
   "metadata": {},
   "outputs": [],
   "source": [
    "pls_pipe = Pipeline([\n",
    "  ('prep', StandardScaler()),\n",
    "    ('model', PLSRegression(1))\n",
    "])\n",
    "\n",
    "\n",
    "pls_pipe.fit(X_train, y_train)\n",
    "\n",
    "cross_validate(pls_pipe, X_train, y_train, cv=10, scoring=score_fn)['test_score'].mean()"
   ]
  },
  {
   "cell_type": "code",
   "execution_count": null,
   "metadata": {},
   "outputs": [],
   "source": [
    "from sklearn.inspection import partial_dependence, plot_partial_dependence"
   ]
  },
  {
   "cell_type": "code",
   "execution_count": null,
   "metadata": {},
   "outputs": [],
   "source": [
    "#!pip install -U scikit-learn"
   ]
  }
 ],
 "metadata": {
  "kernelspec": {
   "display_name": "Python 3",
   "language": "python",
   "name": "python3"
  },
  "language_info": {
   "codemirror_mode": {
    "name": "ipython",
    "version": 3
   },
   "file_extension": ".py",
   "mimetype": "text/x-python",
   "name": "python",
   "nbconvert_exporter": "python",
   "pygments_lexer": "ipython3",
   "version": "3.6.5"
  }
 },
 "nbformat": 4,
 "nbformat_minor": 2
}
