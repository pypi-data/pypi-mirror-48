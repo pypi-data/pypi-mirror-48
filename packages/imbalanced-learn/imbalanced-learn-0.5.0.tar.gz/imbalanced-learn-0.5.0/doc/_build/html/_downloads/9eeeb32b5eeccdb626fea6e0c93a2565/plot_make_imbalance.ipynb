{
  "cells": [
    {
      "cell_type": "code",
      "execution_count": null,
      "metadata": {
        "collapsed": false
      },
      "outputs": [],
      "source": [
        "%matplotlib inline"
      ]
    },
    {
      "cell_type": "markdown",
      "metadata": {},
      "source": [
        "\n# make_imbalance function\n\n\nAn illustration of the make_imbalance function\n\n\n"
      ]
    },
    {
      "cell_type": "code",
      "execution_count": null,
      "metadata": {
        "collapsed": false
      },
      "outputs": [],
      "source": [
        "# Authors: Dayvid Oliveira\n#          Christos Aridas\n#          Guillaume Lemaitre <g.lemaitre58@gmail.com>\n# License: MIT\n\nfrom collections import Counter\n\nimport matplotlib.pyplot as plt\nfrom sklearn.datasets import make_moons\n\nfrom imblearn.datasets import make_imbalance\n\nprint(__doc__)\n\n\ndef plot_decoration(ax):\n    ax.spines['top'].set_visible(False)\n    ax.spines['right'].set_visible(False)\n    ax.get_xaxis().tick_bottom()\n    ax.get_yaxis().tick_left()\n    ax.spines['left'].set_position(('outward', 10))\n    ax.spines['bottom'].set_position(('outward', 10))\n    ax.set_xlim([-4, 4])\n\n\n# Generate the dataset\nX, y = make_moons(n_samples=200, shuffle=True, noise=0.5, random_state=10)\n\n# Two subplots, unpack the axes array immediately\nf, axs = plt.subplots(2, 3)\n\naxs = [a for ax in axs for a in ax]\n\naxs[0].scatter(X[y == 0, 0], X[y == 0, 1], label=\"Class #0\", alpha=0.5)\naxs[0].scatter(X[y == 1, 0], X[y == 1, 1], label=\"Class #1\", alpha=0.5)\naxs[0].set_title('Original set')\nplot_decoration(axs[0])\n\n\ndef ratio_func(y, multiplier, minority_class):\n    target_stats = Counter(y)\n    return {minority_class: int(multiplier * target_stats[minority_class])}\n\n\nmultipliers = [0.9, 0.75, 0.5, 0.25, 0.1]\nfor i, multiplier in enumerate(multipliers, start=1):\n    ax = axs[i]\n\n    X_, y_ = make_imbalance(X, y, sampling_strategy=ratio_func,\n                            **{\"multiplier\": multiplier,\n                               \"minority_class\": 1})\n    ax.scatter(X_[y_ == 0, 0], X_[y_ == 0, 1], label=\"Class #0\", alpha=0.5)\n    ax.scatter(X_[y_ == 1, 0], X_[y_ == 1, 1], label=\"Class #1\", alpha=0.5)\n    ax.set_title('sampling_strategy = {}'.format(multiplier))\n    plot_decoration(ax)\n\nplt.tight_layout()\nplt.show()"
      ]
    }
  ],
  "metadata": {
    "kernelspec": {
      "display_name": "Python 3",
      "language": "python",
      "name": "python3"
    },
    "language_info": {
      "codemirror_mode": {
        "name": "ipython",
        "version": 3
      },
      "file_extension": ".py",
      "mimetype": "text/x-python",
      "name": "python",
      "nbconvert_exporter": "python",
      "pygments_lexer": "ipython3",
      "version": "3.7.0"
    }
  },
  "nbformat": 4,
  "nbformat_minor": 0
}