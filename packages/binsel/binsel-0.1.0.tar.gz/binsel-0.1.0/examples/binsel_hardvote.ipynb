{
 "cells": [
  {
   "cell_type": "code",
   "execution_count": 1,
   "metadata": {},
   "outputs": [],
   "source": [
    "%load_ext autoreload\n",
    "%autoreload 2\n",
    "\n",
    "import sys\n",
    "sys.path.append('..')"
   ]
  },
  {
   "cell_type": "markdown",
   "metadata": {},
   "source": [
    "# Load Demo Datasets\n",
    "Convert everything to boolean features.\n"
   ]
  },
  {
   "cell_type": "code",
   "execution_count": 2,
   "metadata": {},
   "outputs": [],
   "source": [
    "from sklearn.datasets import load_breast_cancer\n",
    "from sklearn.preprocessing import scale\n",
    "X = scale(load_breast_cancer().data, axis=0) > 0\n",
    "y = load_breast_cancer().target"
   ]
  },
  {
   "cell_type": "markdown",
   "metadata": {},
   "source": [
    "# Select Binary Features"
   ]
  },
  {
   "cell_type": "markdown",
   "metadata": {},
   "source": [
    "```\n",
    "from binsel import bootstrap_solutions, enumerate_negations\n",
    "import numpy as np\n",
    "\n",
    "def binsel_hardvote(X, y, n_select=5, max_rho=0.4, preselect=None,\n",
    "                    n_draws=50, subsample=0.7, replace=False,\n",
    "                    random_state=42, unique=True):\n",
    "    # bootstrap some possible solutions\n",
    "    solutions = bootstrap_solutions(\n",
    "        X, y=y, n_select=n_select, max_rho=max_rho,\n",
    "        preselect=preselect, n_draws=n_draws,\n",
    "        subsample=subsample, replace=replace,\n",
    "        random_state=random_state, unique=unique)\n",
    "    \n",
    "    # find best way to negate features and store evaluation\n",
    "    results = []\n",
    "    for indicies in solutions:\n",
    "        negate, rho = enumerate_negations(X[:, indicies], y)\n",
    "        results.append([tuple(indicies), negate, rho])\n",
    "    \n",
    "    # order results\n",
    "    results = np.array(results)\n",
    "    idx_sorted = np.flip(np.argsort(results[:,2]))\n",
    "    results = results[idx_sorted]\n",
    "    \n",
    "    # done\n",
    "    results = results.tolist()\n",
    "    idx, neg, rho = results[0]\n",
    "    return idx, neg, rho, results\n",
    "```"
   ]
  },
  {
   "cell_type": "code",
   "execution_count": 3,
   "metadata": {},
   "outputs": [],
   "source": [
    "from binsel import binsel_hardvote"
   ]
  },
  {
   "cell_type": "code",
   "execution_count": 4,
   "metadata": {},
   "outputs": [
    {
     "name": "stdout",
     "output_type": "stream",
     "text": [
      "CPU times: user 6 µs, sys: 0 ns, total: 6 µs\n",
      "Wall time: 11.9 µs\n"
     ]
    }
   ],
   "source": [
    "%time\n",
    "idx, neg, rho, results = binsel_hardvote(X, y)"
   ]
  },
  {
   "cell_type": "code",
   "execution_count": 5,
   "metadata": {},
   "outputs": [
    {
     "data": {
      "text/plain": [
       "((0, 11, 18, 21, 24), (1, 0, 1, 1, 1), 0.6740733084521214)"
      ]
     },
     "execution_count": 5,
     "metadata": {},
     "output_type": "execute_result"
    }
   ],
   "source": [
    "idx, neg, rho"
   ]
  },
  {
   "cell_type": "code",
   "execution_count": 6,
   "metadata": {},
   "outputs": [
    {
     "data": {
      "text/plain": [
       "[[(0, 11, 18, 21, 24), (1, 0, 1, 1, 1), 0.6740733084521214],\n",
       " [(1, 6, 9, 11, 28), (1, 1, 0, 0, 1), 0.658086415215563],\n",
       " [(1, 7, 9, 11, 28), (1, 1, 0, 0, 1), 0.6564096696168776],\n",
       " [(0, 1, 11, 18, 24), (1, 1, 0, 1, 1), 0.6415315664063683],\n",
       " [(9, 11, 16, 23, 28), (0, 0, 1, 1, 1), 0.6297110318877494],\n",
       " [(6, 9, 11, 21, 28), (1, 0, 0, 1, 1), 0.6271502021658786],\n",
       " [(1, 9, 11, 26, 28), (1, 0, 0, 1, 1), 0.6109828917761319],\n",
       " [(3, 11, 15, 18, 24), (1, 1, 1, 0, 1), 0.6022377657981091],\n",
       " [(7, 9, 11, 18, 21), (1, 0, 0, 1, 1), 0.5998840946385643],\n",
       " [(0, 11, 15, 18, 24), (1, 1, 1, 0, 1), 0.5981276553794784],\n",
       " [(1, 3, 4, 11, 18), (1, 1, 1, 0, 1), 0.5959010536331659],\n",
       " [(0, 11, 18, 24, 28), (1, 1, 0, 1, 1), 0.5935388839400451],\n",
       " [(9, 11, 13, 21, 28), (0, 0, 1, 1, 1), 0.5885041274454814],\n",
       " [(3, 4, 11, 18, 28), (1, 1, 1, 0, 1), 0.5791703160025552],\n",
       " [(1, 7, 9, 11, 18), (1, 1, 0, 0, 1), 0.5783869536454596],\n",
       " [(11, 13, 18, 28, 29), (1, 1, 0, 1, 1), 0.5774326812202047],\n",
       " [(6, 9, 11, 18, 21), (1, 0, 0, 1, 1), 0.5765790416338246],\n",
       " [(1, 5, 11, 18, 28), (1, 1, 0, 0, 1), 0.5760453786976342],\n",
       " [(1, 9, 11, 18, 27), (1, 0, 0, 1, 1), 0.5718364357353815],\n",
       " [(3, 8, 11, 18, 29), (1, 1, 1, 0, 1), 0.5675191237367732],\n",
       " [(7, 9, 11, 18, 28), (1, 0, 1, 0, 1), 0.5612460090439841],\n",
       " [(1, 5, 11, 18, 24), (1, 1, 0, 1, 1), 0.5584006596599308],\n",
       " [(3, 8, 11, 18, 24), (1, 1, 1, 0, 1), 0.5555512306045517],\n",
       " [(0, 8, 11, 18, 24), (1, 1, 1, 0, 1), 0.5510625007907828],\n",
       " [(1, 6, 9, 11, 18), (1, 1, 0, 0, 1), 0.5477008822804544],\n",
       " [(5, 11, 18, 21, 28), (1, 0, 0, 1, 1), 0.5444150686986002],\n",
       " [(3, 4, 11, 18, 29), (1, 1, 1, 0, 1), 0.5434017559692015],\n",
       " [(9, 11, 18, 23, 28), (0, 1, 0, 1, 1), 0.5336171310629001],\n",
       " [(6, 9, 11, 18, 28), (1, 0, 1, 0, 1), 0.5332077124638595],\n",
       " [(0, 11, 18, 24, 29), (1, 1, 0, 1, 1), 0.5321870306831382],\n",
       " [(1, 9, 11, 18, 26), (1, 0, 0, 1, 1), 0.5306244514905311],\n",
       " [(5, 9, 11, 18, 21), (1, 0, 0, 1, 1), 0.5086619875291728],\n",
       " [(1, 4, 11, 16, 18), (1, 1, 0, 1, 0), 0.5013252630395156],\n",
       " [(9, 11, 18, 26, 28), (0, 1, 0, 1, 1), 0.4775217113080153],\n",
       " [(9, 11, 13, 18, 28), (0, 1, 1, 0, 1), 0.4721202195937345]]"
      ]
     },
     "execution_count": 6,
     "metadata": {},
     "output_type": "execute_result"
    }
   ],
   "source": [
    "results"
   ]
  },
  {
   "cell_type": "code",
   "execution_count": null,
   "metadata": {},
   "outputs": [],
   "source": []
  }
 ],
 "metadata": {
  "kernelspec": {
   "display_name": "Python 3",
   "language": "python",
   "name": "python3"
  },
  "language_info": {
   "codemirror_mode": {
    "name": "ipython",
    "version": 3
   },
   "file_extension": ".py",
   "mimetype": "text/x-python",
   "name": "python",
   "nbconvert_exporter": "python",
   "pygments_lexer": "ipython3",
   "version": "3.6.2"
  }
 },
 "nbformat": 4,
 "nbformat_minor": 2
}
