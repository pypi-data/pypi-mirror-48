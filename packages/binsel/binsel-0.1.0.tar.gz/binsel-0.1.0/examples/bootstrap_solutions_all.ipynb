{
 "cells": [
  {
   "cell_type": "code",
   "execution_count": 1,
   "metadata": {},
   "outputs": [],
   "source": [
    "import sys\n",
    "sys.path.append('..')\n"
   ]
  },
  {
   "cell_type": "markdown",
   "metadata": {},
   "source": [
    "# Load Demo Datasets\n",
    "Convert everything to boolean features."
   ]
  },
  {
   "cell_type": "code",
   "execution_count": 2,
   "metadata": {},
   "outputs": [],
   "source": [
    "from sklearn.datasets import load_breast_cancer\n",
    "from sklearn.preprocessing import scale\n",
    "X = scale(load_breast_cancer().data, axis=0) > 0\n",
    "y = load_breast_cancer().target"
   ]
  },
  {
   "cell_type": "markdown",
   "metadata": {},
   "source": [
    "# Generate Possible Solutions"
   ]
  },
  {
   "cell_type": "markdown",
   "metadata": {},
   "source": [
    "```\n",
    "import numpy as np\n",
    "from korr import bootcorr, mcc, mincorr\n",
    "\n",
    "def bootstrap_solutions_all(X, n_select=5, max_rho=0.4, n_draws=50,\n",
    "                            subsample=0.7, replace=False, random_state=42,\n",
    "                            unique=True):\n",
    "    # compute all Matthew's correlations between (Xi,Xj)\n",
    "    rho3, _ = bootcorr(X, n_draws=n_draws, subsample=subsample,\n",
    "                       replace=replace, random_state=random_state,\n",
    "                       corr_fn=mcc)\n",
    "\n",
    "    # for each draw find the lowest abs(corr(Xi,Xj))\n",
    "    solutions = []   # store results in list\n",
    "    for cmat in rho3:\n",
    "        idxlo = mincorr(cmat, n_stop=n_select, max_rho=max_rho)\n",
    "        solutions.append(sorted(idxlo))\n",
    "\n",
    "    # done\n",
    "    if unique:\n",
    "        return np.unique(solutions, axis=0)\n",
    "    else:\n",
    "        return solutions\n",
    "```"
   ]
  },
  {
   "cell_type": "code",
   "execution_count": 3,
   "metadata": {},
   "outputs": [],
   "source": [
    "from binsel import bootstrap_solutions_all\n",
    "solutions = bootstrap_solutions_all(X, n_select=5, n_draws=20, subsample=0.3)"
   ]
  },
  {
   "cell_type": "code",
   "execution_count": 4,
   "metadata": {},
   "outputs": [
    {
     "data": {
      "text/plain": [
       "array([[ 0,  4, 11, 15, 18],\n",
       "       [ 0, 11, 18, 19, 24],\n",
       "       [ 1,  3,  4, 18, 28],\n",
       "       [ 1,  3,  8, 18, 29],\n",
       "       [ 1,  6,  9, 11, 18],\n",
       "       [ 1,  6, 11, 18, 24],\n",
       "       [ 1, 11, 17, 18, 24],\n",
       "       [ 2,  8, 11, 18, 24],\n",
       "       [ 3,  4, 11, 18, 21],\n",
       "       [ 3,  4, 11, 18, 28],\n",
       "       [ 4, 11, 16, 18, 28],\n",
       "       [ 5, 11, 18, 21, 24],\n",
       "       [ 6,  8,  9, 11, 18],\n",
       "       [ 6,  9, 11, 18, 21],\n",
       "       [ 9, 10, 11, 18, 21],\n",
       "       [ 9, 10, 11, 18, 26],\n",
       "       [ 9, 11, 12, 18, 26],\n",
       "       [ 9, 11, 13, 15, 28],\n",
       "       [ 9, 11, 18, 23, 28],\n",
       "       [ 9, 11, 18, 26, 28]])"
      ]
     },
     "execution_count": 4,
     "metadata": {},
     "output_type": "execute_result"
    }
   ],
   "source": [
    "solutions"
   ]
  },
  {
   "cell_type": "code",
   "execution_count": null,
   "metadata": {},
   "outputs": [],
   "source": []
  }
 ],
 "metadata": {
  "kernelspec": {
   "display_name": "Python 3",
   "language": "python",
   "name": "python3"
  },
  "language_info": {
   "codemirror_mode": {
    "name": "ipython",
    "version": 3
   },
   "file_extension": ".py",
   "mimetype": "text/x-python",
   "name": "python",
   "nbconvert_exporter": "python",
   "pygments_lexer": "ipython3",
   "version": "3.6.2"
  }
 },
 "nbformat": 4,
 "nbformat_minor": 2
}
