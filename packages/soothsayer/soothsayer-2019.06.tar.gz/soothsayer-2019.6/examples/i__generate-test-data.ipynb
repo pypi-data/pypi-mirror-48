{
 "cells": [
  {
   "cell_type": "code",
   "execution_count": 21,
   "metadata": {},
   "outputs": [],
   "source": [
    "# Imports\n",
    "import pandas as pd\n",
    "import numpy as np\n",
    "from sklearn.datasets import load_iris"
   ]
  },
  {
   "cell_type": "code",
   "execution_count": 20,
   "metadata": {},
   "outputs": [
    {
     "name": "stdout",
     "output_type": "stream",
     "text": [
      "CPU times: user 97.6 ms, sys: 4.11 ms, total: 102 ms\n",
      "Wall time: 104 ms\n"
     ]
    }
   ],
   "source": [
    "%%time\n",
    "# ========================\n",
    "# Generating test datasets\n",
    "# ========================\n",
    "# X\n",
    "iris = load_iris()\n",
    "X_iris = pd.DataFrame(\n",
    "    data=iris.data, \n",
    "    index=[*map(lambda i:f\"iris_{i}\",range(iris.data.shape[0]))],\n",
    "    columns=[*map(lambda x: x.split(\" (cm)\")[0].replace(\" \",\"_\"), iris.feature_names)]\n",
    ")\n",
    "\n",
    "# y\n",
    "y_iris = pd.Series(iris.target, index=X_iris.index, name=\"species\").map(lambda i:iris.target_names[i])\n",
    "\n",
    "# ========================\n",
    "# Save data\n",
    "# ========================\n",
    "#tsv\n",
    "X_iris.to_csv(\"../soothsayer/tests/data/X_iris.tsv\", sep=\"\\t\")\n",
    "y_iris.to_frame().to_csv(\"../soothsayer/tests/data/y_iris.labels.tsv.gz\", sep=\"\\t\", compression=\"gzip\")\n",
    "\n",
    "# gzipped tsv\n",
    "X_iris.to_csv(\"../soothsayer/tests/data/X_iris.tsv.gz\", sep=\"\\t\", compression=\"gzip\")\n",
    "# bz2 pickle\n",
    "X_iris.to_pickle(\"../soothsayer/tests/data/X_iris.pbz2\",  compression=\"bz2\")\n",
    "# gzipped pickle\n",
    "X_iris.to_pickle(\"../soothsayer/tests/data/X_iris.pgz\",  compression=\"gzip\")\n",
    "# pickle\n",
    "X_iris.to_pickle(\"../soothsayer/tests/data/X_iris.pkl\",  compression=None)\n",
    "# excel\n",
    "writer = pd.ExcelWriter(\"../soothsayer/tests/data/iris.xlsx\")\n",
    "X_iris.to_excel(writer, sheet_name=\"X_iris\")\n",
    "y_iris.to_frame().to_excel(writer, sheet_name=\"y_iris\")\n",
    "writer.save()"
   ]
  },
  {
   "cell_type": "code",
   "execution_count": 33,
   "metadata": {},
   "outputs": [
    {
     "name": "stdout",
     "output_type": "stream",
     "text": [
      "CPU times: user 6.08 ms, sys: 2.24 ms, total: 8.32 ms\n",
      "Wall time: 7.62 ms\n"
     ]
    }
   ],
   "source": [
    "%%time\n",
    "# Add noise data\n",
    "def add_noise_to_data(X, n_attrs_total=100, random_state=0, concat=True, **kws):\n",
    "    assert n_attrs_total > X.shape[1], f\"{n_attrs_total} < X.shape[1] = {X.shape[1]}\"\n",
    "    n_attrs_to_add = n_attrs_total - X.shape[1]\n",
    "    df_noise = pd.DataFrame(\n",
    "        data = np.random.RandomState(random_state).normal(size=(X.shape[0], n_attrs_to_add), **kws),\n",
    "        index=X.index,\n",
    "        columns=[*map(lambda j:f\"noise_{j}\", range(n_attrs_to_add))]\n",
    "    )\n",
    "    if concat:\n",
    "        return pd.concat([X, df_noise], axis=1)\n",
    "    else:\n",
    "        return df_noise\n",
    "    \n",
    "# 100 total attributes\n",
    "X_iris_noise = add_noise_to_data(X_iris).abs()\n",
    "X_iris.to_csv(\"../soothsayer/tests/data/X_iris.noise_100.tsv.gz\", sep=\"\\t\", compression=\"gzip\")"
   ]
  },
  {
   "cell_type": "code",
   "execution_count": null,
   "metadata": {},
   "outputs": [],
   "source": []
  },
  {
   "cell_type": "code",
   "execution_count": null,
   "metadata": {},
   "outputs": [],
   "source": []
  },
  {
   "cell_type": "code",
   "execution_count": null,
   "metadata": {},
   "outputs": [],
   "source": []
  },
  {
   "cell_type": "code",
   "execution_count": null,
   "metadata": {},
   "outputs": [],
   "source": []
  }
 ],
 "metadata": {
  "kernelspec": {
   "display_name": "Python 3",
   "language": "python",
   "name": "python3"
  },
  "language_info": {
   "codemirror_mode": {
    "name": "ipython",
    "version": 3
   },
   "file_extension": ".py",
   "mimetype": "text/x-python",
   "name": "python",
   "nbconvert_exporter": "python",
   "pygments_lexer": "ipython3",
   "version": "3.6.4"
  }
 },
 "nbformat": 4,
 "nbformat_minor": 2
}
