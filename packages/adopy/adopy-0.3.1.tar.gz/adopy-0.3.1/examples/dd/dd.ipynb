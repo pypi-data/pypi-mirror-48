{
 "cells": [
  {
   "cell_type": "markdown",
   "metadata": {
    "slideshow": {
     "slide_type": "slide"
    }
   },
   "source": [
    "# Delay discounting task\n",
    "\n",
    "<center>\n",
    "    <img src=\"./thumbnail.png\" style=\"max-width: 500px\">\n",
    "</center>"
   ]
  },
  {
   "cell_type": "markdown",
   "metadata": {
    "slideshow": {
     "slide_type": "slide"
    }
   },
   "source": [
    "## Task definition\n",
    "\n",
    "- **Design variables**\n",
    "    - **`t_ss` ($t_{SS}$)**: Delay for the SS (smaller, sooner) option\n",
    "    - **`t_ll` ($t_{LL}$)**: Delay for the LL (larger, later) option\n",
    "        - The delay on SS option should be sooner than that of LL option ($t_{SS} < t_{LL}$).\n",
    "    - **`r_ss` ($R_{SS}$)**: Reward value for the SS (smaller, sooner) option\n",
    "    - **`r_ll` ($R_{LL}$)**: Reward value for the LL (larger, later) option\n",
    "        - The reward on SS option should be smaller than that of LL option ($R_{SS} < R_{LL}$).\n",
    "- **Possible responses**: `0` (SS option), `1` (LL option)"
   ]
  },
  {
   "cell_type": "code",
   "execution_count": 1,
   "metadata": {
    "slideshow": {
     "slide_type": "subslide"
    }
   },
   "outputs": [],
   "source": [
    "from adopy.tasks.dd import TaskDD\n",
    "\n",
    "task = TaskDD()"
   ]
  },
  {
   "cell_type": "code",
   "execution_count": 2,
   "metadata": {},
   "outputs": [
    {
     "data": {
      "text/plain": [
       "'Delay discounting task'"
      ]
     },
     "execution_count": 2,
     "metadata": {},
     "output_type": "execute_result"
    }
   ],
   "source": [
    "task.name"
   ]
  },
  {
   "cell_type": "code",
   "execution_count": 3,
   "metadata": {},
   "outputs": [
    {
     "data": {
      "text/plain": [
       "['t_ss', 't_ll', 'r_ss', 'r_ll']"
      ]
     },
     "execution_count": 3,
     "metadata": {},
     "output_type": "execute_result"
    }
   ],
   "source": [
    "task.designs"
   ]
  },
  {
   "cell_type": "code",
   "execution_count": 4,
   "metadata": {},
   "outputs": [
    {
     "data": {
      "text/plain": [
       "[0, 1]"
      ]
     },
     "execution_count": 4,
     "metadata": {},
     "output_type": "execute_result"
    }
   ],
   "source": [
    "task.responses"
   ]
  },
  {
   "cell_type": "markdown",
   "metadata": {
    "slideshow": {
     "slide_type": "slide"
    }
   },
   "source": [
    "## Model definition - Hyperbolic model (Mazur, 1987)\n",
    "\n",
    "$$\n",
    "\\begin{aligned}\n",
    "    \\text{discounting factor} \\; D(t) &= \\frac{1}{1 + kt} \\\\\n",
    "    V_{SS} &= R_{SS} \\cdot D(t_{SS}) \\\\\n",
    "    V_{LL} &= R_{LL} \\cdot D(t_{LL}) \\\\\n",
    "    P(LL \\, over \\, SS) &= \\frac{1}{1 + \\exp [- \\tau \\cdot \\gamma (V_{LL} - V_{SS})]}\n",
    "\\end{aligned}\n",
    "$$\n",
    "\n",
    "- **Model parameters**\n",
    "    - **`k` ($k$)**: discounting rate parameter\n",
    "    - **`tau` ($\\tau$)**: inverse temperature"
   ]
  },
  {
   "cell_type": "code",
   "execution_count": 5,
   "metadata": {
    "slideshow": {
     "slide_type": "subslide"
    }
   },
   "outputs": [],
   "source": [
    "from adopy.tasks.dd import ModelHyp\n",
    "\n",
    "model = ModelHyp()"
   ]
  },
  {
   "cell_type": "code",
   "execution_count": 6,
   "metadata": {},
   "outputs": [
    {
     "data": {
      "text/plain": [
       "'Hyperbolic model for the DD task'"
      ]
     },
     "execution_count": 6,
     "metadata": {},
     "output_type": "execute_result"
    }
   ],
   "source": [
    "model.name"
   ]
  },
  {
   "cell_type": "code",
   "execution_count": 7,
   "metadata": {},
   "outputs": [
    {
     "data": {
      "text/plain": [
       "['k', 'tau']"
      ]
     },
     "execution_count": 7,
     "metadata": {},
     "output_type": "execute_result"
    }
   ],
   "source": [
    "model.params"
   ]
  },
  {
   "cell_type": "markdown",
   "metadata": {
    "slideshow": {
     "slide_type": "slide"
    }
   },
   "source": [
    "## Grid definition"
   ]
  },
  {
   "cell_type": "markdown",
   "metadata": {
    "slideshow": {
     "slide_type": "subslide"
    }
   },
   "source": [
    "#### Grid for design variables"
   ]
  },
  {
   "cell_type": "code",
   "execution_count": 8,
   "metadata": {
    "slideshow": {
     "slide_type": ""
    }
   },
   "outputs": [],
   "source": [
    "import numpy as np\n",
    "\n",
    "grid_design = {\n",
    "    # [Now]\n",
    "    't_ss': [0],\n",
    "    # [3 days, 5 days, 1 week, 2 weeks, 3 weeks,\n",
    "    #  1 month, 6 weeks, 2 months, 10 weeks, 3 months,\n",
    "    #  4 months, 5 months, 6 months, 1 year, 2 years,\n",
    "    #  3 years, 5 years, 10 years] in a weekly unit\n",
    "    't_ll': [0.43, 0.714, 1, 2, 3,\n",
    "             4.3, 6.44, 8.6, 10.8, 12.9,\n",
    "             17.2, 21.5, 26, 52, 104,\n",
    "             156, 260, 520],\n",
    "    # [$12.5, $25, ..., $775, $787.5]\n",
    "    'r_ss': np.arange(12.5, 800, 12.5),\n",
    "    # [$800]\n",
    "    'r_ll': [800]\n",
    "}"
   ]
  },
  {
   "cell_type": "markdown",
   "metadata": {
    "slideshow": {
     "slide_type": "subslide"
    }
   },
   "source": [
    "#### Grid for model parameters"
   ]
  },
  {
   "cell_type": "code",
   "execution_count": 9,
   "metadata": {
    "slideshow": {
     "slide_type": ""
    }
   },
   "outputs": [],
   "source": [
    "grid_param = {\n",
    "    # 20 points on [10^-5, ..., 1] in a log scale\n",
    "    'k': np.logspace(-5, 0, 50, base=10),\n",
    "    # 20 points on [0, 5] in a linear scale\n",
    "    'tau': np.linspace(0, 5, 50)\n",
    "}"
   ]
  },
  {
   "cell_type": "markdown",
   "metadata": {
    "slideshow": {
     "slide_type": "subslide"
    }
   },
   "source": [
    "### Engine initialization"
   ]
  },
  {
   "cell_type": "code",
   "execution_count": 10,
   "metadata": {
    "slideshow": {
     "slide_type": ""
    }
   },
   "outputs": [],
   "source": [
    "from adopy import Engine\n",
    "\n",
    "engine = Engine(task, model, grid_design, grid_param)"
   ]
  },
  {
   "cell_type": "code",
   "execution_count": 11,
   "metadata": {},
   "outputs": [
    {
     "data": {
      "text/plain": [
       "array([0.0955122, 2.5      ])"
      ]
     },
     "execution_count": 11,
     "metadata": {},
     "output_type": "execute_result"
    }
   ],
   "source": [
    "# Posterior means (k, tau)\n",
    "engine.post_mean"
   ]
  },
  {
   "cell_type": "code",
   "execution_count": 12,
   "metadata": {},
   "outputs": [
    {
     "data": {
      "text/plain": [
       "array([0.2102822 , 1.47253772])"
      ]
     },
     "execution_count": 12,
     "metadata": {},
     "output_type": "execute_result"
    }
   ],
   "source": [
    "# Standard deviations for the posterior distribution (k, tau)\n",
    "engine.post_sd"
   ]
  },
  {
   "cell_type": "markdown",
   "metadata": {
    "slideshow": {
     "slide_type": "slide"
    }
   },
   "source": [
    "## Design comparison\n",
    "\n",
    "1. **ADO design**\n",
    "2. **Fixed design** (Green & Myerson, 2004)\n",
    "    - The staircase method runs 6 trials for each delay to estimate the discounting rate. While $t_{SS}$ is fixed to 0, it starts with $R_{SS}$ of \\\\$400 and $R_{LL}$ of \\\\$800. If a participant chooses the SS option, the staircase method increases $R_{SS}$ by 50\\%; if the participant chooses the LL option, it decreases $R_{SS}$ by 50\\%. After repeating this 5 times, it proceeds to another delay value.\n",
    "3. **Random design**"
   ]
  },
  {
   "cell_type": "code",
   "execution_count": 13,
   "metadata": {},
   "outputs": [],
   "source": [
    "N_TRIAL = 42"
   ]
  },
  {
   "cell_type": "code",
   "execution_count": 14,
   "metadata": {},
   "outputs": [],
   "source": [
    "# 1 week, 2 weeks, 1 month, 6 months, 1 year, 2 years, 10 years\n",
    "D_CAND = [1, 2, 4.3, 26, 52, 104, 520]"
   ]
  },
  {
   "cell_type": "markdown",
   "metadata": {
    "slideshow": {
     "slide_type": "slide"
    }
   },
   "source": [
    "### Functions\n",
    "\n",
    "#### Simulate a response"
   ]
  },
  {
   "cell_type": "code",
   "execution_count": 15,
   "metadata": {},
   "outputs": [],
   "source": [
    "# True parameter values to simulate responses\n",
    "PARAM_TRUE = {'k': 0.12, 'tau': 1.5}"
   ]
  },
  {
   "cell_type": "code",
   "execution_count": 16,
   "metadata": {
    "slideshow": {
     "slide_type": ""
    }
   },
   "outputs": [],
   "source": [
    "from scipy.stats import bernoulli\n",
    "\n",
    "def get_simulated_response(model, design):\n",
    "    # Calculate the probability to choose a variable option\n",
    "    p_obs = model.compute(t_ss=design['t_ss'], t_ll=design['t_ll'],\n",
    "                          r_ss=design['r_ss'], r_ll=design['r_ll'],\n",
    "                          k=PARAM_TRUE['k'], tau=PARAM_TRUE['tau'])\n",
    "\n",
    "    # Randomly sample a binary choice response from Bernoulli distribution\n",
    "    return bernoulli.rvs(p_obs)"
   ]
  },
  {
   "cell_type": "markdown",
   "metadata": {},
   "source": [
    "### Simulation"
   ]
  },
  {
   "cell_type": "code",
   "execution_count": 17,
   "metadata": {},
   "outputs": [],
   "source": [
    "import pandas as pd\n",
    "\n",
    "# Make an empty DataFrame to store data\n",
    "df_simul = pd.DataFrame(\n",
    "    None, columns=['design_type', 'trial', 'mean_k', 'mean_tau', 'sd_k', 'sd_tau'])"
   ]
  },
  {
   "cell_type": "code",
   "execution_count": 18,
   "metadata": {},
   "outputs": [],
   "source": [
    "# Run simulations for three designs\n",
    "for design_type in ['ADO', 'staircase', 'random']:\n",
    "    # Reset the engine as an initial state\n",
    "    engine.reset()\n",
    "    \n",
    "    d_staircase = D_CAND\n",
    "    np.random.shuffle(d_staircase)\n",
    "    \n",
    "    for i in range(N_TRIAL):\n",
    "        # Design selection / optimization\n",
    "        if design_type == 'ADO':\n",
    "            design = engine.get_design('optimal')\n",
    "        elif design_type == 'staircase':\n",
    "            if i % 6 == 0:\n",
    "                design = {\n",
    "                    't_ss': 0,\n",
    "                    't_ll': d_staircase[i // 6],\n",
    "                    'r_ss': 400,\n",
    "                    'r_ll': 800\n",
    "                }\n",
    "            else:\n",
    "                design['r_ss'] *= (1.5 if response == 1 else 0.5)\n",
    "        else:  # design_type == 'random'\n",
    "            design = engine.get_design('random')\n",
    "        \n",
    "        # Experiment\n",
    "        response = get_simulated_response(model, design)\n",
    "        \n",
    "        # Bayesian updating\n",
    "        engine.update(design, response)\n",
    "\n",
    "        # Save the information for updated posteriors\n",
    "        df_simul = df_simul.append({\n",
    "            'design_type': design_type,\n",
    "            'trial': i + 1,\n",
    "            'mean_k': engine.post_mean[0],\n",
    "            'mean_tau': engine.post_mean[1],\n",
    "            'sd_k': engine.post_sd[0],\n",
    "            'sd_tau': engine.post_sd[1],\n",
    "        }, ignore_index=True)"
   ]
  },
  {
   "cell_type": "markdown",
   "metadata": {},
   "source": [
    "### Results"
   ]
  },
  {
   "cell_type": "code",
   "execution_count": 19,
   "metadata": {
    "slideshow": {
     "slide_type": "subslide"
    }
   },
   "outputs": [
    {
     "data": {
      "image/png": "[encoded data removed]",
      "text/plain": [
       "<Figure size 720x288 with 2 Axes>"
      ]
     },
     "metadata": {
      "needs_background": "light"
     },
     "output_type": "display_data"
    }
   ],
   "source": [
    "%matplotlib inline\n",
    "from matplotlib import pyplot as plt\n",
    "\n",
    "fig, ax = plt.subplots(1, 2, figsize = [10, 4])\n",
    "\n",
    "# Draw black dotted lines for true parameters\n",
    "for i, param in enumerate(['k', 'tau']):\n",
    "    ax[i].axhline(PARAM_TRUE[param], color='black', linestyle=':')\n",
    "\n",
    "for i, design_type in enumerate(['ADO', 'staircase', 'random']):\n",
    "    df_cond = df_simul.loc[df_simul['design_type'] == design_type]\n",
    "    line_color = ['blue', 'green', 'red'][i]\n",
    "    ax = df_cond.plot(x='trial', y=['mean_k', 'mean_tau'], ax=ax,\n",
    "                      subplots=True, legend=False, color = line_color, alpha = 0.7)\n",
    "\n",
    "# Set titles and limits on y axes.\n",
    "ax[0].set_title('$k$ (Discounting rate)')\n",
    "ax[1].set_title('$\\\\tau$ (Inverse temperature)')\n",
    "\n",
    "ax[0].legend(['True value', 'ADO', 'Staircase', 'Random'])\n",
    "ax[1].legend(['True value', 'ADO', 'Staircase', 'Random'])\n",
    "    \n",
    "plt.show()"
   ]
  },
  {
   "cell_type": "markdown",
   "metadata": {
    "slideshow": {
     "slide_type": "slide"
    }
   },
   "source": [
    "## References\n",
    "\n",
    "Green, L. & Myerson, J. (2004). A discounting framework for choice with delayed and probabilistic rewards. Psychological Bulletin, 130, 769–792.\n",
    "\n",
    "Mazur, J. E. (1987). An adjusting procedure for studying delayed reinforcement. Commons, ML.; Mazur, JE.; Nevin, JA, 55–73.\n"
   ]
  }
 ],
 "metadata": {
  "celltoolbar": "Slideshow",
  "kernelspec": {
   "display_name": "Python 3",
   "language": "python",
   "name": "python3"
  },
  "language_info": {
   "codemirror_mode": {
    "name": "ipython",
    "version": 3
   },
   "file_extension": ".py",
   "mimetype": "text/x-python",
   "name": "python",
   "nbconvert_exporter": "python",
   "pygments_lexer": "ipython3",
   "version": "3.7.3"
  }
 },
 "nbformat": 4,
 "nbformat_minor": 4
}
