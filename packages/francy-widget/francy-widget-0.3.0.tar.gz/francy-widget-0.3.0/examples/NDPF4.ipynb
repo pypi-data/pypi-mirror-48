{
 "cells": [
  {
   "cell_type": "markdown",
   "metadata": {},
   "source": [
    "# Non Decreasing Parking Functions\n",
    "A non-decreasing parking function of size n is a non-decreasing function f from {1,…,n} to itself such that for all i, one has f(i)≤i. (http://doc.sagemath.org/html/en/reference/combinat/sage/combinat/non_decreasing_parking_function.html)"
   ]
  },
  {
   "cell_type": "code",
   "execution_count": 1,
   "metadata": {},
   "outputs": [],
   "source": [
    "from sage_francy import FrancyWidget"
   ]
  },
  {
   "cell_type": "code",
   "execution_count": 2,
   "metadata": {},
   "outputs": [],
   "source": [
    "E = FiniteSetMaps(4)"
   ]
  },
  {
   "cell_type": "code",
   "execution_count": 3,
   "metadata": {},
   "outputs": [],
   "source": [
    "f1 = E([0,0,2,3])\n",
    "f2 = E([0,1,1,3])\n",
    "f3 = E([0,1,2,2])\n",
    "H = E.submonoid([f1, f2, f3])"
   ]
  },
  {
   "cell_type": "code",
   "execution_count": 4,
   "metadata": {},
   "outputs": [],
   "source": [
    "g = H.cayley_graph(side='twosided', simple=True)"
   ]
  },
  {
   "cell_type": "code",
   "execution_count": 5,
   "metadata": {},
   "outputs": [],
   "source": [
    "import networkx\n",
    "G = networkx.DiGraph()\n",
    "G.add_edges_from([(e[0], e[1]) for e in g.edges()])"
   ]
  },
  {
   "cell_type": "markdown",
   "metadata": {},
   "source": [
    "For specific layout options, we write a function called _node__options_ , that should return an _options_ dictionary. In our case:\n",
    "- Idempotent maps will be highlighted with a diamond shaped node\n",
    "- Level sets will be grouped in the final layout"
   ]
  },
  {
   "cell_type": "code",
   "execution_count": 6,
   "metadata": {},
   "outputs": [],
   "source": [
    "llvs = g.level_sets()\n",
    "levels = {}\n",
    "for lvs in llvs:\n",
    "    for n in lvs:\n",
    "        levels[n] = llvs.index(lvs)\n",
    "\n",
    "def node_options(n):\n",
    "    options = {}\n",
    "    if n.is_idempotent():\n",
    "        options['type'] = 'diamond'       \n",
    "    else:\n",
    "        options['type'] = 'circle'\n",
    "    options['layer'] = levels[n]\n",
    "    options['modal_menus'] = [{\n",
    "        'title': 'cardinality',\n",
    "        'funcname': 'cardinality',\n",
    "        'is_method': True\n",
    "    }]\n",
    "    return options"
   ]
  },
  {
   "cell_type": "code",
   "execution_count": 7,
   "metadata": {},
   "outputs": [
    {
     "data": {
      "application/vnd.francy+json": "{\"version\": \"1.1.3\", \"mime\": \"application/vnd.francy+json\", \"canvas\": {\"id\": \"F1\", \"title\": \"NDPF4\", \"width\": 800.0, \"height\": 600.0, \"zoomToFit\": true, \"texTypesetting\": false, \"graph\": {\"id\": \"F2\", \"simulation\": true, \"collapsed\": true, \"drag\": false, \"showNeighbours\": false, \"nodes\": {\"F3\": {\"id\": \"F3\", \"x\": 0, \"y\": 0, \"type\": \"diamond\", \"size\": 10, \"title\": \"[0, 1, 2, 3]\", \"color\": \"\", \"highlight\": true, \"layer\": 0, \"parent\": \"\", \"menus\": {}, \"messages\": {}, \"callbacks\": {}, \"modal_menus\": [{\"title\": \"cardinality\", \"funcname\": \"cardinality\", \"is_method\": true}]}, \"F4\": {\"id\": \"F4\", \"x\": 0, \"y\": 0, \"type\": \"diamond\", \"size\": 10, \"title\": \"[0, 0, 2, 3]\", \"color\": \"\", \"highlight\": true, \"layer\": 1, \"parent\": \"\", \"menus\": {}, \"messages\": {}, \"callbacks\": {}, \"modal_menus\": [{\"title\": \"cardinality\", \"funcname\": \"cardinality\", \"is_method\": true}]}, \"F5\": {\"id\": \"F5\", \"x\": 0, \"y\": 0, \"type\": \"diamond\", \"size\": 10, \"title\": \"[0, 1, 1, 3]\", \"color\": \"\", \"highlight\": true, \"layer\": 1, \"parent\": \"\", \"menus\": {}, \"messages\": {}, \"callbacks\": {}, \"modal_menus\": [{\"title\": \"cardinality\", \"funcname\": \"cardinality\", \"is_method\": true}]}, \"F6\": {\"id\": \"F6\", \"x\": 0, \"y\": 0, \"type\": \"diamond\", \"size\": 10, \"title\": \"[0, 1, 2, 2]\", \"color\": \"\", \"highlight\": true, \"layer\": 1, \"parent\": \"\", \"menus\": {}, \"messages\": {}, \"callbacks\": {}, \"modal_menus\": [{\"title\": \"cardinality\", \"funcname\": \"cardinality\", \"is_method\": true}]}, \"F7\": {\"id\": \"F7\", \"x\": 0, \"y\": 0, \"type\": \"diamond\", \"size\": 10, \"title\": \"[0, 0, 0, 3]\", \"color\": \"\", \"highlight\": true, \"layer\": 3, \"parent\": \"\", \"menus\": {}, \"messages\": {}, \"callbacks\": {}, \"modal_menus\": [{\"title\": \"cardinality\", \"funcname\": \"cardinality\", \"is_method\": true}]}, \"F8\": {\"id\": \"F8\", \"x\": 0, \"y\": 0, \"type\": \"diamond\", \"size\": 10, \"title\": \"[0, 0, 2, 2]\", \"color\": \"\", \"highlight\": true, \"layer\": 2, \"parent\": \"\", \"menus\": {}, \"messages\": {}, \"callbacks\": {}, \"modal_menus\": [{\"title\": \"cardinality\", \"funcname\": \"cardinality\", \"is_method\": true}]}, \"F9\": {\"id\": \"F9\", \"x\": 0, \"y\": 0, \"type\": \"circle\", \"size\": 10, \"title\": \"[0, 0, 1, 3]\", \"color\": \"\", \"highlight\": true, \"layer\": 2, \"parent\": \"\", \"menus\": {}, \"messages\": {}, \"callbacks\": {}, \"modal_menus\": [{\"title\": \"cardinality\", \"funcname\": \"cardinality\", \"is_method\": true}]}, \"F10\": {\"id\": \"F10\", \"x\": 0, \"y\": 0, \"type\": \"diamond\", \"size\": 10, \"title\": \"[0, 1, 1, 1]\", \"color\": \"\", \"highlight\": true, \"layer\": 3, \"parent\": \"\", \"menus\": {}, \"messages\": {}, \"callbacks\": {}, \"modal_menus\": [{\"title\": \"cardinality\", \"funcname\": \"cardinality\", \"is_method\": true}]}, \"F11\": {\"id\": \"F11\", \"x\": 0, \"y\": 0, \"type\": \"circle\", \"size\": 10, \"title\": \"[0, 1, 1, 2]\", \"color\": \"\", \"highlight\": true, \"layer\": 2, \"parent\": \"\", \"menus\": {}, \"messages\": {}, \"callbacks\": {}, \"modal_menus\": [{\"title\": \"cardinality\", \"funcname\": \"cardinality\", \"is_method\": true}]}, \"F12\": {\"id\": \"F12\", \"x\": 0, \"y\": 0, \"type\": \"diamond\", \"size\": 10, \"title\": \"[0, 0, 0, 0]\", \"color\": \"\", \"highlight\": true, \"layer\": 6, \"parent\": \"\", \"menus\": {}, \"messages\": {}, \"callbacks\": {}, \"modal_menus\": [{\"title\": \"cardinality\", \"funcname\": \"cardinality\", \"is_method\": true}]}, \"F13\": {\"id\": \"F13\", \"x\": 0, \"y\": 0, \"type\": \"circle\", \"size\": 10, \"title\": \"[0, 0, 0, 2]\", \"color\": \"\", \"highlight\": true, \"layer\": 4, \"parent\": \"\", \"menus\": {}, \"messages\": {}, \"callbacks\": {}, \"modal_menus\": [{\"title\": \"cardinality\", \"funcname\": \"cardinality\", \"is_method\": true}]}, \"F14\": {\"id\": \"F14\", \"x\": 0, \"y\": 0, \"type\": \"circle\", \"size\": 10, \"title\": \"[0, 0, 1, 1]\", \"color\": \"\", \"highlight\": true, \"layer\": 4, \"parent\": \"\", \"menus\": {}, \"messages\": {}, \"callbacks\": {}, \"modal_menus\": [{\"title\": \"cardinality\", \"funcname\": \"cardinality\", \"is_method\": true}]}, \"F15\": {\"id\": \"F15\", \"x\": 0, \"y\": 0, \"type\": \"circle\", \"size\": 10, \"title\": \"[0, 0, 1, 2]\", \"color\": \"\", \"highlight\": true, \"layer\": 3, \"parent\": \"\", \"menus\": {}, \"messages\": {}, \"callbacks\": {}, \"modal_menus\": [{\"title\": \"cardinality\", \"funcname\": \"cardinality\", \"is_method\": true}]}, \"F16\": {\"id\": \"F16\", \"x\": 0, \"y\": 0, \"type\": \"circle\", \"size\": 10, \"title\": \"[0, 0, 0, 1]\", \"color\": \"\", \"highlight\": true, \"layer\": 5, \"parent\": \"\", \"menus\": {}, \"messages\": {}, \"callbacks\": {}, \"modal_menus\": [{\"title\": \"cardinality\", \"funcname\": \"cardinality\", \"is_method\": true}]}}, \"links\": {\"F17\": {\"source\": \"F3\", \"weight\": 0, \"color\": \"\", \"target\": \"F4\", \"id\": \"F17\"}, \"F18\": {\"source\": \"F3\", \"weight\": 0, \"color\": \"\", \"target\": \"F5\", \"id\": \"F18\"}, \"F19\": {\"source\": \"F3\", \"weight\": 0, \"color\": \"\", \"target\": \"F6\", \"id\": \"F19\"}, \"F20\": {\"source\": \"F4\", \"weight\": 0, \"color\": \"\", \"target\": \"F7\", \"id\": \"F20\"}, \"F21\": {\"source\": \"F4\", \"weight\": 0, \"color\": \"\", \"target\": \"F8\", \"id\": \"F21\"}, \"F22\": {\"source\": \"F4\", \"weight\": 0, \"color\": \"\", \"target\": \"F9\", \"id\": \"F22\"}, \"F23\": {\"source\": \"F5\", \"weight\": 0, \"color\": \"\", \"target\": \"F7\", \"id\": \"F23\"}, \"F24\": {\"source\": \"F5\", \"weight\": 0, \"color\": \"\", \"target\": \"F9\", \"id\": \"F24\"}, \"F25\": {\"source\": \"F5\", \"weight\": 0, \"color\": \"\", \"target\": \"F10\", \"id\": \"F25\"}, \"F26\": {\"source\": \"F5\", \"weight\": 0, \"color\": \"\", \"target\": \"F11\", \"id\": \"F26\"}, \"F27\": {\"source\": \"F6\", \"weight\": 0, \"color\": \"\", \"target\": \"F8\", \"id\": \"F27\"}, \"F28\": {\"source\": \"F6\", \"weight\": 0, \"color\": \"\", \"target\": \"F10\", \"id\": \"F28\"}, \"F29\": {\"source\": \"F6\", \"weight\": 0, \"color\": \"\", \"target\": \"F11\", \"id\": \"F29\"}, \"F30\": {\"source\": \"F7\", \"weight\": 0, \"color\": \"\", \"target\": \"F12\", \"id\": \"F30\"}, \"F31\": {\"source\": \"F7\", \"weight\": 0, \"color\": \"\", \"target\": \"F13\", \"id\": \"F31\"}, \"F32\": {\"source\": \"F8\", \"weight\": 0, \"color\": \"\", \"target\": \"F13\", \"id\": \"F32\"}, \"F33\": {\"source\": \"F8\", \"weight\": 0, \"color\": \"\", \"target\": \"F14\", \"id\": \"F33\"}, \"F34\": {\"source\": \"F9\", \"weight\": 0, \"color\": \"\", \"target\": \"F7\", \"id\": \"F34\"}, \"F35\": {\"source\": \"F9\", \"weight\": 0, \"color\": \"\", \"target\": \"F14\", \"id\": \"F35\"}, \"F36\": {\"source\": \"F9\", \"weight\": 0, \"color\": \"\", \"target\": \"F15\", \"id\": \"F36\"}, \"F37\": {\"source\": \"F10\", \"weight\": 0, \"color\": \"\", \"target\": \"F12\", \"id\": \"F37\"}, \"F38\": {\"source\": \"F10\", \"weight\": 0, \"color\": \"\", \"target\": \"F14\", \"id\": \"F38\"}, \"F39\": {\"source\": \"F11\", \"weight\": 0, \"color\": \"\", \"target\": \"F10\", \"id\": \"F39\"}, \"F40\": {\"source\": \"F11\", \"weight\": 0, \"color\": \"\", \"target\": \"F13\", \"id\": \"F40\"}, \"F41\": {\"source\": \"F11\", \"weight\": 0, \"color\": \"\", \"target\": \"F15\", \"id\": \"F41\"}, \"F42\": {\"source\": \"F13\", \"weight\": 0, \"color\": \"\", \"target\": \"F12\", \"id\": \"F42\"}, \"F43\": {\"source\": \"F13\", \"weight\": 0, \"color\": \"\", \"target\": \"F16\", \"id\": \"F43\"}, \"F44\": {\"source\": \"F14\", \"weight\": 0, \"color\": \"\", \"target\": \"F12\", \"id\": \"F44\"}, \"F45\": {\"source\": \"F14\", \"weight\": 0, \"color\": \"\", \"target\": \"F16\", \"id\": \"F45\"}, \"F46\": {\"source\": \"F15\", \"weight\": 0, \"color\": \"\", \"target\": \"F13\", \"id\": \"F46\"}, \"F47\": {\"source\": \"F15\", \"weight\": 0, \"color\": \"\", \"target\": \"F14\", \"id\": \"F47\"}, \"F48\": {\"source\": \"F16\", \"weight\": 0, \"color\": \"\", \"target\": \"F12\", \"id\": \"F48\"}}, \"type\": \"directed\"}, \"menus\": {}, \"messages\": {}}}",
      "text/plain": [
       "FrancyWidget(value=<networkx.classes.digraph.DiGraph object at 0x7fc78af9d1d0>)"
      ]
     },
     "metadata": {},
     "output_type": "display_data"
    }
   ],
   "source": [
    "from sage_francy import FrancyWidget\n",
    "w = FrancyWidget(G, \n",
    "                  title=\"NDPF4\", height=600, weight=0, graphType=\"directed\",\n",
    "                  node_options=node_options)\n",
    "w"
   ]
  }
 ],
 "metadata": {
  "kernelspec": {
   "display_name": "SageMath 8.6",
   "language": "",
   "name": "sagemath"
  },
  "language_info": {
   "codemirror_mode": {
    "name": "ipython",
    "version": 3
   },
   "file_extension": ".py",
   "mimetype": "text/x-python",
   "name": "python",
   "nbconvert_exporter": "python",
   "pygments_lexer": "ipython3",
   "version": "3.6.6"
  }
 },
 "nbformat": 4,
 "nbformat_minor": 2
}
