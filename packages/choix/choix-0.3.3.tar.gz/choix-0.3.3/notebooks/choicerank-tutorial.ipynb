{
 "cells": [
  {
   "cell_type": "markdown",
   "metadata": {},
   "source": [
    "# Using ChoiceRank to understand network traffic\n",
    "\n",
    "This notebook provides a quick example on how to use ChoiceRank to estimate transitions along the edges of a network based only on the marginal traffic at the nodes."
   ]
  },
  {
   "cell_type": "code",
   "execution_count": 1,
   "metadata": {
    "collapsed": true
   },
   "outputs": [],
   "source": [
    "import choix\n",
    "import networkx as nx\n",
    "import numpy as np\n",
    "\n",
    "%matplotlib inline"
   ]
  },
  {
   "cell_type": "markdown",
   "metadata": {},
   "source": [
    "## 1. Generating sample data\n",
    "\n",
    "First, we will generate sample data.\n",
    "This includes\n",
    "\n",
    "1. generating a network,\n",
    "2. generating a parameter for each node of the network,\n",
    "3. generating samples of choices in the network."
   ]
  },
  {
   "cell_type": "code",
   "execution_count": 2,
   "metadata": {
    "collapsed": false
   },
   "outputs": [],
   "source": [
    "n_items = 8\n",
    "p_edge = 0.3\n",
    "n_samples = 3000\n",
    "\n",
    "# 1. Generate a network.\n",
    "graph = nx.erdos_renyi_graph(n_items, p_edge, directed=True)\n",
    "\n",
    "# 2. Generate a parameter for each node.\n",
    "params = choix.generate_params(n_items, interval=2.0)\n",
    "\n",
    "# 3. Generate samples of choices in the network.\n",
    "transitions = np.zeros((n_items, n_items))\n",
    "for _ in range(n_samples):\n",
    "    src = np.random.choice(n_items)\n",
    "    neighbors = graph.successors(src)\n",
    "    if len(neighbors) == 0:\n",
    "        continue\n",
    "    dst = choix.compare(neighbors, params)\n",
    "    transitions[src, dst] += 1"
   ]
  },
  {
   "cell_type": "markdown",
   "metadata": {},
   "source": [
    "The network looks as follows"
   ]
  },
  {
   "cell_type": "code",
   "execution_count": 3,
   "metadata": {
    "collapsed": false
   },
   "outputs": [
    {
     "data": {
      "image/png": "[encoded data removed]",
      "text/plain": [
       "<matplotlib.figure.Figure at 0x102302a90>"
      ]
     },
     "metadata": {},
     "output_type": "display_data"
    }
   ],
   "source": [
    "nx.draw(graph, with_labels=True)"
   ]
  },
  {
   "cell_type": "markdown",
   "metadata": {},
   "source": [
    "Now we aggregate the all the transitions into *incoming traffic* and *outgoing traffic*."
   ]
  },
  {
   "cell_type": "code",
   "execution_count": 4,
   "metadata": {
    "collapsed": false
   },
   "outputs": [
    {
     "name": "stdout",
     "output_type": "stream",
     "text": [
      "incoming traffic: [ 465.  682.  155.   83.  369.  593.  148.  505.]\n",
      "outgoing traffic: [ 397.  367.  365.  359.  384.  399.  365.  364.]\n"
     ]
    }
   ],
   "source": [
    "traffic_in = transitions.sum(axis=0)\n",
    "traffic_out = transitions.sum(axis=1)\n",
    "\n",
    "print(\"incoming traffic:\", traffic_in)\n",
    "print(\"outgoing traffic:\", traffic_out)"
   ]
  },
  {
   "cell_type": "markdown",
   "metadata": {},
   "source": [
    "## 2. Estimating transitions using ChoiceRank\n",
    "\n",
    "ChoiceRank can be used to recover the transitions on the network based only on:\n",
    "\n",
    "1. information about the structure of the network, and\n",
    "2. the (marginal) incoming and outgoing traffic at each node.\n",
    "\n",
    "ChoiceRank works under the assumption that each node has a latent \"preference\" score, and that transitions follow Luce's choice model."
   ]
  },
  {
   "cell_type": "code",
   "execution_count": 5,
   "metadata": {
    "collapsed": false
   },
   "outputs": [],
   "source": [
    "params = choix.choicerank(graph, traffic_in, traffic_out)"
   ]
  },
  {
   "cell_type": "markdown",
   "metadata": {},
   "source": [
    "We can attempt to reconstruct the transition matrix using the marginal traffic data and the parameters."
   ]
  },
  {
   "cell_type": "code",
   "execution_count": 6,
   "metadata": {
    "collapsed": true
   },
   "outputs": [],
   "source": [
    "est = np.zeros((n_items, n_items))\n",
    "for src in range(n_items):\n",
    "    neighbors = graph.successors(src)\n",
    "    if len(neighbors) == 0:\n",
    "        continue\n",
    "    probs = choix.probabilities(neighbors, params)\n",
    "    est[src,neighbors] = traffic_out[src] * probs"
   ]
  },
  {
   "cell_type": "code",
   "execution_count": 7,
   "metadata": {
    "collapsed": false
   },
   "outputs": [
    {
     "name": "stdout",
     "output_type": "stream",
     "text": [
      "True transition matrix:\n",
      "[[   0.  233.    0.    0.   94.   70.    0.    0.]\n",
      " [ 148.    0.    0.    0.  143.   76.    0.    0.]\n",
      " [   0.    0.    0.    0.    0.  365.    0.    0.]\n",
      " [   0.    0.    0.    0.    0.    0.    0.  359.]\n",
      " [  83.    0.  155.    0.    0.    0.    0.  146.]\n",
      " [  83.  168.    0.    0.    0.    0.  148.    0.]\n",
      " [ 151.    0.    0.    0.  132.   82.    0.    0.]\n",
      " [   0.  281.    0.   83.    0.    0.    0.    0.]]\n",
      "\n",
      "Estimated transition matrix:\n",
      "[[   0.  232.    0.    0.  102.   63.    0.    0.]\n",
      " [ 150.    0.    0.    0.  134.   83.    0.    0.]\n",
      " [   0.    0.    0.    0.    0.  365.    0.    0.]\n",
      " [   0.    0.    0.    0.    0.    0.    0.  359.]\n",
      " [  84.    0.  155.    0.    0.    0.    0.  146.]\n",
      " [  83.  169.    0.    0.    0.    0.  148.    0.]\n",
      " [ 149.    0.    0.    0.  133.   83.    0.    0.]\n",
      " [   0.  280.    0.   84.    0.    0.    0.    0.]]\n",
      "\n",
      "Difference:\n",
      "[[ 0.  1.  0.  0. -8.  7.  0.  0.]\n",
      " [-2.  0.  0.  0.  9. -7.  0.  0.]\n",
      " [ 0.  0.  0.  0.  0.  0.  0.  0.]\n",
      " [ 0.  0.  0.  0.  0.  0.  0.  0.]\n",
      " [-1.  0.  0.  0.  0.  0.  0.  0.]\n",
      " [ 0. -1.  0.  0.  0.  0.  0.  0.]\n",
      " [ 2.  0.  0.  0. -1. -1.  0.  0.]\n",
      " [ 0.  1.  0. -1.  0.  0.  0.  0.]]\n"
     ]
    }
   ],
   "source": [
    "print(\"True transition matrix:\")\n",
    "print(transitions)\n",
    "\n",
    "print(\"\\nEstimated transition matrix:\")\n",
    "print(np.round_(est))\n",
    "\n",
    "print(\"\\nDifference:\")\n",
    "print(np.round_(transitions - est))"
   ]
  }
 ],
 "metadata": {
  "kernelspec": {
   "display_name": "Python 3",
   "language": "python",
   "name": "python3"
  },
  "language_info": {
   "codemirror_mode": {
    "name": "ipython",
    "version": 3
   },
   "file_extension": ".py",
   "mimetype": "text/x-python",
   "name": "python",
   "nbconvert_exporter": "python",
   "pygments_lexer": "ipython3",
   "version": "3.5.1"
  }
 },
 "nbformat": 4,
 "nbformat_minor": 0
}
