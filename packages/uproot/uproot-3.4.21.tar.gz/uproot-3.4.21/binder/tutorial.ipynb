{
 "cells": [
  {
   "cell_type": "markdown",
   "metadata": {},
   "source": [
    "# Table of contents\n",
    "\n",
    "* [Getting started](#Getting-started)\n",
    "* [Exploring a file](#Exploring-a-file)\n",
    "* [Array-reading parameters](#Array-reading-parameters)\n",
    "* [Reading only part of a TBranch](#Reading-only-part-of-a-TBranch)\n",
    "* [Iterating over files (like TChain)](#Iterating-over-files-(like-TChain))\n",
    "* [Non-flat TTrees: jagged arrays and more](#Non-flat-TTrees:-jagged-arrays-and-more)\n",
    "* [Non-TTrees: histograms and more](#Non-TTrees:-histograms-and-more)\n",
    "* [Caching data](#Caching-data)\n",
    "* [Parallel processing](#Parallel-processing)\n",
    "* [Connectors to other packages](#Connectors-to-other-packages)"
   ]
  },
  {
   "cell_type": "markdown",
   "metadata": {},
   "source": [
    "# Getting started\n",
    "\n",
    "This notebook has uproot installed with a few example files:\n",
    "\n",
    "```\n",
    "wget http://scikit-hep.org/uproot/examples/Zmumu.root\n",
    "wget http://scikit-hep.org/uproot/examples/HZZ.root\n",
    "wget http://scikit-hep.org/uproot/examples/nesteddirs.root\n",
    "wget http://scikit-hep.org/uproot/examples/foriter.root\n",
    "wget http://scikit-hep.org/uproot/examples/histograms.root\n",
    "```\n",
    "\n",
    "In this notebook, we'll be accessing these as local files, though you could replace any local file path with the `http://` URL or `root://` URL (if XRootD is available on your system; it's not in Binder)."
   ]
  },
  {
   "cell_type": "markdown",
   "metadata": {},
   "source": [
    "Open the Z → μμ [flat ntuple](http://scikit-hep.org/uproot/examples/Zmumu.root) and the H → ZZ → eeμμ [structured TTree](http://scikit-hep.org/uproot/examples/HZZ.root); uproot presents them as `dict`-like objects with ROOT names and objects as keys and values. (The \"cycle number\" after the semicolon can usually be ignored.)"
   ]
  },
  {
   "cell_type": "code",
   "execution_count": 1,
   "metadata": {},
   "outputs": [
    {
     "data": {
      "text/plain": [
       "[b'events;1']"
      ]
     },
     "execution_count": 1,
     "metadata": {},
     "output_type": "execute_result"
    }
   ],
   "source": [
    "import uproot\n",
    "uproot.open(\"Zmumu.root\").keys()"
   ]
  },
  {
   "cell_type": "code",
   "execution_count": 2,
   "metadata": {},
   "outputs": [
    {
     "data": {
      "text/plain": [
       "[b'events;1']"
      ]
     },
     "execution_count": 2,
     "metadata": {},
     "output_type": "execute_result"
    }
   ],
   "source": [
    "uproot.open(\"HZZ.root\").keys()"
   ]
  },
  {
   "cell_type": "markdown",
   "metadata": {},
   "source": [
    "Since the file acts as a `dict`, access the TTrees with square brackets. TTrees are also `dict`-like objects, with branch names and branches as keys and values. (Hint: `allkeys()` lists branches recursively, if they're nested.)"
   ]
  },
  {
   "cell_type": "code",
   "execution_count": 3,
   "metadata": {},
   "outputs": [
    {
     "data": {
      "text/plain": [
       "[b'Type',\n",
       " b'Run',\n",
       " b'Event',\n",
       " b'E1',\n",
       " b'px1',\n",
       " b'py1',\n",
       " b'pz1',\n",
       " b'pt1',\n",
       " b'eta1',\n",
       " b'phi1',\n",
       " b'Q1',\n",
       " b'E2',\n",
       " b'px2',\n",
       " b'py2',\n",
       " b'pz2',\n",
       " b'pt2',\n",
       " b'eta2',\n",
       " b'phi2',\n",
       " b'Q2',\n",
       " b'M']"
      ]
     },
     "execution_count": 3,
     "metadata": {},
     "output_type": "execute_result"
    }
   ],
   "source": [
    "zmumu = uproot.open(\"Zmumu.root\")[\"events\"]\n",
    "hzz = uproot.open(\"HZZ.root\")[\"events\"]\n",
    "zmumu.keys()"
   ]
  },
  {
   "cell_type": "code",
   "execution_count": 4,
   "metadata": {},
   "outputs": [
    {
     "data": {
      "text/plain": [
       "[b'NJet',\n",
       " b'Jet_Px',\n",
       " b'Jet_Py',\n",
       " b'Jet_Pz',\n",
       " b'Jet_E',\n",
       " b'Jet_btag',\n",
       " b'Jet_ID',\n",
       " b'NMuon',\n",
       " b'Muon_Px',\n",
       " b'Muon_Py',\n",
       " b'Muon_Pz',\n",
       " b'Muon_E',\n",
       " b'Muon_Charge',\n",
       " b'Muon_Iso',\n",
       " b'NElectron',\n",
       " b'Electron_Px',\n",
       " b'Electron_Py',\n",
       " b'Electron_Pz',\n",
       " b'Electron_E',\n",
       " b'Electron_Charge',\n",
       " b'Electron_Iso',\n",
       " b'NPhoton',\n",
       " b'Photon_Px',\n",
       " b'Photon_Py',\n",
       " b'Photon_Pz',\n",
       " b'Photon_E',\n",
       " b'Photon_Iso',\n",
       " b'MET_px',\n",
       " b'MET_py',\n",
       " b'MChadronicBottom_px',\n",
       " b'MChadronicBottom_py',\n",
       " b'MChadronicBottom_pz',\n",
       " b'MCleptonicBottom_px',\n",
       " b'MCleptonicBottom_py',\n",
       " b'MCleptonicBottom_pz',\n",
       " b'MChadronicWDecayQuark_px',\n",
       " b'MChadronicWDecayQuark_py',\n",
       " b'MChadronicWDecayQuark_pz',\n",
       " b'MChadronicWDecayQuarkBar_px',\n",
       " b'MChadronicWDecayQuarkBar_py',\n",
       " b'MChadronicWDecayQuarkBar_pz',\n",
       " b'MClepton_px',\n",
       " b'MClepton_py',\n",
       " b'MClepton_pz',\n",
       " b'MCleptonPDGid',\n",
       " b'MCneutrino_px',\n",
       " b'MCneutrino_py',\n",
       " b'MCneutrino_pz',\n",
       " b'NPrimaryVertices',\n",
       " b'triggerIsoMu24',\n",
       " b'EventWeight']"
      ]
     },
     "execution_count": 4,
     "metadata": {},
     "output_type": "execute_result"
    }
   ],
   "source": [
    "hzz.keys()"
   ]
  },
  {
   "cell_type": "markdown",
   "metadata": {},
   "source": [
    "You can turn a chosen set of branches into Numpy arrays with the `arrays` method. Each array represents the values of a single attribute for all events, just as they're stored in a split ROOT file."
   ]
  },
  {
   "cell_type": "code",
   "execution_count": 5,
   "metadata": {},
   "outputs": [
    {
     "data": {
      "text/plain": [
       "{b'px1': array([-41.19528764,  35.11804977,  35.11804977, ...,  32.37749196,\n",
       "         32.37749196,  32.48539387]),\n",
       " b'py1': array([ 17.4332439 , -16.57036233, -16.57036233, ...,   1.19940578,\n",
       "          1.19940578,   1.2013503 ]),\n",
       " b'pz1': array([-68.96496181, -48.77524654, -48.77524654, ..., -74.53243061,\n",
       "        -74.53243061, -74.80837247])}"
      ]
     },
     "execution_count": 5,
     "metadata": {},
     "output_type": "execute_result"
    }
   ],
   "source": [
    "zmumu.arrays([\"px1\", \"py1\", \"pz1\"])"
   ]
  },
  {
   "cell_type": "markdown",
   "metadata": {},
   "source": [
    "If the number of items per entry is not constant, such as the number of jets in an event, they can't be expressed as flat Numpy arrays. Instead, uproot loads them into [jagged arrays](https://en.wikipedia.org/wiki/Jagged_array)."
   ]
  },
  {
   "cell_type": "code",
   "execution_count": 6,
   "metadata": {},
   "outputs": [
    {
     "data": {
      "text/plain": [
       "<JaggedArray [[] [44.13736343383789] [] ... [55.95058059692383] [229.57798767089844 33.92034912109375] []] at 0x76b76f694cc0>"
      ]
     },
     "execution_count": 6,
     "metadata": {},
     "output_type": "execute_result"
    }
   ],
   "source": [
    "hzz.array(\"Jet_E\")"
   ]
  },
  {
   "cell_type": "markdown",
   "metadata": {},
   "source": [
    "A jagged array behaves like an array of unequal-length arrays,"
   ]
  },
  {
   "cell_type": "code",
   "execution_count": 7,
   "metadata": {},
   "outputs": [
    {
     "name": "stdout",
     "output_type": "stream",
     "text": [
      "event\n",
      "event\n",
      "44.137363\n",
      "event\n",
      "event\n",
      "230.34601\n",
      "101.35884\n",
      "60.08414\n",
      "event\n",
      "367.58548\n",
      "79.24227\n",
      "event\n",
      "74.44283\n",
      "32.552982\n",
      "event\n",
      "279.4213\n",
      "event\n",
      "235.1074\n",
      "event\n",
      "event\n",
      "79.85138\n"
     ]
    }
   ],
   "source": [
    "jaggedarray = hzz.array(\"Jet_E\")\n",
    "for jetenergies in jaggedarray[:10]:\n",
    "    print(\"event\")\n",
    "    for jetenergy in jetenergies:\n",
    "        print(jetenergy)"
   ]
  },
  {
   "cell_type": "markdown",
   "metadata": {},
   "source": [
    "But it's built out of regular Numpy arrays, for use in libraries that accept Numpy."
   ]
  },
  {
   "cell_type": "code",
   "execution_count": 8,
   "metadata": {},
   "outputs": [
    {
     "name": "stdout",
     "output_type": "stream",
     "text": [
      "[ 44.137363 230.34601  101.35884  ...  55.95058  229.57799   33.92035 ]\n",
      "[   0    0    1 ... 2770 2771 2773]\n",
      "[   0    1    1 ... 2771 2773 2773]\n"
     ]
    }
   ],
   "source": [
    "print(jaggedarray.content)\n",
    "print(jaggedarray.starts)\n",
    "print(jaggedarray.stops)"
   ]
  },
  {
   "cell_type": "markdown",
   "metadata": {},
   "source": [
    "# Exploring a file\n",
    "\n",
    "Open the [nesteddirs.root](http://scikit-hep.org/uproot/examples/nesteddirs.root) sample with uproot."
   ]
  },
  {
   "cell_type": "code",
   "execution_count": 9,
   "metadata": {},
   "outputs": [],
   "source": [
    "file = uproot.open(\"nesteddirs.root\")"
   ]
  },
  {
   "cell_type": "markdown",
   "metadata": {},
   "source": [
    "This `file` is a [ROOTDirectory](http://uproot.readthedocs.io/en/latest/root-io.html#uproot-rootio-rootdirectory), a class that can represent either a whole ROOT file or a TDirectory within that file. It emulates a Python `dict`, so if you're familiar with this interface, you don't have to remember many method names. The \"keys\" are the names ROOT uses to find objects in files and the \"values\" are the data themselves."
   ]
  },
  {
   "cell_type": "code",
   "execution_count": 10,
   "metadata": {},
   "outputs": [
    {
     "data": {
      "text/plain": [
       "[b'one;1', b'three;1']"
      ]
     },
     "execution_count": 10,
     "metadata": {},
     "output_type": "execute_result"
    }
   ],
   "source": [
    "file.keys()                                      # get keys as a list"
   ]
  },
  {
   "cell_type": "code",
   "execution_count": 11,
   "metadata": {},
   "outputs": [
    {
     "data": {
      "text/plain": [
       "<generator object ROOTDirectory.iterkeys at 0x76b76f66cd68>"
      ]
     },
     "execution_count": 11,
     "metadata": {},
     "output_type": "execute_result"
    }
   ],
   "source": [
    "file.iterkeys()                                  # iterate over keys"
   ]
  },
  {
   "cell_type": "code",
   "execution_count": 12,
   "metadata": {},
   "outputs": [
    {
     "data": {
      "text/plain": [
       "<generator object <genexpr> at 0x76b76f66ced0>"
      ]
     },
     "execution_count": 12,
     "metadata": {},
     "output_type": "execute_result"
    }
   ],
   "source": [
    "(x for x in file)                                # iterate over keys (just like a dict)"
   ]
  },
  {
   "cell_type": "code",
   "execution_count": 13,
   "metadata": {},
   "outputs": [
    {
     "data": {
      "text/plain": [
       "[b'one;1',\n",
       " b'one/two;1',\n",
       " b'one/two/tree;1',\n",
       " b'one/tree;1',\n",
       " b'three;1',\n",
       " b'three/tree;1']"
      ]
     },
     "execution_count": 13,
     "metadata": {},
     "output_type": "execute_result"
    }
   ],
   "source": [
    "file.allkeys()                                   # get all keys recursively"
   ]
  },
  {
   "cell_type": "markdown",
   "metadata": {},
   "source": [
    "If you only ask for the keys, the data won't be loaded (which can be important for performance!). The `values()` and `items()` functions do the same thing they do for lists, and there's an \"iter\" and \"all\" form for each of them."
   ]
  },
  {
   "cell_type": "code",
   "execution_count": 14,
   "metadata": {},
   "outputs": [
    {
     "data": {
      "text/plain": [
       "[<ROOTDirectory b'one' at 0x76b76f6742e8>,\n",
       " <ROOTDirectory b'three' at 0x76b76f674400>]"
      ]
     },
     "execution_count": 14,
     "metadata": {},
     "output_type": "execute_result"
    }
   ],
   "source": [
    "file.values()"
   ]
  },
  {
   "cell_type": "code",
   "execution_count": 15,
   "metadata": {},
   "outputs": [
    {
     "data": {
      "text/plain": [
       "[(b'one;1', <ROOTDirectory b'one' at 0x76b76f6746d8>),\n",
       " (b'three;1', <ROOTDirectory b'three' at 0x76b76f6747f0>)]"
      ]
     },
     "execution_count": 15,
     "metadata": {},
     "output_type": "execute_result"
    }
   ],
   "source": [
    "file.items()"
   ]
  },
  {
   "cell_type": "markdown",
   "metadata": {},
   "source": [
    "In addition, [ROOTDirectory](http://uproot.readthedocs.io/en/latest/root-io.html#uproot-rootio-rootdirectory) has `classes()`, `iterclasses()` and `allclasses()` to iterate over keys and class names of the contained objects. You can identify the class of an object before loading it."
   ]
  },
  {
   "cell_type": "code",
   "execution_count": 16,
   "metadata": {},
   "outputs": [
    {
     "name": "stdout",
     "output_type": "stream",
     "text": [
      "b'one;1' \t <class 'uproot.rootio.ROOTDirectory'>\n",
      "b'one/two;1' \t <class 'uproot.rootio.ROOTDirectory'>\n",
      "b'one/two/tree;1' \t <class 'uproot.rootio.TTree'>\n",
      "b'one/tree;1' \t <class 'uproot.rootio.TTree'>\n",
      "b'three;1' \t <class 'uproot.rootio.ROOTDirectory'>\n",
      "b'three/tree;1' \t <class 'uproot.rootio.TTree'>\n"
     ]
    }
   ],
   "source": [
    "for n, x in file.allclasses():\n",
    "    print(repr(n), \"\\t\", x)"
   ]
  },
  {
   "cell_type": "markdown",
   "metadata": {},
   "source": [
    "As with a `dict`, square brackets extract values by key. If you include `\"/\"` or `\";\"` in your request, you can specify subdirectories or cycle numbers (those `;1` at the end of key names, which you can usually ignore)."
   ]
  },
  {
   "cell_type": "code",
   "execution_count": 17,
   "metadata": {},
   "outputs": [
    {
     "data": {
      "text/plain": [
       "<TTree b'tree' at 0x76b76f680240>"
      ]
     },
     "execution_count": 17,
     "metadata": {},
     "output_type": "execute_result"
    }
   ],
   "source": [
    "file[\"one\"][\"two\"][\"tree\"]"
   ]
  },
  {
   "cell_type": "markdown",
   "metadata": {},
   "source": [
    "is equivalent to"
   ]
  },
  {
   "cell_type": "code",
   "execution_count": 18,
   "metadata": {},
   "outputs": [
    {
     "data": {
      "text/plain": [
       "<TTree b'tree' at 0x76b76f5fdf28>"
      ]
     },
     "execution_count": 18,
     "metadata": {},
     "output_type": "execute_result"
    }
   ],
   "source": [
    "tree = file[\"one/two/tree\"]\n",
    "tree"
   ]
  },
  {
   "cell_type": "markdown",
   "metadata": {},
   "source": [
    "The memory management is explicit: each time you request a value from a [ROOTDirectory](http://uproot.readthedocs.io/en/latest/root-io.html#uproot-rootio-rootdirectory), it is deserialized from the file. This usually doesn't matter on the command-line, but it could in a loop.\n",
    "\n",
    "[TTree](http://uproot.readthedocs.io/en/latest/ttree-handling.html#uproot-tree-ttreemethods) objects are also `dict`-like objects, but this time the keys and values are the [TBranch](http://uproot.readthedocs.io/en/latest/ttree-handling.html#uproot-tree-tbranchmethods) names and objects. If you're not familiar with ROOT terminology, \"tree\" means a dataset and \"branch\" means one column or attribute of that dataset. The [TTree](http://uproot.readthedocs.io/en/latest/ttree-handling.html#uproot-tree-ttreemethods) class also has `keys()`, `iterkeys()`, `allkeys()`, `values()`, `items()`, etc., because [TBranch](http://uproot.readthedocs.io/en/latest/ttree-handling.html#uproot-tree-tbranchmethods) instances may be nested.\n",
    "\n",
    "The [TTree](http://uproot.readthedocs.io/en/latest/ttree-handling.html#uproot-tree-ttreemethods) also has the attributes you expect from ROOT, presented with Pythonic conventions (`numentries` follows an uproot convention, in which all \"number of\" methods start with \"num\"),"
   ]
  },
  {
   "cell_type": "code",
   "execution_count": 19,
   "metadata": {},
   "outputs": [
    {
     "data": {
      "text/plain": [
       "(b'tree', b'my tree title', 100)"
      ]
     },
     "execution_count": 19,
     "metadata": {},
     "output_type": "execute_result"
    }
   ],
   "source": [
    "tree.name, tree.title, tree.numentries"
   ]
  },
  {
   "cell_type": "markdown",
   "metadata": {},
   "source": [
    "as well as the raw data that was read from the file (C++ private members that start with `f`, and to be more Pythonic, we start them with `_f`)."
   ]
  },
  {
   "cell_type": "code",
   "execution_count": 20,
   "metadata": {},
   "outputs": [
    {
     "data": {
      "text/plain": [
       "['_fAliases',\n",
       " '_fAutoFlush',\n",
       " '_fAutoSave',\n",
       " '_fBranches',\n",
       " '_fClusterRangeEnd',\n",
       " '_fClusterSize',\n",
       " '_fDefaultEntryOffsetLen',\n",
       " '_fEntries',\n",
       " '_fEstimate',\n",
       " '_fFillColor',\n",
       " '_fFillStyle',\n",
       " '_fFlushedBytes',\n",
       " '_fFriends',\n",
       " '_fIndex',\n",
       " '_fIndexValues',\n",
       " '_fLeaves',\n",
       " '_fLineColor',\n",
       " '_fLineStyle',\n",
       " '_fLineWidth',\n",
       " '_fMarkerColor',\n",
       " '_fMarkerSize',\n",
       " '_fMarkerStyle',\n",
       " '_fMaxEntries',\n",
       " '_fMaxEntryLoop',\n",
       " '_fMaxVirtualSize',\n",
       " '_fNClusterRange',\n",
       " '_fName',\n",
       " '_fSavedBytes',\n",
       " '_fScanField',\n",
       " '_fTimerInterval',\n",
       " '_fTitle',\n",
       " '_fTotBytes',\n",
       " '_fTreeIndex',\n",
       " '_fUpdate',\n",
       " '_fWeight',\n",
       " '_fZipBytes',\n",
       " '_fields',\n",
       " '_fill_branchlookup',\n",
       " '_format',\n",
       " '_format1']"
      ]
     },
     "execution_count": 20,
     "metadata": {},
     "output_type": "execute_result"
    }
   ],
   "source": [
    "[x for x in dir(tree) if x.startswith(\"_f\")]"
   ]
  },
  {
   "cell_type": "markdown",
   "metadata": {},
   "source": [
    "To get an overview of what arrays are available in the [TTree](http://uproot.readthedocs.io/en/latest/ttree-handling.html#uproot-tree-ttreemethods) and whether uproot can read it, call `show()`."
   ]
  },
  {
   "cell_type": "code",
   "execution_count": 21,
   "metadata": {},
   "outputs": [
    {
     "name": "stdout",
     "output_type": "stream",
     "text": [
      "Int32                      (no streamer)              asdtype('>i4')\n",
      "Int64                      (no streamer)              asdtype('>i8')\n",
      "UInt32                     (no streamer)              asdtype('>u4')\n",
      "UInt64                     (no streamer)              asdtype('>u8')\n",
      "Float32                    (no streamer)              asdtype('>f4')\n",
      "Float64                    (no streamer)              asdtype('>f8')\n",
      "Str                        (no streamer)              asstring()\n",
      "ArrayInt32                 (no streamer)              asdtype(\"('>i4', (10,))\")\n",
      "ArrayInt64                 (no streamer)              asdtype(\"('>i8', (10,))\")\n",
      "ArrayUInt32                (no streamer)              asdtype(\"('>u4', (10,))\")\n",
      "ArrayUInt64                (no streamer)              asdtype(\"('>u8', (10,))\")\n",
      "ArrayFloat32               (no streamer)              asdtype(\"('>f4', (10,))\")\n",
      "ArrayFloat64               (no streamer)              asdtype(\"('>f8', (10,))\")\n",
      "N                          (no streamer)              asdtype('>i4')\n",
      "SliceInt32                 (no streamer)              asjagged(asdtype('>i4'))\n",
      "SliceInt64                 (no streamer)              asjagged(asdtype('>i8'))\n",
      "SliceUInt32                (no streamer)              asjagged(asdtype('>u4'))\n",
      "SliceUInt64                (no streamer)              asjagged(asdtype('>u8'))\n",
      "SliceFloat32               (no streamer)              asjagged(asdtype('>f4'))\n",
      "SliceFloat64               (no streamer)              asjagged(asdtype('>f8'))\n"
     ]
    }
   ],
   "source": [
    "tree.show()"
   ]
  },
  {
   "cell_type": "markdown",
   "metadata": {},
   "source": [
    "The first column shows [TBranch](http://uproot.readthedocs.io/en/latest/ttree-handling.html#uproot-tree-tbranchmethods) names, the \"streamers\" in the second column are ROOT schemas in the file used to reconstruct complex user classes. (This file doesn't have any.) The third column shows uproot's default interpretation of the data. If any [TBranch](http://uproot.readthedocs.io/en/latest/ttree-handling.html#uproot-tree-tbranchmethods) objects have `None` as the default interpretation, uproot cannot read it (but possibly will in the future, as more types are handled).\n",
    "\n",
    "You can read each [TBranch](http://uproot.readthedocs.io/en/latest/ttree-handling.html#uproot-tree-tbranchmethods) into an array by calling `array()` on the [TBranch](http://uproot.readthedocs.io/en/latest/ttree-handling.html#uproot-tree-tbranchmethods)."
   ]
  },
  {
   "cell_type": "code",
   "execution_count": 22,
   "metadata": {},
   "outputs": [
    {
     "data": {
      "text/plain": [
       "array([ 0.,  1.,  2.,  3.,  4.,  5.,  6.,  7.,  8.,  9., 10., 11., 12.,\n",
       "       13., 14., 15., 16., 17., 18., 19., 20., 21., 22., 23., 24., 25.,\n",
       "       26., 27., 28., 29., 30., 31., 32., 33., 34., 35., 36., 37., 38.,\n",
       "       39., 40., 41., 42., 43., 44., 45., 46., 47., 48., 49., 50., 51.,\n",
       "       52., 53., 54., 55., 56., 57., 58., 59., 60., 61., 62., 63., 64.,\n",
       "       65., 66., 67., 68., 69., 70., 71., 72., 73., 74., 75., 76., 77.,\n",
       "       78., 79., 80., 81., 82., 83., 84., 85., 86., 87., 88., 89., 90.,\n",
       "       91., 92., 93., 94., 95., 96., 97., 98., 99.])"
      ]
     },
     "execution_count": 22,
     "metadata": {},
     "output_type": "execute_result"
    }
   ],
   "source": [
    "tree[\"Float64\"].array()"
   ]
  },
  {
   "cell_type": "code",
   "execution_count": 23,
   "metadata": {},
   "outputs": [
    {
     "data": {
      "text/plain": [
       "<ObjectArray [b'evt-000' b'evt-001' b'evt-002' ... b'evt-097' b'evt-098' b'evt-099'] at 0x76b76f5f1198>"
      ]
     },
     "execution_count": 23,
     "metadata": {},
     "output_type": "execute_result"
    }
   ],
   "source": [
    "tree[\"Str\"].array()"
   ]
  },
  {
   "cell_type": "code",
   "execution_count": 24,
   "metadata": {},
   "outputs": [
    {
     "data": {
      "text/plain": [
       "<JaggedArray [[] [1] [2 2] ... [97 97 97 ... 97 97 97] [98 98 98 ... 98 98 98] [99 99 99 ... 99 99 99]] at 0x76b76f5f1208>"
      ]
     },
     "execution_count": 24,
     "metadata": {},
     "output_type": "execute_result"
    }
   ],
   "source": [
    "tree[\"SliceInt32\"].array()"
   ]
  },
  {
   "cell_type": "markdown",
   "metadata": {},
   "source": [
    "or read many at once with a single `arrays([...])` call on the [TTree](http://uproot.readthedocs.io/en/latest/ttree-handling.html#uproot-tree-ttreemethods)."
   ]
  },
  {
   "cell_type": "code",
   "execution_count": 25,
   "metadata": {},
   "outputs": [
    {
     "data": {
      "text/plain": [
       "{b'Int32': array([ 0,  1,  2,  3,  4,  5,  6,  7,  8,  9, 10, 11, 12, 13, 14, 15, 16,\n",
       "        17, 18, 19, 20, 21, 22, 23, 24, 25, 26, 27, 28, 29, 30, 31, 32, 33,\n",
       "        34, 35, 36, 37, 38, 39, 40, 41, 42, 43, 44, 45, 46, 47, 48, 49, 50,\n",
       "        51, 52, 53, 54, 55, 56, 57, 58, 59, 60, 61, 62, 63, 64, 65, 66, 67,\n",
       "        68, 69, 70, 71, 72, 73, 74, 75, 76, 77, 78, 79, 80, 81, 82, 83, 84,\n",
       "        85, 86, 87, 88, 89, 90, 91, 92, 93, 94, 95, 96, 97, 98, 99],\n",
       "       dtype=int32),\n",
       " b'Int64': array([ 0,  1,  2,  3,  4,  5,  6,  7,  8,  9, 10, 11, 12, 13, 14, 15, 16,\n",
       "        17, 18, 19, 20, 21, 22, 23, 24, 25, 26, 27, 28, 29, 30, 31, 32, 33,\n",
       "        34, 35, 36, 37, 38, 39, 40, 41, 42, 43, 44, 45, 46, 47, 48, 49, 50,\n",
       "        51, 52, 53, 54, 55, 56, 57, 58, 59, 60, 61, 62, 63, 64, 65, 66, 67,\n",
       "        68, 69, 70, 71, 72, 73, 74, 75, 76, 77, 78, 79, 80, 81, 82, 83, 84,\n",
       "        85, 86, 87, 88, 89, 90, 91, 92, 93, 94, 95, 96, 97, 98, 99]),\n",
       " b'UInt32': array([ 0,  1,  2,  3,  4,  5,  6,  7,  8,  9, 10, 11, 12, 13, 14, 15, 16,\n",
       "        17, 18, 19, 20, 21, 22, 23, 24, 25, 26, 27, 28, 29, 30, 31, 32, 33,\n",
       "        34, 35, 36, 37, 38, 39, 40, 41, 42, 43, 44, 45, 46, 47, 48, 49, 50,\n",
       "        51, 52, 53, 54, 55, 56, 57, 58, 59, 60, 61, 62, 63, 64, 65, 66, 67,\n",
       "        68, 69, 70, 71, 72, 73, 74, 75, 76, 77, 78, 79, 80, 81, 82, 83, 84,\n",
       "        85, 86, 87, 88, 89, 90, 91, 92, 93, 94, 95, 96, 97, 98, 99],\n",
       "       dtype=uint32),\n",
       " b'UInt64': array([ 0,  1,  2,  3,  4,  5,  6,  7,  8,  9, 10, 11, 12, 13, 14, 15, 16,\n",
       "        17, 18, 19, 20, 21, 22, 23, 24, 25, 26, 27, 28, 29, 30, 31, 32, 33,\n",
       "        34, 35, 36, 37, 38, 39, 40, 41, 42, 43, 44, 45, 46, 47, 48, 49, 50,\n",
       "        51, 52, 53, 54, 55, 56, 57, 58, 59, 60, 61, 62, 63, 64, 65, 66, 67,\n",
       "        68, 69, 70, 71, 72, 73, 74, 75, 76, 77, 78, 79, 80, 81, 82, 83, 84,\n",
       "        85, 86, 87, 88, 89, 90, 91, 92, 93, 94, 95, 96, 97, 98, 99],\n",
       "       dtype=uint64),\n",
       " b'Float32': array([ 0.,  1.,  2.,  3.,  4.,  5.,  6.,  7.,  8.,  9., 10., 11., 12.,\n",
       "        13., 14., 15., 16., 17., 18., 19., 20., 21., 22., 23., 24., 25.,\n",
       "        26., 27., 28., 29., 30., 31., 32., 33., 34., 35., 36., 37., 38.,\n",
       "        39., 40., 41., 42., 43., 44., 45., 46., 47., 48., 49., 50., 51.,\n",
       "        52., 53., 54., 55., 56., 57., 58., 59., 60., 61., 62., 63., 64.,\n",
       "        65., 66., 67., 68., 69., 70., 71., 72., 73., 74., 75., 76., 77.,\n",
       "        78., 79., 80., 81., 82., 83., 84., 85., 86., 87., 88., 89., 90.,\n",
       "        91., 92., 93., 94., 95., 96., 97., 98., 99.], dtype=float32),\n",
       " b'Float64': array([ 0.,  1.,  2.,  3.,  4.,  5.,  6.,  7.,  8.,  9., 10., 11., 12.,\n",
       "        13., 14., 15., 16., 17., 18., 19., 20., 21., 22., 23., 24., 25.,\n",
       "        26., 27., 28., 29., 30., 31., 32., 33., 34., 35., 36., 37., 38.,\n",
       "        39., 40., 41., 42., 43., 44., 45., 46., 47., 48., 49., 50., 51.,\n",
       "        52., 53., 54., 55., 56., 57., 58., 59., 60., 61., 62., 63., 64.,\n",
       "        65., 66., 67., 68., 69., 70., 71., 72., 73., 74., 75., 76., 77.,\n",
       "        78., 79., 80., 81., 82., 83., 84., 85., 86., 87., 88., 89., 90.,\n",
       "        91., 92., 93., 94., 95., 96., 97., 98., 99.])}"
      ]
     },
     "execution_count": 25,
     "metadata": {},
     "output_type": "execute_result"
    }
   ],
   "source": [
    "tree.arrays([\"Int32\", \"Int64\", \"UInt32\", \"UInt64\", \"Float32\", \"Float64\"])"
   ]
  },
  {
   "cell_type": "code",
   "execution_count": 26,
   "metadata": {},
   "outputs": [
    {
     "data": {
      "text/plain": [
       "{b'Int32': array([ 0,  1,  2,  3,  4,  5,  6,  7,  8,  9, 10, 11, 12, 13, 14, 15, 16,\n",
       "        17, 18, 19, 20, 21, 22, 23, 24, 25, 26, 27, 28, 29, 30, 31, 32, 33,\n",
       "        34, 35, 36, 37, 38, 39, 40, 41, 42, 43, 44, 45, 46, 47, 48, 49, 50,\n",
       "        51, 52, 53, 54, 55, 56, 57, 58, 59, 60, 61, 62, 63, 64, 65, 66, 67,\n",
       "        68, 69, 70, 71, 72, 73, 74, 75, 76, 77, 78, 79, 80, 81, 82, 83, 84,\n",
       "        85, 86, 87, 88, 89, 90, 91, 92, 93, 94, 95, 96, 97, 98, 99],\n",
       "       dtype=int32),\n",
       " b'Int64': array([ 0,  1,  2,  3,  4,  5,  6,  7,  8,  9, 10, 11, 12, 13, 14, 15, 16,\n",
       "        17, 18, 19, 20, 21, 22, 23, 24, 25, 26, 27, 28, 29, 30, 31, 32, 33,\n",
       "        34, 35, 36, 37, 38, 39, 40, 41, 42, 43, 44, 45, 46, 47, 48, 49, 50,\n",
       "        51, 52, 53, 54, 55, 56, 57, 58, 59, 60, 61, 62, 63, 64, 65, 66, 67,\n",
       "        68, 69, 70, 71, 72, 73, 74, 75, 76, 77, 78, 79, 80, 81, 82, 83, 84,\n",
       "        85, 86, 87, 88, 89, 90, 91, 92, 93, 94, 95, 96, 97, 98, 99]),\n",
       " b'UInt32': array([ 0,  1,  2,  3,  4,  5,  6,  7,  8,  9, 10, 11, 12, 13, 14, 15, 16,\n",
       "        17, 18, 19, 20, 21, 22, 23, 24, 25, 26, 27, 28, 29, 30, 31, 32, 33,\n",
       "        34, 35, 36, 37, 38, 39, 40, 41, 42, 43, 44, 45, 46, 47, 48, 49, 50,\n",
       "        51, 52, 53, 54, 55, 56, 57, 58, 59, 60, 61, 62, 63, 64, 65, 66, 67,\n",
       "        68, 69, 70, 71, 72, 73, 74, 75, 76, 77, 78, 79, 80, 81, 82, 83, 84,\n",
       "        85, 86, 87, 88, 89, 90, 91, 92, 93, 94, 95, 96, 97, 98, 99],\n",
       "       dtype=uint32),\n",
       " b'UInt64': array([ 0,  1,  2,  3,  4,  5,  6,  7,  8,  9, 10, 11, 12, 13, 14, 15, 16,\n",
       "        17, 18, 19, 20, 21, 22, 23, 24, 25, 26, 27, 28, 29, 30, 31, 32, 33,\n",
       "        34, 35, 36, 37, 38, 39, 40, 41, 42, 43, 44, 45, 46, 47, 48, 49, 50,\n",
       "        51, 52, 53, 54, 55, 56, 57, 58, 59, 60, 61, 62, 63, 64, 65, 66, 67,\n",
       "        68, 69, 70, 71, 72, 73, 74, 75, 76, 77, 78, 79, 80, 81, 82, 83, 84,\n",
       "        85, 86, 87, 88, 89, 90, 91, 92, 93, 94, 95, 96, 97, 98, 99],\n",
       "       dtype=uint64),\n",
       " b'Float32': array([ 0.,  1.,  2.,  3.,  4.,  5.,  6.,  7.,  8.,  9., 10., 11., 12.,\n",
       "        13., 14., 15., 16., 17., 18., 19., 20., 21., 22., 23., 24., 25.,\n",
       "        26., 27., 28., 29., 30., 31., 32., 33., 34., 35., 36., 37., 38.,\n",
       "        39., 40., 41., 42., 43., 44., 45., 46., 47., 48., 49., 50., 51.,\n",
       "        52., 53., 54., 55., 56., 57., 58., 59., 60., 61., 62., 63., 64.,\n",
       "        65., 66., 67., 68., 69., 70., 71., 72., 73., 74., 75., 76., 77.,\n",
       "        78., 79., 80., 81., 82., 83., 84., 85., 86., 87., 88., 89., 90.,\n",
       "        91., 92., 93., 94., 95., 96., 97., 98., 99.], dtype=float32),\n",
       " b'Float64': array([ 0.,  1.,  2.,  3.,  4.,  5.,  6.,  7.,  8.,  9., 10., 11., 12.,\n",
       "        13., 14., 15., 16., 17., 18., 19., 20., 21., 22., 23., 24., 25.,\n",
       "        26., 27., 28., 29., 30., 31., 32., 33., 34., 35., 36., 37., 38.,\n",
       "        39., 40., 41., 42., 43., 44., 45., 46., 47., 48., 49., 50., 51.,\n",
       "        52., 53., 54., 55., 56., 57., 58., 59., 60., 61., 62., 63., 64.,\n",
       "        65., 66., 67., 68., 69., 70., 71., 72., 73., 74., 75., 76., 77.,\n",
       "        78., 79., 80., 81., 82., 83., 84., 85., 86., 87., 88., 89., 90.,\n",
       "        91., 92., 93., 94., 95., 96., 97., 98., 99.]),\n",
       " b'Str': <ObjectArray [b'evt-000' b'evt-001' b'evt-002' ... b'evt-097' b'evt-098' b'evt-099'] at 0x76b76f5f1cc0>,\n",
       " b'ArrayInt32': array([[ 0,  0,  0,  0,  0,  0,  0,  0,  0,  0],\n",
       "        [ 1,  1,  1,  1,  1,  1,  1,  1,  1,  1],\n",
       "        [ 2,  2,  2,  2,  2,  2,  2,  2,  2,  2],\n",
       "        [ 3,  3,  3,  3,  3,  3,  3,  3,  3,  3],\n",
       "        [ 4,  4,  4,  4,  4,  4,  4,  4,  4,  4],\n",
       "        [ 5,  5,  5,  5,  5,  5,  5,  5,  5,  5],\n",
       "        [ 6,  6,  6,  6,  6,  6,  6,  6,  6,  6],\n",
       "        [ 7,  7,  7,  7,  7,  7,  7,  7,  7,  7],\n",
       "        [ 8,  8,  8,  8,  8,  8,  8,  8,  8,  8],\n",
       "        [ 9,  9,  9,  9,  9,  9,  9,  9,  9,  9],\n",
       "        [10, 10, 10, 10, 10, 10, 10, 10, 10, 10],\n",
       "        [11, 11, 11, 11, 11, 11, 11, 11, 11, 11],\n",
       "        [12, 12, 12, 12, 12, 12, 12, 12, 12, 12],\n",
       "        [13, 13, 13, 13, 13, 13, 13, 13, 13, 13],\n",
       "        [14, 14, 14, 14, 14, 14, 14, 14, 14, 14],\n",
       "        [15, 15, 15, 15, 15, 15, 15, 15, 15, 15],\n",
       "        [16, 16, 16, 16, 16, 16, 16, 16, 16, 16],\n",
       "        [17, 17, 17, 17, 17, 17, 17, 17, 17, 17],\n",
       "        [18, 18, 18, 18, 18, 18, 18, 18, 18, 18],\n",
       "        [19, 19, 19, 19, 19, 19, 19, 19, 19, 19],\n",
       "        [20, 20, 20, 20, 20, 20, 20, 20, 20, 20],\n",
       "        [21, 21, 21, 21, 21, 21, 21, 21, 21, 21],\n",
       "        [22, 22, 22, 22, 22, 22, 22, 22, 22, 22],\n",
       "        [23, 23, 23, 23, 23, 23, 23, 23, 23, 23],\n",
       "        [24, 24, 24, 24, 24, 24, 24, 24, 24, 24],\n",
       "        [25, 25, 25, 25, 25, 25, 25, 25, 25, 25],\n",
       "        [26, 26, 26, 26, 26, 26, 26, 26, 26, 26],\n",
       "        [27, 27, 27, 27, 27, 27, 27, 27, 27, 27],\n",
       "        [28, 28, 28, 28, 28, 28, 28, 28, 28, 28],\n",
       "        [29, 29, 29, 29, 29, 29, 29, 29, 29, 29],\n",
       "        [30, 30, 30, 30, 30, 30, 30, 30, 30, 30],\n",
       "        [31, 31, 31, 31, 31, 31, 31, 31, 31, 31],\n",
       "        [32, 32, 32, 32, 32, 32, 32, 32, 32, 32],\n",
       "        [33, 33, 33, 33, 33, 33, 33, 33, 33, 33],\n",
       "        [34, 34, 34, 34, 34, 34, 34, 34, 34, 34],\n",
       "        [35, 35, 35, 35, 35, 35, 35, 35, 35, 35],\n",
       "        [36, 36, 36, 36, 36, 36, 36, 36, 36, 36],\n",
       "        [37, 37, 37, 37, 37, 37, 37, 37, 37, 37],\n",
       "        [38, 38, 38, 38, 38, 38, 38, 38, 38, 38],\n",
       "        [39, 39, 39, 39, 39, 39, 39, 39, 39, 39],\n",
       "        [40, 40, 40, 40, 40, 40, 40, 40, 40, 40],\n",
       "        [41, 41, 41, 41, 41, 41, 41, 41, 41, 41],\n",
       "        [42, 42, 42, 42, 42, 42, 42, 42, 42, 42],\n",
       "        [43, 43, 43, 43, 43, 43, 43, 43, 43, 43],\n",
       "        [44, 44, 44, 44, 44, 44, 44, 44, 44, 44],\n",
       "        [45, 45, 45, 45, 45, 45, 45, 45, 45, 45],\n",
       "        [46, 46, 46, 46, 46, 46, 46, 46, 46, 46],\n",
       "        [47, 47, 47, 47, 47, 47, 47, 47, 47, 47],\n",
       "        [48, 48, 48, 48, 48, 48, 48, 48, 48, 48],\n",
       "        [49, 49, 49, 49, 49, 49, 49, 49, 49, 49],\n",
       "        [50, 50, 50, 50, 50, 50, 50, 50, 50, 50],\n",
       "        [51, 51, 51, 51, 51, 51, 51, 51, 51, 51],\n",
       "        [52, 52, 52, 52, 52, 52, 52, 52, 52, 52],\n",
       "        [53, 53, 53, 53, 53, 53, 53, 53, 53, 53],\n",
       "        [54, 54, 54, 54, 54, 54, 54, 54, 54, 54],\n",
       "        [55, 55, 55, 55, 55, 55, 55, 55, 55, 55],\n",
       "        [56, 56, 56, 56, 56, 56, 56, 56, 56, 56],\n",
       "        [57, 57, 57, 57, 57, 57, 57, 57, 57, 57],\n",
       "        [58, 58, 58, 58, 58, 58, 58, 58, 58, 58],\n",
       "        [59, 59, 59, 59, 59, 59, 59, 59, 59, 59],\n",
       "        [60, 60, 60, 60, 60, 60, 60, 60, 60, 60],\n",
       "        [61, 61, 61, 61, 61, 61, 61, 61, 61, 61],\n",
       "        [62, 62, 62, 62, 62, 62, 62, 62, 62, 62],\n",
       "        [63, 63, 63, 63, 63, 63, 63, 63, 63, 63],\n",
       "        [64, 64, 64, 64, 64, 64, 64, 64, 64, 64],\n",
       "        [65, 65, 65, 65, 65, 65, 65, 65, 65, 65],\n",
       "        [66, 66, 66, 66, 66, 66, 66, 66, 66, 66],\n",
       "        [67, 67, 67, 67, 67, 67, 67, 67, 67, 67],\n",
       "        [68, 68, 68, 68, 68, 68, 68, 68, 68, 68],\n",
       "        [69, 69, 69, 69, 69, 69, 69, 69, 69, 69],\n",
       "        [70, 70, 70, 70, 70, 70, 70, 70, 70, 70],\n",
       "        [71, 71, 71, 71, 71, 71, 71, 71, 71, 71],\n",
       "        [72, 72, 72, 72, 72, 72, 72, 72, 72, 72],\n",
       "        [73, 73, 73, 73, 73, 73, 73, 73, 73, 73],\n",
       "        [74, 74, 74, 74, 74, 74, 74, 74, 74, 74],\n",
       "        [75, 75, 75, 75, 75, 75, 75, 75, 75, 75],\n",
       "        [76, 76, 76, 76, 76, 76, 76, 76, 76, 76],\n",
       "        [77, 77, 77, 77, 77, 77, 77, 77, 77, 77],\n",
       "        [78, 78, 78, 78, 78, 78, 78, 78, 78, 78],\n",
       "        [79, 79, 79, 79, 79, 79, 79, 79, 79, 79],\n",
       "        [80, 80, 80, 80, 80, 80, 80, 80, 80, 80],\n",
       "        [81, 81, 81, 81, 81, 81, 81, 81, 81, 81],\n",
       "        [82, 82, 82, 82, 82, 82, 82, 82, 82, 82],\n",
       "        [83, 83, 83, 83, 83, 83, 83, 83, 83, 83],\n",
       "        [84, 84, 84, 84, 84, 84, 84, 84, 84, 84],\n",
       "        [85, 85, 85, 85, 85, 85, 85, 85, 85, 85],\n",
       "        [86, 86, 86, 86, 86, 86, 86, 86, 86, 86],\n",
       "        [87, 87, 87, 87, 87, 87, 87, 87, 87, 87],\n",
       "        [88, 88, 88, 88, 88, 88, 88, 88, 88, 88],\n",
       "        [89, 89, 89, 89, 89, 89, 89, 89, 89, 89],\n",
       "        [90, 90, 90, 90, 90, 90, 90, 90, 90, 90],\n",
       "        [91, 91, 91, 91, 91, 91, 91, 91, 91, 91],\n",
       "        [92, 92, 92, 92, 92, 92, 92, 92, 92, 92],\n",
       "        [93, 93, 93, 93, 93, 93, 93, 93, 93, 93],\n",
       "        [94, 94, 94, 94, 94, 94, 94, 94, 94, 94],\n",
       "        [95, 95, 95, 95, 95, 95, 95, 95, 95, 95],\n",
       "        [96, 96, 96, 96, 96, 96, 96, 96, 96, 96],\n",
       "        [97, 97, 97, 97, 97, 97, 97, 97, 97, 97],\n",
       "        [98, 98, 98, 98, 98, 98, 98, 98, 98, 98],\n",
       "        [99, 99, 99, 99, 99, 99, 99, 99, 99, 99]], dtype=int32),\n",
       " b'ArrayInt64': array([[ 0,  0,  0,  0,  0,  0,  0,  0,  0,  0],\n",
       "        [ 1,  1,  1,  1,  1,  1,  1,  1,  1,  1],\n",
       "        [ 2,  2,  2,  2,  2,  2,  2,  2,  2,  2],\n",
       "        [ 3,  3,  3,  3,  3,  3,  3,  3,  3,  3],\n",
       "        [ 4,  4,  4,  4,  4,  4,  4,  4,  4,  4],\n",
       "        [ 5,  5,  5,  5,  5,  5,  5,  5,  5,  5],\n",
       "        [ 6,  6,  6,  6,  6,  6,  6,  6,  6,  6],\n",
       "        [ 7,  7,  7,  7,  7,  7,  7,  7,  7,  7],\n",
       "        [ 8,  8,  8,  8,  8,  8,  8,  8,  8,  8],\n",
       "        [ 9,  9,  9,  9,  9,  9,  9,  9,  9,  9],\n",
       "        [10, 10, 10, 10, 10, 10, 10, 10, 10, 10],\n",
       "        [11, 11, 11, 11, 11, 11, 11, 11, 11, 11],\n",
       "        [12, 12, 12, 12, 12, 12, 12, 12, 12, 12],\n",
       "        [13, 13, 13, 13, 13, 13, 13, 13, 13, 13],\n",
       "        [14, 14, 14, 14, 14, 14, 14, 14, 14, 14],\n",
       "        [15, 15, 15, 15, 15, 15, 15, 15, 15, 15],\n",
       "        [16, 16, 16, 16, 16, 16, 16, 16, 16, 16],\n",
       "        [17, 17, 17, 17, 17, 17, 17, 17, 17, 17],\n",
       "        [18, 18, 18, 18, 18, 18, 18, 18, 18, 18],\n",
       "        [19, 19, 19, 19, 19, 19, 19, 19, 19, 19],\n",
       "        [20, 20, 20, 20, 20, 20, 20, 20, 20, 20],\n",
       "        [21, 21, 21, 21, 21, 21, 21, 21, 21, 21],\n",
       "        [22, 22, 22, 22, 22, 22, 22, 22, 22, 22],\n",
       "        [23, 23, 23, 23, 23, 23, 23, 23, 23, 23],\n",
       "        [24, 24, 24, 24, 24, 24, 24, 24, 24, 24],\n",
       "        [25, 25, 25, 25, 25, 25, 25, 25, 25, 25],\n",
       "        [26, 26, 26, 26, 26, 26, 26, 26, 26, 26],\n",
       "        [27, 27, 27, 27, 27, 27, 27, 27, 27, 27],\n",
       "        [28, 28, 28, 28, 28, 28, 28, 28, 28, 28],\n",
       "        [29, 29, 29, 29, 29, 29, 29, 29, 29, 29],\n",
       "        [30, 30, 30, 30, 30, 30, 30, 30, 30, 30],\n",
       "        [31, 31, 31, 31, 31, 31, 31, 31, 31, 31],\n",
       "        [32, 32, 32, 32, 32, 32, 32, 32, 32, 32],\n",
       "        [33, 33, 33, 33, 33, 33, 33, 33, 33, 33],\n",
       "        [34, 34, 34, 34, 34, 34, 34, 34, 34, 34],\n",
       "        [35, 35, 35, 35, 35, 35, 35, 35, 35, 35],\n",
       "        [36, 36, 36, 36, 36, 36, 36, 36, 36, 36],\n",
       "        [37, 37, 37, 37, 37, 37, 37, 37, 37, 37],\n",
       "        [38, 38, 38, 38, 38, 38, 38, 38, 38, 38],\n",
       "        [39, 39, 39, 39, 39, 39, 39, 39, 39, 39],\n",
       "        [40, 40, 40, 40, 40, 40, 40, 40, 40, 40],\n",
       "        [41, 41, 41, 41, 41, 41, 41, 41, 41, 41],\n",
       "        [42, 42, 42, 42, 42, 42, 42, 42, 42, 42],\n",
       "        [43, 43, 43, 43, 43, 43, 43, 43, 43, 43],\n",
       "        [44, 44, 44, 44, 44, 44, 44, 44, 44, 44],\n",
       "        [45, 45, 45, 45, 45, 45, 45, 45, 45, 45],\n",
       "        [46, 46, 46, 46, 46, 46, 46, 46, 46, 46],\n",
       "        [47, 47, 47, 47, 47, 47, 47, 47, 47, 47],\n",
       "        [48, 48, 48, 48, 48, 48, 48, 48, 48, 48],\n",
       "        [49, 49, 49, 49, 49, 49, 49, 49, 49, 49],\n",
       "        [50, 50, 50, 50, 50, 50, 50, 50, 50, 50],\n",
       "        [51, 51, 51, 51, 51, 51, 51, 51, 51, 51],\n",
       "        [52, 52, 52, 52, 52, 52, 52, 52, 52, 52],\n",
       "        [53, 53, 53, 53, 53, 53, 53, 53, 53, 53],\n",
       "        [54, 54, 54, 54, 54, 54, 54, 54, 54, 54],\n",
       "        [55, 55, 55, 55, 55, 55, 55, 55, 55, 55],\n",
       "        [56, 56, 56, 56, 56, 56, 56, 56, 56, 56],\n",
       "        [57, 57, 57, 57, 57, 57, 57, 57, 57, 57],\n",
       "        [58, 58, 58, 58, 58, 58, 58, 58, 58, 58],\n",
       "        [59, 59, 59, 59, 59, 59, 59, 59, 59, 59],\n",
       "        [60, 60, 60, 60, 60, 60, 60, 60, 60, 60],\n",
       "        [61, 61, 61, 61, 61, 61, 61, 61, 61, 61],\n",
       "        [62, 62, 62, 62, 62, 62, 62, 62, 62, 62],\n",
       "        [63, 63, 63, 63, 63, 63, 63, 63, 63, 63],\n",
       "        [64, 64, 64, 64, 64, 64, 64, 64, 64, 64],\n",
       "        [65, 65, 65, 65, 65, 65, 65, 65, 65, 65],\n",
       "        [66, 66, 66, 66, 66, 66, 66, 66, 66, 66],\n",
       "        [67, 67, 67, 67, 67, 67, 67, 67, 67, 67],\n",
       "        [68, 68, 68, 68, 68, 68, 68, 68, 68, 68],\n",
       "        [69, 69, 69, 69, 69, 69, 69, 69, 69, 69],\n",
       "        [70, 70, 70, 70, 70, 70, 70, 70, 70, 70],\n",
       "        [71, 71, 71, 71, 71, 71, 71, 71, 71, 71],\n",
       "        [72, 72, 72, 72, 72, 72, 72, 72, 72, 72],\n",
       "        [73, 73, 73, 73, 73, 73, 73, 73, 73, 73],\n",
       "        [74, 74, 74, 74, 74, 74, 74, 74, 74, 74],\n",
       "        [75, 75, 75, 75, 75, 75, 75, 75, 75, 75],\n",
       "        [76, 76, 76, 76, 76, 76, 76, 76, 76, 76],\n",
       "        [77, 77, 77, 77, 77, 77, 77, 77, 77, 77],\n",
       "        [78, 78, 78, 78, 78, 78, 78, 78, 78, 78],\n",
       "        [79, 79, 79, 79, 79, 79, 79, 79, 79, 79],\n",
       "        [80, 80, 80, 80, 80, 80, 80, 80, 80, 80],\n",
       "        [81, 81, 81, 81, 81, 81, 81, 81, 81, 81],\n",
       "        [82, 82, 82, 82, 82, 82, 82, 82, 82, 82],\n",
       "        [83, 83, 83, 83, 83, 83, 83, 83, 83, 83],\n",
       "        [84, 84, 84, 84, 84, 84, 84, 84, 84, 84],\n",
       "        [85, 85, 85, 85, 85, 85, 85, 85, 85, 85],\n",
       "        [86, 86, 86, 86, 86, 86, 86, 86, 86, 86],\n",
       "        [87, 87, 87, 87, 87, 87, 87, 87, 87, 87],\n",
       "        [88, 88, 88, 88, 88, 88, 88, 88, 88, 88],\n",
       "        [89, 89, 89, 89, 89, 89, 89, 89, 89, 89],\n",
       "        [90, 90, 90, 90, 90, 90, 90, 90, 90, 90],\n",
       "        [91, 91, 91, 91, 91, 91, 91, 91, 91, 91],\n",
       "        [92, 92, 92, 92, 92, 92, 92, 92, 92, 92],\n",
       "        [93, 93, 93, 93, 93, 93, 93, 93, 93, 93],\n",
       "        [94, 94, 94, 94, 94, 94, 94, 94, 94, 94],\n",
       "        [95, 95, 95, 95, 95, 95, 95, 95, 95, 95],\n",
       "        [96, 96, 96, 96, 96, 96, 96, 96, 96, 96],\n",
       "        [97, 97, 97, 97, 97, 97, 97, 97, 97, 97],\n",
       "        [98, 98, 98, 98, 98, 98, 98, 98, 98, 98],\n",
       "        [99, 99, 99, 99, 99, 99, 99, 99, 99, 99]]),\n",
       " b'ArrayUInt32': array([[ 0,  0,  0,  0,  0,  0,  0,  0,  0,  0],\n",
       "        [ 1,  1,  1,  1,  1,  1,  1,  1,  1,  1],\n",
       "        [ 2,  2,  2,  2,  2,  2,  2,  2,  2,  2],\n",
       "        [ 3,  3,  3,  3,  3,  3,  3,  3,  3,  3],\n",
       "        [ 4,  4,  4,  4,  4,  4,  4,  4,  4,  4],\n",
       "        [ 5,  5,  5,  5,  5,  5,  5,  5,  5,  5],\n",
       "        [ 6,  6,  6,  6,  6,  6,  6,  6,  6,  6],\n",
       "        [ 7,  7,  7,  7,  7,  7,  7,  7,  7,  7],\n",
       "        [ 8,  8,  8,  8,  8,  8,  8,  8,  8,  8],\n",
       "        [ 9,  9,  9,  9,  9,  9,  9,  9,  9,  9],\n",
       "        [10, 10, 10, 10, 10, 10, 10, 10, 10, 10],\n",
       "        [11, 11, 11, 11, 11, 11, 11, 11, 11, 11],\n",
       "        [12, 12, 12, 12, 12, 12, 12, 12, 12, 12],\n",
       "        [13, 13, 13, 13, 13, 13, 13, 13, 13, 13],\n",
       "        [14, 14, 14, 14, 14, 14, 14, 14, 14, 14],\n",
       "        [15, 15, 15, 15, 15, 15, 15, 15, 15, 15],\n",
       "        [16, 16, 16, 16, 16, 16, 16, 16, 16, 16],\n",
       "        [17, 17, 17, 17, 17, 17, 17, 17, 17, 17],\n",
       "        [18, 18, 18, 18, 18, 18, 18, 18, 18, 18],\n",
       "        [19, 19, 19, 19, 19, 19, 19, 19, 19, 19],\n",
       "        [20, 20, 20, 20, 20, 20, 20, 20, 20, 20],\n",
       "        [21, 21, 21, 21, 21, 21, 21, 21, 21, 21],\n",
       "        [22, 22, 22, 22, 22, 22, 22, 22, 22, 22],\n",
       "        [23, 23, 23, 23, 23, 23, 23, 23, 23, 23],\n",
       "        [24, 24, 24, 24, 24, 24, 24, 24, 24, 24],\n",
       "        [25, 25, 25, 25, 25, 25, 25, 25, 25, 25],\n",
       "        [26, 26, 26, 26, 26, 26, 26, 26, 26, 26],\n",
       "        [27, 27, 27, 27, 27, 27, 27, 27, 27, 27],\n",
       "        [28, 28, 28, 28, 28, 28, 28, 28, 28, 28],\n",
       "        [29, 29, 29, 29, 29, 29, 29, 29, 29, 29],\n",
       "        [30, 30, 30, 30, 30, 30, 30, 30, 30, 30],\n",
       "        [31, 31, 31, 31, 31, 31, 31, 31, 31, 31],\n",
       "        [32, 32, 32, 32, 32, 32, 32, 32, 32, 32],\n",
       "        [33, 33, 33, 33, 33, 33, 33, 33, 33, 33],\n",
       "        [34, 34, 34, 34, 34, 34, 34, 34, 34, 34],\n",
       "        [35, 35, 35, 35, 35, 35, 35, 35, 35, 35],\n",
       "        [36, 36, 36, 36, 36, 36, 36, 36, 36, 36],\n",
       "        [37, 37, 37, 37, 37, 37, 37, 37, 37, 37],\n",
       "        [38, 38, 38, 38, 38, 38, 38, 38, 38, 38],\n",
       "        [39, 39, 39, 39, 39, 39, 39, 39, 39, 39],\n",
       "        [40, 40, 40, 40, 40, 40, 40, 40, 40, 40],\n",
       "        [41, 41, 41, 41, 41, 41, 41, 41, 41, 41],\n",
       "        [42, 42, 42, 42, 42, 42, 42, 42, 42, 42],\n",
       "        [43, 43, 43, 43, 43, 43, 43, 43, 43, 43],\n",
       "        [44, 44, 44, 44, 44, 44, 44, 44, 44, 44],\n",
       "        [45, 45, 45, 45, 45, 45, 45, 45, 45, 45],\n",
       "        [46, 46, 46, 46, 46, 46, 46, 46, 46, 46],\n",
       "        [47, 47, 47, 47, 47, 47, 47, 47, 47, 47],\n",
       "        [48, 48, 48, 48, 48, 48, 48, 48, 48, 48],\n",
       "        [49, 49, 49, 49, 49, 49, 49, 49, 49, 49],\n",
       "        [50, 50, 50, 50, 50, 50, 50, 50, 50, 50],\n",
       "        [51, 51, 51, 51, 51, 51, 51, 51, 51, 51],\n",
       "        [52, 52, 52, 52, 52, 52, 52, 52, 52, 52],\n",
       "        [53, 53, 53, 53, 53, 53, 53, 53, 53, 53],\n",
       "        [54, 54, 54, 54, 54, 54, 54, 54, 54, 54],\n",
       "        [55, 55, 55, 55, 55, 55, 55, 55, 55, 55],\n",
       "        [56, 56, 56, 56, 56, 56, 56, 56, 56, 56],\n",
       "        [57, 57, 57, 57, 57, 57, 57, 57, 57, 57],\n",
       "        [58, 58, 58, 58, 58, 58, 58, 58, 58, 58],\n",
       "        [59, 59, 59, 59, 59, 59, 59, 59, 59, 59],\n",
       "        [60, 60, 60, 60, 60, 60, 60, 60, 60, 60],\n",
       "        [61, 61, 61, 61, 61, 61, 61, 61, 61, 61],\n",
       "        [62, 62, 62, 62, 62, 62, 62, 62, 62, 62],\n",
       "        [63, 63, 63, 63, 63, 63, 63, 63, 63, 63],\n",
       "        [64, 64, 64, 64, 64, 64, 64, 64, 64, 64],\n",
       "        [65, 65, 65, 65, 65, 65, 65, 65, 65, 65],\n",
       "        [66, 66, 66, 66, 66, 66, 66, 66, 66, 66],\n",
       "        [67, 67, 67, 67, 67, 67, 67, 67, 67, 67],\n",
       "        [68, 68, 68, 68, 68, 68, 68, 68, 68, 68],\n",
       "        [69, 69, 69, 69, 69, 69, 69, 69, 69, 69],\n",
       "        [70, 70, 70, 70, 70, 70, 70, 70, 70, 70],\n",
       "        [71, 71, 71, 71, 71, 71, 71, 71, 71, 71],\n",
       "        [72, 72, 72, 72, 72, 72, 72, 72, 72, 72],\n",
       "        [73, 73, 73, 73, 73, 73, 73, 73, 73, 73],\n",
       "        [74, 74, 74, 74, 74, 74, 74, 74, 74, 74],\n",
       "        [75, 75, 75, 75, 75, 75, 75, 75, 75, 75],\n",
       "        [76, 76, 76, 76, 76, 76, 76, 76, 76, 76],\n",
       "        [77, 77, 77, 77, 77, 77, 77, 77, 77, 77],\n",
       "        [78, 78, 78, 78, 78, 78, 78, 78, 78, 78],\n",
       "        [79, 79, 79, 79, 79, 79, 79, 79, 79, 79],\n",
       "        [80, 80, 80, 80, 80, 80, 80, 80, 80, 80],\n",
       "        [81, 81, 81, 81, 81, 81, 81, 81, 81, 81],\n",
       "        [82, 82, 82, 82, 82, 82, 82, 82, 82, 82],\n",
       "        [83, 83, 83, 83, 83, 83, 83, 83, 83, 83],\n",
       "        [84, 84, 84, 84, 84, 84, 84, 84, 84, 84],\n",
       "        [85, 85, 85, 85, 85, 85, 85, 85, 85, 85],\n",
       "        [86, 86, 86, 86, 86, 86, 86, 86, 86, 86],\n",
       "        [87, 87, 87, 87, 87, 87, 87, 87, 87, 87],\n",
       "        [88, 88, 88, 88, 88, 88, 88, 88, 88, 88],\n",
       "        [89, 89, 89, 89, 89, 89, 89, 89, 89, 89],\n",
       "        [90, 90, 90, 90, 90, 90, 90, 90, 90, 90],\n",
       "        [91, 91, 91, 91, 91, 91, 91, 91, 91, 91],\n",
       "        [92, 92, 92, 92, 92, 92, 92, 92, 92, 92],\n",
       "        [93, 93, 93, 93, 93, 93, 93, 93, 93, 93],\n",
       "        [94, 94, 94, 94, 94, 94, 94, 94, 94, 94],\n",
       "        [95, 95, 95, 95, 95, 95, 95, 95, 95, 95],\n",
       "        [96, 96, 96, 96, 96, 96, 96, 96, 96, 96],\n",
       "        [97, 97, 97, 97, 97, 97, 97, 97, 97, 97],\n",
       "        [98, 98, 98, 98, 98, 98, 98, 98, 98, 98],\n",
       "        [99, 99, 99, 99, 99, 99, 99, 99, 99, 99]], dtype=uint32),\n",
       " b'ArrayUInt64': array([[ 0,  0,  0,  0,  0,  0,  0,  0,  0,  0],\n",
       "        [ 1,  1,  1,  1,  1,  1,  1,  1,  1,  1],\n",
       "        [ 2,  2,  2,  2,  2,  2,  2,  2,  2,  2],\n",
       "        [ 3,  3,  3,  3,  3,  3,  3,  3,  3,  3],\n",
       "        [ 4,  4,  4,  4,  4,  4,  4,  4,  4,  4],\n",
       "        [ 5,  5,  5,  5,  5,  5,  5,  5,  5,  5],\n",
       "        [ 6,  6,  6,  6,  6,  6,  6,  6,  6,  6],\n",
       "        [ 7,  7,  7,  7,  7,  7,  7,  7,  7,  7],\n",
       "        [ 8,  8,  8,  8,  8,  8,  8,  8,  8,  8],\n",
       "        [ 9,  9,  9,  9,  9,  9,  9,  9,  9,  9],\n",
       "        [10, 10, 10, 10, 10, 10, 10, 10, 10, 10],\n",
       "        [11, 11, 11, 11, 11, 11, 11, 11, 11, 11],\n",
       "        [12, 12, 12, 12, 12, 12, 12, 12, 12, 12],\n",
       "        [13, 13, 13, 13, 13, 13, 13, 13, 13, 13],\n",
       "        [14, 14, 14, 14, 14, 14, 14, 14, 14, 14],\n",
       "        [15, 15, 15, 15, 15, 15, 15, 15, 15, 15],\n",
       "        [16, 16, 16, 16, 16, 16, 16, 16, 16, 16],\n",
       "        [17, 17, 17, 17, 17, 17, 17, 17, 17, 17],\n",
       "        [18, 18, 18, 18, 18, 18, 18, 18, 18, 18],\n",
       "        [19, 19, 19, 19, 19, 19, 19, 19, 19, 19],\n",
       "        [20, 20, 20, 20, 20, 20, 20, 20, 20, 20],\n",
       "        [21, 21, 21, 21, 21, 21, 21, 21, 21, 21],\n",
       "        [22, 22, 22, 22, 22, 22, 22, 22, 22, 22],\n",
       "        [23, 23, 23, 23, 23, 23, 23, 23, 23, 23],\n",
       "        [24, 24, 24, 24, 24, 24, 24, 24, 24, 24],\n",
       "        [25, 25, 25, 25, 25, 25, 25, 25, 25, 25],\n",
       "        [26, 26, 26, 26, 26, 26, 26, 26, 26, 26],\n",
       "        [27, 27, 27, 27, 27, 27, 27, 27, 27, 27],\n",
       "        [28, 28, 28, 28, 28, 28, 28, 28, 28, 28],\n",
       "        [29, 29, 29, 29, 29, 29, 29, 29, 29, 29],\n",
       "        [30, 30, 30, 30, 30, 30, 30, 30, 30, 30],\n",
       "        [31, 31, 31, 31, 31, 31, 31, 31, 31, 31],\n",
       "        [32, 32, 32, 32, 32, 32, 32, 32, 32, 32],\n",
       "        [33, 33, 33, 33, 33, 33, 33, 33, 33, 33],\n",
       "        [34, 34, 34, 34, 34, 34, 34, 34, 34, 34],\n",
       "        [35, 35, 35, 35, 35, 35, 35, 35, 35, 35],\n",
       "        [36, 36, 36, 36, 36, 36, 36, 36, 36, 36],\n",
       "        [37, 37, 37, 37, 37, 37, 37, 37, 37, 37],\n",
       "        [38, 38, 38, 38, 38, 38, 38, 38, 38, 38],\n",
       "        [39, 39, 39, 39, 39, 39, 39, 39, 39, 39],\n",
       "        [40, 40, 40, 40, 40, 40, 40, 40, 40, 40],\n",
       "        [41, 41, 41, 41, 41, 41, 41, 41, 41, 41],\n",
       "        [42, 42, 42, 42, 42, 42, 42, 42, 42, 42],\n",
       "        [43, 43, 43, 43, 43, 43, 43, 43, 43, 43],\n",
       "        [44, 44, 44, 44, 44, 44, 44, 44, 44, 44],\n",
       "        [45, 45, 45, 45, 45, 45, 45, 45, 45, 45],\n",
       "        [46, 46, 46, 46, 46, 46, 46, 46, 46, 46],\n",
       "        [47, 47, 47, 47, 47, 47, 47, 47, 47, 47],\n",
       "        [48, 48, 48, 48, 48, 48, 48, 48, 48, 48],\n",
       "        [49, 49, 49, 49, 49, 49, 49, 49, 49, 49],\n",
       "        [50, 50, 50, 50, 50, 50, 50, 50, 50, 50],\n",
       "        [51, 51, 51, 51, 51, 51, 51, 51, 51, 51],\n",
       "        [52, 52, 52, 52, 52, 52, 52, 52, 52, 52],\n",
       "        [53, 53, 53, 53, 53, 53, 53, 53, 53, 53],\n",
       "        [54, 54, 54, 54, 54, 54, 54, 54, 54, 54],\n",
       "        [55, 55, 55, 55, 55, 55, 55, 55, 55, 55],\n",
       "        [56, 56, 56, 56, 56, 56, 56, 56, 56, 56],\n",
       "        [57, 57, 57, 57, 57, 57, 57, 57, 57, 57],\n",
       "        [58, 58, 58, 58, 58, 58, 58, 58, 58, 58],\n",
       "        [59, 59, 59, 59, 59, 59, 59, 59, 59, 59],\n",
       "        [60, 60, 60, 60, 60, 60, 60, 60, 60, 60],\n",
       "        [61, 61, 61, 61, 61, 61, 61, 61, 61, 61],\n",
       "        [62, 62, 62, 62, 62, 62, 62, 62, 62, 62],\n",
       "        [63, 63, 63, 63, 63, 63, 63, 63, 63, 63],\n",
       "        [64, 64, 64, 64, 64, 64, 64, 64, 64, 64],\n",
       "        [65, 65, 65, 65, 65, 65, 65, 65, 65, 65],\n",
       "        [66, 66, 66, 66, 66, 66, 66, 66, 66, 66],\n",
       "        [67, 67, 67, 67, 67, 67, 67, 67, 67, 67],\n",
       "        [68, 68, 68, 68, 68, 68, 68, 68, 68, 68],\n",
       "        [69, 69, 69, 69, 69, 69, 69, 69, 69, 69],\n",
       "        [70, 70, 70, 70, 70, 70, 70, 70, 70, 70],\n",
       "        [71, 71, 71, 71, 71, 71, 71, 71, 71, 71],\n",
       "        [72, 72, 72, 72, 72, 72, 72, 72, 72, 72],\n",
       "        [73, 73, 73, 73, 73, 73, 73, 73, 73, 73],\n",
       "        [74, 74, 74, 74, 74, 74, 74, 74, 74, 74],\n",
       "        [75, 75, 75, 75, 75, 75, 75, 75, 75, 75],\n",
       "        [76, 76, 76, 76, 76, 76, 76, 76, 76, 76],\n",
       "        [77, 77, 77, 77, 77, 77, 77, 77, 77, 77],\n",
       "        [78, 78, 78, 78, 78, 78, 78, 78, 78, 78],\n",
       "        [79, 79, 79, 79, 79, 79, 79, 79, 79, 79],\n",
       "        [80, 80, 80, 80, 80, 80, 80, 80, 80, 80],\n",
       "        [81, 81, 81, 81, 81, 81, 81, 81, 81, 81],\n",
       "        [82, 82, 82, 82, 82, 82, 82, 82, 82, 82],\n",
       "        [83, 83, 83, 83, 83, 83, 83, 83, 83, 83],\n",
       "        [84, 84, 84, 84, 84, 84, 84, 84, 84, 84],\n",
       "        [85, 85, 85, 85, 85, 85, 85, 85, 85, 85],\n",
       "        [86, 86, 86, 86, 86, 86, 86, 86, 86, 86],\n",
       "        [87, 87, 87, 87, 87, 87, 87, 87, 87, 87],\n",
       "        [88, 88, 88, 88, 88, 88, 88, 88, 88, 88],\n",
       "        [89, 89, 89, 89, 89, 89, 89, 89, 89, 89],\n",
       "        [90, 90, 90, 90, 90, 90, 90, 90, 90, 90],\n",
       "        [91, 91, 91, 91, 91, 91, 91, 91, 91, 91],\n",
       "        [92, 92, 92, 92, 92, 92, 92, 92, 92, 92],\n",
       "        [93, 93, 93, 93, 93, 93, 93, 93, 93, 93],\n",
       "        [94, 94, 94, 94, 94, 94, 94, 94, 94, 94],\n",
       "        [95, 95, 95, 95, 95, 95, 95, 95, 95, 95],\n",
       "        [96, 96, 96, 96, 96, 96, 96, 96, 96, 96],\n",
       "        [97, 97, 97, 97, 97, 97, 97, 97, 97, 97],\n",
       "        [98, 98, 98, 98, 98, 98, 98, 98, 98, 98],\n",
       "        [99, 99, 99, 99, 99, 99, 99, 99, 99, 99]], dtype=uint64),\n",
       " b'ArrayFloat32': array([[ 0.,  0.,  0.,  0.,  0.,  0.,  0.,  0.,  0.,  0.],\n",
       "        [ 1.,  1.,  1.,  1.,  1.,  1.,  1.,  1.,  1.,  1.],\n",
       "        [ 2.,  2.,  2.,  2.,  2.,  2.,  2.,  2.,  2.,  2.],\n",
       "        [ 3.,  3.,  3.,  3.,  3.,  3.,  3.,  3.,  3.,  3.],\n",
       "        [ 4.,  4.,  4.,  4.,  4.,  4.,  4.,  4.,  4.,  4.],\n",
       "        [ 5.,  5.,  5.,  5.,  5.,  5.,  5.,  5.,  5.,  5.],\n",
       "        [ 6.,  6.,  6.,  6.,  6.,  6.,  6.,  6.,  6.,  6.],\n",
       "        [ 7.,  7.,  7.,  7.,  7.,  7.,  7.,  7.,  7.,  7.],\n",
       "        [ 8.,  8.,  8.,  8.,  8.,  8.,  8.,  8.,  8.,  8.],\n",
       "        [ 9.,  9.,  9.,  9.,  9.,  9.,  9.,  9.,  9.,  9.],\n",
       "        [10., 10., 10., 10., 10., 10., 10., 10., 10., 10.],\n",
       "        [11., 11., 11., 11., 11., 11., 11., 11., 11., 11.],\n",
       "        [12., 12., 12., 12., 12., 12., 12., 12., 12., 12.],\n",
       "        [13., 13., 13., 13., 13., 13., 13., 13., 13., 13.],\n",
       "        [14., 14., 14., 14., 14., 14., 14., 14., 14., 14.],\n",
       "        [15., 15., 15., 15., 15., 15., 15., 15., 15., 15.],\n",
       "        [16., 16., 16., 16., 16., 16., 16., 16., 16., 16.],\n",
       "        [17., 17., 17., 17., 17., 17., 17., 17., 17., 17.],\n",
       "        [18., 18., 18., 18., 18., 18., 18., 18., 18., 18.],\n",
       "        [19., 19., 19., 19., 19., 19., 19., 19., 19., 19.],\n",
       "        [20., 20., 20., 20., 20., 20., 20., 20., 20., 20.],\n",
       "        [21., 21., 21., 21., 21., 21., 21., 21., 21., 21.],\n",
       "        [22., 22., 22., 22., 22., 22., 22., 22., 22., 22.],\n",
       "        [23., 23., 23., 23., 23., 23., 23., 23., 23., 23.],\n",
       "        [24., 24., 24., 24., 24., 24., 24., 24., 24., 24.],\n",
       "        [25., 25., 25., 25., 25., 25., 25., 25., 25., 25.],\n",
       "        [26., 26., 26., 26., 26., 26., 26., 26., 26., 26.],\n",
       "        [27., 27., 27., 27., 27., 27., 27., 27., 27., 27.],\n",
       "        [28., 28., 28., 28., 28., 28., 28., 28., 28., 28.],\n",
       "        [29., 29., 29., 29., 29., 29., 29., 29., 29., 29.],\n",
       "        [30., 30., 30., 30., 30., 30., 30., 30., 30., 30.],\n",
       "        [31., 31., 31., 31., 31., 31., 31., 31., 31., 31.],\n",
       "        [32., 32., 32., 32., 32., 32., 32., 32., 32., 32.],\n",
       "        [33., 33., 33., 33., 33., 33., 33., 33., 33., 33.],\n",
       "        [34., 34., 34., 34., 34., 34., 34., 34., 34., 34.],\n",
       "        [35., 35., 35., 35., 35., 35., 35., 35., 35., 35.],\n",
       "        [36., 36., 36., 36., 36., 36., 36., 36., 36., 36.],\n",
       "        [37., 37., 37., 37., 37., 37., 37., 37., 37., 37.],\n",
       "        [38., 38., 38., 38., 38., 38., 38., 38., 38., 38.],\n",
       "        [39., 39., 39., 39., 39., 39., 39., 39., 39., 39.],\n",
       "        [40., 40., 40., 40., 40., 40., 40., 40., 40., 40.],\n",
       "        [41., 41., 41., 41., 41., 41., 41., 41., 41., 41.],\n",
       "        [42., 42., 42., 42., 42., 42., 42., 42., 42., 42.],\n",
       "        [43., 43., 43., 43., 43., 43., 43., 43., 43., 43.],\n",
       "        [44., 44., 44., 44., 44., 44., 44., 44., 44., 44.],\n",
       "        [45., 45., 45., 45., 45., 45., 45., 45., 45., 45.],\n",
       "        [46., 46., 46., 46., 46., 46., 46., 46., 46., 46.],\n",
       "        [47., 47., 47., 47., 47., 47., 47., 47., 47., 47.],\n",
       "        [48., 48., 48., 48., 48., 48., 48., 48., 48., 48.],\n",
       "        [49., 49., 49., 49., 49., 49., 49., 49., 49., 49.],\n",
       "        [50., 50., 50., 50., 50., 50., 50., 50., 50., 50.],\n",
       "        [51., 51., 51., 51., 51., 51., 51., 51., 51., 51.],\n",
       "        [52., 52., 52., 52., 52., 52., 52., 52., 52., 52.],\n",
       "        [53., 53., 53., 53., 53., 53., 53., 53., 53., 53.],\n",
       "        [54., 54., 54., 54., 54., 54., 54., 54., 54., 54.],\n",
       "        [55., 55., 55., 55., 55., 55., 55., 55., 55., 55.],\n",
       "        [56., 56., 56., 56., 56., 56., 56., 56., 56., 56.],\n",
       "        [57., 57., 57., 57., 57., 57., 57., 57., 57., 57.],\n",
       "        [58., 58., 58., 58., 58., 58., 58., 58., 58., 58.],\n",
       "        [59., 59., 59., 59., 59., 59., 59., 59., 59., 59.],\n",
       "        [60., 60., 60., 60., 60., 60., 60., 60., 60., 60.],\n",
       "        [61., 61., 61., 61., 61., 61., 61., 61., 61., 61.],\n",
       "        [62., 62., 62., 62., 62., 62., 62., 62., 62., 62.],\n",
       "        [63., 63., 63., 63., 63., 63., 63., 63., 63., 63.],\n",
       "        [64., 64., 64., 64., 64., 64., 64., 64., 64., 64.],\n",
       "        [65., 65., 65., 65., 65., 65., 65., 65., 65., 65.],\n",
       "        [66., 66., 66., 66., 66., 66., 66., 66., 66., 66.],\n",
       "        [67., 67., 67., 67., 67., 67., 67., 67., 67., 67.],\n",
       "        [68., 68., 68., 68., 68., 68., 68., 68., 68., 68.],\n",
       "        [69., 69., 69., 69., 69., 69., 69., 69., 69., 69.],\n",
       "        [70., 70., 70., 70., 70., 70., 70., 70., 70., 70.],\n",
       "        [71., 71., 71., 71., 71., 71., 71., 71., 71., 71.],\n",
       "        [72., 72., 72., 72., 72., 72., 72., 72., 72., 72.],\n",
       "        [73., 73., 73., 73., 73., 73., 73., 73., 73., 73.],\n",
       "        [74., 74., 74., 74., 74., 74., 74., 74., 74., 74.],\n",
       "        [75., 75., 75., 75., 75., 75., 75., 75., 75., 75.],\n",
       "        [76., 76., 76., 76., 76., 76., 76., 76., 76., 76.],\n",
       "        [77., 77., 77., 77., 77., 77., 77., 77., 77., 77.],\n",
       "        [78., 78., 78., 78., 78., 78., 78., 78., 78., 78.],\n",
       "        [79., 79., 79., 79., 79., 79., 79., 79., 79., 79.],\n",
       "        [80., 80., 80., 80., 80., 80., 80., 80., 80., 80.],\n",
       "        [81., 81., 81., 81., 81., 81., 81., 81., 81., 81.],\n",
       "        [82., 82., 82., 82., 82., 82., 82., 82., 82., 82.],\n",
       "        [83., 83., 83., 83., 83., 83., 83., 83., 83., 83.],\n",
       "        [84., 84., 84., 84., 84., 84., 84., 84., 84., 84.],\n",
       "        [85., 85., 85., 85., 85., 85., 85., 85., 85., 85.],\n",
       "        [86., 86., 86., 86., 86., 86., 86., 86., 86., 86.],\n",
       "        [87., 87., 87., 87., 87., 87., 87., 87., 87., 87.],\n",
       "        [88., 88., 88., 88., 88., 88., 88., 88., 88., 88.],\n",
       "        [89., 89., 89., 89., 89., 89., 89., 89., 89., 89.],\n",
       "        [90., 90., 90., 90., 90., 90., 90., 90., 90., 90.],\n",
       "        [91., 91., 91., 91., 91., 91., 91., 91., 91., 91.],\n",
       "        [92., 92., 92., 92., 92., 92., 92., 92., 92., 92.],\n",
       "        [93., 93., 93., 93., 93., 93., 93., 93., 93., 93.],\n",
       "        [94., 94., 94., 94., 94., 94., 94., 94., 94., 94.],\n",
       "        [95., 95., 95., 95., 95., 95., 95., 95., 95., 95.],\n",
       "        [96., 96., 96., 96., 96., 96., 96., 96., 96., 96.],\n",
       "        [97., 97., 97., 97., 97., 97., 97., 97., 97., 97.],\n",
       "        [98., 98., 98., 98., 98., 98., 98., 98., 98., 98.],\n",
       "        [99., 99., 99., 99., 99., 99., 99., 99., 99., 99.]], dtype=float32),\n",
       " b'ArrayFloat64': array([[ 0.,  0.,  0.,  0.,  0.,  0.,  0.,  0.,  0.,  0.],\n",
       "        [ 1.,  1.,  1.,  1.,  1.,  1.,  1.,  1.,  1.,  1.],\n",
       "        [ 2.,  2.,  2.,  2.,  2.,  2.,  2.,  2.,  2.,  2.],\n",
       "        [ 3.,  3.,  3.,  3.,  3.,  3.,  3.,  3.,  3.,  3.],\n",
       "        [ 4.,  4.,  4.,  4.,  4.,  4.,  4.,  4.,  4.,  4.],\n",
       "        [ 5.,  5.,  5.,  5.,  5.,  5.,  5.,  5.,  5.,  5.],\n",
       "        [ 6.,  6.,  6.,  6.,  6.,  6.,  6.,  6.,  6.,  6.],\n",
       "        [ 7.,  7.,  7.,  7.,  7.,  7.,  7.,  7.,  7.,  7.],\n",
       "        [ 8.,  8.,  8.,  8.,  8.,  8.,  8.,  8.,  8.,  8.],\n",
       "        [ 9.,  9.,  9.,  9.,  9.,  9.,  9.,  9.,  9.,  9.],\n",
       "        [10., 10., 10., 10., 10., 10., 10., 10., 10., 10.],\n",
       "        [11., 11., 11., 11., 11., 11., 11., 11., 11., 11.],\n",
       "        [12., 12., 12., 12., 12., 12., 12., 12., 12., 12.],\n",
       "        [13., 13., 13., 13., 13., 13., 13., 13., 13., 13.],\n",
       "        [14., 14., 14., 14., 14., 14., 14., 14., 14., 14.],\n",
       "        [15., 15., 15., 15., 15., 15., 15., 15., 15., 15.],\n",
       "        [16., 16., 16., 16., 16., 16., 16., 16., 16., 16.],\n",
       "        [17., 17., 17., 17., 17., 17., 17., 17., 17., 17.],\n",
       "        [18., 18., 18., 18., 18., 18., 18., 18., 18., 18.],\n",
       "        [19., 19., 19., 19., 19., 19., 19., 19., 19., 19.],\n",
       "        [20., 20., 20., 20., 20., 20., 20., 20., 20., 20.],\n",
       "        [21., 21., 21., 21., 21., 21., 21., 21., 21., 21.],\n",
       "        [22., 22., 22., 22., 22., 22., 22., 22., 22., 22.],\n",
       "        [23., 23., 23., 23., 23., 23., 23., 23., 23., 23.],\n",
       "        [24., 24., 24., 24., 24., 24., 24., 24., 24., 24.],\n",
       "        [25., 25., 25., 25., 25., 25., 25., 25., 25., 25.],\n",
       "        [26., 26., 26., 26., 26., 26., 26., 26., 26., 26.],\n",
       "        [27., 27., 27., 27., 27., 27., 27., 27., 27., 27.],\n",
       "        [28., 28., 28., 28., 28., 28., 28., 28., 28., 28.],\n",
       "        [29., 29., 29., 29., 29., 29., 29., 29., 29., 29.],\n",
       "        [30., 30., 30., 30., 30., 30., 30., 30., 30., 30.],\n",
       "        [31., 31., 31., 31., 31., 31., 31., 31., 31., 31.],\n",
       "        [32., 32., 32., 32., 32., 32., 32., 32., 32., 32.],\n",
       "        [33., 33., 33., 33., 33., 33., 33., 33., 33., 33.],\n",
       "        [34., 34., 34., 34., 34., 34., 34., 34., 34., 34.],\n",
       "        [35., 35., 35., 35., 35., 35., 35., 35., 35., 35.],\n",
       "        [36., 36., 36., 36., 36., 36., 36., 36., 36., 36.],\n",
       "        [37., 37., 37., 37., 37., 37., 37., 37., 37., 37.],\n",
       "        [38., 38., 38., 38., 38., 38., 38., 38., 38., 38.],\n",
       "        [39., 39., 39., 39., 39., 39., 39., 39., 39., 39.],\n",
       "        [40., 40., 40., 40., 40., 40., 40., 40., 40., 40.],\n",
       "        [41., 41., 41., 41., 41., 41., 41., 41., 41., 41.],\n",
       "        [42., 42., 42., 42., 42., 42., 42., 42., 42., 42.],\n",
       "        [43., 43., 43., 43., 43., 43., 43., 43., 43., 43.],\n",
       "        [44., 44., 44., 44., 44., 44., 44., 44., 44., 44.],\n",
       "        [45., 45., 45., 45., 45., 45., 45., 45., 45., 45.],\n",
       "        [46., 46., 46., 46., 46., 46., 46., 46., 46., 46.],\n",
       "        [47., 47., 47., 47., 47., 47., 47., 47., 47., 47.],\n",
       "        [48., 48., 48., 48., 48., 48., 48., 48., 48., 48.],\n",
       "        [49., 49., 49., 49., 49., 49., 49., 49., 49., 49.],\n",
       "        [50., 50., 50., 50., 50., 50., 50., 50., 50., 50.],\n",
       "        [51., 51., 51., 51., 51., 51., 51., 51., 51., 51.],\n",
       "        [52., 52., 52., 52., 52., 52., 52., 52., 52., 52.],\n",
       "        [53., 53., 53., 53., 53., 53., 53., 53., 53., 53.],\n",
       "        [54., 54., 54., 54., 54., 54., 54., 54., 54., 54.],\n",
       "        [55., 55., 55., 55., 55., 55., 55., 55., 55., 55.],\n",
       "        [56., 56., 56., 56., 56., 56., 56., 56., 56., 56.],\n",
       "        [57., 57., 57., 57., 57., 57., 57., 57., 57., 57.],\n",
       "        [58., 58., 58., 58., 58., 58., 58., 58., 58., 58.],\n",
       "        [59., 59., 59., 59., 59., 59., 59., 59., 59., 59.],\n",
       "        [60., 60., 60., 60., 60., 60., 60., 60., 60., 60.],\n",
       "        [61., 61., 61., 61., 61., 61., 61., 61., 61., 61.],\n",
       "        [62., 62., 62., 62., 62., 62., 62., 62., 62., 62.],\n",
       "        [63., 63., 63., 63., 63., 63., 63., 63., 63., 63.],\n",
       "        [64., 64., 64., 64., 64., 64., 64., 64., 64., 64.],\n",
       "        [65., 65., 65., 65., 65., 65., 65., 65., 65., 65.],\n",
       "        [66., 66., 66., 66., 66., 66., 66., 66., 66., 66.],\n",
       "        [67., 67., 67., 67., 67., 67., 67., 67., 67., 67.],\n",
       "        [68., 68., 68., 68., 68., 68., 68., 68., 68., 68.],\n",
       "        [69., 69., 69., 69., 69., 69., 69., 69., 69., 69.],\n",
       "        [70., 70., 70., 70., 70., 70., 70., 70., 70., 70.],\n",
       "        [71., 71., 71., 71., 71., 71., 71., 71., 71., 71.],\n",
       "        [72., 72., 72., 72., 72., 72., 72., 72., 72., 72.],\n",
       "        [73., 73., 73., 73., 73., 73., 73., 73., 73., 73.],\n",
       "        [74., 74., 74., 74., 74., 74., 74., 74., 74., 74.],\n",
       "        [75., 75., 75., 75., 75., 75., 75., 75., 75., 75.],\n",
       "        [76., 76., 76., 76., 76., 76., 76., 76., 76., 76.],\n",
       "        [77., 77., 77., 77., 77., 77., 77., 77., 77., 77.],\n",
       "        [78., 78., 78., 78., 78., 78., 78., 78., 78., 78.],\n",
       "        [79., 79., 79., 79., 79., 79., 79., 79., 79., 79.],\n",
       "        [80., 80., 80., 80., 80., 80., 80., 80., 80., 80.],\n",
       "        [81., 81., 81., 81., 81., 81., 81., 81., 81., 81.],\n",
       "        [82., 82., 82., 82., 82., 82., 82., 82., 82., 82.],\n",
       "        [83., 83., 83., 83., 83., 83., 83., 83., 83., 83.],\n",
       "        [84., 84., 84., 84., 84., 84., 84., 84., 84., 84.],\n",
       "        [85., 85., 85., 85., 85., 85., 85., 85., 85., 85.],\n",
       "        [86., 86., 86., 86., 86., 86., 86., 86., 86., 86.],\n",
       "        [87., 87., 87., 87., 87., 87., 87., 87., 87., 87.],\n",
       "        [88., 88., 88., 88., 88., 88., 88., 88., 88., 88.],\n",
       "        [89., 89., 89., 89., 89., 89., 89., 89., 89., 89.],\n",
       "        [90., 90., 90., 90., 90., 90., 90., 90., 90., 90.],\n",
       "        [91., 91., 91., 91., 91., 91., 91., 91., 91., 91.],\n",
       "        [92., 92., 92., 92., 92., 92., 92., 92., 92., 92.],\n",
       "        [93., 93., 93., 93., 93., 93., 93., 93., 93., 93.],\n",
       "        [94., 94., 94., 94., 94., 94., 94., 94., 94., 94.],\n",
       "        [95., 95., 95., 95., 95., 95., 95., 95., 95., 95.],\n",
       "        [96., 96., 96., 96., 96., 96., 96., 96., 96., 96.],\n",
       "        [97., 97., 97., 97., 97., 97., 97., 97., 97., 97.],\n",
       "        [98., 98., 98., 98., 98., 98., 98., 98., 98., 98.],\n",
       "        [99., 99., 99., 99., 99., 99., 99., 99., 99., 99.]]),\n",
       " b'N': array([0, 1, 2, 3, 4, 5, 6, 7, 8, 9, 0, 1, 2, 3, 4, 5, 6, 7, 8, 9, 0, 1,\n",
       "        2, 3, 4, 5, 6, 7, 8, 9, 0, 1, 2, 3, 4, 5, 6, 7, 8, 9, 0, 1, 2, 3,\n",
       "        4, 5, 6, 7, 8, 9, 0, 1, 2, 3, 4, 5, 6, 7, 8, 9, 0, 1, 2, 3, 4, 5,\n",
       "        6, 7, 8, 9, 0, 1, 2, 3, 4, 5, 6, 7, 8, 9, 0, 1, 2, 3, 4, 5, 6, 7,\n",
       "        8, 9, 0, 1, 2, 3, 4, 5, 6, 7, 8, 9], dtype=int32),\n",
       " b'SliceInt32': <JaggedArray [[] [1] [2 2] ... [97 97 97 ... 97 97 97] [98 98 98 ... 98 98 98] [99 99 99 ... 99 99 99]] at 0x76b76f5f1c50>,\n",
       " b'SliceInt64': <JaggedArray [[] [1] [2 2] ... [97 97 97 ... 97 97 97] [98 98 98 ... 98 98 98] [99 99 99 ... 99 99 99]] at 0x76b76f5f1a90>,\n",
       " b'SliceUInt32': <JaggedArray [[] [1] [2 2] ... [97 97 97 ... 97 97 97] [98 98 98 ... 98 98 98] [99 99 99 ... 99 99 99]] at 0x76b76f5f1c88>,\n",
       " b'SliceUInt64': <JaggedArray [[] [1] [2 2] ... [97 97 97 ... 97 97 97] [98 98 98 ... 98 98 98] [99 99 99 ... 99 99 99]] at 0x76b76f5f1cf8>,\n",
       " b'SliceFloat32': <JaggedArray [[] [1.0] [2.0 2.0] ... [97.0 97.0 97.0 ... 97.0 97.0 97.0] [98.0 98.0 98.0 ... 98.0 98.0 98.0] [99.0 99.0 99.0 ... 99.0 99.0 99.0]] at 0x76b76f5f1d30>,\n",
       " b'SliceFloat64': <JaggedArray [[] [1.0] [2.0 2.0] ... [97.0 97.0 97.0 ... 97.0 97.0 97.0] [98.0 98.0 98.0 ... 98.0 98.0 98.0] [99.0 99.0 99.0 ... 99.0 99.0 99.0]] at 0x76b76f5f1ba8>}"
      ]
     },
     "execution_count": 26,
     "metadata": {},
     "output_type": "execute_result"
    }
   ],
   "source": [
    "tree.arrays()"
   ]
  },
  {
   "cell_type": "markdown",
   "metadata": {},
   "source": [
    "# Array-reading parameters\n",
    "\n",
    "The complete list of array-reading parameters is given in the [TTree](http://uproot.readthedocs.io/en/latest/ttree-handling.html#uproot-tree-ttreemethods) reference ([e.g. this link](http://uproot.readthedocs.io/en/latest/ttree-handling.html#uproot.tree.TTreeMethods.arrays)), but here's a guide to what you should know.\n",
    "\n",
    "The **branches** parameter lets you specify which [TBranch](http://uproot.readthedocs.io/en/latest/ttree-handling.html#uproot-tree-tbranchmethods) data to load and optionally, an interpretation other than the default.\n",
    "\n",
    "- If it's `None` or unspecified, you'll get all arrays.\n",
    "- If it's a single string, you'll either get the array you've named or all the arrays that match a glob pattern (if it includes `*`, `?`, or `[...]`) or full regular expression (if it starts and ends with slashes with optional flags `/pattern/i`).\n",
    "- If it's a list of strings, you'll get all the arrays you've named or specified by pattern-matching.\n",
    "- If it's a `dict` from name to [Interpretation](http://uproot.readthedocs.io/en/latest/interpretation.html), you'll read the requested arrays in the specified ways.\n",
    "- There's also a functional form that gives more control at the cost of more complexity.\n",
    "\n",
    "An [Interpretation](http://uproot.readthedocs.io/en/latest/interpretation.html) lets you view the bytes of the ROOT file in different ways. Naturally, most of these are non-sensical:"
   ]
  },
  {
   "cell_type": "code",
   "execution_count": 27,
   "metadata": {},
   "outputs": [
    {
     "data": {
      "text/plain": [
       "{b'Float64': array([ 0.,  1.,  2.,  3.,  4.,  5.,  6.,  7.,  8.,  9., 10., 11., 12.,\n",
       "        13., 14., 15., 16., 17., 18., 19., 20., 21., 22., 23., 24., 25.,\n",
       "        26., 27., 28., 29., 30., 31., 32., 33., 34., 35., 36., 37., 38.,\n",
       "        39., 40., 41., 42., 43., 44., 45., 46., 47., 48., 49., 50., 51.,\n",
       "        52., 53., 54., 55., 56., 57., 58., 59., 60., 61., 62., 63., 64.,\n",
       "        65., 66., 67., 68., 69., 70., 71., 72., 73., 74., 75., 76., 77.,\n",
       "        78., 79., 80., 81., 82., 83., 84., 85., 86., 87., 88., 89., 90.,\n",
       "        91., 92., 93., 94., 95., 96., 97., 98., 99.])}"
      ]
     },
     "execution_count": 27,
     "metadata": {},
     "output_type": "execute_result"
    }
   ],
   "source": [
    "# this array contains big-endian, 8-byte floating point numbers\n",
    "tree.arrays(\"Float64\")"
   ]
  },
  {
   "cell_type": "code",
   "execution_count": 28,
   "metadata": {},
   "outputs": [
    {
     "data": {
      "text/plain": [
       "{b'Float32': array([    0, 32831,    64, 16448, 32832, 41024, 49216, 57408,    65,\n",
       "         4161,  8257, 12353, 16449, 20545, 24641, 28737, 32833, 34881,\n",
       "        36929, 38977, 41025, 43073, 45121, 47169, 49217, 51265, 53313,\n",
       "        55361, 57409, 59457, 61505, 63553,    66,  1090,  2114,  3138,\n",
       "         4162,  5186,  6210,  7234,  8258,  9282, 10306, 11330, 12354,\n",
       "        13378, 14402, 15426, 16450, 17474, 18498, 19522, 20546, 21570,\n",
       "        22594, 23618, 24642, 25666, 26690, 27714, 28738, 29762, 30786,\n",
       "        31810, 32834, 33346, 33858, 34370, 34882, 35394, 35906, 36418,\n",
       "        36930, 37442, 37954, 38466, 38978, 39490, 40002, 40514, 41026,\n",
       "        41538, 42050, 42562, 43074, 43586, 44098, 44610, 45122, 45634,\n",
       "        46146, 46658, 47170, 47682, 48194, 48706, 49218, 49730, 50242,\n",
       "        50754], dtype=int32)}"
      ]
     },
     "execution_count": 28,
     "metadata": {},
     "output_type": "execute_result"
    }
   ],
   "source": [
    "# but we could try reading them as little-endian, 4-byte integers (non-sensically)\n",
    "tree.arrays({\"Float32\": uproot.asdtype(\"<i4\")})"
   ]
  },
  {
   "cell_type": "markdown",
   "metadata": {},
   "source": [
    "Some reinterpretations are useful, though:"
   ]
  },
  {
   "cell_type": "code",
   "execution_count": 29,
   "metadata": {},
   "outputs": [
    {
     "data": {
      "text/plain": [
       "{b'Float64': array([[[ 0.,  1.,  2.,  3.,  4.],\n",
       "         [ 5.,  6.,  7.,  8.,  9.],\n",
       "         [10., 11., 12., 13., 14.],\n",
       "         [15., 16., 17., 18., 19.],\n",
       "         [20., 21., 22., 23., 24.]],\n",
       " \n",
       "        [[25., 26., 27., 28., 29.],\n",
       "         [30., 31., 32., 33., 34.],\n",
       "         [35., 36., 37., 38., 39.],\n",
       "         [40., 41., 42., 43., 44.],\n",
       "         [45., 46., 47., 48., 49.]],\n",
       " \n",
       "        [[50., 51., 52., 53., 54.],\n",
       "         [55., 56., 57., 58., 59.],\n",
       "         [60., 61., 62., 63., 64.],\n",
       "         [65., 66., 67., 68., 69.],\n",
       "         [70., 71., 72., 73., 74.]],\n",
       " \n",
       "        [[75., 76., 77., 78., 79.],\n",
       "         [80., 81., 82., 83., 84.],\n",
       "         [85., 86., 87., 88., 89.],\n",
       "         [90., 91., 92., 93., 94.],\n",
       "         [95., 96., 97., 98., 99.]]])}"
      ]
     },
     "execution_count": 29,
     "metadata": {},
     "output_type": "execute_result"
    }
   ],
   "source": [
    "import numpy\n",
    "tree.arrays({\"Float64\": uproot.asdtype(numpy.dtype((\">f8\", (5, 5))))})"
   ]
  },
  {
   "cell_type": "markdown",
   "metadata": {},
   "source": [
    "In particular, replacing `asdtype` with `asarray` lets you instruct uproot to fill an existing array, so that you can manage your own memory:"
   ]
  },
  {
   "cell_type": "code",
   "execution_count": 30,
   "metadata": {},
   "outputs": [
    {
     "data": {
      "text/plain": [
       "array([0., 0., 0., 0., 0., 0., 0., 0., 0., 0., 0., 0., 0., 0., 0., 0., 0.,\n",
       "       0., 0., 0., 0., 0., 0., 0., 0., 0., 0., 0., 0., 0., 0., 0., 0., 0.,\n",
       "       0., 0., 0., 0., 0., 0., 0., 0., 0., 0., 0., 0., 0., 0., 0., 0., 0.,\n",
       "       0., 0., 0., 0., 0., 0., 0., 0., 0., 0., 0., 0., 0., 0., 0., 0., 0.,\n",
       "       0., 0., 0., 0., 0., 0., 0., 0., 0., 0., 0., 0., 0., 0., 0., 0., 0.,\n",
       "       0., 0., 0., 0., 0., 0., 0., 0., 0., 0., 0., 0., 0., 0., 0., 0., 0.,\n",
       "       0., 0., 0., 0., 0., 0., 0., 0., 0., 0., 0., 0., 0., 0., 0., 0., 0.,\n",
       "       0., 0., 0., 0., 0., 0., 0., 0., 0., 0., 0., 0., 0., 0., 0., 0., 0.,\n",
       "       0., 0., 0., 0., 0., 0., 0., 0., 0., 0., 0., 0., 0., 0., 0., 0., 0.,\n",
       "       0., 0., 0., 0., 0., 0., 0., 0., 0., 0., 0., 0., 0., 0., 0., 0., 0.,\n",
       "       0., 0., 0., 0., 0., 0., 0., 0., 0., 0., 0., 0., 0., 0., 0., 0., 0.,\n",
       "       0., 0., 0., 0., 0., 0., 0., 0., 0., 0., 0., 0., 0.])"
      ]
     },
     "execution_count": 30,
     "metadata": {},
     "output_type": "execute_result"
    }
   ],
   "source": [
    "import numpy\n",
    "myarray = numpy.zeros(200)   # allocate 200 zeros\n",
    "myarray"
   ]
  },
  {
   "cell_type": "code",
   "execution_count": 31,
   "metadata": {},
   "outputs": [
    {
     "data": {
      "text/plain": [
       "array([ 0.,  1.,  2.,  3.,  4.,  5.,  6.,  7.,  8.,  9., 10., 11., 12.,\n",
       "       13., 14., 15., 16., 17., 18., 19., 20., 21., 22., 23., 24., 25.,\n",
       "       26., 27., 28., 29., 30., 31., 32., 33., 34., 35., 36., 37., 38.,\n",
       "       39., 40., 41., 42., 43., 44., 45., 46., 47., 48., 49., 50., 51.,\n",
       "       52., 53., 54., 55., 56., 57., 58., 59., 60., 61., 62., 63., 64.,\n",
       "       65., 66., 67., 68., 69., 70., 71., 72., 73., 74., 75., 76., 77.,\n",
       "       78., 79., 80., 81., 82., 83., 84., 85., 86., 87., 88., 89., 90.,\n",
       "       91., 92., 93., 94., 95., 96., 97., 98., 99.,  0.,  0.,  0.,  0.,\n",
       "        0.,  0.,  0.,  0.,  0.,  0.,  0.,  0.,  0.,  0.,  0.,  0.,  0.,\n",
       "        0.,  0.,  0.,  0.,  0.,  0.,  0.,  0.,  0.,  0.,  0.,  0.,  0.,\n",
       "        0.,  0.,  0.,  0.,  0.,  0.,  0.,  0.,  0.,  0.,  0.,  0.,  0.,\n",
       "        0.,  0.,  0.,  0.,  0.,  0.,  0.,  0.,  0.,  0.,  0.,  0.,  0.,\n",
       "        0.,  0.,  0.,  0.,  0.,  0.,  0.,  0.,  0.,  0.,  0.,  0.,  0.,\n",
       "        0.,  0.,  0.,  0.,  0.,  0.,  0.,  0.,  0.,  0.,  0.,  0.,  0.,\n",
       "        0.,  0.,  0.,  0.,  0.,  0.,  0.,  0.,  0.,  0.,  0.,  0.,  0.,\n",
       "        0.,  0.,  0.,  0.,  0.])"
      ]
     },
     "execution_count": 31,
     "metadata": {},
     "output_type": "execute_result"
    }
   ],
   "source": [
    "tree.arrays({\"Float64\": uproot.asarray(\">f8\", myarray)})\n",
    "myarray"
   ]
  },
  {
   "cell_type": "markdown",
   "metadata": {},
   "source": [
    "The **outputtype** parameter lets you specify the container for your arrays. By default, you get a `dict`, but that wouldn't be very useful in a `for` loop:"
   ]
  },
  {
   "cell_type": "code",
   "execution_count": 32,
   "metadata": {},
   "outputs": [
    {
     "name": "stdout",
     "output_type": "stream",
     "text": [
      "b'Float64' b'Str' b'ArrayInt32'\n"
     ]
    }
   ],
   "source": [
    "for x, y, z in tree.iterate([\"Float64\", \"Str\", \"ArrayInt32\"]):\n",
    "    print(x, y, z)"
   ]
  },
  {
   "cell_type": "markdown",
   "metadata": {},
   "source": [
    "A `for` loop over a `dict` just iterates over the names. We've read in three arrays, thrown away the arrays, and returned the names. In this case, we really wanted a tuple, which drops the names (normally needed for context), but preserves the order and unpacks into a given set of variables:"
   ]
  },
  {
   "cell_type": "code",
   "execution_count": 33,
   "metadata": {},
   "outputs": [
    {
     "name": "stdout",
     "output_type": "stream",
     "text": [
      "[ 0.  1.  2.  3.  4.  5.  6.  7.  8.  9. 10. 11. 12. 13. 14. 15. 16. 17.\n",
      " 18. 19. 20. 21. 22. 23. 24. 25. 26. 27. 28. 29. 30. 31. 32. 33. 34. 35.\n",
      " 36. 37. 38. 39. 40. 41. 42. 43. 44. 45. 46. 47. 48. 49. 50. 51. 52. 53.\n",
      " 54. 55. 56. 57. 58. 59. 60. 61. 62. 63. 64. 65. 66. 67. 68. 69. 70. 71.\n",
      " 72. 73. 74. 75. 76. 77. 78. 79. 80. 81. 82. 83. 84. 85. 86. 87. 88. 89.\n",
      " 90. 91. 92. 93. 94. 95. 96. 97. 98. 99.] [b'evt-000' b'evt-001' b'evt-002' ... b'evt-097' b'evt-098' b'evt-099'] [[ 0  0  0  0  0  0  0  0  0  0]\n",
      " [ 1  1  1  1  1  1  1  1  1  1]\n",
      " [ 2  2  2  2  2  2  2  2  2  2]\n",
      " [ 3  3  3  3  3  3  3  3  3  3]\n",
      " [ 4  4  4  4  4  4  4  4  4  4]\n",
      " [ 5  5  5  5  5  5  5  5  5  5]\n",
      " [ 6  6  6  6  6  6  6  6  6  6]\n",
      " [ 7  7  7  7  7  7  7  7  7  7]\n",
      " [ 8  8  8  8  8  8  8  8  8  8]\n",
      " [ 9  9  9  9  9  9  9  9  9  9]\n",
      " [10 10 10 10 10 10 10 10 10 10]\n",
      " [11 11 11 11 11 11 11 11 11 11]\n",
      " [12 12 12 12 12 12 12 12 12 12]\n",
      " [13 13 13 13 13 13 13 13 13 13]\n",
      " [14 14 14 14 14 14 14 14 14 14]\n",
      " [15 15 15 15 15 15 15 15 15 15]\n",
      " [16 16 16 16 16 16 16 16 16 16]\n",
      " [17 17 17 17 17 17 17 17 17 17]\n",
      " [18 18 18 18 18 18 18 18 18 18]\n",
      " [19 19 19 19 19 19 19 19 19 19]\n",
      " [20 20 20 20 20 20 20 20 20 20]\n",
      " [21 21 21 21 21 21 21 21 21 21]\n",
      " [22 22 22 22 22 22 22 22 22 22]\n",
      " [23 23 23 23 23 23 23 23 23 23]\n",
      " [24 24 24 24 24 24 24 24 24 24]\n",
      " [25 25 25 25 25 25 25 25 25 25]\n",
      " [26 26 26 26 26 26 26 26 26 26]\n",
      " [27 27 27 27 27 27 27 27 27 27]\n",
      " [28 28 28 28 28 28 28 28 28 28]\n",
      " [29 29 29 29 29 29 29 29 29 29]\n",
      " [30 30 30 30 30 30 30 30 30 30]\n",
      " [31 31 31 31 31 31 31 31 31 31]\n",
      " [32 32 32 32 32 32 32 32 32 32]\n",
      " [33 33 33 33 33 33 33 33 33 33]\n",
      " [34 34 34 34 34 34 34 34 34 34]\n",
      " [35 35 35 35 35 35 35 35 35 35]\n",
      " [36 36 36 36 36 36 36 36 36 36]\n",
      " [37 37 37 37 37 37 37 37 37 37]\n",
      " [38 38 38 38 38 38 38 38 38 38]\n",
      " [39 39 39 39 39 39 39 39 39 39]\n",
      " [40 40 40 40 40 40 40 40 40 40]\n",
      " [41 41 41 41 41 41 41 41 41 41]\n",
      " [42 42 42 42 42 42 42 42 42 42]\n",
      " [43 43 43 43 43 43 43 43 43 43]\n",
      " [44 44 44 44 44 44 44 44 44 44]\n",
      " [45 45 45 45 45 45 45 45 45 45]\n",
      " [46 46 46 46 46 46 46 46 46 46]\n",
      " [47 47 47 47 47 47 47 47 47 47]\n",
      " [48 48 48 48 48 48 48 48 48 48]\n",
      " [49 49 49 49 49 49 49 49 49 49]\n",
      " [50 50 50 50 50 50 50 50 50 50]\n",
      " [51 51 51 51 51 51 51 51 51 51]\n",
      " [52 52 52 52 52 52 52 52 52 52]\n",
      " [53 53 53 53 53 53 53 53 53 53]\n",
      " [54 54 54 54 54 54 54 54 54 54]\n",
      " [55 55 55 55 55 55 55 55 55 55]\n",
      " [56 56 56 56 56 56 56 56 56 56]\n",
      " [57 57 57 57 57 57 57 57 57 57]\n",
      " [58 58 58 58 58 58 58 58 58 58]\n",
      " [59 59 59 59 59 59 59 59 59 59]\n",
      " [60 60 60 60 60 60 60 60 60 60]\n",
      " [61 61 61 61 61 61 61 61 61 61]\n",
      " [62 62 62 62 62 62 62 62 62 62]\n",
      " [63 63 63 63 63 63 63 63 63 63]\n",
      " [64 64 64 64 64 64 64 64 64 64]\n",
      " [65 65 65 65 65 65 65 65 65 65]\n",
      " [66 66 66 66 66 66 66 66 66 66]\n",
      " [67 67 67 67 67 67 67 67 67 67]\n",
      " [68 68 68 68 68 68 68 68 68 68]\n",
      " [69 69 69 69 69 69 69 69 69 69]\n",
      " [70 70 70 70 70 70 70 70 70 70]\n",
      " [71 71 71 71 71 71 71 71 71 71]\n",
      " [72 72 72 72 72 72 72 72 72 72]\n",
      " [73 73 73 73 73 73 73 73 73 73]\n",
      " [74 74 74 74 74 74 74 74 74 74]\n",
      " [75 75 75 75 75 75 75 75 75 75]\n",
      " [76 76 76 76 76 76 76 76 76 76]\n",
      " [77 77 77 77 77 77 77 77 77 77]\n",
      " [78 78 78 78 78 78 78 78 78 78]\n",
      " [79 79 79 79 79 79 79 79 79 79]\n",
      " [80 80 80 80 80 80 80 80 80 80]\n",
      " [81 81 81 81 81 81 81 81 81 81]\n",
      " [82 82 82 82 82 82 82 82 82 82]\n",
      " [83 83 83 83 83 83 83 83 83 83]\n",
      " [84 84 84 84 84 84 84 84 84 84]\n",
      " [85 85 85 85 85 85 85 85 85 85]\n",
      " [86 86 86 86 86 86 86 86 86 86]\n",
      " [87 87 87 87 87 87 87 87 87 87]\n",
      " [88 88 88 88 88 88 88 88 88 88]\n",
      " [89 89 89 89 89 89 89 89 89 89]\n",
      " [90 90 90 90 90 90 90 90 90 90]\n",
      " [91 91 91 91 91 91 91 91 91 91]\n",
      " [92 92 92 92 92 92 92 92 92 92]\n",
      " [93 93 93 93 93 93 93 93 93 93]\n",
      " [94 94 94 94 94 94 94 94 94 94]\n",
      " [95 95 95 95 95 95 95 95 95 95]\n",
      " [96 96 96 96 96 96 96 96 96 96]\n",
      " [97 97 97 97 97 97 97 97 97 97]\n",
      " [98 98 98 98 98 98 98 98 98 98]\n",
      " [99 99 99 99 99 99 99 99 99 99]]\n"
     ]
    }
   ],
   "source": [
    "for x, y, z in tree.iterate([\"Float64\", \"Str\", \"ArrayInt32\"], outputtype=tuple):\n",
    "    print(x, y, z)"
   ]
  },
  {
   "cell_type": "markdown",
   "metadata": {},
   "source": [
    "The **entrystart** and **entrystop** parameters let you slice an array while reading it, to avoid reading more than you want. See [Reading only part of a TBranch](#Reading-only-part-of-a-TBranch) below.\n",
    "\n",
    "The **cache**, **basketcache**, and **keycache** parameters allow you to avoid re-reading data without significantly altering your code. See [Caching data](#Caching-data) below.\n",
    "\n",
    "The **executor** and **blocking** parameters allow you to read and possibly decompress the branches in parallel. See [Parallel processing](#Parallel-processing) below.\n",
    "\n",
    "All of the [TTree](http://uproot.readthedocs.io/en/latest/ttree-handling.html#uproot-tree-ttreemethods) and [TBranch](http://uproot.readthedocs.io/en/latest/ttree-handling.html#uproot-tree-tbranchmethods) methods that read data into arrays— `array`, `lazyarray`, `arrays`,  `lazyarrays`, `iterate`, `basket`, `baskets`, and `iterate_baskets`— all use these parameters consistently. If you understand what they do for one method, you understand them all."
   ]
  },
  {
   "cell_type": "markdown",
   "metadata": {},
   "source": [
    "# Reading only part of a TBranch\n",
    "\n",
    "ROOT files can be very large— it wouldn't be unusual to encounter a file that is too big to load entirely into memory. Even in these cases, you may be able to load individual arrays into memory, but maybe you don't want to. uproot lets you slice an array before you load it from the file.\n",
    "\n",
    "Inside a ROOT file, [TBranch](http://uproot.readthedocs.io/en/latest/ttree-handling.html#uproot-tree-tbranchmethods) data are split into chunks called baskets; each basket can be read and uncompressed independently of the others. Specifying a slice before reading, rather than loading a whole array and then slicing it, avoids reading baskets that aren't in the slice.\n",
    "\n",
    "The [foriter.root](http://scikit-hep.org/uproot/examples/foriter.root) file has very small baskets to demonstrate."
   ]
  },
  {
   "cell_type": "code",
   "execution_count": 34,
   "metadata": {},
   "outputs": [
    {
     "data": {
      "text/plain": [
       "8"
      ]
     },
     "execution_count": 34,
     "metadata": {},
     "output_type": "execute_result"
    }
   ],
   "source": [
    "import uproot\n",
    "branch = uproot.open(\"foriter.root\")[\"foriter\"][\"data\"]\n",
    "branch.numbaskets"
   ]
  },
  {
   "cell_type": "code",
   "execution_count": 35,
   "metadata": {},
   "outputs": [
    {
     "data": {
      "text/plain": [
       "[array([0, 1, 2, 3, 4, 5], dtype=int32),\n",
       " array([ 6,  7,  8,  9, 10, 11], dtype=int32),\n",
       " array([12, 13, 14, 15, 16, 17], dtype=int32),\n",
       " array([18, 19, 20, 21, 22, 23], dtype=int32),\n",
       " array([24, 25, 26, 27, 28, 29], dtype=int32),\n",
       " array([30, 31, 32, 33, 34, 35], dtype=int32),\n",
       " array([36, 37, 38, 39, 40, 41], dtype=int32),\n",
       " array([42, 43, 44, 45], dtype=int32)]"
      ]
     },
     "execution_count": 35,
     "metadata": {},
     "output_type": "execute_result"
    }
   ],
   "source": [
    "branch.baskets()"
   ]
  },
  {
   "cell_type": "markdown",
   "metadata": {},
   "source": [
    "When we ask for the whole array, all eight of the baskets would be read, decompressed, and concatenated. Specifying **entrystart** and/or **entrystop** avoids unnecessary reading and decompression."
   ]
  },
  {
   "cell_type": "code",
   "execution_count": 36,
   "metadata": {},
   "outputs": [
    {
     "data": {
      "text/plain": [
       "array([ 5,  6,  7,  8,  9, 10, 11, 12, 13, 14], dtype=int32)"
      ]
     },
     "execution_count": 36,
     "metadata": {},
     "output_type": "execute_result"
    }
   ],
   "source": [
    "branch.array(entrystart=5, entrystop=15)"
   ]
  },
  {
   "cell_type": "markdown",
   "metadata": {},
   "source": [
    "We can demonstrate that this is actually happening with a cache (see [Caching data](#Caching-data) below)."
   ]
  },
  {
   "cell_type": "code",
   "execution_count": 37,
   "metadata": {},
   "outputs": [
    {
     "data": {
      "text/plain": [
       "array([ 5,  6,  7,  8,  9, 10, 11, 12, 13, 14], dtype=int32)"
      ]
     },
     "execution_count": 37,
     "metadata": {},
     "output_type": "execute_result"
    }
   ],
   "source": [
    "basketcache = {}\n",
    "branch.array(entrystart=5, entrystop=15, basketcache=basketcache)"
   ]
  },
  {
   "cell_type": "code",
   "execution_count": 38,
   "metadata": {},
   "outputs": [
    {
     "data": {
      "text/plain": [
       "{'AAFkpSJEmhYR56XjAQAAf77v;foriter;data;0;raw': memmap([0, 0, 0, 0, 0, 0, 0, 1, 0, 0, 0, 2, 0, 0, 0, 3, 0, 0, 0, 4, 0, 0,\n",
       "         0, 5], dtype=uint8),\n",
       " 'AAFkpSJEmhYR56XjAQAAf77v;foriter;data;1;raw': memmap([ 0,  0,  0,  6,  0,  0,  0,  7,  0,  0,  0,  8,  0,  0,  0,  9,\n",
       "          0,  0,  0, 10,  0,  0,  0, 11], dtype=uint8),\n",
       " 'AAFkpSJEmhYR56XjAQAAf77v;foriter;data;2;raw': memmap([ 0,  0,  0, 12,  0,  0,  0, 13,  0,  0,  0, 14,  0,  0,  0, 15,\n",
       "          0,  0,  0, 16,  0,  0,  0, 17], dtype=uint8)}"
      ]
     },
     "execution_count": 38,
     "metadata": {},
     "output_type": "execute_result"
    }
   ],
   "source": [
    "basketcache"
   ]
  },
  {
   "cell_type": "markdown",
   "metadata": {},
   "source": [
    "Only the first three baskets were touched by the above call (and hence, only those three were loaded into cache)."
   ]
  },
  {
   "cell_type": "code",
   "execution_count": 39,
   "metadata": {},
   "outputs": [
    {
     "data": {
      "text/plain": [
       "array([ 0,  1,  2,  3,  4,  5,  6,  7,  8,  9, 10, 11, 12, 13, 14, 15, 16,\n",
       "       17, 18, 19, 20, 21, 22, 23, 24, 25, 26, 27, 28, 29, 30, 31, 32, 33,\n",
       "       34, 35, 36, 37, 38, 39, 40, 41, 42, 43, 44, 45], dtype=int32)"
      ]
     },
     "execution_count": 39,
     "metadata": {},
     "output_type": "execute_result"
    }
   ],
   "source": [
    "branch.array(basketcache=basketcache)"
   ]
  },
  {
   "cell_type": "code",
   "execution_count": 40,
   "metadata": {},
   "outputs": [
    {
     "data": {
      "text/plain": [
       "{'AAFkpSJEmhYR56XjAQAAf77v;foriter;data;0;raw': memmap([0, 0, 0, 0, 0, 0, 0, 1, 0, 0, 0, 2, 0, 0, 0, 3, 0, 0, 0, 4, 0, 0,\n",
       "         0, 5], dtype=uint8),\n",
       " 'AAFkpSJEmhYR56XjAQAAf77v;foriter;data;1;raw': memmap([ 0,  0,  0,  6,  0,  0,  0,  7,  0,  0,  0,  8,  0,  0,  0,  9,\n",
       "          0,  0,  0, 10,  0,  0,  0, 11], dtype=uint8),\n",
       " 'AAFkpSJEmhYR56XjAQAAf77v;foriter;data;2;raw': memmap([ 0,  0,  0, 12,  0,  0,  0, 13,  0,  0,  0, 14,  0,  0,  0, 15,\n",
       "          0,  0,  0, 16,  0,  0,  0, 17], dtype=uint8),\n",
       " 'AAFkpSJEmhYR56XjAQAAf77v;foriter;data;3;raw': memmap([ 0,  0,  0, 18,  0,  0,  0, 19,  0,  0,  0, 20,  0,  0,  0, 21,\n",
       "          0,  0,  0, 22,  0,  0,  0, 23], dtype=uint8),\n",
       " 'AAFkpSJEmhYR56XjAQAAf77v;foriter;data;4;raw': memmap([ 0,  0,  0, 24,  0,  0,  0, 25,  0,  0,  0, 26,  0,  0,  0, 27,\n",
       "          0,  0,  0, 28,  0,  0,  0, 29], dtype=uint8),\n",
       " 'AAFkpSJEmhYR56XjAQAAf77v;foriter;data;5;raw': memmap([ 0,  0,  0, 30,  0,  0,  0, 31,  0,  0,  0, 32,  0,  0,  0, 33,\n",
       "          0,  0,  0, 34,  0,  0,  0, 35], dtype=uint8),\n",
       " 'AAFkpSJEmhYR56XjAQAAf77v;foriter;data;6;raw': memmap([ 0,  0,  0, 36,  0,  0,  0, 37,  0,  0,  0, 38,  0,  0,  0, 39,\n",
       "          0,  0,  0, 40,  0,  0,  0, 41], dtype=uint8),\n",
       " 'AAFkpSJEmhYR56XjAQAAf77v;foriter;data;7;raw': memmap([ 0,  0,  0, 42,  0,  0,  0, 43,  0,  0,  0, 44,  0,  0,  0, 45],\n",
       "        dtype=uint8)}"
      ]
     },
     "execution_count": 40,
     "metadata": {},
     "output_type": "execute_result"
    }
   ],
   "source": [
    "basketcache"
   ]
  },
  {
   "cell_type": "markdown",
   "metadata": {},
   "source": [
    "All of the baskets were touched by the above call (and hence, they are all loaded into cache).\n",
    "\n",
    "One reason you might want to only part of an array is to get a sense of the data without reading all of it. This can be a particularly useful way to examine a remote file over XRootD with a slow network connection. While you could do this by specifying a small **entrystop**, uproot has a lazy array interface to make this more convenient."
   ]
  },
  {
   "cell_type": "code",
   "execution_count": 41,
   "metadata": {},
   "outputs": [
    {
     "data": {
      "text/plain": [
       "<LazyArray 'data' at 76b76f62cf98>"
      ]
     },
     "execution_count": 41,
     "metadata": {},
     "output_type": "execute_result"
    }
   ],
   "source": [
    "basketcache = {}\n",
    "myarray = branch.lazyarray(basketcache=basketcache)\n",
    "myarray"
   ]
  },
  {
   "cell_type": "code",
   "execution_count": 42,
   "metadata": {},
   "outputs": [
    {
     "data": {
      "text/plain": [
       "0"
      ]
     },
     "execution_count": 42,
     "metadata": {},
     "output_type": "execute_result"
    }
   ],
   "source": [
    "len(basketcache)"
   ]
  },
  {
   "cell_type": "code",
   "execution_count": 43,
   "metadata": {},
   "outputs": [
    {
     "data": {
      "text/plain": [
       "5"
      ]
     },
     "execution_count": 43,
     "metadata": {},
     "output_type": "execute_result"
    }
   ],
   "source": [
    "myarray[5]"
   ]
  },
  {
   "cell_type": "code",
   "execution_count": 44,
   "metadata": {},
   "outputs": [
    {
     "data": {
      "text/plain": [
       "1"
      ]
     },
     "execution_count": 44,
     "metadata": {},
     "output_type": "execute_result"
    }
   ],
   "source": [
    "len(basketcache)"
   ]
  },
  {
   "cell_type": "code",
   "execution_count": 45,
   "metadata": {},
   "outputs": [
    {
     "data": {
      "text/plain": [
       "array([ 5,  6,  7,  8,  9, 10, 11, 12, 13, 14], dtype=int32)"
      ]
     },
     "execution_count": 45,
     "metadata": {},
     "output_type": "execute_result"
    }
   ],
   "source": [
    "myarray[5:15]"
   ]
  },
  {
   "cell_type": "code",
   "execution_count": 46,
   "metadata": {},
   "outputs": [
    {
     "data": {
      "text/plain": [
       "3"
      ]
     },
     "execution_count": 46,
     "metadata": {},
     "output_type": "execute_result"
    }
   ],
   "source": [
    "len(basketcache)"
   ]
  },
  {
   "cell_type": "code",
   "execution_count": 47,
   "metadata": {},
   "outputs": [
    {
     "data": {
      "text/plain": [
       "array([ 0,  1,  2,  3,  4,  5,  6,  7,  8,  9, 10, 11, 12, 13, 14, 15, 16,\n",
       "       17, 18, 19, 20, 21, 22, 23, 24, 25, 26, 27, 28, 29, 30, 31, 32, 33,\n",
       "       34, 35, 36, 37, 38, 39, 40, 41, 42, 43, 44, 45], dtype=int32)"
      ]
     },
     "execution_count": 47,
     "metadata": {},
     "output_type": "execute_result"
    }
   ],
   "source": [
    "myarray[:]"
   ]
  },
  {
   "cell_type": "code",
   "execution_count": 48,
   "metadata": {},
   "outputs": [
    {
     "data": {
      "text/plain": [
       "8"
      ]
     },
     "execution_count": 48,
     "metadata": {},
     "output_type": "execute_result"
    }
   ],
   "source": [
    "len(basketcache)"
   ]
  },
  {
   "cell_type": "markdown",
   "metadata": {},
   "source": [
    "Whenever a lazy array is indexed or sliced, it loads as little as possible to yield the result. Slicing everything (`[:]`) gives you a normal array.\n",
    "\n",
    "Since caching in uproot is always explicit (for consistency: see [Caching data](#Caching-data)), repeatedly indexing the same value repeatedly reads from the file unless you specify a cache. You'd probably always want to provide lazy arrays with caches.\n",
    "\n",
    "Another reason to want to read part of an array is to efficiently iterate over data. [TTree](http://uproot.readthedocs.io/en/latest/ttree-handling.html#uproot-tree-ttreemethods) has an `iterate` method for that purpose (which, incidentally, also takes **entrystart** and **entrystop** parameters)."
   ]
  },
  {
   "cell_type": "code",
   "execution_count": 49,
   "metadata": {},
   "outputs": [
    {
     "name": "stdout",
     "output_type": "stream",
     "text": [
      "{b'data': array([0, 1, 2, 3, 4, 5], dtype=int32)}\n",
      "{b'data': array([ 6,  7,  8,  9, 10, 11], dtype=int32)}\n",
      "{b'data': array([12, 13, 14, 15, 16, 17], dtype=int32)}\n",
      "{b'data': array([18, 19, 20, 21, 22, 23], dtype=int32)}\n",
      "{b'data': array([24, 25, 26, 27, 28, 29], dtype=int32)}\n",
      "{b'data': array([30, 31, 32, 33, 34, 35], dtype=int32)}\n",
      "{b'data': array([36, 37, 38, 39, 40, 41], dtype=int32)}\n",
      "{b'data': array([42, 43, 44, 45], dtype=int32)}\n"
     ]
    }
   ],
   "source": [
    "tree = uproot.open(\"foriter.root\")[\"foriter\"]\n",
    "for chunk in tree.iterate(\"data\"):\n",
    "    print(chunk)"
   ]
  },
  {
   "cell_type": "code",
   "execution_count": 50,
   "metadata": {},
   "outputs": [
    {
     "name": "stdout",
     "output_type": "stream",
     "text": [
      "{b'data': array([0, 1, 2, 3, 4], dtype=int32)}\n",
      "{b'data': array([5, 6, 7, 8, 9], dtype=int32)}\n",
      "{b'data': array([10, 11, 12, 13, 14], dtype=int32)}\n",
      "{b'data': array([15, 16, 17, 18, 19], dtype=int32)}\n",
      "{b'data': array([20, 21, 22, 23, 24], dtype=int32)}\n",
      "{b'data': array([25, 26, 27, 28, 29], dtype=int32)}\n",
      "{b'data': array([30, 31, 32, 33, 34], dtype=int32)}\n",
      "{b'data': array([35, 36, 37, 38, 39], dtype=int32)}\n",
      "{b'data': array([40, 41, 42, 43, 44], dtype=int32)}\n",
      "{b'data': array([45], dtype=int32)}\n"
     ]
    }
   ],
   "source": [
    "for chunk in tree.iterate(\"data\", entrysteps=5):\n",
    "    print(chunk)"
   ]
  },
  {
   "cell_type": "markdown",
   "metadata": {},
   "source": [
    "By default, the iteration step size is the minimum necessary to line up with basket boundaries, but you can specify an explicit **entrysteps** (fixed integer or iterable over start, stop pairs)."
   ]
  },
  {
   "cell_type": "markdown",
   "metadata": {},
   "source": [
    "# Iterating over files (like TChain)\n",
    "\n",
    "If one file doesn't fit in memory, a collection of them won't, so we need to iterate over a collection of files just as we iterate over one file. The interface for this is similar to the [TTree](http://uproot.readthedocs.io/en/latest/ttree-handling.html#uproot-tree-ttreemethods) `iterate` method:\n",
    "\n",
    "```python\n",
    "for arrays in uproot.iterate(\"/set/of/files*.root\", \"events\",\n",
    "        [\"branch1\", \"branch2\", \"branch3\"],entrysteps=10000):\n",
    "    do_something_with(arrays)\n",
    "```\n",
    "\n",
    "The **branches** parameter is the same (usually, a list of [TBranch](http://uproot.readthedocs.io/en/latest/ttree-handling.html#uproot-tree-tbranchmethods) names will do), as is **entrysteps**, **outputtype**, caching, and parallel processing parameters. Since this form must iterate over a collection of files, it also takes a **path** (string with wildcards or a list of strings) and a **treepath** (location of the [TTree](http://uproot.readthedocs.io/en/latest/ttree-handling.html#uproot-tree-ttreemethods) within each file; must be the same), as well as **xrootdsource** options, if relevant."
   ]
  },
  {
   "cell_type": "markdown",
   "metadata": {},
   "source": [
    "# Non-flat TTrees: jagged arrays and more\n",
    "\n",
    "We have already seen non-scalar structure in the [H → ZZ → eeμμ sample](http://scikit-hep.org/uproot/examples/HZZ.root)."
   ]
  },
  {
   "cell_type": "code",
   "execution_count": 51,
   "metadata": {},
   "outputs": [
    {
     "data": {
      "text/plain": [
       "{b'Muon_Px': <JaggedArray [[-52.89945602416992 37.7377815246582] [-0.8164593577384949] [48.987831115722656 0.8275666832923889] ... [-29.756786346435547] [1.1418697834014893] [23.913206100463867]] at 0x76b76f557be0>,\n",
       " b'Muon_Py': <JaggedArray [[-11.654671669006348 0.6934735774993896] [-24.404258728027344] [-21.7231388092041 29.800508499145508] ... [-15.303858757019043] [63.60956954956055] [-35.665077209472656]] at 0x76b76f557d30>,\n",
       " b'Muon_Pz': <JaggedArray [[-8.16079330444336 -11.307581901550293] [20.199968338012695] [11.168285369873047 36.96519088745117] ... [-52.66374969482422] [162.1763153076172] [54.71943664550781]] at 0x76b76f557cc0>}"
      ]
     },
     "execution_count": 51,
     "metadata": {},
     "output_type": "execute_result"
    }
   ],
   "source": [
    "tree = uproot.open(\"HZZ.root\")[\"events\"]\n",
    "tree.arrays([\"Muon_Px\", \"Muon_Py\", \"Muon_Pz\"])"
   ]
  },
  {
   "cell_type": "markdown",
   "metadata": {},
   "source": [
    "Jagged arrays are presented as Python objects with an array-like syntax (square brackets), but the subarrays that you get from each entry can have a different length. You can use this in straightforward Python code (double nested `for` loop)."
   ]
  },
  {
   "cell_type": "code",
   "execution_count": 52,
   "metadata": {},
   "outputs": [
    {
     "data": {
      "text/plain": [
       "[[54.77939728331514, 39.40155413769603],\n",
       " [31.690269339405322],\n",
       " [54.73968355087043, 47.48874088422057],\n",
       " [413.46002426963094, 344.0415120421566],\n",
       " [120.86427107457735, 51.28450356111275],\n",
       " [44.093180987524, 52.881414889639125],\n",
       " [132.11798977251323, 39.83906179940468],\n",
       " [160.19447580091284],\n",
       " [112.09960289042792, 21.37544434752662],\n",
       " [101.37877704093872, 70.2069335164593]]"
      ]
     },
     "execution_count": 52,
     "metadata": {},
     "output_type": "execute_result"
    }
   ],
   "source": [
    "px, py, pz = tree.arrays([\"Muon_Px\", \"Muon_Py\", \"Muon_Pz\"], outputtype=tuple)\n",
    "import math\n",
    "p = []\n",
    "for pxi, pyi, pzi in zip(px, py, pz):\n",
    "    p.append([])\n",
    "    for pxj, pyj, pzj in zip(pxi, pyi, pzi):\n",
    "        p[-1].append(math.sqrt(pxj**2 + pyj**2 + pzj**2))\n",
    "\n",
    "p[:10]"
   ]
  },
  {
   "cell_type": "markdown",
   "metadata": {},
   "source": [
    "But you can also take advantage of the fact that [JaggedArray](http://uproot.readthedocs.io/en/latest/interpretation.html#uproot-interp-jagged-jaggedarray) is backed by Numpy arrays to perform structure-preserving operations much more quickly. The following does the same thing as the above, but using only Numpy calls."
   ]
  },
  {
   "cell_type": "code",
   "execution_count": 53,
   "metadata": {},
   "outputs": [
    {
     "data": {
      "text/plain": [
       "<JaggedArray [[54.77939987182617 39.401554107666016] [31.690269470214844] [54.73968505859375 47.488739013671875] ... [160.19447326660156] [112.099609375 21.375444412231445] [101.37877655029297 70.2069320678711]] at 0x76b76f5a3d30>"
      ]
     },
     "execution_count": 53,
     "metadata": {},
     "output_type": "execute_result"
    }
   ],
   "source": [
    "p = numpy.sqrt(px**2 + py**2 + pz**2)\n",
    "p[:10]"
   ]
  },
  {
   "cell_type": "markdown",
   "metadata": {},
   "source": [
    "In the first code block, we used the Python interpreter and `math` library to compute momentum magnitudes, one for each muon, maintaining the event structure (one or two muons per event). In the second code block, we used Numpy to compute all the momentum magnitudes in one call (the loop is performed in compiled code) and packaged the result in a new [JaggedArray](http://uproot.readthedocs.io/en/latest/interpretation.html#uproot-interp-jagged-jaggedarray). Since we want the same structure as the original `px`, we can reuse its `starts` and `stops`.\n",
    "\n",
    "[JaggedArray](http://uproot.readthedocs.io/en/latest/interpretation.html#uproot-interp-jagged-jaggedarray) is a single Python type used to describe any list of lists of numbers from ROOT. In C++, it may be a branch with another branch as a counter (e.g. `Muon_pt[nMuons]`), a `std::vector<number>`, a numeric field from an exploded `TClonesArray` of class instances, etc. Jagged arrays are also the simplest kind of variable-sized object that can be found in a [TTree](http://uproot.readthedocs.io/en/latest/ttree-handling.html#uproot-tree-ttreemethods). More complex objects are deserialized into [JaggedArray](http://uproot.readthedocs.io/en/latest/interpretation.html#uproot-interp-jagged-jaggedarray) wrapped in classes that present them differently, for instance"
   ]
  },
  {
   "cell_type": "code",
   "execution_count": 54,
   "metadata": {},
   "outputs": [
    {
     "data": {
      "text/plain": [
       "<ObjectArray [b'GT' b'TT' b'GT' ... b'TT' b'GT' b'GG'] at 0x76b76f561f28>"
      ]
     },
     "execution_count": 54,
     "metadata": {},
     "output_type": "execute_result"
    }
   ],
   "source": [
    "tree = uproot.open(\"Zmumu.root\")[\"events\"]\n",
    "tree.array(\"Type\")"
   ]
  },
  {
   "cell_type": "markdown",
   "metadata": {},
   "source": [
    "The [Strings](http://uproot.readthedocs.io/en/latest/interpretation.html#uproot-interp-strings-strings) type represents a collection of strings, not as (memory-hogging) Python `bytes`, but as a [JaggedArray](http://uproot.readthedocs.io/en/latest/interpretation.html#uproot-interp-jagged-jaggedarray) wrapper:"
   ]
  },
  {
   "cell_type": "code",
   "execution_count": 55,
   "metadata": {},
   "outputs": [
    {
     "data": {
      "text/plain": [
       "<JaggedArray [[71 84] [84 84] [71 84] ... [84 84] [71 84] [71 71]] at 0x76b76f5a3828>"
      ]
     },
     "execution_count": 55,
     "metadata": {},
     "output_type": "execute_result"
    }
   ],
   "source": [
    "strings = tree.array(\"Type\")\n",
    "strings.content"
   ]
  },
  {
   "cell_type": "code",
   "execution_count": 56,
   "metadata": {},
   "outputs": [
    {
     "data": {
      "text/plain": [
       "array([   0,    2,    4, ..., 4602, 4604, 4606])"
      ]
     },
     "execution_count": 56,
     "metadata": {},
     "output_type": "execute_result"
    }
   ],
   "source": [
    "strings.content.starts"
   ]
  },
  {
   "cell_type": "code",
   "execution_count": 57,
   "metadata": {},
   "outputs": [
    {
     "data": {
      "text/plain": [
       "array([   2,    4,    6, ..., 4604, 4606, 4608])"
      ]
     },
     "execution_count": 57,
     "metadata": {},
     "output_type": "execute_result"
    }
   ],
   "source": [
    "strings.content.stops"
   ]
  },
  {
   "cell_type": "markdown",
   "metadata": {},
   "source": [
    "The \"numeric\" content is actually the ASCII representation of all the string data:"
   ]
  },
  {
   "cell_type": "code",
   "execution_count": 58,
   "metadata": {},
   "outputs": [
    {
     "data": {
      "text/plain": [
       "b'GTTTGTGGGTTTGTGGGTTTGTGGGTTTGTGGGTTTGTGGGTTTGTGGGTTTGTGGGTTTGTGGGTTTGTGGGTTTGTGGGTTTGTGGGTTTGTTTTTGTGTGGGTTTGTGGGTTTGTTTTTGTGTTTTTTTGTGTTTTTTTTTGTGTTTTTTTTTTTGTGTGGGTTTGTGGGTTTGTTTTTGTGTGGGTTTGTGGGTTTGTGGGTTTGTGGGTTTGTGGGTTTGTGGGTTTGTGGGTTTGTGGGTTTGTGGGTTTGTGGGTTTGTTTTTGTGTGGGTTTGTGGGTTTGTGGGTTTGTGGGTTTGTGGGTTTGTGGGTTTGTGGGTTTGTGGGTTTGTGGGTTTGTGGGTTTGTGGGTTTGTGGGTTTGTGGGTTTGTGGGTTTGTGGGTTTGTGGGTTTGTGGGTTTGTGGGTTTGTGGGTTTGTGGGTTTGTGGGTTTGTGGGTTTGTGGGTTTGTGGGTTTGTGGGTTTGTGGGTTTGTGGGTTTGTGGGTTTGTGGGTTTGTGGGTTTGTGGGTTTGTTTTTGTGTGGGTTTGTGGGTTTGTGGGTTTGTGGGTTTGTGGGTTTGTGGGTTTGTGGGTTTGTGGGTTTGTGGGTTTGTGGGTTTGTGGGTTTGTGGGTTTGTGGGTTTGTGGGTTTGTGGGTTTGTGGGTTTGTGGGTTTGTGGGTTTGTGGGTTTGTGGGTTTGTGGGTTTGTTTTTGTGTGGGTTTGTGGGTTTGTGGGTTTGTTTTTGTGTGGGTTTGTGGGTTTGTGGGTTTGTGGGTTTGTGGGTTTGTGGGTTTGTGGGTTTGTTTTTGTGTGGGTTTGTGGGTTTGTGGGTTTGTGGGTTTGTGGGTTTGTGGGTTTGTGGGTTTGTGGGTTTGTGGGTTTGTTTTTGTGTGGGTTTGTGGGTTTGTGGGTTTGTGGGTTTGTGGGTTTGTGGGTTTGTGGGTTTGTGGGTTTGTGGGTTTGTGGGTTTGTGGGTTTGTGGGTTTGTGGGTTTGTGGGTTTGTGGGTTTGTGGGTTTGTTTTTGTGTTTTTTTGTGTGGGTTTGTGGGTTTGTGGGTTTGTGGGTTTGTGGGTTTGTGGGTGTTTGTGTTTTTGTGTGGGGGGGTTTGTGGGTGTTTGTGTTTTTGTGTTTTTTTGTGTGTGGGGGGGTTTGTGGGTTTGTGGGTTTGTGGGTTTGTGGGTTTGTTTTTGTGTTTTTTTGTGTGGGTTTGTGGGTTTGTGGGTTTGTGGGTTTGTGGGTTTGTGGGTTTGTGGGTTTGTGGGTTTGTGGGTTTGTGGGTTTGTGGGTTTGTGGGTTTGTGGGTTTGTGGGTTTGTGGGTTTGTGGGTTTGTGGGTTTGTGGGTTTGTGGGTTTGTGGGTTTGTGGGTTTGTTTTTGTGTGGGTTTGTGGGTTTGTGGGTTTGTGGGTTTGTGGGTTTGTGGGTTTGTGGGTTTGTGGGTTTGTGGGTTTGTGGGTTTGTGGGTTTGTGGGTTTGTGGGTTTGTTTTTGTGTTTTTTTGTGTGGGTTTGTGGGTTTGTGGGTTTGTGGGTTTGTGGGTTTGTGGGTTTGTGGGTTTGTGGGTTTGTGGGTGTTTGTGTTTTTGTGTGGGGGGGTTTGTGGGTTTGTGGGTTTGTGGGTTTGTGGGTTTGTGGGTTTGTGGGTTTGTGGGTTTGTGGGTTTGTGGGTTTGTGGGTTTGTGGGTTTGTTTTTGTGTGGGTTTGTGGGTTTGTGGGTTTGTGGGTTTGTGGGTTTGTGGGTTTGTGGGTTTGTGGGTTTGTGGGTTTGTGGGTTTGTTTTTGTGTGGGTTTGTGGGTTTGTGGGTTTGTGGGTTTGTGGGTTTGTGGGTTTGTGGGTTTGTGGGTTTGTTTTTGTGTGGGTTTGTGGGTTTGTGGGTTTGTGGGTTTGTGGGTTTGTGGGTTTGTGGGTTTGTGGGTTTGTGGGTTTGTGGGTTTGTTTTTGTGTTTTTGTGTGGGTTTGTTTTTGTGTGGGTTTGTGGGTTTGTTTTTGTGTGGGTTTGTGGGTTTGTGGGTTTGTGGGTTTGTGGGTTTGTGGGTGTTTGTGTTTTTGTGTGGGGGGGTTTGTGGGTTTGTGGGTTTGTGGGTTTGTGGGTTTGTGGGTTTGTGGGTTTGTGGGTTTGTGGGTTTGTGGGTTTGTTTTTGTGTGGGTTTGTGGGTTTGTGGGTTTGTGGGTTTGTGGGTTTGTGGGTTTGTGGGTTTGTGGGTTTGTGGGTTTGTGGGTTTGTGGGTTTGTGGGTTTGTGGGTTTGTGGGTTTGTTTTTGTGTGGGTTTGTTTTTGTGTGGGTTTGTGGGTTTGTGGGTTTGTGGGTTTGTGGGTTTGTGGGTTTGTGGGTTTGTGGGTTTGTGGGTTTGTGGGTTTGTGGGTTTGTGGGTTTGTGGGTGTTTGTGTTTTTGTGTGGGGGGGTTTGTGGGTTTGTGGGTTTGTGGGTTTGTGGGTTTGTGGGTTTGTGGGTTTGTGGGTTTGTTTTTGTGTGGGTTTGTGGGTTTGTGGGTTTGTGGGTTTGTTTTTGTGTGGGTTTGTGGGTTTGTGGGTTTGTGGGTTTGTGGGTTTGTGGGTTTGTGGGTTTGTGGGTTTGTGGGTTTGTGGGTTTGTGGGTTTGTGGGTTTGTGGGTTTGTGGGTTTGTGGGTTTGTGGGTTTGTGGGTTTGTGGGTTTGTGGGTTTGTTTTTGTGTTTTTTTGTGTGGGTTTGTGGGTTTGTGGGTTTGTGGGTTTGTGGGTTTGTGGGTTTGTGGGTTTGTGGGTTTGTGGGTTTGTGGGTTTGTGGGTTTGTGGGTTTGTGGGTTTGTGGGTTTGTTTTTGTGTGGGTTTGTGGGTTTGTGGGTTTGTGGGTTTGTGGGTTTGTGGGTTTGTGGGTTTGTTTTTGTGTGGGTTTGTGGGTTTGTGGGTTTGTGGGTTTGTGGGTTTGTTTTTGTGTGGGTTTGTGGGTTTGTGGGTTTGTGGGTTTGTGGGTTTGTGGGTTTGTGGGTTTGTGGGTTTGTGGGTTTGTGGGTTTGTGGGTTTGTGGGTTTGTGGGTTTGTGGGTTTGTGGGTTTGTGGGTTTGTGGGTTTGTGGGTTTGTGGGTTTGTGGGTTTGTGGGTTTGTGGGTTTGTGGGTTTGTGGGTTTGTGGGTTTGTGGGTTTGTGGGTTTGTGGGTTTGTGGGTTTGTTTTTGTGTGGGTTTGTGGGTTTGTGGGTTTGTGGGTTTGTGGGTTTGTGGGTTTGTGGGTTTGTGGGTTTGTGGGTTTGTGGGTTTGTGGGTTTGTGGGTTTGTGGGTTTGTTTTTGTGTGGGTTTGTTTTTGTGTTTTTTTGTGTGGGTTTGTGGGTTTGTGGGTTTGTGGGTTTGTGGGTTTGTGGGTTTGTGGGTTTGTGGGTTTGTGGGTTTGTGGGTTTGTTTTTGTGTGGGTTTGTGGGTTTGTGGGTTTGTGGGTTTGTGGGTTTGTGGGTTTGTGGGTTTGTGGGTTTGTGGGTTTGTGGGTTTGTGGGTTTGTGGGTTTGTGGGTTTGTGGGTTTGTGGGTTTGTGGGTTTGTGGGTTTGTGGGTTTGTGGGTTTGTGGGTTTGTTTTTGTGTTTTTTTGTGTTTTTTTGTGTGGGTTTGTGGGTTTGTGGGTTTGTGGGTTTGTGGGTTTGTGGGTTTGTGGGTTTGTGGGTTTGTGGGTTTGTGGGTTTGTGGGTTTGTGGGTTTGTGGGTTTGTGGGTTTGTTTTTGTGTGGGTTTGTGGGTTTGTGGGTTTGTGGGTTTGTGGGTTTGTGGGTTTGTGGGTTTGTTTTTGTGTGGGTTTGTGGGTTTGTGGGTTTGTGGGTTTGTGGGTTTGTTTTTGTGTGGGTTTGTGGGTTTGTGGGTTTGTGGGTTTGTGGGTTTGTGGGTTTGTGGGTTTGTGGGTGTTTGTGTTTTTGTGTTTTTGTGTGGGGGGGTTTGTGGGTTTGTGGGTTTGTGGGTTTGTGGGTTTGTGGGTTTGTGGGTTTGTGGGTTTGTGGGTTTGTGGGTTTGTGGGTTTGTGGGTTTGTTTTTGTGTGGGTTTGTGGGTTTGTGGGTTTGTGGGTTTGTGGGTTTGTGGGTTTGTGGGTTTGTGGGTTTGTTTTTGTGTGGGTTTGTGGGTTTGTGGGTTTGTGGGTTTGTGGGTTTGTGGGTGTTTGTGTTTTTGTGTGGGGGGGTTTGTGGGTTTGTGGGTTTGTGGGTTTGTGGGTTTGTGGGTTTGTGGGTTTGTGGGTTTGTGGGTTTGTGGGTTTGTGGGTTTGTGGGTTTGTGGGTTTGTGGGTTTGTGGGTTTGTGGGTTTGTGGGTTTGTGGGTGTTTGTGTTTTTGTGTGGGGGGGTTTGTGGGTTTGTGGGTTTGTGGGTTTGTGGGTTTGTGGGTTTGTGGGTTTGTGGGTTTGTTTTTGTGTGGGTTTGTGGGTTTGTGGGTTTGTTTTTGTGTGGGTTTGTGGGTTTGTTTTTGTGTTTTTTTGTGTGGGTTTGTGGGTTTGTGGGTTTGTGGGTTTGTGGGTTTGTGGGTTTGTTTTTGTGTGGGTTTGTGGGTTTGTGGGTTTGTGGGTTTGTGGGTTTGTGGGTTTGTGGGTTTGTGGGTTTGTGGGTTTGTGGGTTTGTGGGTTTGTGGGTTTGTGGGTTTGTGGGTTTGTGGGTTTGTGGGTTTGTGGGTTTGTGG'"
      ]
     },
     "execution_count": 58,
     "metadata": {},
     "output_type": "execute_result"
    }
   ],
   "source": [
    "strings.content.content.tostring()"
   ]
  },
  {
   "cell_type": "markdown",
   "metadata": {},
   "source": [
    "The role of the [Strings](http://uproot.readthedocs.io/en/latest/interpretation.html#uproot-interp-strings-strings) wrapper is to yield each item as a Python `bytes` on demand."
   ]
  },
  {
   "cell_type": "code",
   "execution_count": 59,
   "metadata": {},
   "outputs": [
    {
     "data": {
      "text/plain": [
       "b'TT'"
      ]
     },
     "execution_count": 59,
     "metadata": {},
     "output_type": "execute_result"
    }
   ],
   "source": [
    "strings[5]"
   ]
  },
  {
   "cell_type": "code",
   "execution_count": 60,
   "metadata": {},
   "outputs": [
    {
     "data": {
      "text/plain": [
       "True"
      ]
     },
     "execution_count": 60,
     "metadata": {},
     "output_type": "execute_result"
    }
   ],
   "source": [
    "isinstance(strings[5], bytes)"
   ]
  },
  {
   "cell_type": "code",
   "execution_count": 61,
   "metadata": {},
   "outputs": [
    {
     "data": {
      "text/plain": [
       "<ObjectArray [b'TT' b'GT' b'GG' b'GT' b'TT'] at 0x76b76f57cf28>"
      ]
     },
     "execution_count": 61,
     "metadata": {},
     "output_type": "execute_result"
    }
   ],
   "source": [
    "strings[5:10]"
   ]
  },
  {
   "cell_type": "code",
   "execution_count": 62,
   "metadata": {},
   "outputs": [
    {
     "data": {
      "text/plain": [
       "[b'TT', b'GT', b'GG', b'GT', b'TT']"
      ]
     },
     "execution_count": 62,
     "metadata": {},
     "output_type": "execute_result"
    }
   ],
   "source": [
    "strings[5:10].tolist()"
   ]
  },
  {
   "cell_type": "markdown",
   "metadata": {},
   "source": [
    "Again, it doesn't matter whether the strings were `char*`, `std::string`, or `TString`, etc. in C++. They all translate into [Strings](http://uproot.readthedocs.io/en/latest/interpretation.html#uproot-interp-strings-strings).\n",
    "\n",
    "At the time of this writing, `std::vector<std::string>` and `std::vector<std::vector<numbers>>` are also implemented this way. Eventually, uproot should be able to read any type, translating C++ classes into Python `namedtuples`, filled on demand."
   ]
  },
  {
   "cell_type": "markdown",
   "metadata": {},
   "source": [
    "# Non-TTrees: histograms and more\n",
    "\n",
    "The uproot implementation is fairly general, to be robust against changes in the ROOT format. ROOT has a wonderful backward-compatibility mechanism called \"streamers,\" which specify how bytes translate into data fields for every type of object contained in the file. Even such basic types as `TObjArray` and `TNamed` are defined by streamers.\n",
    "\n",
    "To read a [TTree](http://uproot.readthedocs.io/en/latest/ttree-handling.html#uproot-tree-ttreemethods), uproot first consults the streamers in your ROOT file to know how to deserialize your particular version of [TTree](http://uproot.readthedocs.io/en/latest/ttree-handling.html#uproot-tree-ttreemethods). This is why the [TTree](http://uproot.readthedocs.io/en/latest/ttree-handling.html#uproot-tree-ttreemethods) class contains so many members starting with \"f\"— they are the C++ class private members, and uproot is literally following the prescription to deserialize the C++ class. Pythonic attributes like `tree.name` and `tree.numentries` are aliases for `tree.fName` and `tree.fEntries`, etc."
   ]
  },
  {
   "cell_type": "code",
   "execution_count": 63,
   "metadata": {},
   "outputs": [
    {
     "data": {
      "text/plain": [
       "['_fAliases',\n",
       " '_fAutoFlush',\n",
       " '_fAutoSave',\n",
       " '_fBranches',\n",
       " '_fClusterRangeEnd',\n",
       " '_fClusterSize',\n",
       " '_fDefaultEntryOffsetLen',\n",
       " '_fEntries',\n",
       " '_fEstimate',\n",
       " '_fFillColor',\n",
       " '_fFillStyle',\n",
       " '_fFlushedBytes',\n",
       " '_fFriends',\n",
       " '_fIndex',\n",
       " '_fIndexValues',\n",
       " '_fLeaves',\n",
       " '_fLineColor',\n",
       " '_fLineStyle',\n",
       " '_fLineWidth',\n",
       " '_fMarkerColor',\n",
       " '_fMarkerSize',\n",
       " '_fMarkerStyle',\n",
       " '_fMaxEntries',\n",
       " '_fMaxEntryLoop',\n",
       " '_fMaxVirtualSize',\n",
       " '_fNClusterRange',\n",
       " '_fName',\n",
       " '_fSavedBytes',\n",
       " '_fScanField',\n",
       " '_fTimerInterval',\n",
       " '_fTitle',\n",
       " '_fTotBytes',\n",
       " '_fTreeIndex',\n",
       " '_fUpdate',\n",
       " '_fWeight',\n",
       " '_fZipBytes',\n",
       " '_fields',\n",
       " '_fill_branchlookup',\n",
       " '_format',\n",
       " '_format1']"
      ]
     },
     "execution_count": 63,
     "metadata": {},
     "output_type": "execute_result"
    }
   ],
   "source": [
    "[x for x in dir(tree) if x.startswith(\"_f\")]"
   ]
  },
  {
   "cell_type": "markdown",
   "metadata": {},
   "source": [
    "This means that literally any kind of object may be read from a [ROOTDirectory](http://uproot.readthedocs.io/en/latest/root-io.html#uproot-rootio-rootdirectory). Even if the uproot authors have never heard of it, the new data type will have a streamer in the file, and uproot will follow that prescription to make an object with the appropriate private fields. What you do with that object is another story: the member functions, written in C++, are *not* serialized into the ROOT file, and thus the Python object will have data but no functionality.\n",
    "\n",
    "We have to add functionality by writing the equivalent Python. The uproot [TTree](http://uproot.readthedocs.io/en/latest/ttree-handling.html#uproot-tree-ttreemethods) implementation is a bundle of functions that expect private members like `fName`, `fEntries`, and `fBranches`. Other ROOT types can be wrapped in similar ways. Histograms are useful, and therefore the `TH1` classes are similarly wrapped:"
   ]
  },
  {
   "cell_type": "code",
   "execution_count": 64,
   "metadata": {},
   "outputs": [
    {
     "data": {
      "text/plain": [
       "[b'one;1', b'two;1', b'three;1']"
      ]
     },
     "execution_count": 64,
     "metadata": {},
     "output_type": "execute_result"
    }
   ],
   "source": [
    "file = uproot.open(\"histograms.root\")\n",
    "file.allkeys()"
   ]
  },
  {
   "cell_type": "code",
   "execution_count": 65,
   "metadata": {},
   "outputs": [
    {
     "name": "stdout",
     "output_type": "stream",
     "text": [
      "                  0                                                       2410.8\n",
      "                  +------------------------------------------------------------+\n",
      "[-inf, -3)   0    |                                                            |\n",
      "[-3, -2.4)   68   |**                                                          |\n",
      "[-2.4, -1.8) 285  |*******                                                     |\n",
      "[-1.8, -1.2) 755  |*******************                                         |\n",
      "[-1.2, -0.6) 1580 |***************************************                     |\n",
      "[-0.6, 0)    2296 |*********************************************************   |\n",
      "[0, 0.6)     2286 |*********************************************************   |\n",
      "[0.6, 1.2)   1570 |***************************************                     |\n",
      "[1.2, 1.8)   795  |********************                                        |\n",
      "[1.8, 2.4)   289  |*******                                                     |\n",
      "[2.4, 3)     76   |**                                                          |\n",
      "[3, inf]     0    |                                                            |\n",
      "                  +------------------------------------------------------------+\n"
     ]
    }
   ],
   "source": [
    "file[\"one\"].show()"
   ]
  },
  {
   "cell_type": "code",
   "execution_count": 66,
   "metadata": {},
   "outputs": [
    {
     "data": {
      "text/plain": [
       "['allbins',\n",
       " 'alledges',\n",
       " 'allnumpy',\n",
       " 'allvalues',\n",
       " 'allvariances',\n",
       " 'append',\n",
       " 'awkward',\n",
       " 'bins',\n",
       " 'clear',\n",
       " 'copy',\n",
       " 'count',\n",
       " 'edges',\n",
       " 'extend',\n",
       " 'hepdata',\n",
       " 'high',\n",
       " 'index',\n",
       " 'insert',\n",
       " 'interval',\n",
       " 'low',\n",
       " 'maybemixin',\n",
       " 'mixin',\n",
       " 'name',\n",
       " 'numbins',\n",
       " 'numpy',\n",
       " 'overflows',\n",
       " 'pandas',\n",
       " 'physt',\n",
       " 'pop',\n",
       " 'read',\n",
       " 'remove',\n",
       " 'reverse',\n",
       " 'show',\n",
       " 'sort',\n",
       " 'title',\n",
       " 'underflows',\n",
       " 'values',\n",
       " 'variances',\n",
       " 'xlabels']"
      ]
     },
     "execution_count": 66,
     "metadata": {},
     "output_type": "execute_result"
    }
   ],
   "source": [
    "[x for x in dir(file[\"one\"]) if not x.startswith(\"_\") and not x.startswith(\"f\")]"
   ]
  },
  {
   "cell_type": "markdown",
   "metadata": {},
   "source": [
    "Code to view histograms in Pythonic plotting packages is in development, but this is a wide-open area for future development. For now, uproot's ability to read histograms is useful for querying bin values in scripts."
   ]
  },
  {
   "cell_type": "markdown",
   "metadata": {},
   "source": [
    "# Caching data\n",
    "\n",
    "Following Python's preference for explicit operations over implicit ones, uproot does not cache any data by default. If you say `file[\"tree\"]` twice or `tree[\"branch\"].array()` twice, uproot will go back to the file each time to extract the contents. It will not hold previously loaded objects or arrays in memory in case you want them again. You can keep them in memory yourself by assigning them to a variable; the price of having to be explicit is well worth not having to reverse engineer a memory-hogging cache.\n",
    "\n",
    "Sometimes, however, changing your code to assign new variable names (or `dict` entries) for every array you want to keep in memory can be time-consuming or obscure an otherwise simple analysis script. It would be nice to just turn on caching. For this purpose, all array-extracting methods have **cache**, **basketcache**, and **keycache** parameters that accpet any `dict`-like object as a cache.\n",
    "\n",
    "If you have a loop like"
   ]
  },
  {
   "cell_type": "code",
   "execution_count": 67,
   "metadata": {},
   "outputs": [],
   "source": [
    "do_something = lambda q1, q2: None\n",
    "\n",
    "for q1, q2 in tree.iterate([\"Q1\", \"Q2\"], outputtype=tuple):\n",
    "    do_something(q1, q2)"
   ]
  },
  {
   "cell_type": "markdown",
   "metadata": {},
   "source": [
    "and you don't want it to return to the file the second time you run it, you can change it to"
   ]
  },
  {
   "cell_type": "code",
   "execution_count": 68,
   "metadata": {},
   "outputs": [],
   "source": [
    "cache = {}\n",
    "for q1, q2 in tree.iterate([\"Q1\", \"Q2\"], outputtype=tuple, cache=cache):\n",
    "    do_something(q1, q2)"
   ]
  },
  {
   "cell_type": "markdown",
   "metadata": {},
   "source": [
    "The array methods will always check the cache first, and if it's empty, get the arrays the normal way and fill the cache. Since this cache was a simple `dict`, we can see what's in it."
   ]
  },
  {
   "cell_type": "code",
   "execution_count": 69,
   "metadata": {},
   "outputs": [
    {
     "data": {
      "text/plain": [
       "{'AAGUS3fQmKsR56dpAQAAf77v;events;Q1;asdtype(Bi4(),Li4());0-2304': array([ 1, -1, -1, ...,  1,  1,  1], dtype=int32),\n",
       " 'AAGUS3fQmKsR56dpAQAAf77v;events;Q2;asdtype(Bi4(),Li4());0-2304': array([-1,  1,  1, ..., -1, -1, -1], dtype=int32)}"
      ]
     },
     "execution_count": 69,
     "metadata": {},
     "output_type": "execute_result"
    }
   ],
   "source": [
    "cache"
   ]
  },
  {
   "cell_type": "markdown",
   "metadata": {},
   "source": [
    "Key names are long because they encode a unique identifier to the file, the path to the [TTree](http://uproot.readthedocs.io/en/latest/ttree-handling.html#uproot-tree-ttreemethods), to the [TBranch](http://uproot.readthedocs.io/en/latest/ttree-handling.html#uproot-tree-tbranchmethods), the [Interpretation](http://uproot.readthedocs.io/en/latest/interpretation.html), and the entry range, so that we don't confuse one cached array for another.\n",
    "\n",
    "Python `dict` objects will keep the arrays as long as the process lives (or they're manually deleted, or the `dict` goes out of scope). Sometimes this is too long. Real caches typically have a Least Recently Used (LRU) eviction policy: they're capped at a given size and when adding a new array would exceed that size, they delete the ones that were least recently accessed. [MemoryCache](http://uproot.readthedocs.io/en/latest/caches.html#uproot-cache-memorycache) implements such a policy."
   ]
  },
  {
   "cell_type": "code",
   "execution_count": 70,
   "metadata": {},
   "outputs": [
    {
     "data": {
      "text/plain": [
       "['one']"
      ]
     },
     "execution_count": 70,
     "metadata": {},
     "output_type": "execute_result"
    }
   ],
   "source": [
    "cache = uproot.cache.ArrayCache(8*1024**3)    # 8 GB (typical)\n",
    "cache[\"one\"] = numpy.zeros(2*1024**3, dtype=numpy.uint8)   # 2 GB\n",
    "list(cache)"
   ]
  },
  {
   "cell_type": "code",
   "execution_count": 71,
   "metadata": {},
   "outputs": [
    {
     "data": {
      "text/plain": [
       "['one', 'two']"
      ]
     },
     "execution_count": 71,
     "metadata": {},
     "output_type": "execute_result"
    }
   ],
   "source": [
    "cache[\"two\"] = numpy.zeros(2*1024**3, dtype=numpy.uint8)   # 2 GB\n",
    "list(cache)"
   ]
  },
  {
   "cell_type": "code",
   "execution_count": 72,
   "metadata": {},
   "outputs": [
    {
     "data": {
      "text/plain": [
       "['one', 'two', 'three']"
      ]
     },
     "execution_count": 72,
     "metadata": {},
     "output_type": "execute_result"
    }
   ],
   "source": [
    "cache[\"three\"] = numpy.zeros(2*1024**3, dtype=numpy.uint8) # 2 GB\n",
    "list(cache)"
   ]
  },
  {
   "cell_type": "code",
   "execution_count": 73,
   "metadata": {},
   "outputs": [
    {
     "data": {
      "text/plain": [
       "['one', 'two', 'three', 'four']"
      ]
     },
     "execution_count": 73,
     "metadata": {},
     "output_type": "execute_result"
    }
   ],
   "source": [
    "cache[\"four\"] = numpy.zeros(2*1024**3, dtype=numpy.uint8)  # 2 GB\n",
    "list(cache)"
   ]
  },
  {
   "cell_type": "code",
   "execution_count": 74,
   "metadata": {},
   "outputs": [
    {
     "data": {
      "text/plain": [
       "['two', 'three', 'four', 'five']"
      ]
     },
     "execution_count": 74,
     "metadata": {},
     "output_type": "execute_result"
    }
   ],
   "source": [
    "cache[\"five\"] = numpy.zeros(2*1024**3, dtype=numpy.uint8)  # 2 GB causes eviction\n",
    "list(cache)"
   ]
  },
  {
   "cell_type": "markdown",
   "metadata": {},
   "source": [
    "Thus, you can pass a [MemoryCache](http://uproot.readthedocs.io/en/latest/caches.html#uproot-cache-memorycache) as the **cache** argument to get caching with an LRU policy. If you need it, there's also a [ThreadSafeMemoryCache](http://uproot.readthedocs.io/en/latest/caches.html#uproot-cache-threadsafememorycache) for parallel processing.\n",
    "\n",
    "Sometimes, you might need a cache that survives from one process to another. For instance, you have a long-running script that fails on the last step and you want to get to that last step more quickly by not re-reading/re-decompressing/re-formatting the ROOT data as arrays. Use a [DiskCache](http://uproot.readthedocs.io/en/latest/caches.html#uproot-cache-diskcache)."
   ]
  },
  {
   "cell_type": "markdown",
   "metadata": {},
   "source": [
    "Finally, you may be wondering why the array methods have three cache parameters: **cache**, **basketcache**, and **keycache**. Here's what they mean.\n",
    "\n",
    "- **cache:** applies to fully constructed arrays. Thus, if you request the same branch with a different **entrystart**, **entrystop**, or [Interpretation](http://uproot.readthedocs.io/en/latest/interpretation.html) (e.g. `dtype` or `dims`), it counts as a new array and *competes* with arrays already in the cache, rather than drawing on them. Pass a **cache** argument if you're extracting whole arrays or iterating with fixed **entrysteps**.\n",
    "- **basketcache:** applies to raw (but decompressed) basket data. This data can be re-sliced and re-interpreted many ways, and uproot finds what it needs in the cache. It's particularly useful for lazy arrays, which are frequently re-sliced.\n",
    "- **keycache:** applies to ROOT `TKey` objects, used to look up baskets. With a full **basketcache** and a **keycache**, uproot never needs to access the file. The reason **keycache** is separate from **basketcache** is because `TKey` objects are much smaller than most arrays and should have a different eviction priority than an array: use a cache with LRU for **basketcache** and a simple `dict` for **keycache**.\n",
    "\n",
    "Normally, you'd *either* set only **cache** *or* both **basketcache** and **keycache**. You can use the same `dict`-like object for many applications (single pool) or different caches for different applications (to keep the priority queues distinct).\n",
    "\n",
    "As we have seen, uproot's XRootD handler has an even lower-level cache for bytes read over the network. This is implemented as a [MemoryCache](http://uproot.readthedocs.io/en/latest/caches.html#uproot-cache-memorycache). Local files are usually read as memory-mapped files, in which case the operating system does the low-level caching with the same mechanism as virtual memory. (For more control, you can [uproot.open](http://uproot.readthedocs.io/en/latest/opening-files.html#uproot-open) a file with `localsource=dict(chunkbytes=8*1024, limitbytes=1024**2)` to use a regular file handle and custom paging/cache size.)"
   ]
  },
  {
   "cell_type": "markdown",
   "metadata": {},
   "source": [
    "# Parallel processing\n",
    "\n",
    "Just as caching must be explicit in uproot, parallel processing must be explicit as well. By default, every read, decompression, and array construction is single-threaded. To enable parallel processing, pass in a Python 3 executor.\n",
    "\n",
    "An executor is a group of pre-allocated threads that are all waiting for work. Create them with"
   ]
  },
  {
   "cell_type": "code",
   "execution_count": 75,
   "metadata": {},
   "outputs": [],
   "source": [
    "import concurrent.futures\n",
    "executor = concurrent.futures.ThreadPoolExecutor(32)   # 32 threads"
   ]
  },
  {
   "cell_type": "markdown",
   "metadata": {},
   "source": [
    "where the number of threads can be several times the number of CPUs on your machine."
   ]
  },
  {
   "cell_type": "code",
   "execution_count": 76,
   "metadata": {},
   "outputs": [
    {
     "data": {
      "text/plain": [
       "4"
      ]
     },
     "execution_count": 76,
     "metadata": {},
     "output_type": "execute_result"
    }
   ],
   "source": [
    "import multiprocessing\n",
    "multiprocessing.cpu_count()"
   ]
  },
  {
   "cell_type": "markdown",
   "metadata": {},
   "source": [
    "These threads are being used for I/O, which is usually limited by hardware other than the CPU. (If you observe 100% CPU usage for a long time, you may be limited by CPU time spent decompressing, so reduce the number of threads. If you observe mostly idle CPUs, however, then you are limited by disk or network reading: increase the number of threads until the CPUs are busy.)\n",
    "\n",
    "Most array-reading methods have an **executor** parameter, into which you can pass this thread pool."
   ]
  },
  {
   "cell_type": "code",
   "execution_count": 77,
   "metadata": {},
   "outputs": [
    {
     "data": {
      "text/plain": [
       "array([ 0,  1,  2,  3,  4,  5,  6,  7,  8,  9, 10, 11, 12, 13, 14, 15, 16,\n",
       "       17, 18, 19, 20, 21, 22, 23, 24, 25, 26, 27, 28, 29, 30, 31, 32, 33,\n",
       "       34, 35, 36, 37, 38, 39, 40, 41, 42, 43, 44, 45], dtype=int32)"
      ]
     },
     "execution_count": 77,
     "metadata": {},
     "output_type": "execute_result"
    }
   ],
   "source": [
    "branch = uproot.open(\"foriter.root\")[\"foriter\"][\"data\"]\n",
    "branch.array(executor=executor)"
   ]
  },
  {
   "cell_type": "markdown",
   "metadata": {},
   "source": [
    "The only difference that might be visible to the user is performance. With an executor, each basket is read, decompressed, and copied to the output array in a separate task, and these tasks are handed to the executor for scheduling. A `ThreadPoolExecutor` fills all of the available workers and pushes more work on whenever a task finishes. The tasks must share memory (cannot be a `ProcessPoolExecutor`) because they all write to (different parts of) the same output array.\n",
    "\n",
    "If you're familiar with Python's Global Interpreter Lock (GIL), you might be wondering how parallel processing could help a single-process Python program. In uproot, at least, all of the operations that scale with the number of events— reading, decompressing, and the array copy— are performed in operating system calls (reading), compiled compression libraries that release the GIL, and Numpy, which also releases the GIL.\n",
    "\n",
    "Since the baskets are being read in parallel, you may want to read them in the background, freeing up the main thread to do other things (such as submit even more work!). If you set `blocking=False`, the array methods return a zero-argument function instead of an array, `dict` of arrays, or whatever. When you want to wait for the result, evaluate this function."
   ]
  },
  {
   "cell_type": "code",
   "execution_count": 78,
   "metadata": {},
   "outputs": [
    {
     "data": {
      "text/plain": [
       "<function uproot.tree.TBranchMethods.array.<locals>.wait()>"
      ]
     },
     "execution_count": 78,
     "metadata": {},
     "output_type": "execute_result"
    }
   ],
   "source": [
    "arrays = branch.array(executor=executor, blocking=False)\n",
    "arrays"
   ]
  },
  {
   "cell_type": "code",
   "execution_count": 79,
   "metadata": {},
   "outputs": [
    {
     "data": {
      "text/plain": [
       "array([ 0,  1,  2,  3,  4,  5,  6,  7,  8,  9, 10, 11, 12, 13, 14, 15, 16,\n",
       "       17, 18, 19, 20, 21, 22, 23, 24, 25, 26, 27, 28, 29, 30, 31, 32, 33,\n",
       "       34, 35, 36, 37, 38, 39, 40, 41, 42, 43, 44, 45], dtype=int32)"
      ]
     },
     "execution_count": 79,
     "metadata": {},
     "output_type": "execute_result"
    }
   ],
   "source": [
    "arrays()"
   ]
  },
  {
   "cell_type": "markdown",
   "metadata": {},
   "source": [
    "The `blocking=False` setting can be used without an executor (without parallel processing), but it doesn't make much sense to do that."
   ]
  },
  {
   "cell_type": "markdown",
   "metadata": {},
   "source": [
    "# Connectors to other packages\n",
    "\n",
    "As a connector between ROOT and the scientific Python world, uproot has a growing set of extensions to ease these transitions. For instance, to get a Pandas DataFrame, call [tree.pandas.df](http://uproot.readthedocs.io/en/latest/ttree-handling.html#uproot._connect.to_pandas.TTreeMethods_pandas.df):"
   ]
  },
  {
   "cell_type": "code",
   "execution_count": 80,
   "metadata": {},
   "outputs": [
    {
     "data": {
      "text/html": [
       "<div>\n",
       "<style scoped>\n",
       "    .dataframe tbody tr th:only-of-type {\n",
       "        vertical-align: middle;\n",
       "    }\n",
       "\n",
       "    .dataframe tbody tr th {\n",
       "        vertical-align: top;\n",
       "    }\n",
       "\n",
       "    .dataframe thead th {\n",
       "        text-align: right;\n",
       "    }\n",
       "</style>\n",
       "<table border=\"1\" class=\"dataframe\">\n",
       "  <thead>\n",
       "    <tr style=\"text-align: right;\">\n",
       "      <th></th>\n",
       "      <th>pt1</th>\n",
       "      <th>eta1</th>\n",
       "      <th>phi1</th>\n",
       "      <th>pt2</th>\n",
       "      <th>eta2</th>\n",
       "      <th>phi2</th>\n",
       "    </tr>\n",
       "  </thead>\n",
       "  <tbody>\n",
       "    <tr>\n",
       "      <th>0</th>\n",
       "      <td>44.7322</td>\n",
       "      <td>-1.217690</td>\n",
       "      <td>2.741260</td>\n",
       "      <td>38.8311</td>\n",
       "      <td>-1.051390</td>\n",
       "      <td>-0.440873</td>\n",
       "    </tr>\n",
       "    <tr>\n",
       "      <th>1</th>\n",
       "      <td>38.8311</td>\n",
       "      <td>-1.051390</td>\n",
       "      <td>-0.440873</td>\n",
       "      <td>44.7322</td>\n",
       "      <td>-1.217690</td>\n",
       "      <td>2.741260</td>\n",
       "    </tr>\n",
       "    <tr>\n",
       "      <th>2</th>\n",
       "      <td>38.8311</td>\n",
       "      <td>-1.051390</td>\n",
       "      <td>-0.440873</td>\n",
       "      <td>44.7322</td>\n",
       "      <td>-1.217690</td>\n",
       "      <td>2.741260</td>\n",
       "    </tr>\n",
       "    <tr>\n",
       "      <th>3</th>\n",
       "      <td>38.8311</td>\n",
       "      <td>-1.051390</td>\n",
       "      <td>-0.440873</td>\n",
       "      <td>44.7322</td>\n",
       "      <td>-1.217690</td>\n",
       "      <td>2.741260</td>\n",
       "    </tr>\n",
       "    <tr>\n",
       "      <th>4</th>\n",
       "      <td>27.2981</td>\n",
       "      <td>-0.990688</td>\n",
       "      <td>0.583351</td>\n",
       "      <td>21.8913</td>\n",
       "      <td>1.444340</td>\n",
       "      <td>-2.707650</td>\n",
       "    </tr>\n",
       "    <tr>\n",
       "      <th>5</th>\n",
       "      <td>21.8913</td>\n",
       "      <td>1.444340</td>\n",
       "      <td>-2.707650</td>\n",
       "      <td>27.2981</td>\n",
       "      <td>-0.990688</td>\n",
       "      <td>0.583351</td>\n",
       "    </tr>\n",
       "    <tr>\n",
       "      <th>6</th>\n",
       "      <td>21.8913</td>\n",
       "      <td>1.444340</td>\n",
       "      <td>-2.707650</td>\n",
       "      <td>27.2981</td>\n",
       "      <td>-0.990688</td>\n",
       "      <td>0.583351</td>\n",
       "    </tr>\n",
       "    <tr>\n",
       "      <th>7</th>\n",
       "      <td>21.8913</td>\n",
       "      <td>1.444340</td>\n",
       "      <td>-2.707650</td>\n",
       "      <td>27.2981</td>\n",
       "      <td>-0.990688</td>\n",
       "      <td>0.583351</td>\n",
       "    </tr>\n",
       "    <tr>\n",
       "      <th>8</th>\n",
       "      <td>77.0336</td>\n",
       "      <td>-1.140270</td>\n",
       "      <td>0.393582</td>\n",
       "      <td>72.7634</td>\n",
       "      <td>-0.637934</td>\n",
       "      <td>-0.793162</td>\n",
       "    </tr>\n",
       "    <tr>\n",
       "      <th>9</th>\n",
       "      <td>72.7634</td>\n",
       "      <td>-0.637934</td>\n",
       "      <td>-0.793162</td>\n",
       "      <td>77.0336</td>\n",
       "      <td>-1.140270</td>\n",
       "      <td>0.393582</td>\n",
       "    </tr>\n",
       "    <tr>\n",
       "      <th>10</th>\n",
       "      <td>72.7634</td>\n",
       "      <td>-0.637934</td>\n",
       "      <td>-0.793162</td>\n",
       "      <td>77.0336</td>\n",
       "      <td>-1.140270</td>\n",
       "      <td>0.393582</td>\n",
       "    </tr>\n",
       "    <tr>\n",
       "      <th>11</th>\n",
       "      <td>72.7634</td>\n",
       "      <td>-0.637934</td>\n",
       "      <td>-0.793162</td>\n",
       "      <td>77.0336</td>\n",
       "      <td>-1.140270</td>\n",
       "      <td>0.393582</td>\n",
       "    </tr>\n",
       "    <tr>\n",
       "      <th>12</th>\n",
       "      <td>44.5173</td>\n",
       "      <td>0.426044</td>\n",
       "      <td>-0.070413</td>\n",
       "      <td>40.6637</td>\n",
       "      <td>-0.525298</td>\n",
       "      <td>2.873290</td>\n",
       "    </tr>\n",
       "    <tr>\n",
       "      <th>13</th>\n",
       "      <td>40.6637</td>\n",
       "      <td>-0.525298</td>\n",
       "      <td>2.873290</td>\n",
       "      <td>44.5173</td>\n",
       "      <td>0.426044</td>\n",
       "      <td>-0.070413</td>\n",
       "    </tr>\n",
       "    <tr>\n",
       "      <th>14</th>\n",
       "      <td>40.6637</td>\n",
       "      <td>-0.525298</td>\n",
       "      <td>2.873290</td>\n",
       "      <td>44.5173</td>\n",
       "      <td>0.426044</td>\n",
       "      <td>-0.070413</td>\n",
       "    </tr>\n",
       "    <tr>\n",
       "      <th>15</th>\n",
       "      <td>40.6637</td>\n",
       "      <td>-0.525298</td>\n",
       "      <td>2.873290</td>\n",
       "      <td>44.5173</td>\n",
       "      <td>0.426044</td>\n",
       "      <td>-0.070413</td>\n",
       "    </tr>\n",
       "    <tr>\n",
       "      <th>16</th>\n",
       "      <td>27.4237</td>\n",
       "      <td>-1.368470</td>\n",
       "      <td>0.112680</td>\n",
       "      <td>42.3231</td>\n",
       "      <td>-1.264190</td>\n",
       "      <td>-3.021950</td>\n",
       "    </tr>\n",
       "    <tr>\n",
       "      <th>17</th>\n",
       "      <td>42.3231</td>\n",
       "      <td>-1.264190</td>\n",
       "      <td>-3.021950</td>\n",
       "      <td>27.4237</td>\n",
       "      <td>-1.368470</td>\n",
       "      <td>0.112680</td>\n",
       "    </tr>\n",
       "    <tr>\n",
       "      <th>18</th>\n",
       "      <td>42.3231</td>\n",
       "      <td>-1.264190</td>\n",
       "      <td>-3.021950</td>\n",
       "      <td>27.4237</td>\n",
       "      <td>-1.368470</td>\n",
       "      <td>0.112680</td>\n",
       "    </tr>\n",
       "    <tr>\n",
       "      <th>19</th>\n",
       "      <td>42.3231</td>\n",
       "      <td>-1.264190</td>\n",
       "      <td>-3.021950</td>\n",
       "      <td>27.4237</td>\n",
       "      <td>-1.368470</td>\n",
       "      <td>0.112680</td>\n",
       "    </tr>\n",
       "    <tr>\n",
       "      <th>20</th>\n",
       "      <td>35.9165</td>\n",
       "      <td>1.432090</td>\n",
       "      <td>-2.431830</td>\n",
       "      <td>44.8701</td>\n",
       "      <td>0.496169</td>\n",
       "      <td>0.721981</td>\n",
       "    </tr>\n",
       "    <tr>\n",
       "      <th>21</th>\n",
       "      <td>44.8701</td>\n",
       "      <td>0.496169</td>\n",
       "      <td>0.721981</td>\n",
       "      <td>35.9165</td>\n",
       "      <td>1.432090</td>\n",
       "      <td>-2.431830</td>\n",
       "    </tr>\n",
       "    <tr>\n",
       "      <th>22</th>\n",
       "      <td>44.8701</td>\n",
       "      <td>0.496169</td>\n",
       "      <td>0.721981</td>\n",
       "      <td>35.9165</td>\n",
       "      <td>1.432090</td>\n",
       "      <td>-2.431830</td>\n",
       "    </tr>\n",
       "    <tr>\n",
       "      <th>23</th>\n",
       "      <td>44.8701</td>\n",
       "      <td>0.496169</td>\n",
       "      <td>0.721981</td>\n",
       "      <td>35.9165</td>\n",
       "      <td>1.432090</td>\n",
       "      <td>-2.431830</td>\n",
       "    </tr>\n",
       "    <tr>\n",
       "      <th>24</th>\n",
       "      <td>36.2136</td>\n",
       "      <td>-0.532520</td>\n",
       "      <td>-1.652390</td>\n",
       "      <td>40.4100</td>\n",
       "      <td>0.836524</td>\n",
       "      <td>1.471740</td>\n",
       "    </tr>\n",
       "    <tr>\n",
       "      <th>25</th>\n",
       "      <td>40.4100</td>\n",
       "      <td>0.836524</td>\n",
       "      <td>1.471740</td>\n",
       "      <td>36.2136</td>\n",
       "      <td>-0.532520</td>\n",
       "      <td>-1.652390</td>\n",
       "    </tr>\n",
       "    <tr>\n",
       "      <th>26</th>\n",
       "      <td>40.4100</td>\n",
       "      <td>0.836524</td>\n",
       "      <td>1.471740</td>\n",
       "      <td>36.2136</td>\n",
       "      <td>-0.532520</td>\n",
       "      <td>-1.652390</td>\n",
       "    </tr>\n",
       "    <tr>\n",
       "      <th>27</th>\n",
       "      <td>40.4100</td>\n",
       "      <td>0.836524</td>\n",
       "      <td>1.471740</td>\n",
       "      <td>36.2136</td>\n",
       "      <td>-0.532520</td>\n",
       "      <td>-1.652390</td>\n",
       "    </tr>\n",
       "    <tr>\n",
       "      <th>28</th>\n",
       "      <td>45.5010</td>\n",
       "      <td>-1.558430</td>\n",
       "      <td>-1.624000</td>\n",
       "      <td>30.6742</td>\n",
       "      <td>-0.220038</td>\n",
       "      <td>1.764730</td>\n",
       "    </tr>\n",
       "    <tr>\n",
       "      <th>29</th>\n",
       "      <td>30.6742</td>\n",
       "      <td>-0.220038</td>\n",
       "      <td>1.764730</td>\n",
       "      <td>45.5010</td>\n",
       "      <td>-1.558430</td>\n",
       "      <td>-1.624000</td>\n",
       "    </tr>\n",
       "    <tr>\n",
       "      <th>...</th>\n",
       "      <td>...</td>\n",
       "      <td>...</td>\n",
       "      <td>...</td>\n",
       "      <td>...</td>\n",
       "      <td>...</td>\n",
       "      <td>...</td>\n",
       "    </tr>\n",
       "    <tr>\n",
       "      <th>2274</th>\n",
       "      <td>22.7892</td>\n",
       "      <td>0.283717</td>\n",
       "      <td>-0.731298</td>\n",
       "      <td>30.8493</td>\n",
       "      <td>1.494610</td>\n",
       "      <td>2.793680</td>\n",
       "    </tr>\n",
       "    <tr>\n",
       "      <th>2275</th>\n",
       "      <td>22.7892</td>\n",
       "      <td>0.283717</td>\n",
       "      <td>-0.731298</td>\n",
       "      <td>30.8493</td>\n",
       "      <td>1.494610</td>\n",
       "      <td>2.793680</td>\n",
       "    </tr>\n",
       "    <tr>\n",
       "      <th>2276</th>\n",
       "      <td>57.6002</td>\n",
       "      <td>-0.562840</td>\n",
       "      <td>2.953590</td>\n",
       "      <td>33.0368</td>\n",
       "      <td>-0.202614</td>\n",
       "      <td>-0.058318</td>\n",
       "    </tr>\n",
       "    <tr>\n",
       "      <th>2277</th>\n",
       "      <td>33.0368</td>\n",
       "      <td>-0.202614</td>\n",
       "      <td>-0.058318</td>\n",
       "      <td>57.6002</td>\n",
       "      <td>-0.562840</td>\n",
       "      <td>2.953590</td>\n",
       "    </tr>\n",
       "    <tr>\n",
       "      <th>2278</th>\n",
       "      <td>33.0368</td>\n",
       "      <td>-0.202614</td>\n",
       "      <td>-0.058318</td>\n",
       "      <td>57.6002</td>\n",
       "      <td>-0.562840</td>\n",
       "      <td>2.953590</td>\n",
       "    </tr>\n",
       "    <tr>\n",
       "      <th>2279</th>\n",
       "      <td>33.0368</td>\n",
       "      <td>-0.202614</td>\n",
       "      <td>-0.058318</td>\n",
       "      <td>57.6002</td>\n",
       "      <td>-0.562840</td>\n",
       "      <td>2.953590</td>\n",
       "    </tr>\n",
       "    <tr>\n",
       "      <th>2280</th>\n",
       "      <td>37.0238</td>\n",
       "      <td>-0.541225</td>\n",
       "      <td>-2.911150</td>\n",
       "      <td>53.1578</td>\n",
       "      <td>0.117666</td>\n",
       "      <td>0.809582</td>\n",
       "    </tr>\n",
       "    <tr>\n",
       "      <th>2281</th>\n",
       "      <td>53.1578</td>\n",
       "      <td>0.117666</td>\n",
       "      <td>0.809582</td>\n",
       "      <td>37.0238</td>\n",
       "      <td>-0.541225</td>\n",
       "      <td>-2.911150</td>\n",
       "    </tr>\n",
       "    <tr>\n",
       "      <th>2282</th>\n",
       "      <td>53.1578</td>\n",
       "      <td>0.117666</td>\n",
       "      <td>0.809582</td>\n",
       "      <td>37.0238</td>\n",
       "      <td>-0.541225</td>\n",
       "      <td>-2.911150</td>\n",
       "    </tr>\n",
       "    <tr>\n",
       "      <th>2283</th>\n",
       "      <td>53.1578</td>\n",
       "      <td>0.117666</td>\n",
       "      <td>0.809582</td>\n",
       "      <td>37.0238</td>\n",
       "      <td>-0.541225</td>\n",
       "      <td>-2.911150</td>\n",
       "    </tr>\n",
       "    <tr>\n",
       "      <th>2284</th>\n",
       "      <td>31.9470</td>\n",
       "      <td>-0.919537</td>\n",
       "      <td>-0.792207</td>\n",
       "      <td>44.0974</td>\n",
       "      <td>0.610767</td>\n",
       "      <td>1.466140</td>\n",
       "    </tr>\n",
       "    <tr>\n",
       "      <th>2285</th>\n",
       "      <td>44.0974</td>\n",
       "      <td>0.610767</td>\n",
       "      <td>1.466140</td>\n",
       "      <td>31.9470</td>\n",
       "      <td>-0.919537</td>\n",
       "      <td>-0.792207</td>\n",
       "    </tr>\n",
       "    <tr>\n",
       "      <th>2286</th>\n",
       "      <td>44.0974</td>\n",
       "      <td>0.610767</td>\n",
       "      <td>1.466140</td>\n",
       "      <td>31.9470</td>\n",
       "      <td>-0.919537</td>\n",
       "      <td>-0.792207</td>\n",
       "    </tr>\n",
       "    <tr>\n",
       "      <th>2287</th>\n",
       "      <td>44.0974</td>\n",
       "      <td>0.610767</td>\n",
       "      <td>1.466140</td>\n",
       "      <td>31.9470</td>\n",
       "      <td>-0.919537</td>\n",
       "      <td>-0.792207</td>\n",
       "    </tr>\n",
       "    <tr>\n",
       "      <th>2288</th>\n",
       "      <td>41.9655</td>\n",
       "      <td>-0.390468</td>\n",
       "      <td>3.077270</td>\n",
       "      <td>48.6344</td>\n",
       "      <td>-0.618444</td>\n",
       "      <td>0.190813</td>\n",
       "    </tr>\n",
       "    <tr>\n",
       "      <th>2289</th>\n",
       "      <td>48.6344</td>\n",
       "      <td>-0.618444</td>\n",
       "      <td>0.190813</td>\n",
       "      <td>41.9655</td>\n",
       "      <td>-0.390468</td>\n",
       "      <td>3.077270</td>\n",
       "    </tr>\n",
       "    <tr>\n",
       "      <th>2290</th>\n",
       "      <td>48.6344</td>\n",
       "      <td>-0.618444</td>\n",
       "      <td>0.190813</td>\n",
       "      <td>41.9655</td>\n",
       "      <td>-0.390468</td>\n",
       "      <td>3.077270</td>\n",
       "    </tr>\n",
       "    <tr>\n",
       "      <th>2291</th>\n",
       "      <td>48.6344</td>\n",
       "      <td>-0.618444</td>\n",
       "      <td>0.190813</td>\n",
       "      <td>41.9655</td>\n",
       "      <td>-0.390468</td>\n",
       "      <td>3.077270</td>\n",
       "    </tr>\n",
       "    <tr>\n",
       "      <th>2292</th>\n",
       "      <td>37.0110</td>\n",
       "      <td>1.725080</td>\n",
       "      <td>-1.995740</td>\n",
       "      <td>33.5792</td>\n",
       "      <td>0.324654</td>\n",
       "      <td>1.174330</td>\n",
       "    </tr>\n",
       "    <tr>\n",
       "      <th>2293</th>\n",
       "      <td>33.5792</td>\n",
       "      <td>0.324654</td>\n",
       "      <td>1.174330</td>\n",
       "      <td>37.0110</td>\n",
       "      <td>1.725080</td>\n",
       "      <td>-1.995740</td>\n",
       "    </tr>\n",
       "    <tr>\n",
       "      <th>2294</th>\n",
       "      <td>33.5792</td>\n",
       "      <td>0.324654</td>\n",
       "      <td>1.174330</td>\n",
       "      <td>37.0110</td>\n",
       "      <td>1.725080</td>\n",
       "      <td>-1.995740</td>\n",
       "    </tr>\n",
       "    <tr>\n",
       "      <th>2295</th>\n",
       "      <td>33.5792</td>\n",
       "      <td>0.324654</td>\n",
       "      <td>1.174330</td>\n",
       "      <td>37.0110</td>\n",
       "      <td>1.725080</td>\n",
       "      <td>-1.995740</td>\n",
       "    </tr>\n",
       "    <tr>\n",
       "      <th>2296</th>\n",
       "      <td>22.8145</td>\n",
       "      <td>-0.645971</td>\n",
       "      <td>-2.404430</td>\n",
       "      <td>24.1264</td>\n",
       "      <td>0.818806</td>\n",
       "      <td>0.661492</td>\n",
       "    </tr>\n",
       "    <tr>\n",
       "      <th>2297</th>\n",
       "      <td>24.1264</td>\n",
       "      <td>0.818806</td>\n",
       "      <td>0.661492</td>\n",
       "      <td>22.8145</td>\n",
       "      <td>-0.645971</td>\n",
       "      <td>-2.404430</td>\n",
       "    </tr>\n",
       "    <tr>\n",
       "      <th>2298</th>\n",
       "      <td>24.1264</td>\n",
       "      <td>0.818806</td>\n",
       "      <td>0.661492</td>\n",
       "      <td>22.8145</td>\n",
       "      <td>-0.645971</td>\n",
       "      <td>-2.404430</td>\n",
       "    </tr>\n",
       "    <tr>\n",
       "      <th>2299</th>\n",
       "      <td>24.1264</td>\n",
       "      <td>0.818806</td>\n",
       "      <td>0.661492</td>\n",
       "      <td>22.8145</td>\n",
       "      <td>-0.645971</td>\n",
       "      <td>-2.404430</td>\n",
       "    </tr>\n",
       "    <tr>\n",
       "      <th>2300</th>\n",
       "      <td>72.8781</td>\n",
       "      <td>-1.482700</td>\n",
       "      <td>-2.775240</td>\n",
       "      <td>32.3997</td>\n",
       "      <td>-1.570440</td>\n",
       "      <td>0.037027</td>\n",
       "    </tr>\n",
       "    <tr>\n",
       "      <th>2301</th>\n",
       "      <td>32.3997</td>\n",
       "      <td>-1.570440</td>\n",
       "      <td>0.037027</td>\n",
       "      <td>72.8781</td>\n",
       "      <td>-1.482700</td>\n",
       "      <td>-2.775240</td>\n",
       "    </tr>\n",
       "    <tr>\n",
       "      <th>2302</th>\n",
       "      <td>32.3997</td>\n",
       "      <td>-1.570440</td>\n",
       "      <td>0.037027</td>\n",
       "      <td>72.8781</td>\n",
       "      <td>-1.482700</td>\n",
       "      <td>-2.775240</td>\n",
       "    </tr>\n",
       "    <tr>\n",
       "      <th>2303</th>\n",
       "      <td>32.3997</td>\n",
       "      <td>-1.570440</td>\n",
       "      <td>0.037027</td>\n",
       "      <td>72.8781</td>\n",
       "      <td>-1.482700</td>\n",
       "      <td>-2.775240</td>\n",
       "    </tr>\n",
       "  </tbody>\n",
       "</table>\n",
       "<p>2304 rows × 6 columns</p>\n",
       "</div>"
      ],
      "text/plain": [
       "          pt1      eta1      phi1      pt2      eta2      phi2\n",
       "0     44.7322 -1.217690  2.741260  38.8311 -1.051390 -0.440873\n",
       "1     38.8311 -1.051390 -0.440873  44.7322 -1.217690  2.741260\n",
       "2     38.8311 -1.051390 -0.440873  44.7322 -1.217690  2.741260\n",
       "3     38.8311 -1.051390 -0.440873  44.7322 -1.217690  2.741260\n",
       "4     27.2981 -0.990688  0.583351  21.8913  1.444340 -2.707650\n",
       "5     21.8913  1.444340 -2.707650  27.2981 -0.990688  0.583351\n",
       "6     21.8913  1.444340 -2.707650  27.2981 -0.990688  0.583351\n",
       "7     21.8913  1.444340 -2.707650  27.2981 -0.990688  0.583351\n",
       "8     77.0336 -1.140270  0.393582  72.7634 -0.637934 -0.793162\n",
       "9     72.7634 -0.637934 -0.793162  77.0336 -1.140270  0.393582\n",
       "10    72.7634 -0.637934 -0.793162  77.0336 -1.140270  0.393582\n",
       "11    72.7634 -0.637934 -0.793162  77.0336 -1.140270  0.393582\n",
       "12    44.5173  0.426044 -0.070413  40.6637 -0.525298  2.873290\n",
       "13    40.6637 -0.525298  2.873290  44.5173  0.426044 -0.070413\n",
       "14    40.6637 -0.525298  2.873290  44.5173  0.426044 -0.070413\n",
       "15    40.6637 -0.525298  2.873290  44.5173  0.426044 -0.070413\n",
       "16    27.4237 -1.368470  0.112680  42.3231 -1.264190 -3.021950\n",
       "17    42.3231 -1.264190 -3.021950  27.4237 -1.368470  0.112680\n",
       "18    42.3231 -1.264190 -3.021950  27.4237 -1.368470  0.112680\n",
       "19    42.3231 -1.264190 -3.021950  27.4237 -1.368470  0.112680\n",
       "20    35.9165  1.432090 -2.431830  44.8701  0.496169  0.721981\n",
       "21    44.8701  0.496169  0.721981  35.9165  1.432090 -2.431830\n",
       "22    44.8701  0.496169  0.721981  35.9165  1.432090 -2.431830\n",
       "23    44.8701  0.496169  0.721981  35.9165  1.432090 -2.431830\n",
       "24    36.2136 -0.532520 -1.652390  40.4100  0.836524  1.471740\n",
       "25    40.4100  0.836524  1.471740  36.2136 -0.532520 -1.652390\n",
       "26    40.4100  0.836524  1.471740  36.2136 -0.532520 -1.652390\n",
       "27    40.4100  0.836524  1.471740  36.2136 -0.532520 -1.652390\n",
       "28    45.5010 -1.558430 -1.624000  30.6742 -0.220038  1.764730\n",
       "29    30.6742 -0.220038  1.764730  45.5010 -1.558430 -1.624000\n",
       "...       ...       ...       ...      ...       ...       ...\n",
       "2274  22.7892  0.283717 -0.731298  30.8493  1.494610  2.793680\n",
       "2275  22.7892  0.283717 -0.731298  30.8493  1.494610  2.793680\n",
       "2276  57.6002 -0.562840  2.953590  33.0368 -0.202614 -0.058318\n",
       "2277  33.0368 -0.202614 -0.058318  57.6002 -0.562840  2.953590\n",
       "2278  33.0368 -0.202614 -0.058318  57.6002 -0.562840  2.953590\n",
       "2279  33.0368 -0.202614 -0.058318  57.6002 -0.562840  2.953590\n",
       "2280  37.0238 -0.541225 -2.911150  53.1578  0.117666  0.809582\n",
       "2281  53.1578  0.117666  0.809582  37.0238 -0.541225 -2.911150\n",
       "2282  53.1578  0.117666  0.809582  37.0238 -0.541225 -2.911150\n",
       "2283  53.1578  0.117666  0.809582  37.0238 -0.541225 -2.911150\n",
       "2284  31.9470 -0.919537 -0.792207  44.0974  0.610767  1.466140\n",
       "2285  44.0974  0.610767  1.466140  31.9470 -0.919537 -0.792207\n",
       "2286  44.0974  0.610767  1.466140  31.9470 -0.919537 -0.792207\n",
       "2287  44.0974  0.610767  1.466140  31.9470 -0.919537 -0.792207\n",
       "2288  41.9655 -0.390468  3.077270  48.6344 -0.618444  0.190813\n",
       "2289  48.6344 -0.618444  0.190813  41.9655 -0.390468  3.077270\n",
       "2290  48.6344 -0.618444  0.190813  41.9655 -0.390468  3.077270\n",
       "2291  48.6344 -0.618444  0.190813  41.9655 -0.390468  3.077270\n",
       "2292  37.0110  1.725080 -1.995740  33.5792  0.324654  1.174330\n",
       "2293  33.5792  0.324654  1.174330  37.0110  1.725080 -1.995740\n",
       "2294  33.5792  0.324654  1.174330  37.0110  1.725080 -1.995740\n",
       "2295  33.5792  0.324654  1.174330  37.0110  1.725080 -1.995740\n",
       "2296  22.8145 -0.645971 -2.404430  24.1264  0.818806  0.661492\n",
       "2297  24.1264  0.818806  0.661492  22.8145 -0.645971 -2.404430\n",
       "2298  24.1264  0.818806  0.661492  22.8145 -0.645971 -2.404430\n",
       "2299  24.1264  0.818806  0.661492  22.8145 -0.645971 -2.404430\n",
       "2300  72.8781 -1.482700 -2.775240  32.3997 -1.570440  0.037027\n",
       "2301  32.3997 -1.570440  0.037027  72.8781 -1.482700 -2.775240\n",
       "2302  32.3997 -1.570440  0.037027  72.8781 -1.482700 -2.775240\n",
       "2303  32.3997 -1.570440  0.037027  72.8781 -1.482700 -2.775240\n",
       "\n",
       "[2304 rows x 6 columns]"
      ]
     },
     "execution_count": 80,
     "metadata": {},
     "output_type": "execute_result"
    }
   ],
   "source": [
    "tree = uproot.open(\"Zmumu.root\")[\"events\"]\n",
    "tree.pandas.df([\"pt1\", \"eta1\", \"phi1\", \"pt2\", \"eta2\", \"phi2\"])"
   ]
  },
  {
   "cell_type": "markdown",
   "metadata": {},
   "source": [
    "This method takes the same **branches**, **entrystart**, **entrystop**, **cache**, **basketcache**, **keycache**, and **executor** methods as all the other array methods.\n",
    "\n",
    "Note that `pandas.DataFrame` is also a recognized option for all **outputtype** parameters, so you can, for instance, iterate through DataFrames with `uproot.iterate(\"files*.root\", \"treename\", outputtype=pandas.DataFrame)`."
   ]
  }
 ],
 "metadata": {
  "kernelspec": {
   "display_name": "Python 3",
   "language": "python",
   "name": "python3"
  },
  "language_info": {
   "codemirror_mode": {
    "name": "ipython",
    "version": 3
   },
   "file_extension": ".py",
   "mimetype": "text/x-python",
   "name": "python",
   "nbconvert_exporter": "python",
   "pygments_lexer": "ipython3",
   "version": "3.7.1"
  }
 },
 "nbformat": 4,
 "nbformat_minor": 2
}
