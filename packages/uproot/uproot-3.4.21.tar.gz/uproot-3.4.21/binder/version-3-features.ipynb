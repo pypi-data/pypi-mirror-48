{
 "cells": [
  {
   "cell_type": "markdown",
   "metadata": {},
   "source": [
    "# uproot 3 features\n",
    "\n",
    "This notebook is primarily about what you can do in uproot 3 that you couldn't do in uproot 2. See the [main tutorial](https://mybinder.org/v2/gh/scikit-hep/uproot/master?urlpath=lab/tree/binder%2Ftutorial.ipynb) for a basic introduction to uproot.\n",
    "\n",
    "The main differences are:\n",
    "\n",
    "   * **more modularization:** uproot is concerned purely with file I/O; functions for interacting with histograms and physics objects like TLorentzVectors have been moved to [uproot-methods](https://github.com/scikit-hep/uproot-methods). Nested data (jagged arrays) have moved to the new [awkward-array](https://github.com/scikit-hep/awkward-array) library. Also, uproot no longer has its own implementation of dict-like caches— instead, we use the third-party [cachetools](https://cachetools.readthedocs.io/en/latest/) library. As a user, this means that you can use whichever combination of versions you need: e.g. bleeding-edge object methods with a stable file I/O.\n",
    "   * **jagged and object array operations:** now when you read data with structure or class definitions, you can perform Numpy-like operations on them. More on that below.\n",
    "   * **writing ROOT files:** basic support for writing ROOT files has begun, with more on the way.\n",
    "\n",
    "Let's get started!\n",
    "\n",
    "This notebook has uproot 3 installed with one example file:\n",
    "\n",
    "```\n",
    "wget http://scikit-hep.org/uproot/examples/HZZ-objects.root\n",
    "```"
   ]
  },
  {
   "cell_type": "code",
   "execution_count": 1,
   "metadata": {},
   "outputs": [],
   "source": [
    "import math\n",
    "import numpy\n",
    "import uproot\n",
    "events = uproot.open(\"HZZ-objects.root\")[\"events\"]"
   ]
  },
  {
   "cell_type": "markdown",
   "metadata": {},
   "source": [
    "## Object arrays\n",
    "\n",
    "Since uproot 2, you could read TTree branches describing class objects (defined by ROOT's streamers). This includes STL collections, TVectors, and even histograms— if you should want to store histograms in a TTree. However, it also meant leaving the high-speed Numpy world for slow pure-Python code. In uproot 3, fixed-size objects are interpreted as `awkward.ObjectArrays`, which do most operations in a vectorized way across the fields of the data."
   ]
  },
  {
   "cell_type": "code",
   "execution_count": 2,
   "metadata": {},
   "outputs": [
    {
     "data": {
      "text/plain": [
       "<ObjectArrayMethods [TVector2(5.9128, 2.5636) TVector2(24.765, -16.349) TVector2(-25.785, 16.237) ... TVector2(18.102, 50.291) TVector2(79.875, -52.351) TVector2(19.714, -3.5954)] at 0x7656000b0908>"
      ]
     },
     "execution_count": 2,
     "metadata": {},
     "output_type": "execute_result"
    }
   ],
   "source": [
    "MET = events.array(\"MET\")\n",
    "MET"
   ]
  },
  {
   "cell_type": "markdown",
   "metadata": {},
   "source": [
    "The array above appears to contain `TVector2` objects. However, it only creates `TVector2` objects on demand (such as in the print-out). What we have actually loaded is the individual fields (`fX` and `fY`) as separate Numpy arrays."
   ]
  },
  {
   "cell_type": "code",
   "execution_count": 3,
   "metadata": {},
   "outputs": [
    {
     "data": {
      "text/plain": [
       "[' fBits', ' fUniqueID', 'fX', 'fY']"
      ]
     },
     "execution_count": 3,
     "metadata": {},
     "output_type": "execute_result"
    }
   ],
   "source": [
    "MET.columns"
   ]
  },
  {
   "cell_type": "markdown",
   "metadata": {},
   "source": [
    "(The `fBits` and `fUniqueID` columns exist in the data, but they're not interesting for physics. This is hinted by the fact that they begin with a space, a non-identifier character.)"
   ]
  },
  {
   "cell_type": "code",
   "execution_count": 4,
   "metadata": {},
   "outputs": [
    {
     "data": {
      "text/plain": [
       "array([  5.91277122,  24.76520348, -25.78508759, ...,  18.10164642,\n",
       "        79.87519073,  19.71374893])"
      ]
     },
     "execution_count": 4,
     "metadata": {},
     "output_type": "execute_result"
    }
   ],
   "source": [
    "MET[\"fX\"]"
   ]
  },
  {
   "cell_type": "code",
   "execution_count": 5,
   "metadata": {
    "scrolled": true
   },
   "outputs": [
    {
     "data": {
      "text/plain": [
       "array([  2.5636332 , -16.34910965,  16.23713112, ...,  50.29071808,\n",
       "       -52.35145187,  -3.59541821])"
      ]
     },
     "execution_count": 5,
     "metadata": {},
     "output_type": "execute_result"
    }
   ],
   "source": [
    "MET[\"fY\"]"
   ]
  },
  {
   "cell_type": "markdown",
   "metadata": {},
   "source": [
    "Although you can pull out any element as a `TVector2` Python object (creating it on demand),"
   ]
  },
  {
   "cell_type": "code",
   "execution_count": 6,
   "metadata": {
    "scrolled": true
   },
   "outputs": [
    {
     "data": {
      "text/plain": [
       "(TVector2(-25.785, 16.237), 30.471546871754967)"
      ]
     },
     "execution_count": 6,
     "metadata": {},
     "output_type": "execute_result"
    }
   ],
   "source": [
    "MET[2], math.sqrt(MET[2].x**2 + MET[2].y**2)"
   ]
  },
  {
   "cell_type": "markdown",
   "metadata": {},
   "source": [
    "or (gasp!) iterate over them in a Python for loop,"
   ]
  },
  {
   "cell_type": "code",
   "execution_count": 7,
   "metadata": {},
   "outputs": [
    {
     "name": "stdout",
     "output_type": "stream",
     "text": [
      "TVector2(5.9128, 2.5636) 6.444616261735072\n",
      "TVector2(24.765, -16.349) 29.67505163503274\n",
      "TVector2(-25.785, 16.237) 30.471546871754967\n",
      "TVector2(8.6199, -22.787) 24.362457116812326\n",
      "TVector2(5.3931, -1.3101) 5.5499715598881885\n",
      "TVector2(-3.7595, -19.417) 19.777622472715098\n",
      "TVector2(23.962, -9.0492) 25.61389850143991\n",
      "TVector2(-57.533, -20.488) 61.072343275467276\n",
      "TVector2(42.416, -94.351) 103.44669393597131\n",
      "TVector2(-1.9145, -23.963) 24.039388019581505\n",
      "TVector2(19.71, 4.6455) 20.250114726294257\n",
      "TVector2(-35.538, -14.754) 38.47893782676562\n"
     ]
    }
   ],
   "source": [
    "for i, met in enumerate(MET):\n",
    "    print(met, math.sqrt(met.x**2 + met.y**2))\n",
    "    if i > 10:\n",
    "        break"
   ]
  },
  {
   "cell_type": "markdown",
   "metadata": {},
   "source": [
    "it's much faster to do operations across the whole array."
   ]
  },
  {
   "cell_type": "code",
   "execution_count": 8,
   "metadata": {},
   "outputs": [
    {
     "data": {
      "text/plain": [
       "array([ 6.44461626, 29.67505164, 30.47154687, ..., 53.4492837 ,\n",
       "       95.50246389, 20.03893533])"
      ]
     },
     "execution_count": 8,
     "metadata": {},
     "output_type": "execute_result"
    }
   ],
   "source": [
    "numpy.sqrt(MET.x**2 + MET.y**2)"
   ]
  },
  {
   "cell_type": "markdown",
   "metadata": {},
   "source": [
    "Physics objects like `TVector2` have many methods, which are computed in Python if applied to a Python object but computed in Numpy if applied to a whole array."
   ]
  },
  {
   "cell_type": "code",
   "execution_count": 9,
   "metadata": {},
   "outputs": [
    {
     "data": {
      "text/plain": [
       "30.471546871754967"
      ]
     },
     "execution_count": 9,
     "metadata": {},
     "output_type": "execute_result"
    }
   ],
   "source": [
    "MET[2].mag"
   ]
  },
  {
   "cell_type": "code",
   "execution_count": 10,
   "metadata": {},
   "outputs": [
    {
     "data": {
      "text/plain": [
       "array([ 6.44461626, 29.67505164, 30.47154687, ..., 53.4492837 ,\n",
       "       95.50246389, 20.03893533])"
      ]
     },
     "execution_count": 10,
     "metadata": {},
     "output_type": "execute_result"
    }
   ],
   "source": [
    "MET.mag"
   ]
  },
  {
   "cell_type": "code",
   "execution_count": 11,
   "metadata": {},
   "outputs": [
    {
     "data": {
      "text/plain": [
       "2.5796134389921948"
      ]
     },
     "execution_count": 11,
     "metadata": {},
     "output_type": "execute_result"
    }
   ],
   "source": [
    "MET[2].phi"
   ]
  },
  {
   "cell_type": "code",
   "execution_count": 12,
   "metadata": {},
   "outputs": [
    {
     "data": {
      "text/plain": [
       "array([ 0.40911176, -0.58348763,  2.57961344, ...,  1.22529377,\n",
       "       -0.58017296, -0.1803985 ])"
      ]
     },
     "execution_count": 12,
     "metadata": {},
     "output_type": "execute_result"
    }
   ],
   "source": [
    "MET.phi"
   ]
  },
  {
   "cell_type": "markdown",
   "metadata": {},
   "source": [
    "Numpy operations apply elementwise to this array of `TVector2`, just as they would to Numpy arrays. Addition and multiplication are handled in physically meaningful ways."
   ]
  },
  {
   "cell_type": "code",
   "execution_count": 13,
   "metadata": {},
   "outputs": [
    {
     "data": {
      "text/plain": [
       "<ObjectArrayMethods [TVector2(11.826, 5.1273) TVector2(49.53, -32.698) TVector2(-51.57, 32.474) ... TVector2(36.203, 100.58) TVector2(159.75, -104.7) TVector2(39.427, -7.1908)] at 0x765600045208>"
      ]
     },
     "execution_count": 13,
     "metadata": {},
     "output_type": "execute_result"
    }
   ],
   "source": [
    "MET + MET     # or numpy.add(MET, MET)"
   ]
  },
  {
   "cell_type": "code",
   "execution_count": 14,
   "metadata": {},
   "outputs": [
    {
     "data": {
      "text/plain": [
       "<ObjectArrayMethods [TVector2(11.826, 5.1273) TVector2(49.53, -32.698) TVector2(-51.57, 32.474) ... TVector2(36.203, 100.58) TVector2(159.75, -104.7) TVector2(39.427, -7.1908)] at 0x765600045780>"
      ]
     },
     "execution_count": 14,
     "metadata": {},
     "output_type": "execute_result"
    }
   ],
   "source": [
    "MET * 2       # same output"
   ]
  },
  {
   "cell_type": "code",
   "execution_count": 15,
   "metadata": {},
   "outputs": [
    {
     "name": "stdout",
     "output_type": "stream",
     "text": [
      "You can't add scalars to vectors (or multiply vectors to vectors).\n"
     ]
    }
   ],
   "source": [
    "try:\n",
    "    MET + 2\n",
    "except TypeError:\n",
    "    print(\"You can't add scalars to vectors (or multiply vectors to vectors).\")"
   ]
  },
  {
   "cell_type": "code",
   "execution_count": 16,
   "metadata": {},
   "outputs": [
    {
     "data": {
      "text/plain": [
       "array([  41.53307876,  880.60868954,  928.51516876, ..., 2856.8259281 ,\n",
       "       9120.72060822,  401.55892909])"
      ]
     },
     "execution_count": 16,
     "metadata": {},
     "output_type": "execute_result"
    }
   ],
   "source": [
    "MET.dot(MET)"
   ]
  },
  {
   "cell_type": "code",
   "execution_count": 17,
   "metadata": {},
   "outputs": [
    {
     "data": {
      "text/plain": [
       "array([  41.53307876,  880.60868954,  928.51516876, ..., 2856.8259281 ,\n",
       "       9120.72060822,  401.55892909])"
      ]
     },
     "execution_count": 17,
     "metadata": {},
     "output_type": "execute_result"
    }
   ],
   "source": [
    "MET.mag2"
   ]
  },
  {
   "cell_type": "code",
   "execution_count": 18,
   "metadata": {},
   "outputs": [
    {
     "data": {
      "text/plain": [
       "array([0., 0., 0., ..., 0., 0., 0.])"
      ]
     },
     "execution_count": 18,
     "metadata": {},
     "output_type": "execute_result"
    }
   ],
   "source": [
    "MET.delta_phi(MET)"
   ]
  },
  {
   "cell_type": "code",
   "execution_count": 19,
   "metadata": {},
   "outputs": [
    {
     "data": {
      "text/plain": [
       "array([ True,  True,  True, ...,  True,  True,  True])"
      ]
     },
     "execution_count": 19,
     "metadata": {},
     "output_type": "execute_result"
    }
   ],
   "source": [
    "MET.isparallel(MET)"
   ]
  },
  {
   "cell_type": "markdown",
   "metadata": {},
   "source": [
    "## Jagged array operations\n",
    "\n",
    "Just as in uproot 2, array-valued and `std::vector`-valued branches are presented as `JaggedArrays`. Unlike uproot 2, these are now being developed in an external library, awkward-array, with a rich set of operations that extend Numpy's built-in rules for broadcasting and indexing arrays."
   ]
  },
  {
   "cell_type": "code",
   "execution_count": 20,
   "metadata": {},
   "outputs": [
    {
     "data": {
      "text/plain": [
       "<JaggedArray [[4.200153350830078 2.1510612964630127] [2.188047409057617] [1.412821650505066 3.3835041522979736] ... [3.7629451751708984] [0.550810694694519] [0.0]] at 0x7656000457b8>"
      ]
     },
     "execution_count": 20,
     "metadata": {},
     "output_type": "execute_result"
    }
   ],
   "source": [
    "muoniso = events.array(\"muoniso\")\n",
    "muoniso"
   ]
  },
  {
   "cell_type": "markdown",
   "metadata": {},
   "source": [
    "Just as with object arrays, this is not a array of thousands of one- and two-element arrays; this is efficiently stored as contiguous arrays that generate subarrays on demand."
   ]
  },
  {
   "cell_type": "code",
   "execution_count": 21,
   "metadata": {},
   "outputs": [
    {
     "data": {
      "text/plain": [
       "array([1.4128217, 3.3835042], dtype=float32)"
      ]
     },
     "execution_count": 21,
     "metadata": {},
     "output_type": "execute_result"
    }
   ],
   "source": [
    "muoniso[2]"
   ]
  },
  {
   "cell_type": "code",
   "execution_count": 22,
   "metadata": {},
   "outputs": [
    {
     "name": "stdout",
     "output_type": "stream",
     "text": [
      "4.2001534     \t2.1510613     \t\n",
      "2.1880474     \t\n",
      "1.4128217     \t3.3835042     \t\n",
      "2.7284882     \t0.5522966     \t\n",
      "0.0     \t0.8563976     \t\n",
      "0.0     \t1.4929442     \t\n",
      "0.6231756     \t0.0     \t\n",
      "2.4025257     \t\n",
      "0.0     \t0.0     \t\n",
      "0.0     \t1.7698176     \t\n",
      "2.0015755     \t0.6041591     \t\n",
      "0.0     \t0.76338214     \t\n"
     ]
    }
   ],
   "source": [
    "for i, event_muoniso in enumerate(muoniso):\n",
    "    for particle_muoniso in event_muoniso:\n",
    "        print(particle_muoniso, end=\"     \\t\")\n",
    "    print()\n",
    "    if i > 10:\n",
    "        break"
   ]
  },
  {
   "cell_type": "code",
   "execution_count": 23,
   "metadata": {},
   "outputs": [
    {
     "data": {
      "text/plain": [
       "array([4.2001534, 2.1510613, 2.1880474, ..., 3.7629452, 0.5508107,\n",
       "       0.       ], dtype=float32)"
      ]
     },
     "execution_count": 23,
     "metadata": {},
     "output_type": "execute_result"
    }
   ],
   "source": [
    "muoniso.content"
   ]
  },
  {
   "cell_type": "code",
   "execution_count": 24,
   "metadata": {},
   "outputs": [
    {
     "data": {
      "text/plain": [
       "array([2, 1, 2, ..., 1, 1, 1])"
      ]
     },
     "execution_count": 24,
     "metadata": {},
     "output_type": "execute_result"
    }
   ],
   "source": [
    "muoniso.counts"
   ]
  },
  {
   "cell_type": "markdown",
   "metadata": {},
   "source": [
    "What's new is that you can manipulate jagged arrays without resorting to for loops. This makes for more succinct code (a few characters, rather than the indented body of a for loop), but it's also much faster because it is implemented in Numpy (vectorized; contiguous memory access).\n",
    "\n",
    "In the following, we multiply each muon isolation variable by the muon charge (just an example, not physically meaningful) and maintain the structure of which muon belongs to which event."
   ]
  },
  {
   "cell_type": "code",
   "execution_count": 25,
   "metadata": {},
   "outputs": [
    {
     "data": {
      "text/plain": [
       "<JaggedArray [[4.200153350830078 -2.1510612964630127] [2.188047409057617] [1.412821650505066 -3.3835041522979736] ... [-3.7629451751708984] [-0.550810694694519] [-0.0]] at 0x7656000b6470>"
      ]
     },
     "execution_count": 25,
     "metadata": {},
     "output_type": "execute_result"
    }
   ],
   "source": [
    "muoniso * events.array(\"muonq\")"
   ]
  },
  {
   "cell_type": "markdown",
   "metadata": {},
   "source": [
    "Naturally, the jagged structure of the two arrays must match."
   ]
  },
  {
   "cell_type": "code",
   "execution_count": 26,
   "metadata": {},
   "outputs": [
    {
     "name": "stdout",
     "output_type": "stream",
     "text": [
      "Not all events have the same number of electrons as muons (in fact, most don't).\n"
     ]
    }
   ],
   "source": [
    "try:\n",
    "    muoniso + events.array(\"electroniso\")\n",
    "except ValueError:\n",
    "    print(\"Not all events have the same number of electrons as muons (in fact, most don't).\")"
   ]
  },
  {
   "cell_type": "markdown",
   "metadata": {},
   "source": [
    "But if you operate on a jagged array and a flat array, you can \"broadcast\" each event's value to all associated particles' values. Here's a simple example to illustrate that:"
   ]
  },
  {
   "cell_type": "code",
   "execution_count": 27,
   "metadata": {},
   "outputs": [
    {
     "data": {
      "text/plain": [
       "<JaggedArray [[101 102 103] [] [304 305]] at 0x7656000b6a90>"
      ]
     },
     "execution_count": 27,
     "metadata": {},
     "output_type": "execute_result"
    }
   ],
   "source": [
    "import awkward\n",
    "per_particle = awkward.JaggedArray.fromiter([[1, 2, 3], [], [4, 5]])\n",
    "per_event = numpy.array([100, 200, 300])\n",
    "\n",
    "per_particle + per_event"
   ]
  },
  {
   "cell_type": "markdown",
   "metadata": {},
   "source": [
    "100 was added to all three of the particles in the first event, 200 was added to nothing because there are no particles in the second event, and 300 was added to all particles in the third event.\n",
    "\n",
    "As a physically meaningful example, you might want to take the phi difference between each jet in an event with the event's MET."
   ]
  },
  {
   "cell_type": "code",
   "execution_count": 28,
   "metadata": {},
   "outputs": [
    {
     "data": {
      "text/plain": [
       "<JaggedArray [[] [3.2527025700938905] [] ... [-2.8956145189632685] [3.448950466763478 -1.5021942373563388] []] at 0x7656000b6ef0>"
      ]
     },
     "execution_count": 28,
     "metadata": {},
     "output_type": "execute_result"
    }
   ],
   "source": [
    "events.array(\"jetp4\").phi - events.array(\"MET\").phi"
   ]
  },
  {
   "cell_type": "markdown",
   "metadata": {},
   "source": [
    "Or use the built-in `delta_phi` to correctly handle wrap-around."
   ]
  },
  {
   "cell_type": "code",
   "execution_count": 29,
   "metadata": {},
   "outputs": [
    {
     "data": {
      "text/plain": [
       "<JaggedArray [[] [-3.0304827370856957] [] ... [-2.8956145189632685] [-2.8342348404161086 -1.5021942373563388] []] at 0x7656000b6d68>"
      ]
     },
     "execution_count": 29,
     "metadata": {},
     "output_type": "execute_result"
    }
   ],
   "source": [
    "events.array(\"jetp4\").delta_phi(events.array(\"MET\"))"
   ]
  },
  {
   "cell_type": "markdown",
   "metadata": {},
   "source": [
    "All but the last example involved jagged arrays of numbers. This last one combined jagged arrays with object arrays, as `delta_phi` is an object method. That's worth a new section."
   ]
  },
  {
   "cell_type": "markdown",
   "metadata": {},
   "source": [
    "## Jagged object arrays\n",
    "\n",
    "The idea of the awkward-array library is that these special array features should be compositional: you can have jagged arrays of jagged arrays and all of the above can have object-like methods.\n",
    "\n",
    "That is most clearly demonstrated with a jagged array of `TLorentzVectors`."
   ]
  },
  {
   "cell_type": "code",
   "execution_count": 30,
   "metadata": {},
   "outputs": [
    {
     "data": {
      "text/plain": [
       "<JaggedArrayMethods [[TLorentzVector(-52.899, -11.655, -8.1608, 54.779) TLorentzVector(37.738, 0.69347, -11.308, 39.402)] [TLorentzVector(-0.81646, -24.404, 20.2, 31.69)] [TLorentzVector(48.988, -21.723, 11.168, 54.74) TLorentzVector(0.82757, 29.801, 36.965, 47.489)] ... [TLorentzVector(-29.757, -15.304, -52.664, 62.395)] [TLorentzVector(1.1419, 63.61, 162.18, 174.21)] [TLorentzVector(23.913, -35.665, 54.719, 69.556)]] at 0x765600069828>"
      ]
     },
     "execution_count": 30,
     "metadata": {},
     "output_type": "execute_result"
    }
   ],
   "source": [
    "muonp4 = events.array(\"muonp4\")\n",
    "muonp4"
   ]
  },
  {
   "cell_type": "markdown",
   "metadata": {},
   "source": [
    "Derived quantities like `pt` and `eta` have the same jagged structure as the `TLorentzVectors`."
   ]
  },
  {
   "cell_type": "code",
   "execution_count": 31,
   "metadata": {},
   "outputs": [
    {
     "data": {
      "text/plain": [
       "<JaggedArray [[54.16810703140204 37.74415265978988] [24.41791248135961] [53.58826697278532 29.811997139120674] ... [33.461536523629654] [63.619817705512375] [42.93994828083644]] at 0x7656000b69e8>"
      ]
     },
     "execution_count": 31,
     "metadata": {},
     "output_type": "execute_result"
    }
   ],
   "source": [
    "muonp4.pt"
   ]
  },
  {
   "cell_type": "code",
   "execution_count": 32,
   "metadata": {},
   "outputs": [
    {
     "data": {
      "text/plain": [
       "<JaggedArray [[-0.15009261562098436 -0.29527552510823807] [0.7538136927232744] [0.20692921428668967 1.0412952985056445] ... [-1.235046871298247] [1.665331082845152] [1.0626988631804193]] at 0x7656000b6fd0>"
      ]
     },
     "execution_count": 32,
     "metadata": {},
     "output_type": "execute_result"
    }
   ],
   "source": [
    "muonp4.eta"
   ]
  },
  {
   "cell_type": "markdown",
   "metadata": {},
   "source": [
    "Note that the jagged array of `TLorentzVector` has type `JaggedArrayMethods` but the jagged arrays of numbers have type `JaggedArray`. That is so that you know which jagged arrays have been imbued with physics methods. For instance, it wouldn't make any sense to take the `pt()` of a number:"
   ]
  },
  {
   "cell_type": "code",
   "execution_count": 33,
   "metadata": {},
   "outputs": [
    {
     "name": "stdout",
     "output_type": "stream",
     "text": [
      "muonp4.pt is a plain JaggedArray; it doesn't have methods like .pt\n"
     ]
    }
   ],
   "source": [
    "try:\n",
    "    muonp4.pt.pt\n",
    "except AttributeError:\n",
    "    print(\"muonp4.pt is a plain JaggedArray; it doesn't have methods like .pt\")"
   ]
  },
  {
   "cell_type": "markdown",
   "metadata": {},
   "source": [
    "The same is true for `ObjectArray` (returns objects when indexed, but doesn't have physics methods) and `ObjectArrayMethods` (returns objects and has physics methods) and any other awkward array type. If you want to check types with `isinstance`, be careful— these types are generated dynamically and one `JaggedArrayMethods` is not necessarily the same type as another `JaggedArrayMethods`. Check the physics-specific supertype."
   ]
  },
  {
   "cell_type": "code",
   "execution_count": 34,
   "metadata": {},
   "outputs": [
    {
     "data": {
      "text/plain": [
       "True"
      ]
     },
     "execution_count": 34,
     "metadata": {},
     "output_type": "execute_result"
    }
   ],
   "source": [
    "import uproot_methods\n",
    "\n",
    "# this checks to see if muonp4 has TLorentzVector methods that can be applied across arrays\n",
    "isinstance(muonp4, uproot_methods.classes.TLorentzVector.ArrayMethods)"
   ]
  },
  {
   "cell_type": "code",
   "execution_count": 35,
   "metadata": {},
   "outputs": [
    {
     "data": {
      "text/plain": [
       "True"
      ]
     },
     "execution_count": 35,
     "metadata": {},
     "output_type": "execute_result"
    }
   ],
   "source": [
    "# the same is true for flat arrays with TLorentzVector methods\n",
    "isinstance(muonp4[0], uproot_methods.classes.TLorentzVector.ArrayMethods)"
   ]
  },
  {
   "cell_type": "markdown",
   "metadata": {},
   "source": [
    "### Masking\n",
    "\n",
    "Just as with Numpy arrays, we can apply masks to select events of interest."
   ]
  },
  {
   "cell_type": "code",
   "execution_count": 36,
   "metadata": {},
   "outputs": [
    {
     "data": {
      "text/plain": [
       "array([ True, False,  True, ..., False, False, False])"
      ]
     },
     "execution_count": 36,
     "metadata": {},
     "output_type": "execute_result"
    }
   ],
   "source": [
    "mask = (muonp4.counts >= 2)\n",
    "mask"
   ]
  },
  {
   "cell_type": "code",
   "execution_count": 37,
   "metadata": {},
   "outputs": [
    {
     "data": {
      "text/plain": [
       "<JaggedArrayMethods [[TLorentzVector(-52.899, -11.655, -8.1608, 54.779) TLorentzVector(37.738, 0.69347, -11.308, 39.402)] [TLorentzVector(48.988, -21.723, 11.168, 54.74) TLorentzVector(0.82757, 29.801, 36.965, 47.489)] [TLorentzVector(22.088, -85.835, 403.85, 413.46) TLorentzVector(76.692, -13.956, 335.09, 344.04)] ... [TLorentzVector(53.006, -24.486, 13.952, 60.032) TLorentzVector(-30.209, 19.269, 18.661, 40.399)] [TLorentzVector(55.72, 26.37, -24.588, 66.368) TLorentzVector(-26.914, -9.8128, -0.38995, 28.65)] [TLorentzVector(34.507, 28.84, -150.66, 157.23) TLorentzVector(-31.568, -10.424, -111.26, 116.13)]] at 0x765600069b00>"
      ]
     },
     "execution_count": 37,
     "metadata": {},
     "output_type": "execute_result"
    }
   ],
   "source": [
    "muonp4[mask]"
   ]
  },
  {
   "cell_type": "markdown",
   "metadata": {},
   "source": [
    "### Multidimensional indexes\n",
    "\n",
    "Also like Numpy arrays, we can apply multidimensional indexes to pick out, say, the first and second muon in events with two muons."
   ]
  },
  {
   "cell_type": "code",
   "execution_count": 38,
   "metadata": {},
   "outputs": [
    {
     "data": {
      "text/plain": [
       "<ObjectArrayMethods [TLorentzVector(-52.899, -11.655, -8.1608, 54.779) TLorentzVector(48.988, -21.723, 11.168, 54.74) TLorentzVector(22.088, -85.835, 403.85, 413.46) ... TLorentzVector(53.006, -24.486, 13.952, 60.032) TLorentzVector(55.72, 26.37, -24.588, 66.368) TLorentzVector(34.507, 28.84, -150.66, 157.23)] at 0x7656000730f0>"
      ]
     },
     "execution_count": 38,
     "metadata": {},
     "output_type": "execute_result"
    }
   ],
   "source": [
    "muon0 = muonp4[mask, 0]\n",
    "muon0"
   ]
  },
  {
   "cell_type": "code",
   "execution_count": 39,
   "metadata": {},
   "outputs": [
    {
     "data": {
      "text/plain": [
       "<ObjectArrayMethods [TLorentzVector(37.738, 0.69347, -11.308, 39.402) TLorentzVector(0.82757, 29.801, 36.965, 47.489) TLorentzVector(76.692, -13.956, 335.09, 344.04) ... TLorentzVector(-30.209, 19.269, 18.661, 40.399) TLorentzVector(-26.914, -9.8128, -0.38995, 28.65) TLorentzVector(-31.568, -10.424, -111.26, 116.13)] at 0x765600073518>"
      ]
     },
     "execution_count": 39,
     "metadata": {},
     "output_type": "execute_result"
    }
   ],
   "source": [
    "muon1 = muonp4[mask, 1]\n",
    "muon1"
   ]
  },
  {
   "cell_type": "markdown",
   "metadata": {},
   "source": [
    "Note that these are now non-jagged arrays. By asking for the N<sup>th</sup> in each event, we now have something that is one-per-event: non-jagged.\n",
    "\n",
    "But they are object arrays with array methods. We can do things with them like compute masses."
   ]
  },
  {
   "cell_type": "code",
   "execution_count": 40,
   "metadata": {},
   "outputs": [
    {
     "data": {
      "text/plain": [
       "array([90.22779777, 74.74654928, 89.75736376, ..., 92.06495256,\n",
       "       85.44384208, 75.96066262])"
      ]
     },
     "execution_count": 40,
     "metadata": {},
     "output_type": "execute_result"
    }
   ],
   "source": [
    "(muon0 + muon1).mass"
   ]
  },
  {
   "cell_type": "markdown",
   "metadata": {},
   "source": [
    "### Jagged mask\n",
    "\n",
    "An ordinary Numpy mask selects events. To select particles, make a jagged array of booleans."
   ]
  },
  {
   "cell_type": "code",
   "execution_count": 41,
   "metadata": {},
   "outputs": [
    {
     "data": {
      "text/plain": [
       "<JaggedArray [[True False] [False] [True False] ... [False] [True] [True]] at 0x765600073ac8>"
      ]
     },
     "execution_count": 41,
     "metadata": {},
     "output_type": "execute_result"
    }
   ],
   "source": [
    "mask = (muonp4.pt > 40)\n",
    "mask"
   ]
  },
  {
   "cell_type": "code",
   "execution_count": 42,
   "metadata": {},
   "outputs": [
    {
     "data": {
      "text/plain": [
       "<JaggedArrayMethods [[TLorentzVector(-52.899, -11.655, -8.1608, 54.779)] [] [TLorentzVector(48.988, -21.723, 11.168, 54.74)] ... [] [TLorentzVector(1.1419, 63.61, 162.18, 174.21)] [TLorentzVector(23.913, -35.665, 54.719, 69.556)]] at 0x765600073c18>"
      ]
     },
     "execution_count": 42,
     "metadata": {},
     "output_type": "execute_result"
    }
   ],
   "source": [
    "muonp4[mask]"
   ]
  },
  {
   "cell_type": "markdown",
   "metadata": {},
   "source": [
    "### Jagged reduction\n",
    "\n",
    "Calling a \"reducer\" like `.sum()`, `.min()`, or `.max()` on a Numpy array returns a scalar. Calling the same reducer on a jagged array returns a flat array: you get the sum/min/max per event."
   ]
  },
  {
   "cell_type": "code",
   "execution_count": 43,
   "metadata": {},
   "outputs": [
    {
     "data": {
      "text/plain": [
       "<JaggedArray [[0.15009261562098436 0.29527552510823807] [0.7538136927232744] [0.20692921428668967 1.0412952985056445] ... [1.235046871298247] [1.665331082845152] [1.0626988631804193]] at 0x765600081128>"
      ]
     },
     "execution_count": 43,
     "metadata": {},
     "output_type": "execute_result"
    }
   ],
   "source": [
    "abseta = abs(muonp4.eta)\n",
    "abseta"
   ]
  },
  {
   "cell_type": "code",
   "execution_count": 44,
   "metadata": {},
   "outputs": [
    {
     "data": {
      "text/plain": [
       "array([0.29527553, 0.75381369, 1.0412953 , ..., 1.23504687, 1.66533108,\n",
       "       1.06269886])"
      ]
     },
     "execution_count": 44,
     "metadata": {},
     "output_type": "execute_result"
    }
   ],
   "source": [
    "abseta.max()"
   ]
  },
  {
   "cell_type": "markdown",
   "metadata": {},
   "source": [
    "This can be useful for making event-level masks from particle data."
   ]
  },
  {
   "cell_type": "code",
   "execution_count": 45,
   "metadata": {},
   "outputs": [
    {
     "data": {
      "text/plain": [
       "<JaggedArrayMethods [[TLorentzVector(-52.899, -11.655, -8.1608, 54.779) TLorentzVector(37.738, 0.69347, -11.308, 39.402)] [TLorentzVector(-0.81646, -24.404, 20.2, 31.69)] [TLorentzVector(45.171, 67.249, -89.696, 120.86) TLorentzVector(39.751, 25.404, 20.115, 51.285)] ... [TLorentzVector(53.006, -24.486, 13.952, 60.032) TLorentzVector(-30.209, 19.269, 18.661, 40.399)] [TLorentzVector(55.72, 26.37, -24.588, 66.368) TLorentzVector(-26.914, -9.8128, -0.38995, 28.65)] [TLorentzVector(-24.158, -35.032, -19.194, 46.683)]] at 0x765600081860>"
      ]
     },
     "execution_count": 45,
     "metadata": {},
     "output_type": "execute_result"
    }
   ],
   "source": [
    "muonp4[abseta.max() < 1]    # events in which both muons are within |eta| < 1"
   ]
  },
  {
   "cell_type": "markdown",
   "metadata": {},
   "source": [
    "### Jagged argmin/argmax\n",
    "\n",
    "Sometimes you want to know variable `x` that is minimized/maximized over `y`. Numpy uses `argmin` and `argmax` with fancy indexing to provide that for flat arrays; we can now do the same for jagged arrays.\n",
    "\n",
    "The `argmin` and `argmax` of a jagged array returns `[]` for empty events and `[i]` for non-empty events, where `i` is the index of the minimized/maximized item."
   ]
  },
  {
   "cell_type": "code",
   "execution_count": 46,
   "metadata": {},
   "outputs": [
    {
     "data": {
      "text/plain": [
       "<JaggedArray [[1] [0] [1] ... [0] [0] [0]] at 0x765600081a58>"
      ]
     },
     "execution_count": 46,
     "metadata": {},
     "output_type": "execute_result"
    }
   ],
   "source": [
    "abseta.argmax()"
   ]
  },
  {
   "cell_type": "markdown",
   "metadata": {},
   "source": [
    "Passing jagged indexes into the square brackets of a jagged array picks the subitems by index. Note that each event contains zero (`[]`) or one (`[TLorentzVector(...)]`) item."
   ]
  },
  {
   "cell_type": "code",
   "execution_count": 47,
   "metadata": {},
   "outputs": [
    {
     "data": {
      "text/plain": [
       "<JaggedArrayMethods [[TLorentzVector(37.738, 0.69347, -11.308, 39.402)] [TLorentzVector(-0.81646, -24.404, 20.2, 31.69)] [TLorentzVector(0.82757, 29.801, 36.965, 47.489)] ... [TLorentzVector(-29.757, -15.304, -52.664, 62.395)] [TLorentzVector(1.1419, 63.61, 162.18, 174.21)] [TLorentzVector(23.913, -35.665, 54.719, 69.556)]] at 0x765600006128>"
      ]
     },
     "execution_count": 47,
     "metadata": {},
     "output_type": "execute_result"
    }
   ],
   "source": [
    "muonp4[abseta.argmax()]"
   ]
  },
  {
   "cell_type": "markdown",
   "metadata": {},
   "source": [
    "This would be more clear if we look at plain numbers."
   ]
  },
  {
   "cell_type": "code",
   "execution_count": 48,
   "metadata": {},
   "outputs": [
    {
     "data": {
      "text/plain": [
       "<JaggedArray [[37.74415265978988] [24.41791248135961] [29.811997139120674] ... [33.461536523629654] [63.619817705512375] [42.93994828083644]] at 0x765600081080>"
      ]
     },
     "execution_count": 48,
     "metadata": {},
     "output_type": "execute_result"
    }
   ],
   "source": [
    "muonp4[abseta.argmax()].pt"
   ]
  },
  {
   "cell_type": "markdown",
   "metadata": {},
   "source": [
    "To get a min/max for only the non-empty events, you can flatten the result, which effectively concatenates all subarrays: `[]` disappear and `[x]` become `x`. (Because of our data representation, this is merely discarding the structure information, so it's instantaneous.)"
   ]
  },
  {
   "cell_type": "code",
   "execution_count": 49,
   "metadata": {},
   "outputs": [
    {
     "data": {
      "text/plain": [
       "<ObjectArrayMethods [TLorentzVector(37.738, 0.69347, -11.308, 39.402) TLorentzVector(-0.81646, -24.404, 20.2, 31.69) TLorentzVector(0.82757, 29.801, 36.965, 47.489) ... TLorentzVector(-29.757, -15.304, -52.664, 62.395) TLorentzVector(1.1419, 63.61, 162.18, 174.21) TLorentzVector(23.913, -35.665, 54.719, 69.556)] at 0x7656000063c8>"
      ]
     },
     "execution_count": 49,
     "metadata": {},
     "output_type": "execute_result"
    }
   ],
   "source": [
    "muonp4[abseta.argmax()].flatten()"
   ]
  },
  {
   "cell_type": "markdown",
   "metadata": {},
   "source": [
    "### Jagged fancy indexing\n",
    "\n",
    "Although a major use of fancy indexing is to consume the result of an `argmin` or `argmax`, it's a general and useful technique.\n",
    "\n",
    "In Numpy, you can pass an arbitrary sequence of indexes to an array to pick out just those elements, in the specified order. (Also useful for consuming the result of `argsort`.) If you pass such a sequence to a jagged array, you get an analogous result: selected events in the order you request them."
   ]
  },
  {
   "cell_type": "code",
   "execution_count": 50,
   "metadata": {},
   "outputs": [
    {
     "data": {
      "text/plain": [
       "<JaggedArray [[3.3 4.4] [] [3.3 4.4]] at 0x765600006b70>"
      ]
     },
     "execution_count": 50,
     "metadata": {},
     "output_type": "execute_result"
    }
   ],
   "source": [
    "import awkward\n",
    "simple = awkward.JaggedArray.fromiter([[0.0, 1.1, 2.2], [], [3.3, 4.4]])\n",
    "simple[[2, 1, 2]]"
   ]
  },
  {
   "cell_type": "markdown",
   "metadata": {},
   "source": [
    "But if you pass a jagged array of indexes to a jagged array, you select particles within each event."
   ]
  },
  {
   "cell_type": "code",
   "execution_count": 51,
   "metadata": {},
   "outputs": [
    {
     "data": {
      "text/plain": [
       "<JaggedArray [[2.2 1.1 2.2] [] [4.4 4.4 4.4 3.3]] at 0x765600006c50>"
      ]
     },
     "execution_count": 51,
     "metadata": {},
     "output_type": "execute_result"
    }
   ],
   "source": [
    "simple[awkward.JaggedArray.fromiter([[2, 1, 2], [], [1, 1, 1, 0]])]"
   ]
  },
  {
   "cell_type": "markdown",
   "metadata": {},
   "source": [
    "This is in exact analogy with the treatment of jagged masks."
   ]
  },
  {
   "cell_type": "markdown",
   "metadata": {},
   "source": [
    "### Jagged cross-join and pairs\n",
    "\n",
    "Numpy-like extensions let you mask particles and events, select them by index, sum/min/max over them by event, apply transformations across arrays and jagged arrays while maintaining their structure, and broadcast per-event attributes to each particle. However, none of these let you form new candidates by combining particles.\n",
    "\n",
    "For example, say you want to loop over all jets and all muons to search for leptoquarks."
   ]
  },
  {
   "cell_type": "code",
   "execution_count": 52,
   "metadata": {},
   "outputs": [],
   "source": [
    "jetp4, muonp4 = events.arrays([\"jetp4\", \"muonp4\"], outputtype=tuple)"
   ]
  },
  {
   "cell_type": "code",
   "execution_count": 53,
   "metadata": {},
   "outputs": [
    {
     "data": {
      "text/plain": [
       "[[],\n",
       " [TLorentzVector(-39.691, -4.5408, 19.305, 75.828)],\n",
       " [],\n",
       " [TLorentzVector(-49.607, 7.7361, 600.14, 643.81),\n",
       "  TLorentzVector(4.9967, 79.615, 531.39, 574.39),\n",
       "  TLorentzVector(58.695, -63.997, 495.51, 514.82),\n",
       "  TLorentzVector(113.3, 7.8823, 426.76, 445.4),\n",
       "  TLorentzVector(-6.7781, -76.515, 455.09, 473.54),\n",
       "  TLorentzVector(47.825, -4.6358, 386.34, 404.13)],\n",
       " [TLorentzVector(49.051, -7.9853, -449.3, 488.45),\n",
       "  TLorentzVector(43.631, -49.83, -339.49, 418.87),\n",
       "  TLorentzVector(50.151, 28.017, -21.239, 200.11),\n",
       "  TLorentzVector(44.731, -13.828, 88.572, 130.53)],\n",
       " [TLorentzVector(-37.099, 67.813, 36.758, 118.54),\n",
       "  TLorentzVector(-52.121, -3.0363, 94.355, 127.32),\n",
       "  TLorentzVector(36.966, 26.013, -9.3573, 76.646),\n",
       "  TLorentzVector(21.944, -44.837, 48.239, 85.435)],\n",
       " [TLorentzVector(-69.527, 5.1032, -386.78, 411.54),\n",
       "  TLorentzVector(-52.524, 43.206, -288.69, 319.26)],\n",
       " [TLorentzVector(62.803, -48.904, 386.53, 395.3)],\n",
       " [],\n",
       " [TLorentzVector(-29.129, 44.266, -14.775, 181.23),\n",
       "  TLorentzVector(19.767, -43.999, -11.151, 150.06)],\n",
       " [TLorentzVector(-38.215, 72.621, 278.31, 300.09),\n",
       "  TLorentzVector(-19.513, -7.4607, 353.84, 370.33),\n",
       "  TLorentzVector(19.64, -1.1577, 260.37, 280.1),\n",
       "  TLorentzVector(38.341, -81.239, 335.9, 350.34)],\n",
       " []]"
      ]
     },
     "execution_count": 53,
     "metadata": {},
     "output_type": "execute_result"
    }
   ],
   "source": [
    "leptoquarks = []\n",
    "for i in range(len(events)):\n",
    "    current = []\n",
    "    for jet in jetp4[i]:\n",
    "        for muon in muonp4[i]:\n",
    "            current.append(jet + muon)\n",
    "    leptoquarks.append(current)\n",
    "    if i > 10:\n",
    "        break\n",
    "\n",
    "leptoquarks"
   ]
  },
  {
   "cell_type": "markdown",
   "metadata": {},
   "source": [
    "It works, but it's slow because of the Python for loops and the Python objects. This operation of pairing every item in set `muons` with every item in set `jets` is known in databases as a \"cross-join\" or a \"cartesian product.\"\n",
    "\n",
    "Expanding two huge sets with a cross-join would use a lot more memory than iterating over pairs, but with jagged arrays, only events would be cross-joined. You might have a million events, but if the largest number of particles in any one event is `N` and `M`, the largest number of elements in the per-event cross-join is `N*M`. It does not scale with a million or a million squared. Operations on the expanded cross-join can be vectorized and much faster than operations in iterative loops.\n",
    "\n",
    "In many situations, it's practical to cross-join particle data."
   ]
  },
  {
   "cell_type": "code",
   "execution_count": 54,
   "metadata": {},
   "outputs": [],
   "source": [
    "pairs = jetp4.cross(muonp4)"
   ]
  },
  {
   "cell_type": "code",
   "execution_count": 55,
   "metadata": {},
   "outputs": [
    {
     "data": {
      "text/plain": [
       "<JaggedArrayMethods [[] [TLorentzVector(-38.875, 19.863, -0.89494, 44.137)] [] ... [TLorentzVector(-3.7148, -37.202, 41.012, 55.951)] [TLorentzVector(-36.361, 10.174, 226.43, 229.58) TLorentzVector(-15.257, -27.175, 12.12, 33.92)] []] at 0x765600010550>"
      ]
     },
     "execution_count": 55,
     "metadata": {},
     "output_type": "execute_result"
    }
   ],
   "source": [
    "pairs.i0   # the first in each pair (._N is a shortcut for [\"N\"] for any integer N)"
   ]
  },
  {
   "cell_type": "code",
   "execution_count": 56,
   "metadata": {},
   "outputs": [
    {
     "data": {
      "text/plain": [
       "<JaggedArrayMethods [[] [TLorentzVector(-0.81646, -24.404, 20.2, 31.69)] [] ... [TLorentzVector(-29.757, -15.304, -52.664, 62.395)] [TLorentzVector(1.1419, 63.61, 162.18, 174.21) TLorentzVector(1.1419, 63.61, 162.18, 174.21)] []] at 0x7656000179e8>"
      ]
     },
     "execution_count": 56,
     "metadata": {},
     "output_type": "execute_result"
    }
   ],
   "source": [
    "pairs.i1   # the second in each pair"
   ]
  },
  {
   "cell_type": "code",
   "execution_count": 57,
   "metadata": {},
   "outputs": [
    {
     "data": {
      "text/plain": [
       "<JaggedArrayMethods [[] [TLorentzVector(-39.691, -4.5408, 19.305, 75.828)] [] ... [TLorentzVector(-33.472, -52.506, -11.652, 118.35)] [TLorentzVector(-35.219, 73.783, 388.61, 403.79) TLorentzVector(-14.115, 36.434, 174.3, 208.13)] []] at 0x765600025160>"
      ]
     },
     "execution_count": 57,
     "metadata": {},
     "output_type": "execute_result"
    }
   ],
   "source": [
    "leptoquarks = pairs.i0 + pairs.i1\n",
    "leptoquarks"
   ]
  },
  {
   "cell_type": "markdown",
   "metadata": {},
   "source": [
    "Now that we have this jagged array of leptoquark candidates, we can ask it questions, like, \"What's your mass?\""
   ]
  },
  {
   "cell_type": "code",
   "execution_count": 58,
   "metadata": {},
   "outputs": [
    {
     "data": {
      "text/plain": [
       "<JaggedArray [[] [61.491172664049785] [] ... [99.96350949193341] [73.10963362904484 106.82646499328074] []] at 0x7656000250b8>"
      ]
     },
     "execution_count": 58,
     "metadata": {},
     "output_type": "execute_result"
    }
   ],
   "source": [
    "leptoquarks.mass"
   ]
  },
  {
   "cell_type": "markdown",
   "metadata": {},
   "source": [
    "Sometimes you need to cross three (or more) collections."
   ]
  },
  {
   "cell_type": "code",
   "execution_count": 59,
   "metadata": {},
   "outputs": [
    {
     "data": {
      "text/plain": [
       "<JaggedArray [[] [] [] ... [] [(TLorentzVector(-36.361, 10.174, 226.43, 229.58), TLorentzVector(1.1419, 63.61, 162.18, 174.21), TLorentzVector(-29.46, 8.7978, 189.47, 191.94)) (TLorentzVector(-15.257, -27.175, 12.12, 33.92), TLorentzVector(1.1419, 63.61, 162.18, 174.21), TLorentzVector(-29.46, 8.7978, 189.47, 191.94))] []] at 0x765600025ac8>"
      ]
     },
     "execution_count": 59,
     "metadata": {},
     "output_type": "execute_result"
    }
   ],
   "source": [
    "photonp4 = events.array(\"photonp4\")\n",
    "jetp4.cross(muonp4).cross(photonp4)"
   ]
  },
  {
   "cell_type": "markdown",
   "metadata": {},
   "source": [
    "And sometimes you want to cross a collection with itself."
   ]
  },
  {
   "cell_type": "code",
   "execution_count": 60,
   "metadata": {},
   "outputs": [
    {
     "data": {
      "text/plain": [
       "<JaggedArray [[(TLorentzVector(-52.899, -11.655, -8.1608, 54.779), TLorentzVector(-52.899, -11.655, -8.1608, 54.779)) (TLorentzVector(-52.899, -11.655, -8.1608, 54.779), TLorentzVector(37.738, 0.69347, -11.308, 39.402)) (TLorentzVector(37.738, 0.69347, -11.308, 39.402), TLorentzVector(-52.899, -11.655, -8.1608, 54.779)) (TLorentzVector(37.738, 0.69347, -11.308, 39.402), TLorentzVector(37.738, 0.69347, -11.308, 39.402))] [(TLorentzVector(-0.81646, -24.404, 20.2, 31.69), TLorentzVector(-0.81646, -24.404, 20.2, 31.69))] [(TLorentzVector(48.988, -21.723, 11.168, 54.74), TLorentzVector(48.988, -21.723, 11.168, 54.74)) (TLorentzVector(48.988, -21.723, 11.168, 54.74), TLorentzVector(0.82757, 29.801, 36.965, 47.489)) (TLorentzVector(0.82757, 29.801, 36.965, 47.489), TLorentzVector(48.988, -21.723, 11.168, 54.74)) (TLorentzVector(0.82757, 29.801, 36.965, 47.489), TLorentzVector(0.82757, 29.801, 36.965, 47.489))] ... [(TLorentzVector(-29.757, -15.304, -52.664, 62.395), TLorentzVector(-29.757, -15.304, -52.664, 62.395))] [(TLorentzVector(1.1419, 63.61, 162.18, 174.21), TLorentzVector(1.1419, 63.61, 162.18, 174.21))] [(TLorentzVector(23.913, -35.665, 54.719, 69.556), TLorentzVector(23.913, -35.665, 54.719, 69.556))]] at 0x765600025da0>"
      ]
     },
     "execution_count": 60,
     "metadata": {},
     "output_type": "execute_result"
    }
   ],
   "source": [
    "muonpairs = muonp4.cross(muonp4)\n",
    "muonpairs"
   ]
  },
  {
   "cell_type": "code",
   "execution_count": 61,
   "metadata": {},
   "outputs": [
    {
     "name": "stderr",
     "output_type": "stream",
     "text": [
      "/usr/local/miniconda3/lib/python3.7/site-packages/uproot_methods-0.4.3-py3.7.egg/uproot_methods/classes/TLorentzVector.py:196: RuntimeWarning: invalid value encountered in sqrt\n",
      "  return self._trymemo(\"mass\", lambda self: self.awkward.numpy.sqrt(self.mag2))\n"
     ]
    },
    {
     "data": {
      "text/plain": [
       "<JaggedArray [[0.2111859748287381 90.22779776988638 90.22779776988638 0.21090494082084574] [0.210998480800626] [0.21392618221202328 74.74654928040661 74.74654928040661 0.2102757625673823] ... [0.2108764933349408] [0.1950119912345726] [0.20894448339535043]] at 0x76560002f2e8>"
      ]
     },
     "execution_count": 61,
     "metadata": {},
     "output_type": "execute_result"
    }
   ],
   "source": [
    "(muonpairs.i0 + muonpairs.i1).mass"
   ]
  },
  {
   "cell_type": "markdown",
   "metadata": {},
   "source": [
    "We get a warning because some of these pairs have a negative mass-squared (resulting in `nan` after the square root). That's because some of these pairs combine a muon with itself, which is twice the muon mass (`0.211` GeV), which is close enough to zero for some error to bring it below zero.\n",
    "\n",
    "We want to only combine _distinct_ pairs of muons, so instead of `cross`, we call `distincts` (distinct pairs should not include a muon with itself)."
   ]
  },
  {
   "cell_type": "code",
   "execution_count": 62,
   "metadata": {},
   "outputs": [
    {
     "data": {
      "text/plain": [
       "<JaggedArray [[(TLorentzVector(-52.899, -11.655, -8.1608, 54.779), TLorentzVector(37.738, 0.69347, -11.308, 39.402))] [] [(TLorentzVector(48.988, -21.723, 11.168, 54.74), TLorentzVector(0.82757, 29.801, 36.965, 47.489))] ... [] [] []] at 0x76560002fe80>"
      ]
     },
     "execution_count": 62,
     "metadata": {},
     "output_type": "execute_result"
    }
   ],
   "source": [
    "muonpairs = muonp4.distincts()\n",
    "muonpairs"
   ]
  },
  {
   "cell_type": "code",
   "execution_count": 63,
   "metadata": {},
   "outputs": [
    {
     "data": {
      "text/plain": [
       "<JaggedArray [[90.22779776988638] [] [74.74654928040661] ... [] [] []] at 0x76560002ff98>"
      ]
     },
     "execution_count": 63,
     "metadata": {},
     "output_type": "execute_result"
    }
   ],
   "source": [
    "(muonpairs.i0 + muonpairs.i1).mass"
   ]
  },
  {
   "cell_type": "markdown",
   "metadata": {},
   "source": [
    "A general workflow would generally fit the pattern of expanding over a cross-join or pairs, computing something, and then collapsing the structure down with a reduction. For instance, we compute Z candidates by combining pairs of muons and computing their mass, then select the best candidate (highest mass as an example below)."
   ]
  },
  {
   "cell_type": "code",
   "execution_count": 64,
   "metadata": {},
   "outputs": [
    {
     "data": {
      "text/plain": [
       "<JaggedArrayMethods [[TLorentzVector(-15.162, -10.961, -19.468, 94.181)] [] [TLorentzVector(49.815, 8.0774, 48.133, 102.23)] ... [] [] []] at 0x7655f5abf588>"
      ]
     },
     "execution_count": 64,
     "metadata": {},
     "output_type": "execute_result"
    }
   ],
   "source": [
    "zcandidates = muonpairs.i0 + muonpairs.i1\n",
    "zcandidates[zcandidates.mass.argmax()]"
   ]
  },
  {
   "cell_type": "markdown",
   "metadata": {},
   "source": [
    "The `cross` and `pairs` functions are not expected to solve all possible problems. There may be other combinations of nested structures that you need to do your physics analysis— if you have an idea for another useful function, let me know (via GitHub issue)."
   ]
  },
  {
   "cell_type": "markdown",
   "metadata": {},
   "source": [
    "### Attaching to tables\n",
    "\n",
    "Finally, it can be useful to glue data together, for bookkeeping. This is the only operation that modifies an object in place, and keep in mind that it does not modify the original ROOT file. It modifies your array object in memory. (See below for writing to ROOT files.)"
   ]
  },
  {
   "cell_type": "code",
   "execution_count": 65,
   "metadata": {},
   "outputs": [
    {
     "data": {
      "text/plain": [
       "<JaggedArrayMethods [[TLorentzVector(-52.899, -11.655, -8.1608, 54.779) TLorentzVector(37.738, 0.69347, -11.308, 39.402)] [TLorentzVector(-0.81646, -24.404, 20.2, 31.69)] [TLorentzVector(48.988, -21.723, 11.168, 54.74) TLorentzVector(0.82757, 29.801, 36.965, 47.489)] ... [TLorentzVector(-29.757, -15.304, -52.664, 62.395)] [TLorentzVector(1.1419, 63.61, 162.18, 174.21)] [TLorentzVector(23.913, -35.665, 54.719, 69.556)]] at 0x7655f5ac9668>"
      ]
     },
     "execution_count": 65,
     "metadata": {},
     "output_type": "execute_result"
    }
   ],
   "source": [
    "muonp4 = events.array(\"muonp4\")\n",
    "muonp4"
   ]
  },
  {
   "cell_type": "markdown",
   "metadata": {},
   "source": [
    "This `muonp4` is presented as a jagged array of `TLorentzVectors` for your convenience, but it's actually an awkward-array `Table` of the `TLorentzVector` private members defined by the ROOT file's schema."
   ]
  },
  {
   "cell_type": "code",
   "execution_count": 66,
   "metadata": {},
   "outputs": [
    {
     "data": {
      "text/plain": [
       "[' fBits', ' fUniqueID', ' fBits2', ' fUniqueID2', 'fX', 'fY', 'fZ', 'fE']"
      ]
     },
     "execution_count": 66,
     "metadata": {},
     "output_type": "execute_result"
    }
   ],
   "source": [
    "muonp4.columns"
   ]
  },
  {
   "cell_type": "code",
   "execution_count": 67,
   "metadata": {},
   "outputs": [
    {
     "data": {
      "text/plain": [
       "<JaggedArray [[-52.89945602416992 37.7377815246582] [-0.8164593577384949] [48.987831115722656 0.8275666832923889] ... [-29.756786346435547] [1.1418697834014893] [23.913206100463867]] at 0x7655f5abfc88>"
      ]
     },
     "execution_count": 67,
     "metadata": {},
     "output_type": "execute_result"
    }
   ],
   "source": [
    "muonp4[\"fX\"]"
   ]
  },
  {
   "cell_type": "code",
   "execution_count": 68,
   "metadata": {},
   "outputs": [
    {
     "data": {
      "text/plain": [
       "<JaggedArray [[-52.89945602416992 37.7377815246582] [-0.8164593577384949] [48.987831115722656 0.8275666832923889] ... [-29.756786346435547] [1.1418697834014893] [23.913206100463867]] at 0x7655f5abff28>"
      ]
     },
     "execution_count": 68,
     "metadata": {},
     "output_type": "execute_result"
    }
   ],
   "source": [
    "muonp4.x       # this is a property for more Pythonic access than muonp4[\"fX\"]"
   ]
  },
  {
   "cell_type": "markdown",
   "metadata": {},
   "source": [
    "We can add any derived fields to the `Table`."
   ]
  },
  {
   "cell_type": "code",
   "execution_count": 69,
   "metadata": {},
   "outputs": [],
   "source": [
    "muonp4[\"pt\"] = muonp4.pt"
   ]
  },
  {
   "cell_type": "code",
   "execution_count": 70,
   "metadata": {},
   "outputs": [
    {
     "data": {
      "text/plain": [
       "<JaggedArray [[54.16810703140204 37.74415265978988] [24.41791248135961] [53.58826697278532 29.811997139120674] ... [33.461536523629654] [63.619817705512375] [42.93994828083644]] at 0x7655f5ac9048>"
      ]
     },
     "execution_count": 70,
     "metadata": {},
     "output_type": "execute_result"
    }
   ],
   "source": [
    "muonp4[\"pt\"]   # fetch precomputed value"
   ]
  },
  {
   "cell_type": "code",
   "execution_count": 71,
   "metadata": {},
   "outputs": [
    {
     "data": {
      "text/plain": [
       "<JaggedArray [[54.16810703140204 37.74415265978988] [24.41791248135961] [53.58826697278532 29.811997139120674] ... [33.461536523629654] [63.619817705512375] [42.93994828083644]] at 0x7655f5ac9940>"
      ]
     },
     "execution_count": 71,
     "metadata": {},
     "output_type": "execute_result"
    }
   ],
   "source": [
    "muonp4.pt      # recompute value"
   ]
  },
  {
   "cell_type": "markdown",
   "metadata": {},
   "source": [
    "You can even change values in memory. For instance, suppose our muon need an energy correction (?!?)."
   ]
  },
  {
   "cell_type": "code",
   "execution_count": 72,
   "metadata": {},
   "outputs": [],
   "source": [
    "muonp4[\"fE\"] = muonp4[\"fE\"] * 2"
   ]
  },
  {
   "cell_type": "code",
   "execution_count": 73,
   "metadata": {},
   "outputs": [
    {
     "data": {
      "text/plain": [
       "<JaggedArray [[94.88093433185503 68.24581955176036] [54.88956214774407] [94.81215444319224 82.25318077863159] ... [108.07163987013124] [301.73821995993745] [120.47494085196762]] at 0x7655f5ac9fd0>"
      ]
     },
     "execution_count": 73,
     "metadata": {},
     "output_type": "execute_result"
    }
   ],
   "source": [
    "muonp4.mass"
   ]
  },
  {
   "cell_type": "markdown",
   "metadata": {},
   "source": [
    "(Woah— heavy muons.)"
   ]
  },
  {
   "cell_type": "markdown",
   "metadata": {},
   "source": [
    "## Writing ROOT files\n",
    "\n",
    "TBD"
   ]
  }
 ],
 "metadata": {
  "kernelspec": {
   "display_name": "Python 3",
   "language": "python",
   "name": "python3"
  },
  "language_info": {
   "codemirror_mode": {
    "name": "ipython",
    "version": 3
   },
   "file_extension": ".py",
   "mimetype": "text/x-python",
   "name": "python",
   "nbconvert_exporter": "python",
   "pygments_lexer": "ipython3",
   "version": "3.7.1"
  }
 },
 "nbformat": 4,
 "nbformat_minor": 2
}
