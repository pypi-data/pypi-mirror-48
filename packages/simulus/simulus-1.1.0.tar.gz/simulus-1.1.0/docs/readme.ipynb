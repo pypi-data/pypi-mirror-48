{
 "cells": [
  {
   "cell_type": "markdown",
   "metadata": {},
   "source": [
    "# Simulus - A discrete-event simulator in Python\n",
    "\n",
    "Simulus is an open-source discrete-event simulator in Python. Simulus\n",
    "fully supports the process-oriented simulation world-view.\n",
    "\n",
    "In the near future, simulus will support parallel and distributed\n",
    "simulation, and real-time simulation.\n",
    "\n",
    "## Installation\n",
    "\n",
    "Run the following to install:\n",
    "\n",
    "```python\n",
    "pip install simulus\n",
    "```\n",
    "\n",
    "## Usage\n",
    "\n",
    "Simulus works in two ways. One way is through events. The user schedules events. Simulus makes sure all events are sorted in timestamp order. When an event happens, simulus advances the simulation time to the event and calls the event handler, which is a user defined function. While processing the event, the user can schedule new events into the simulated future. We call this *direct event scheduling*. \n",
    "\n",
    "The other way is through processes. The user can create processes and have them run and interact. Each process is a separate thread of control. During its execution, a process may be blocked, either sleeping for some time or requesting for some resource that is currently unavailable. The process can resume execution when the specified time has passed or after the resource blocking condition has been removed. We call this *process scheduling*. \n",
    "\n",
    "In simulus, both direct event scheduling and process scheduling can be used together to achieve the modeling tasks.\n",
    "\n",
    "The following a hello-world example, which simply schedules a function invocation in the simulated future:"
   ]
  },
  {
   "cell_type": "code",
   "execution_count": 1,
   "metadata": {},
   "outputs": [
    {
     "name": "stdout",
     "output_type": "stream",
     "text": [
      "Hello world at time 10\n",
      "Hello world at time 20\n",
      "Hello world at time 30\n",
      "Hello world at time 40\n",
      "Hello world at time 50\n",
      "Hello world at time 60\n",
      "Hello world at time 70\n",
      "Hello world at time 80\n",
      "Hello world at time 90\n",
      "Hello world at time 100\n"
     ]
    }
   ],
   "source": [
    "import simulus\n",
    "\n",
    "def print_message():\n",
    "    print(\"Hello world at time\", sim.now)\n",
    "    sim.sched(print_message, offset=10)\n",
    "    \n",
    "sim = simulus.simulator()\n",
    "sim.sched(print_message, until=10)\n",
    "sim.run(100)"
   ]
  },
  {
   "cell_type": "markdown",
   "metadata": {},
   "source": [
    "The following is the same hello-world example, but instead we use a process: "
   ]
  },
  {
   "cell_type": "code",
   "execution_count": 2,
   "metadata": {},
   "outputs": [
    {
     "name": "stdout",
     "output_type": "stream",
     "text": [
      "Hello world at time 10\n",
      "Hello world at time 20\n",
      "Hello world at time 30\n",
      "Hello world at time 40\n",
      "Hello world at time 50\n",
      "Hello world at time 60\n",
      "Hello world at time 70\n",
      "Hello world at time 80\n",
      "Hello world at time 90\n",
      "Hello world at time 100\n"
     ]
    }
   ],
   "source": [
    "import simulus\n",
    "\n",
    "def print_message():\n",
    "    while True:\n",
    "        print(\"Hello world at time\", sim.now)\n",
    "        sim.sleep(10)\n",
    "    \n",
    "sim = simulus.simulator()\n",
    "sim.process(print_message, until=10)\n",
    "sim.run(100)"
   ]
  },
  {
   "cell_type": "markdown",
   "metadata": {},
   "source": [
    "Simulus supports conditional wait and allows events and processes to coexist. The following shows a example that Tom and Jerry entering a race. We model Tom as a process. Each time, Tom calls sleep() to represent running for some time, which is a random variable from a normal distribution with a mean 100 and a standard deviation of 50 (with a cutoff below zero). We model Jerry as an event. Jerry calls sched() to schedule an event to represent running for some time, which is a random variable from a uniform distribution between 50 and 100. Tom and Jerry compete for ten times; the next race starts as soon as the previous one finishes. Whoever runs fastest wins. But if they run for more than 100 seconds, both are disqualified for that race."
   ]
  },
  {
   "cell_type": "code",
   "execution_count": 3,
   "metadata": {},
   "outputs": [
    {
     "name": "stdout",
     "output_type": "stream",
     "text": [
      "<--- competition starts at 0 -->\n",
      "77.5459: jerry finished\n",
      "77.5459: jerry wins\n",
      "<--- competition starts at 77.5459 -->\n",
      "171.749: jerry finished\n",
      "171.749: jerry wins\n",
      "<--- competition starts at 171.749 -->\n",
      "271.749: both disqualified\n",
      "<--- competition starts at 271.749 -->\n",
      "357.072: tom finished\n",
      "357.072: tom wins\n",
      "<--- competition starts at 357.072 -->\n",
      "430.387: tom finished\n",
      "430.387: tom wins\n",
      "<--- competition starts at 430.387 -->\n",
      "485.297: tom finished\n",
      "485.297: tom wins\n",
      "<--- competition starts at 485.297 -->\n",
      "585.297: both disqualified\n",
      "<--- competition starts at 585.297 -->\n",
      "611.838: tom finished\n",
      "611.838: tom wins\n",
      "<--- competition starts at 611.838 -->\n",
      "711.838: both disqualified\n",
      "<--- competition starts at 711.838 -->\n",
      "811.838: both disqualified\n",
      "final result: tom:jerry=4:2\n"
     ]
    }
   ],
   "source": [
    "import simulus\n",
    "\n",
    "from random import seed, gauss, uniform\n",
    "seed(321)\n",
    "\n",
    "def tom():\n",
    "    sim.sleep(max(0, gauss(100, 50)))\n",
    "    print(\"%g: tom finished\" % sim.now)\n",
    "\n",
    "def jerry():\n",
    "    print(\"%g: jerry finished\" % sim.now)\n",
    "\n",
    "def compete():\n",
    "    tom_won, jerry_won = 0, 0\n",
    "    for _ in range(10):\n",
    "        print(\"<--- competition starts at %g -->\" % sim.now)\n",
    "\n",
    "        p = sim.process(tom) # run, tom, run!\n",
    "        e = sim.sched(jerry, offset=uniform(50, 150)) # run, jerry, run!\n",
    "    \n",
    "        # let the race begin...\n",
    "        (r1, r2), timedout = sim.wait((p, e), 100, method=any)\n",
    "        if timedout:\n",
    "            print(\"%g: both disqualified\" % sim.now)\n",
    "            sim.kill(p) # both tom and ...|\n",
    "            sim.cancel(e) # jerry can stop running now\n",
    "        elif r1: \n",
    "            print(\"%g: tom wins\" % sim.now)\n",
    "            tom_won += 1\n",
    "            sim.cancel(e) # jerry can stop running now\n",
    "        else:\n",
    "            print(\"%g: jerry wins\" % sim.now)\n",
    "            jerry_won += 1\n",
    "            sim.kill(p) # tom can stop running now\n",
    "    print(\"final result: tom:jerry=%d:%d\" % (tom_won, jerry_won))\n",
    "\n",
    "sim = simulus.simulator()\n",
    "sim.process(compete)\n",
    "sim.run()"
   ]
  },
  {
   "cell_type": "markdown",
   "metadata": {},
   "source": [
    "Simulus also provides several advanced features to ease the common modeling tasks. For example, simulus provides the modeling abstraction for resources and facilities, so that multiple processes can access single-server or multi-server queues, perform producer-consumer synchronization over bounded buffers, and conduct message-passing communication among them.\n",
    "\n",
    "For more information, check out the Simulus Tutorial, available at the homepage."
   ]
  }
 ],
 "metadata": {
  "kernelspec": {
   "display_name": "Python 3",
   "language": "python",
   "name": "python3"
  },
  "language_info": {
   "codemirror_mode": {
    "name": "ipython",
    "version": 3
   },
   "file_extension": ".py",
   "mimetype": "text/x-python",
   "name": "python",
   "nbconvert_exporter": "python",
   "pygments_lexer": "ipython3",
   "version": "3.7.3"
  }
 },
 "nbformat": 4,
 "nbformat_minor": 2
}
