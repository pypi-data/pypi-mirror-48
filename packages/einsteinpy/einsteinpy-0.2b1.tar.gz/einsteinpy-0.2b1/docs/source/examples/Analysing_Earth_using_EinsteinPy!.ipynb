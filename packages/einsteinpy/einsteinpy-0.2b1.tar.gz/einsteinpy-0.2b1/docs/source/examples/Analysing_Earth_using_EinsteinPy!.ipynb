{
 "cells": [
  {
   "cell_type": "markdown",
   "metadata": {},
   "source": [
    "# Analysing Earth using EinsteinPy!"
   ]
  },
  {
   "cell_type": "markdown",
   "metadata": {},
   "source": [
    "## Calculating the eccentricity and speed at apehelion of Earth's orbit\n",
    "\n",
    "Various parameters of Earth's orbit considering Sun as schwarzschild body and solving geodesic equations are calculated\n",
    "\n",
    "### 1. Defining the initial parameters"
   ]
  },
  {
   "cell_type": "code",
   "execution_count": 1,
   "metadata": {},
   "outputs": [],
   "source": [
    "from astropy import units as u\n",
    "import numpy as np\n",
    "from einsteinpy.metric import Schwarzschild\n",
    "from einsteinpy.coordinates import SphericalDifferential"
   ]
  },
  {
   "cell_type": "code",
   "execution_count": 2,
   "metadata": {},
   "outputs": [],
   "source": [
    "# Define position and velocity vectors in spherical coordinates\n",
    "# Earth is at perihelion\n",
    "M = 1.989e30 * u.kg  # mass of sun\n",
    "distance = 147.09e6 * u.km\n",
    "speed_at_perihelion = 30.29 * u.km / u.s\n",
    "omega = (u.rad * speed_at_perihelion) / distance\n",
    "\n",
    "sph_obj = SphericalDifferential(distance, np.pi / 2 * u.rad, np.pi * u.rad,\n",
    "                               0 * u.km / u.s, 0 * u.rad / u.s, omega)"
   ]
  },
  {
   "cell_type": "markdown",
   "metadata": {},
   "source": [
    "   - Defining $\\lambda$ (or $\\tau$) for which to calculate trajectory\n",
    "     - $\\lambda$ is proper time and is approximately equal to coordinate time in non-relativistic limits"
   ]
  },
  {
   "cell_type": "code",
   "execution_count": 3,
   "metadata": {},
   "outputs": [],
   "source": [
    "# Set lambda to complete an year.\n",
    "# Lambda is always specified in secs\n",
    "end_lambda = ((1 * u.year).to(u.s)).value\n",
    "# Choosing stepsize for ODE solver to be 5 minutes\n",
    "stepsize = ((5 * u.min).to(u.s)).value"
   ]
  },
  {
   "cell_type": "markdown",
   "metadata": {},
   "source": [
    "### 2. Making a class instance to get the trajectory in cartesian coordinates"
   ]
  },
  {
   "cell_type": "code",
   "execution_count": 4,
   "metadata": {},
   "outputs": [],
   "source": [
    "obj = Schwarzschild.from_coords(sph_obj, M)\n",
    "ans = obj.calculate_trajectory(\n",
    "    end_lambda=end_lambda, OdeMethodKwargs={\"stepsize\": stepsize}, return_cartesian=True\n",
    ")"
   ]
  },
  {
   "cell_type": "markdown",
   "metadata": {},
   "source": [
    "   - Return value is a tuple consisting of 2 numpy array\n",
    "     - First one contains list of $\\lambda$\n",
    "     - Seconds is array of shape (n,8) where each component is:\n",
    "       - t - coordinate time\n",
    "       - x - position in m\n",
    "       - y - position in m\n",
    "       - z - position in m\n",
    "       - dt/d$\\lambda$\n",
    "       - dx/d$\\lambda$\n",
    "       - dy/d$\\lambda$\n",
    "       - dz/d$\\lambda$"
   ]
  },
  {
   "cell_type": "code",
   "execution_count": 5,
   "metadata": {},
   "outputs": [
    {
     "data": {
      "text/plain": [
       "((13150,), (13150, 8))"
      ]
     },
     "execution_count": 5,
     "metadata": {},
     "output_type": "execute_result"
    }
   ],
   "source": [
    "ans[0].shape, ans[1].shape"
   ]
  },
  {
   "cell_type": "markdown",
   "metadata": {},
   "source": [
    "### Calculating distance at aphelion\n",
    "   - Should be 152.10 million km"
   ]
  },
  {
   "cell_type": "code",
   "execution_count": 6,
   "metadata": {},
   "outputs": [
    {
     "data": {
      "text/latex": [
       "$1.5205967 \\times 10^{8} \\; \\mathrm{km}$"
      ],
      "text/plain": [
       "<Quantity 1.52059668e+08 km>"
      ]
     },
     "execution_count": 6,
     "metadata": {},
     "output_type": "execute_result"
    }
   ],
   "source": [
    "r = np.sqrt(np.square(ans[1][:, 1]) + np.square(ans[1][:, 2]))\n",
    "i = np.argmax(r)\n",
    "(r[i] * u.m).to(u.km)"
   ]
  },
  {
   "cell_type": "markdown",
   "metadata": {},
   "source": [
    "### Speed at aphelion should be 29.29 km/s and should be along y-axis"
   ]
  },
  {
   "cell_type": "code",
   "execution_count": 7,
   "metadata": {},
   "outputs": [
    {
     "data": {
      "text/latex": [
       "$29.300051 \\; \\mathrm{\\frac{km}{s}}$"
      ],
      "text/plain": [
       "<Quantity 29.30005147 km / s>"
      ]
     },
     "execution_count": 7,
     "metadata": {},
     "output_type": "execute_result"
    }
   ],
   "source": [
    "((ans[1][i][6]) * u.m / u.s).to(u.km / u.s)"
   ]
  },
  {
   "cell_type": "markdown",
   "metadata": {},
   "source": [
    "### Calculating the eccentricity\n",
    "   - Should be 0.0167"
   ]
  },
  {
   "cell_type": "code",
   "execution_count": 8,
   "metadata": {},
   "outputs": [
    {
     "data": {
      "text/plain": [
       "0.01661834158657882"
      ]
     },
     "execution_count": 8,
     "metadata": {},
     "output_type": "execute_result"
    }
   ],
   "source": [
    "xlist, ylist = ans[1][:, 1], ans[1][:, 2]\n",
    "i = np.argmax(ylist)\n",
    "x, y = xlist[i], ylist[i]\n",
    "eccentricity = x / (np.sqrt(x ** 2 + y ** 2))\n",
    "eccentricity"
   ]
  },
  {
   "cell_type": "markdown",
   "metadata": {},
   "source": [
    "### Plotting the trajectory with time"
   ]
  },
  {
   "cell_type": "code",
   "execution_count": 9,
   "metadata": {},
   "outputs": [],
   "source": [
    "%matplotlib inline"
   ]
  },
  {
   "cell_type": "code",
   "execution_count": 10,
   "metadata": {},
   "outputs": [
    {
     "data": {
      "image/png": "[encoded data removed]",
      "text/plain": [
       "<Figure size 432x432 with 1 Axes>"
      ]
     },
     "metadata": {
      "needs_background": "light"
     },
     "output_type": "display_data"
    }
   ],
   "source": [
    "from einsteinpy.bodies import Body\n",
    "from einsteinpy.geodesic import Geodesic\n",
    "Sun = Body(name=\"Sun\", mass=M, parent=None)\n",
    "Object = Body(name=\"Earth\", differential=sph_obj, parent=Sun)\n",
    "geodesic = Geodesic(body=Object, time=0 * u.s, end_lambda=end_lambda, step_size=stepsize)\n",
    "from einsteinpy.plotting import StaticGeodesicPlotter\n",
    "sgp = StaticGeodesicPlotter()\n",
    "sgp.plot(geodesic)\n",
    "sgp.show()"
   ]
  },
  {
   "cell_type": "markdown",
   "metadata": {},
   "source": [
    " All data regarding earth's orbit is taken from https://nssdc.gsfc.nasa.gov/planetary/factsheet/earthfact.html"
   ]
  }
 ],
 "metadata": {
  "file_extension": ".py",
  "kernelspec": {
   "display_name": "Python 3",
   "language": "python",
   "name": "python3"
  },
  "language_info": {
   "codemirror_mode": {
    "name": "ipython",
    "version": 3
   },
   "file_extension": ".py",
   "mimetype": "text/x-python",
   "name": "python",
   "nbconvert_exporter": "python",
   "pygments_lexer": "ipython3",
   "version": "3.7.1"
  },
  "mimetype": "text/x-python",
  "name": "python",
  "npconvert_exporter": "python",
  "pygments_lexer": "ipython3",
  "version": 3
 },
 "nbformat": 4,
 "nbformat_minor": 2
}
