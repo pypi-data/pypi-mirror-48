{
 "cells": [
  {
   "cell_type": "markdown",
   "metadata": {},
   "source": [
    "# Using the Census Urls"
   ]
  },
  {
   "cell_type": "code",
   "execution_count": 1,
   "metadata": {},
   "outputs": [
    {
     "data": {
      "text/plain": [
       "'1.6.4.post2'"
      ]
     },
     "execution_count": 1,
     "metadata": {},
     "output_type": "execute_result"
    }
   ],
   "source": [
    "\n",
    "import matplotlib.pylab as plt\n",
    "import logging\n",
    "from publicdata.census.files import logger\n",
    "#logging.basicConfig()\n",
    "#logger.setLevel(logging.DEBUG)\n",
    "\n",
    "import shapely\n",
    "shapely.__version__"
   ]
  },
  {
   "cell_type": "markdown",
   "metadata": {},
   "source": [
    "# Creating New Urls and Dataframes"
   ]
  },
  {
   "cell_type": "code",
   "execution_count": 2,
   "metadata": {},
   "outputs": [
    {
     "data": {
      "text/html": [
       "\n",
       "        <h1>Census Table B01002 (2016/5)</h1>\n",
       "        <p><i>Median Age By Sex, Total Population. </i>County in CA \n",
       "           <p>\n",
       "        <table>\n",
       "        <tr><th>#</th><th>Name</th><th>Short Description</th><th>Description</th></tr>\n",
       "        <tr><td>0</td><td>GEOID</td><td>None</td><td>GEOID</td></tr>\n",
       "<tr><td>1</td><td>STUSAB</td><td>None</td><td>STUSAB</td></tr>\n",
       "<tr><td>2</td><td>COUNTY</td><td>None</td><td>COUNTY</td></tr>\n",
       "<tr><td>3</td><td>NAME</td><td>None</td><td>NAME</td></tr>\n",
       "<tr><td>4</td><td>B01002_001</td><td>Total:</td><td>MEDIAN AGE BY SEX for Total Population% Total:</td></tr>\n",
       "<tr><td>5</td><td>B01002_001_m90</td><td>None</td><td></td></tr>\n",
       "<tr><td>6</td><td>B01002_002</td><td>Male</td><td>MEDIAN AGE BY SEX for Total Population% Male</td></tr>\n",
       "<tr><td>7</td><td>B01002_002_m90</td><td>None</td><td></td></tr>\n",
       "<tr><td>8</td><td>B01002_003</td><td>Female</td><td>MEDIAN AGE BY SEX for Total Population% Female</td></tr>\n",
       "<tr><td>9</td><td>B01002_003_m90</td><td>None</td><td></td></tr>\n",
       "\n",
       "        </table>\n",
       "        "
      ],
      "text/plain": [
       "<publicdata.census.files.generators.Table at 0x10c3c41d0>"
      ]
     },
     "execution_count": 2,
     "metadata": {},
     "output_type": "execute_result"
    }
   ],
   "source": [
    "from rowgenerators import parse_app_url\n",
    "u = parse_app_url('census://2016/5/CA/county/B01002')\n",
    "df = u.dataframe\n",
    "df.table"
   ]
  },
  {
   "cell_type": "code",
   "execution_count": 3,
   "metadata": {},
   "outputs": [
    {
     "name": "stdout",
     "output_type": "stream",
     "text": [
      "1046\n",
      "['AL', 'AK', 'AZ', 'AR', 'CA', 'CO', 'CT', 'DE', 'DC', 'FL']\n"
     ]
    }
   ],
   "source": [
    "# Display some table metadata\n",
    "from publicdata.census.files.metafiles import TableMeta\n",
    "\n",
    "tm = TableMeta(2016, 5)\n",
    "print(len(tm.tables))\n",
    "print(list(tm.states)[:10])\n"
   ]
  },
  {
   "cell_type": "code",
   "execution_count": 4,
   "metadata": {},
   "outputs": [
    {
     "data": {
      "text/html": [
       "<div>\n",
       "<style scoped>\n",
       "    .dataframe tbody tr th:only-of-type {\n",
       "        vertical-align: middle;\n",
       "    }\n",
       "\n",
       "    .dataframe tbody tr th {\n",
       "        vertical-align: top;\n",
       "    }\n",
       "\n",
       "    .dataframe thead th {\n",
       "        text-align: right;\n",
       "    }\n",
       "</style>\n",
       "<table border=\"1\" class=\"dataframe\">\n",
       "  <thead>\n",
       "    <tr style=\"text-align: right;\">\n",
       "      <th></th>\n",
       "      <th>STUSAB</th>\n",
       "      <th>COUNTY</th>\n",
       "      <th>NAME</th>\n",
       "      <th>B01002_001</th>\n",
       "      <th>B01002_001_m90</th>\n",
       "      <th>B01002_002</th>\n",
       "      <th>B01002_002_m90</th>\n",
       "      <th>B01002_003</th>\n",
       "      <th>B01002_003_m90</th>\n",
       "    </tr>\n",
       "    <tr>\n",
       "      <th>GEOID</th>\n",
       "      <th></th>\n",
       "      <th></th>\n",
       "      <th></th>\n",
       "      <th></th>\n",
       "      <th></th>\n",
       "      <th></th>\n",
       "      <th></th>\n",
       "      <th></th>\n",
       "      <th></th>\n",
       "    </tr>\n",
       "  </thead>\n",
       "  <tbody>\n",
       "    <tr>\n",
       "      <th>05000US06001</th>\n",
       "      <td>CA</td>\n",
       "      <td>001</td>\n",
       "      <td>Alameda County, California</td>\n",
       "      <td>37.2</td>\n",
       "      <td>0.1</td>\n",
       "      <td>36.3</td>\n",
       "      <td>0.1</td>\n",
       "      <td>38.1</td>\n",
       "      <td>0.1</td>\n",
       "    </tr>\n",
       "    <tr>\n",
       "      <th>05000US06003</th>\n",
       "      <td>CA</td>\n",
       "      <td>003</td>\n",
       "      <td>Alpine County, California</td>\n",
       "      <td>42.8</td>\n",
       "      <td>5.8</td>\n",
       "      <td>39.0</td>\n",
       "      <td>9.4</td>\n",
       "      <td>44.9</td>\n",
       "      <td>6.4</td>\n",
       "    </tr>\n",
       "    <tr>\n",
       "      <th>05000US06005</th>\n",
       "      <td>CA</td>\n",
       "      <td>005</td>\n",
       "      <td>Amador County, California</td>\n",
       "      <td>50.3</td>\n",
       "      <td>0.2</td>\n",
       "      <td>48.1</td>\n",
       "      <td>0.4</td>\n",
       "      <td>53.2</td>\n",
       "      <td>0.4</td>\n",
       "    </tr>\n",
       "    <tr>\n",
       "      <th>05000US06007</th>\n",
       "      <td>CA</td>\n",
       "      <td>007</td>\n",
       "      <td>Butte County, California</td>\n",
       "      <td>36.9</td>\n",
       "      <td>0.2</td>\n",
       "      <td>35.3</td>\n",
       "      <td>0.2</td>\n",
       "      <td>38.9</td>\n",
       "      <td>0.3</td>\n",
       "    </tr>\n",
       "    <tr>\n",
       "      <th>05000US06009</th>\n",
       "      <td>CA</td>\n",
       "      <td>009</td>\n",
       "      <td>Calaveras County, California</td>\n",
       "      <td>51.2</td>\n",
       "      <td>0.4</td>\n",
       "      <td>50.6</td>\n",
       "      <td>0.6</td>\n",
       "      <td>52.1</td>\n",
       "      <td>0.6</td>\n",
       "    </tr>\n",
       "  </tbody>\n",
       "</table>\n",
       "</div>"
      ],
      "text/plain": [
       "             STUSAB COUNTY                          NAME  B01002_001  \\\n",
       "GEOID                                                                  \n",
       "05000US06001     CA    001    Alameda County, California        37.2   \n",
       "05000US06003     CA    003     Alpine County, California        42.8   \n",
       "05000US06005     CA    005     Amador County, California        50.3   \n",
       "05000US06007     CA    007      Butte County, California        36.9   \n",
       "05000US06009     CA    009  Calaveras County, California        51.2   \n",
       "\n",
       "              B01002_001_m90  B01002_002  B01002_002_m90  B01002_003  \\\n",
       "GEOID                                                                  \n",
       "05000US06001             0.1        36.3             0.1        38.1   \n",
       "05000US06003             5.8        39.0             9.4        44.9   \n",
       "05000US06005             0.2        48.1             0.4        53.2   \n",
       "05000US06007             0.2        35.3             0.2        38.9   \n",
       "05000US06009             0.4        50.6             0.6        52.1   \n",
       "\n",
       "              B01002_003_m90  \n",
       "GEOID                         \n",
       "05000US06001             0.1  \n",
       "05000US06003             6.4  \n",
       "05000US06005             0.4  \n",
       "05000US06007             0.3  \n",
       "05000US06009             0.6  "
      ]
     },
     "execution_count": 4,
     "metadata": {},
     "output_type": "execute_result"
    }
   ],
   "source": [
    "df.head()"
   ]
  },
  {
   "cell_type": "markdown",
   "metadata": {},
   "source": [
    "# Geographic Dataframes"
   ]
  },
  {
   "cell_type": "code",
   "execution_count": 5,
   "metadata": {},
   "outputs": [],
   "source": [
    "# Get a geo dataframe from the URL\n",
    "gdf = u.geoframe\n"
   ]
  },
  {
   "cell_type": "code",
   "execution_count": 6,
   "metadata": {},
   "outputs": [
    {
     "data": {
      "text/html": [
       "<div>\n",
       "<style scoped>\n",
       "    .dataframe tbody tr th:only-of-type {\n",
       "        vertical-align: middle;\n",
       "    }\n",
       "\n",
       "    .dataframe tbody tr th {\n",
       "        vertical-align: top;\n",
       "    }\n",
       "\n",
       "    .dataframe thead th {\n",
       "        text-align: right;\n",
       "    }\n",
       "</style>\n",
       "<table border=\"1\" class=\"dataframe\">\n",
       "  <thead>\n",
       "    <tr style=\"text-align: right;\">\n",
       "      <th></th>\n",
       "      <th>id</th>\n",
       "      <th>STATEFP</th>\n",
       "      <th>COUNTYFP</th>\n",
       "      <th>COUNTYNS</th>\n",
       "      <th>GEOID</th>\n",
       "      <th>NAME</th>\n",
       "      <th>NAMELSAD</th>\n",
       "      <th>LSAD</th>\n",
       "      <th>CLASSFP</th>\n",
       "      <th>MTFCC</th>\n",
       "      <th>CSAFP</th>\n",
       "      <th>CBSAFP</th>\n",
       "      <th>METDIVFP</th>\n",
       "      <th>FUNCSTAT</th>\n",
       "      <th>ALAND</th>\n",
       "      <th>AWATER</th>\n",
       "      <th>INTPTLAT</th>\n",
       "      <th>INTPTLON</th>\n",
       "      <th>geometry</th>\n",
       "    </tr>\n",
       "  </thead>\n",
       "  <tbody>\n",
       "    <tr>\n",
       "      <th>0</th>\n",
       "      <td>0</td>\n",
       "      <td>31</td>\n",
       "      <td>039</td>\n",
       "      <td>00835841</td>\n",
       "      <td>31039</td>\n",
       "      <td>Cuming</td>\n",
       "      <td>Cuming County</td>\n",
       "      <td>06</td>\n",
       "      <td>H1</td>\n",
       "      <td>G4020</td>\n",
       "      <td></td>\n",
       "      <td></td>\n",
       "      <td></td>\n",
       "      <td>A</td>\n",
       "      <td>1477895811</td>\n",
       "      <td>10447360</td>\n",
       "      <td>+41.9158651</td>\n",
       "      <td>-096.7885168</td>\n",
       "      <td>POLYGON ((-97.019516 42.004097, -97.019519 42....</td>\n",
       "    </tr>\n",
       "    <tr>\n",
       "      <th>1</th>\n",
       "      <td>1</td>\n",
       "      <td>53</td>\n",
       "      <td>069</td>\n",
       "      <td>01513275</td>\n",
       "      <td>53069</td>\n",
       "      <td>Wahkiakum</td>\n",
       "      <td>Wahkiakum County</td>\n",
       "      <td>06</td>\n",
       "      <td>H1</td>\n",
       "      <td>G4020</td>\n",
       "      <td></td>\n",
       "      <td></td>\n",
       "      <td></td>\n",
       "      <td>A</td>\n",
       "      <td>680956787</td>\n",
       "      <td>61588406</td>\n",
       "      <td>+46.2946377</td>\n",
       "      <td>-123.4244583</td>\n",
       "      <td>POLYGON ((-123.436394 46.238197, -123.447592 4...</td>\n",
       "    </tr>\n",
       "    <tr>\n",
       "      <th>2</th>\n",
       "      <td>2</td>\n",
       "      <td>35</td>\n",
       "      <td>011</td>\n",
       "      <td>00933054</td>\n",
       "      <td>35011</td>\n",
       "      <td>De Baca</td>\n",
       "      <td>De Baca County</td>\n",
       "      <td>06</td>\n",
       "      <td>H1</td>\n",
       "      <td>G4020</td>\n",
       "      <td></td>\n",
       "      <td></td>\n",
       "      <td></td>\n",
       "      <td>A</td>\n",
       "      <td>6016761713</td>\n",
       "      <td>29147306</td>\n",
       "      <td>+34.3592729</td>\n",
       "      <td>-104.3686961</td>\n",
       "      <td>POLYGON ((-104.567387 33.997566, -104.567717 3...</td>\n",
       "    </tr>\n",
       "    <tr>\n",
       "      <th>3</th>\n",
       "      <td>3</td>\n",
       "      <td>31</td>\n",
       "      <td>109</td>\n",
       "      <td>00835876</td>\n",
       "      <td>31109</td>\n",
       "      <td>Lancaster</td>\n",
       "      <td>Lancaster County</td>\n",
       "      <td>06</td>\n",
       "      <td>H1</td>\n",
       "      <td>G4020</td>\n",
       "      <td>339</td>\n",
       "      <td>30700</td>\n",
       "      <td></td>\n",
       "      <td>A</td>\n",
       "      <td>2169240199</td>\n",
       "      <td>22877180</td>\n",
       "      <td>+40.7835474</td>\n",
       "      <td>-096.6886584</td>\n",
       "      <td>POLYGON ((-96.91059899999999 40.958407, -96.91...</td>\n",
       "    </tr>\n",
       "    <tr>\n",
       "      <th>4</th>\n",
       "      <td>4</td>\n",
       "      <td>31</td>\n",
       "      <td>129</td>\n",
       "      <td>00835886</td>\n",
       "      <td>31129</td>\n",
       "      <td>Nuckolls</td>\n",
       "      <td>Nuckolls County</td>\n",
       "      <td>06</td>\n",
       "      <td>H1</td>\n",
       "      <td>G4020</td>\n",
       "      <td></td>\n",
       "      <td></td>\n",
       "      <td></td>\n",
       "      <td>A</td>\n",
       "      <td>1489645187</td>\n",
       "      <td>1718484</td>\n",
       "      <td>+40.1764918</td>\n",
       "      <td>-098.0468422</td>\n",
       "      <td>POLYGON ((-98.27366699999999 40.089399, -98.27...</td>\n",
       "    </tr>\n",
       "  </tbody>\n",
       "</table>\n",
       "</div>"
      ],
      "text/plain": [
       "   id STATEFP COUNTYFP  COUNTYNS  GEOID       NAME          NAMELSAD LSAD  \\\n",
       "0   0      31      039  00835841  31039     Cuming     Cuming County   06   \n",
       "1   1      53      069  01513275  53069  Wahkiakum  Wahkiakum County   06   \n",
       "2   2      35      011  00933054  35011    De Baca    De Baca County   06   \n",
       "3   3      31      109  00835876  31109  Lancaster  Lancaster County   06   \n",
       "4   4      31      129  00835886  31129   Nuckolls   Nuckolls County   06   \n",
       "\n",
       "  CLASSFP  MTFCC CSAFP CBSAFP METDIVFP FUNCSTAT       ALAND    AWATER  \\\n",
       "0      H1  G4020                              A  1477895811  10447360   \n",
       "1      H1  G4020                              A   680956787  61588406   \n",
       "2      H1  G4020                              A  6016761713  29147306   \n",
       "3      H1  G4020   339  30700                 A  2169240199  22877180   \n",
       "4      H1  G4020                              A  1489645187   1718484   \n",
       "\n",
       "      INTPTLAT      INTPTLON  \\\n",
       "0  +41.9158651  -096.7885168   \n",
       "1  +46.2946377  -123.4244583   \n",
       "2  +34.3592729  -104.3686961   \n",
       "3  +40.7835474  -096.6886584   \n",
       "4  +40.1764918  -098.0468422   \n",
       "\n",
       "                                            geometry  \n",
       "0  POLYGON ((-97.019516 42.004097, -97.019519 42....  \n",
       "1  POLYGON ((-123.436394 46.238197, -123.447592 4...  \n",
       "2  POLYGON ((-104.567387 33.997566, -104.567717 3...  \n",
       "3  POLYGON ((-96.91059899999999 40.958407, -96.91...  \n",
       "4  POLYGON ((-98.27366699999999 40.089399, -98.27...  "
      ]
     },
     "execution_count": 6,
     "metadata": {},
     "output_type": "execute_result"
    }
   ],
   "source": [
    "gdf.head()"
   ]
  },
  {
   "cell_type": "code",
   "execution_count": 7,
   "metadata": {},
   "outputs": [
    {
     "data": {
      "text/plain": [
       "<matplotlib.axes._subplots.AxesSubplot at 0x181673ef0>"
      ]
     },
     "execution_count": 7,
     "metadata": {},
     "output_type": "execute_result"
    },
    {
     "data": {
      "image/png": "[encoded data removed]",
      "text/plain": [
       "<Figure size 432x288 with 1 Axes>"
      ]
     },
     "metadata": {},
     "output_type": "display_data"
    }
   ],
   "source": [
    "# Get a geo dataframe from the URL\n",
    "gdf = u.geoframe\n",
    "gdf[gdf.STATEFP=='06'].plot()"
   ]
  },
  {
   "cell_type": "code",
   "execution_count": 8,
   "metadata": {},
   "outputs": [
    {
     "data": {
      "text/plain": [
       "<matplotlib.axes._subplots.AxesSubplot at 0x181673320>"
      ]
     },
     "execution_count": 8,
     "metadata": {},
     "output_type": "execute_result"
    },
    {
     "data": {
      "image/png": "[encoded data removed]",
      "text/plain": [
       "<Figure size 432x288 with 1 Axes>"
      ]
     },
     "metadata": {},
     "output_type": "display_data"
    }
   ],
   "source": [
    "# Get a geo dataframe from the URL\n",
    "gdf = df.geoframe\n",
    "gdf[gdf.STATEFP=='06'].plot()"
   ]
  },
  {
   "cell_type": "code",
   "execution_count": 9,
   "metadata": {},
   "outputs": [
    {
     "data": {
      "text/plain": [
       "(58, 3233)"
      ]
     },
     "execution_count": 9,
     "metadata": {},
     "output_type": "execute_result"
    }
   ],
   "source": [
    "len(df), len(gdf)"
   ]
  },
  {
   "cell_type": "markdown",
   "metadata": {},
   "source": [
    "# Special Features of the CensusDataframe"
   ]
  },
  {
   "cell_type": "markdown",
   "metadata": {},
   "source": [
    "The ``.titles`` property returns the dataframe with colum names that include the Census column titles, which make it much easier to find the columns you want to use. Combine with ``.head().T`` for an easier-to-read format. "
   ]
  },
  {
   "cell_type": "code",
   "execution_count": null,
   "metadata": {},
   "outputs": [],
   "source": [
    "u = parse_app_url('census://2016/5/CA/county/B01003')\n",
    "df = u.dataframe"
   ]
  },
  {
   "cell_type": "code",
   "execution_count": 32,
   "metadata": {},
   "outputs": [
    {
     "data": {
      "text/plain": [
       "('GEOID',\n",
       " 'STUSAB',\n",
       " 'COUNTY',\n",
       " 'NAME',\n",
       " 'TOTAL POPULATION for Total Population% Total',\n",
       " '')"
      ]
     },
     "execution_count": 32,
     "metadata": {},
     "output_type": "execute_result"
    }
   ],
   "source": [
    "df.table.descriptions"
   ]
  },
  {
   "cell_type": "code",
   "execution_count": 36,
   "metadata": {},
   "outputs": [
    {
     "data": {
      "text/plain": [
       "['',\n",
       " '',\n",
       " '',\n",
       " '',\n",
       " '',\n",
       " '',\n",
       " 'SEX BY AGE (TWO OR MORE RACES) for People Who Are Two Or More Races% Total:',\n",
       " '',\n",
       " 'SEX BY AGE (TWO OR MORE RACES) for People Who Are Two Or More Races% Male:',\n",
       " '']"
      ]
     },
     "execution_count": 36,
     "metadata": {},
     "output_type": "execute_result"
    }
   ],
   "source": [
    "from publicdata.census.files.generators import SequenceFile\n",
    "t = df.table\n",
    "sf =  SequenceFile(t.year, t.release, t.state_abs[0],t.summary_level, t.seq)\n",
    "list(sf.descriptions)[:10]"
   ]
  },
  {
   "cell_type": "code",
   "execution_count": 20,
   "metadata": {},
   "outputs": [
    {
     "data": {
      "text/html": [
       "<div>\n",
       "<style scoped>\n",
       "    .dataframe tbody tr th:only-of-type {\n",
       "        vertical-align: middle;\n",
       "    }\n",
       "\n",
       "    .dataframe tbody tr th {\n",
       "        vertical-align: top;\n",
       "    }\n",
       "\n",
       "    .dataframe thead th {\n",
       "        text-align: right;\n",
       "    }\n",
       "</style>\n",
       "<table border=\"1\" class=\"dataframe\">\n",
       "  <thead>\n",
       "    <tr style=\"text-align: right;\">\n",
       "      <th>GEOID</th>\n",
       "      <th>05000US06001</th>\n",
       "      <th>05000US06003</th>\n",
       "      <th>05000US06005</th>\n",
       "      <th>05000US06007</th>\n",
       "      <th>05000US06009</th>\n",
       "    </tr>\n",
       "  </thead>\n",
       "  <tbody>\n",
       "    <tr>\n",
       "      <th>STUSAB</th>\n",
       "      <td>CA</td>\n",
       "      <td>CA</td>\n",
       "      <td>CA</td>\n",
       "      <td>CA</td>\n",
       "      <td>CA</td>\n",
       "    </tr>\n",
       "    <tr>\n",
       "      <th>COUNTY</th>\n",
       "      <td>001</td>\n",
       "      <td>003</td>\n",
       "      <td>005</td>\n",
       "      <td>007</td>\n",
       "      <td>009</td>\n",
       "    </tr>\n",
       "    <tr>\n",
       "      <th>NAME</th>\n",
       "      <td>Alameda County, California</td>\n",
       "      <td>Alpine County, California</td>\n",
       "      <td>Amador County, California</td>\n",
       "      <td>Butte County, California</td>\n",
       "      <td>Calaveras County, California</td>\n",
       "    </tr>\n",
       "    <tr>\n",
       "      <th>B01003_001 TOTAL POPULATION for Total Population% Total</th>\n",
       "      <td>1605217</td>\n",
       "      <td>1184</td>\n",
       "      <td>36963</td>\n",
       "      <td>223877</td>\n",
       "      <td>44787</td>\n",
       "    </tr>\n",
       "    <tr>\n",
       "      <th>B01003_001_m90</th>\n",
       "      <td>0</td>\n",
       "      <td>191</td>\n",
       "      <td>0</td>\n",
       "      <td>0</td>\n",
       "      <td>0</td>\n",
       "    </tr>\n",
       "  </tbody>\n",
       "</table>\n",
       "</div>"
      ],
      "text/plain": [
       "GEOID                                                             05000US06001  \\\n",
       "STUSAB                                                                      CA   \n",
       "COUNTY                                                                     001   \n",
       "NAME                                                Alameda County, California   \n",
       "B01003_001 TOTAL POPULATION for Total Populatio...                     1605217   \n",
       "B01003_001_m90                                                               0   \n",
       "\n",
       "GEOID                                                            05000US06003  \\\n",
       "STUSAB                                                                     CA   \n",
       "COUNTY                                                                    003   \n",
       "NAME                                                Alpine County, California   \n",
       "B01003_001 TOTAL POPULATION for Total Populatio...                       1184   \n",
       "B01003_001_m90                                                            191   \n",
       "\n",
       "GEOID                                                            05000US06005  \\\n",
       "STUSAB                                                                     CA   \n",
       "COUNTY                                                                    005   \n",
       "NAME                                                Amador County, California   \n",
       "B01003_001 TOTAL POPULATION for Total Populatio...                      36963   \n",
       "B01003_001_m90                                                              0   \n",
       "\n",
       "GEOID                                                           05000US06007  \\\n",
       "STUSAB                                                                    CA   \n",
       "COUNTY                                                                   007   \n",
       "NAME                                                Butte County, California   \n",
       "B01003_001 TOTAL POPULATION for Total Populatio...                    223877   \n",
       "B01003_001_m90                                                             0   \n",
       "\n",
       "GEOID                                                               05000US06009  \n",
       "STUSAB                                                                        CA  \n",
       "COUNTY                                                                       009  \n",
       "NAME                                                Calaveras County, California  \n",
       "B01003_001 TOTAL POPULATION for Total Populatio...                         44787  \n",
       "B01003_001_m90                                                                 0  "
      ]
     },
     "execution_count": 20,
     "metadata": {},
     "output_type": "execute_result"
    }
   ],
   "source": [
    "df.titles.head().T"
   ]
  },
  {
   "cell_type": "code",
   "execution_count": null,
   "metadata": {},
   "outputs": [],
   "source": []
  }
 ],
 "metadata": {
  "kernelspec": {
   "display_name": "Python 3",
   "language": "python",
   "name": "python3"
  },
  "language_info": {
   "codemirror_mode": {
    "name": "ipython",
    "version": 3
   },
   "file_extension": ".py",
   "mimetype": "text/x-python",
   "name": "python",
   "nbconvert_exporter": "python",
   "pygments_lexer": "ipython3",
   "version": "3.7.3"
  },
  "varInspector": {
   "cols": {
    "lenName": 16,
    "lenType": 16,
    "lenVar": 40
   },
   "kernels_config": {
    "python": {
     "delete_cmd_postfix": "",
     "delete_cmd_prefix": "del ",
     "library": "var_list.py",
     "varRefreshCmd": "print(var_dic_list())"
    },
    "r": {
     "delete_cmd_postfix": ") ",
     "delete_cmd_prefix": "rm(",
     "library": "var_list.r",
     "varRefreshCmd": "cat(var_dic_list()) "
    }
   },
   "types_to_exclude": [
    "module",
    "function",
    "builtin_function_or_method",
    "instance",
    "_Feature"
   ],
   "window_display": false
  }
 },
 "nbformat": 4,
 "nbformat_minor": 2
}
