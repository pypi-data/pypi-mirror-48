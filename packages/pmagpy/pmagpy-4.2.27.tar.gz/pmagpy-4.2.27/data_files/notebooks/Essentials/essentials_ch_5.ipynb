{
 "cells": [
  {
   "cell_type": "markdown",
   "metadata": {},
   "source": [
    "# Jupyter Notebook  problems in the Essentials of Paleomagnetism Textbook by L. Tauxe\n"
   ]
  },
  {
   "cell_type": "markdown",
   "metadata": {},
   "source": [
    "# Problems in Chapter 5"
   ]
  },
  {
   "cell_type": "markdown",
   "metadata": {},
   "source": [
    "## Problem 1"
   ]
  },
  {
   "cell_type": "markdown",
   "metadata": {},
   "source": [
    "The flipping condition is fulfilled when both of the following equations are zero:\n",
    "\n",
    "$$\n",
    "{dE \\over {d\\theta}} = 2 K_u \\sin \\theta \\cos \\theta - M_s B \\sin (\\phi - \\theta),\n",
    "$$\n",
    "\n",
    "and again\n",
    "\n",
    "$$\n",
    "{d^2 E \\over {d\\theta^2}} = 2 K_u \\cos (2\\theta) + M_s B \\cos (\\phi - \\theta ).\n",
    "$$\n",
    "\n",
    "For $\\phi = 180, \\theta = 0$ (originally antiparallel), we have:\n",
    "\n",
    "$${d^2 E \\over {d\\theta^2}} = 2 K_u[1] + M_s B[-1] = 0$$\n",
    "so, solving for $B$ and setting equal to $B_c$ by definition:\n",
    "$$\n",
    "B_c = { {2K_u}\\over{M_s} }\n",
    "$$\n",
    "\n",
    "Because $B_c=\\mu_o H_c, H_c = B_c/\\mu_o$.  "
   ]
  },
  {
   "cell_type": "markdown",
   "metadata": {},
   "source": [
    "## Problem 2a"
   ]
  },
  {
   "cell_type": "markdown",
   "metadata": {},
   "source": [
    "For this problem, we read in some hysteresis data into a Pandas dataframe and work on it with the **Numpy** function **np.polyfit()**.  "
   ]
  },
  {
   "cell_type": "code",
   "execution_count": 4,
   "metadata": {},
   "outputs": [
    {
     "data": {
      "text/html": [
       "<div>\n",
       "<style scoped>\n",
       "    .dataframe tbody tr th:only-of-type {\n",
       "        vertical-align: middle;\n",
       "    }\n",
       "\n",
       "    .dataframe tbody tr th {\n",
       "        vertical-align: top;\n",
       "    }\n",
       "\n",
       "    .dataframe thead th {\n",
       "        text-align: right;\n",
       "    }\n",
       "</style>\n",
       "<table border=\"1\" class=\"dataframe\">\n",
       "  <thead>\n",
       "    <tr style=\"text-align: right;\">\n",
       "      <th></th>\n",
       "      <th>H (Oe)</th>\n",
       "      <th>M (emu)</th>\n",
       "    </tr>\n",
       "  </thead>\n",
       "  <tbody>\n",
       "    <tr>\n",
       "      <th>0</th>\n",
       "      <td>5001.0</td>\n",
       "      <td>0.000748</td>\n",
       "    </tr>\n",
       "    <tr>\n",
       "      <th>1</th>\n",
       "      <td>4964.4</td>\n",
       "      <td>0.000745</td>\n",
       "    </tr>\n",
       "    <tr>\n",
       "      <th>2</th>\n",
       "      <td>4915.1</td>\n",
       "      <td>0.000740</td>\n",
       "    </tr>\n",
       "    <tr>\n",
       "      <th>3</th>\n",
       "      <td>4864.9</td>\n",
       "      <td>0.000736</td>\n",
       "    </tr>\n",
       "    <tr>\n",
       "      <th>4</th>\n",
       "      <td>4814.8</td>\n",
       "      <td>0.000731</td>\n",
       "    </tr>\n",
       "  </tbody>\n",
       "</table>\n",
       "</div>"
      ],
      "text/plain": [
       "   H (Oe)   M (emu)\n",
       "0  5001.0  0.000748\n",
       "1  4964.4  0.000745\n",
       "2  4915.1  0.000740\n",
       "3  4864.9  0.000736\n",
       "4  4814.8  0.000731"
      ]
     },
     "execution_count": 4,
     "metadata": {},
     "output_type": "execute_result"
    }
   ],
   "source": [
    "import pandas as pd\n",
    "import numpy as np\n",
    "hyst=pd.read_csv('Chapter_5/hysteresis.txt',sep='\\t')    # read in the data\n",
    "hyst.head()"
   ]
  },
  {
   "cell_type": "markdown",
   "metadata": {},
   "source": [
    "Now we need to take the high field data (> 4000 Oe) and calculate a best fit line (actually two - one for the positive $H$ values and one for the negative, then average the two).  This is the high field susceptibility. "
   ]
  },
  {
   "cell_type": "code",
   "execution_count": 5,
   "metadata": {},
   "outputs": [
    {
     "name": "stdout",
     "output_type": "stream",
     "text": [
      "9.24807367593e-08\n"
     ]
    }
   ],
   "source": [
    "H=hyst['H (Oe)']\n",
    "mag=hyst['M (emu)']\n",
    "\n",
    "hi=hyst[hyst['H (Oe)']>4000]                         # separate high field data\n",
    "low=hyst[hyst['H (Oe)']<-4000]                       # separate low field data\n",
    "\n",
    "slope1=np.polyfit(hi['H (Oe)'],hi['M (emu)'],deg=1)       # calculate slope at + end\n",
    "slope2=np.polyfit(low['H (Oe)'],low['M (emu)'],deg=1)     # calculate slope at - end\n",
    "\n",
    "slope=(slope1[0]+slope2[0])/2                         # return has [slope,intercept]\n",
    "print(slope)\n"
   ]
  },
  {
   "cell_type": "markdown",
   "metadata": {},
   "source": [
    "## Problem 2b"
   ]
  },
  {
   "cell_type": "markdown",
   "metadata": {},
   "source": [
    "Now we subtract this paramagnetic slope for all H and plot both the corrected and uncorrected data.  "
   ]
  },
  {
   "cell_type": "code",
   "execution_count": 10,
   "metadata": {},
   "outputs": [
    {
     "data": {
      "image/png": "[encoded data removed]",
      "text/plain": [
       "<matplotlib.figure.Figure at 0x112365358>"
      ]
     },
     "metadata": {},
     "output_type": "display_data"
    }
   ],
   "source": [
    "import matplotlib.pyplot as plt\n",
    "%matplotlib inline\n",
    "hyst['Mcorr']=hyst['M (emu)']-slope*hyst['H (Oe)']     # slope corrected values of mag\n",
    "\n",
    "plt.plot(hyst['H (Oe)'],hyst['M (emu)'],'r-',label='Raw')\n",
    "plt.plot(hyst['H (Oe)'],hyst['Mcorr'],'b-',label='Corrected')\n",
    "plt.xlabel('H (Oe)')\n",
    "plt.ylabel('M (emu)')\n",
    "plt.axvline(0,color='black')\n",
    "plt.axhline(0,color='black')\n",
    "plt.legend();"
   ]
  },
  {
   "cell_type": "markdown",
   "metadata": {},
   "source": [
    "The red loop shows the hysteresis behavior as measured.  The quasi-linear portion at high fields is the \"high field slope\" $\\chi_{hf}$ which is the paramagnetic slope.  All the ferromagnetic contributions are at saturation (the loop is closed and reversible).  Subtracting off this high field slope gives the blue line, which allows calculation of the saturation magnetization ($M_s$), which is the intercept of the zero slope line at high fields with the $y$ axis.  The intercept of the blue line gives the magnetization remaining at zero field after exposure to a high saturating field, or the saturation remanence ($M_r$).  The intercept of the hysteresis loop with the $y$ axis is the coercive field $H_c$.  "
   ]
  },
  {
   "cell_type": "markdown",
   "metadata": {},
   "source": [
    "## Problem 2c"
   ]
  },
  {
   "cell_type": "markdown",
   "metadata": {},
   "source": [
    "Finding the $M_s$ values is pretty simple though it's good to take the average of the slope-corrected data at both +H and -H: $2.89 \\times 10^{-4} + (-2.86 \\times 10^{-4}) = 2.875 \\times 10^{-4} emu$.\n",
    "\n",
    "$M_r$ is a bit more tricky. One could fit a spline to the data and evaluate at H=0 but it's fine to just approximate this: $1.22 \\times 10^{-4} emu$ so Mr/Ms = 0.425.   \n",
    "\n",
    "H_c is also a bit asymmetric. On the descending branch I find -190 Oe and on the ascending branch I find +154 Oe so an average value of 172 Oe. With the H_{cr} estimate of 264 Oe, this yields a H_{cr}/H_c of 1.53.\n",
    "\n",
    "So overall, this sample looks like it is more likely to contain single domain grains than multidomain ones."
   ]
  },
  {
   "cell_type": "markdown",
   "metadata": {},
   "source": [
    "### Problem 2c\n",
    "\n",
    "Given our values for Ms and mass $(.0106 g)$ this yields 0.027 emu/g which represents a fraction of 0.00029. \n"
   ]
  }
 ],
 "metadata": {
  "kernelspec": {
   "display_name": "Python 3",
   "language": "python",
   "name": "python3"
  },
  "language_info": {
   "codemirror_mode": {
    "name": "ipython",
    "version": 3
   },
   "file_extension": ".py",
   "mimetype": "text/x-python",
   "name": "python",
   "nbconvert_exporter": "python",
   "pygments_lexer": "ipython3",
   "version": "3.7.0"
  }
 },
 "nbformat": 4,
 "nbformat_minor": 1
}
