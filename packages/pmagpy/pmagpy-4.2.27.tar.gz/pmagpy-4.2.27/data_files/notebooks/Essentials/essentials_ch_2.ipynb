{
 "cells": [
  {
   "cell_type": "markdown",
   "metadata": {},
   "source": [
    "# Jupyter Notebook  problems in the Essentials of Paleomagnetism Textbook by L. Tauxe"
   ]
  },
  {
   "cell_type": "markdown",
   "metadata": {},
   "source": [
    "## Problems in Chapter 2"
   ]
  },
  {
   "cell_type": "markdown",
   "metadata": {},
   "source": [
    "### Problem 1a:   \n",
    "Write a script to convert declination, inclination, intensity data to North, East and Down.  First we need to import numpy, the module with lots of math functions and pandas with nice data manipulation functions"
   ]
  },
  {
   "cell_type": "code",
   "execution_count": 1,
   "metadata": {},
   "outputs": [],
   "source": [
    "import numpy as np\n",
    "import pandas as pd\n"
   ]
  },
  {
   "cell_type": "markdown",
   "metadata": {},
   "source": [
    "Let's write a little function to do the conversion.  "
   ]
  },
  {
   "cell_type": "code",
   "execution_count": 2,
   "metadata": {},
   "outputs": [],
   "source": [
    "def dir2cart(data):\n",
    "    \"\"\" Converts data array with [Declination, Inclination, Intensity] \n",
    "        to cartesian coordinates, X=North, Y=East, Z=Down\n",
    "        Returns array with [X,Y,Z]\n",
    "    \"\"\"\n",
    "    # convert degrees to radians for declination and inclination\n",
    "    decs,incs,ints=np.radians(data[0]),np.radians(data[1]),data[2]\n",
    "    X=ints*np.cos(decs)*np.cos(incs)\n",
    "    Y=ints*np.sin(decs)*np.cos(incs)\n",
    "    Z=ints*np.sin(incs)\n",
    "    cart=np.array([X,Y,Z]).transpose()\n",
    "    return cart"
   ]
  },
  {
   "cell_type": "markdown",
   "metadata": {},
   "source": [
    "Now let's read in a data file with some geomagnetic field vectors in it."
   ]
  },
  {
   "cell_type": "code",
   "execution_count": 3,
   "metadata": {},
   "outputs": [
    {
     "name": "stdout",
     "output_type": "stream",
     "text": [
      "[[ 21352.55524831   2093.63634727  23332.08409238]\n",
      " [  4504.44337072   -259.7245706   -1225.86288284]\n",
      " [ 23546.1300489    3141.72451736  33426.255268  ]\n",
      " [ 14629.0911691    1022.96570709  21021.51776849]\n",
      " [ 23150.99484809   2965.71083857  30861.24994328]\n",
      " [ 14767.09147922   2127.97038951    651.40495181]\n",
      " [ 18929.94924879   -231.28446662  25961.37752135]\n",
      " [  8342.98700429    759.27129675   8495.26107758]\n",
      " [ 10858.76521357   2606.95887762  19818.79867013]\n",
      " [ 30243.76260383   1532.08292009  41375.84902637]]\n"
     ]
    }
   ],
   "source": [
    "# read in the data and transpose it to rows of dec, inc, int\n",
    "data=np.loadtxt('Chapter_2/ps2_prob1_data.txt').transpose()\n",
    "print (dir2cart(data))"
   ]
  },
  {
   "cell_type": "markdown",
   "metadata": {},
   "source": [
    "### Problem 1b: \n",
    "Get locations from 10 random spots on Earth and calculate the IGRF vectors at each place. "
   ]
  },
  {
   "cell_type": "markdown",
   "metadata": {},
   "source": [
    "To solve this problem,  we have to understand how the function **pmag.get_unf( )** works.  To do this, we need to tell the notebook where the **pmag** module lives, import it and print out the doc string for **get_unf()**: "
   ]
  },
  {
   "cell_type": "code",
   "execution_count": 1,
   "metadata": {},
   "outputs": [
    {
     "name": "stdout",
     "output_type": "stream",
     "text": [
      "Help on function get_unf in module pmagpy.pmag:\n",
      "\n",
      "get_unf(N=100)\n",
      "    Generates N uniformly distributed directions\n",
      "    using the way described in Fisher et al. (1987).\n",
      "    Parameters\n",
      "    __________\n",
      "    N : number of directions, default is 100\n",
      "    \n",
      "    Returns\n",
      "    ______\n",
      "    array of nested dec,inc pairs\n",
      "\n"
     ]
    }
   ],
   "source": [
    "import pmagpy.pmag as pmag\n",
    "help(pmag.get_unf)"
   ]
  },
  {
   "cell_type": "markdown",
   "metadata": {},
   "source": [
    "Now we can use that function to generate a list of random points on the Earth's surface.  "
   ]
  },
  {
   "cell_type": "code",
   "execution_count": 4,
   "metadata": {},
   "outputs": [
    {
     "name": "stdout",
     "output_type": "stream",
     "text": [
      "[[207.24306956  28.29166733]\n",
      " [321.47716808 -29.00124296]\n",
      " [158.93872899 -50.61388124]\n",
      " [128.9347395  -62.67103462]\n",
      " [137.40448359  63.04146583]\n",
      " [106.46942863 -53.64820641]\n",
      " [ 18.30566173  -1.25124075]\n",
      " [134.8651658  -37.24450095]\n",
      " [155.80586969  36.04222227]\n",
      " [150.13736454  -5.07008073]]\n"
     ]
    }
   ],
   "source": [
    "places=pmag.get_unf(10)\n",
    "print (places)"
   ]
  },
  {
   "cell_type": "markdown",
   "metadata": {},
   "source": [
    "Now let's find out about ipmag.igrf"
   ]
  },
  {
   "cell_type": "code",
   "execution_count": 5,
   "metadata": {},
   "outputs": [
    {
     "name": "stdout",
     "output_type": "stream",
     "text": [
      "Help on function igrf in module pmagpy.ipmag:\n",
      "\n",
      "igrf(input_list, mod='', ghfile='')\n",
      "    Determine Declination, Inclination and Intensity from the IGRF model.\n",
      "    (http://www.ngdc.noaa.gov/IAGA/vmod/igrf.html)\n",
      "    \n",
      "    Parameters\n",
      "    ----------\n",
      "    input_list : list with format [Date, Altitude, Latitude, Longitude]\n",
      "        date must be in decimal year format XXXX.XXXX (Common Era)\n",
      "    mod :  desired model\n",
      "        \"\" : Use the IGRF\n",
      "        custom : use values supplied in ghfile\n",
      "        or choose from this list\n",
      "        ['arch3k','cals3k','pfm9k','hfm10k','cals10k.2','cals10k.1b']\n",
      "        where:\n",
      "            arch3k (Korte et al., 2009)\n",
      "            cals3k (Korte and Constable, 2011)\n",
      "            cals10k.1b (Korte et al., 2011)\n",
      "            pfm9k  (Nilsson et al., 2014)\n",
      "            hfm10k is the hfm.OL1.A1 of Constable et al. (2016)\n",
      "            cals10k.2 (Constable et al., 2016)\n",
      "            the first four of these models, are constrained to agree\n",
      "            with gufm1 (Jackson et al., 2000) for the past four centuries\n",
      "    \n",
      "    \n",
      "    gh : path to file with l m g h data\n",
      "    \n",
      "    Returns\n",
      "    -------\n",
      "    igrf_array : array of IGRF values (0: dec; 1: inc; 2: intensity (in nT))\n",
      "    \n",
      "    Examples\n",
      "    --------\n",
      "    >>> local_field = ipmag.igrf([2013.6544, .052, 37.87, -122.27])\n",
      "    >>> local_field\n",
      "    array([  1.39489916e+01,   6.13532008e+01,   4.87452644e+04])\n",
      "    >>> ipmag.igrf_print(local_field)\n",
      "    Declination: 13.949\n",
      "    Inclination: 61.353\n",
      "    Intensity: 48745.264 nT\n",
      "\n"
     ]
    }
   ],
   "source": [
    "import pmagpy.ipmag as ipmag\n",
    "help(ipmag.igrf)"
   ]
  },
  {
   "cell_type": "markdown",
   "metadata": {},
   "source": [
    "And now we can ship the **data** in places to **ipmag.igrf**."
   ]
  },
  {
   "cell_type": "code",
   "execution_count": 6,
   "metadata": {},
   "outputs": [
    {
     "name": "stdout",
     "output_type": "stream",
     "text": [
      "[1.16197289e+01 4.66616315e+01 3.83625918e+04]\n",
      "[  337.87155554   -45.58682704 23579.17239865]\n",
      "[ 2.61405396e+01 -7.62885600e+01  6.33913647e+04]\n",
      "[  289.5735567    -87.77436695 66625.35585467]\n",
      "[  344.37479044    75.90940682 58756.39721505]\n",
      "[  310.11691293   -80.54694388 63228.96812028]\n",
      "[ 3.58479421e+02 -3.04999138e+01  3.30367867e+04]\n",
      "[ 6.76816076e+00 -6.96071110e+01  6.08392321e+04]\n",
      "[  357.0514015     47.74820044 42370.43178371]\n",
      "[ 6.36885345e+00 -2.46038142e+01  4.00089704e+04]\n"
     ]
    }
   ],
   "source": [
    "for place in places:\n",
    "    print (ipmag.igrf([2006,0,place[1],place[0]]))"
   ]
  },
  {
   "cell_type": "markdown",
   "metadata": {},
   "source": [
    "## Problem 1c:  \n",
    "Take the output from Problem 1b and call **dir2cart**. "
   ]
  },
  {
   "cell_type": "code",
   "execution_count": 8,
   "metadata": {},
   "outputs": [
    {
     "name": "stdout",
     "output_type": "stream",
     "text": [
      "[[ 20085.44068443    567.84791886 -13432.27786028]\n",
      " [ 24505.99019734  -7079.06335369 -41591.24836519]\n",
      " [ 29203.34798717   3426.61788017   8971.98789833]\n",
      " [ 16452.80652879  -2890.83144361 -27218.35812502]\n",
      " [ 28443.27658589   -562.01832931 -16877.6901792 ]\n",
      " [ 28034.97084442  -7720.62017043  23624.47716484]\n",
      " [ 16317.80892746  -6801.97912598 -28156.26375557]\n",
      " [ 28049.28561952  -1987.62116248  31015.7397622 ]\n",
      " [ 22772.77943133   9029.82164034 -28333.07434688]\n",
      " [ 13475.17287792  -3812.16865823  55786.25528427]]\n"
     ]
    }
   ],
   "source": [
    "data=[] # make a blank list\n",
    "for place in places:\n",
    "    Dir=ipmag.igrf([2006,0,place[1],place[0]])\n",
    "    data.append(Dir) # append to the data list\n",
    "data=np.array(data).transpose() # dir2cart takes arrays of data\n",
    "print (dir2cart(data))"
   ]
  },
  {
   "cell_type": "markdown",
   "metadata": {},
   "source": [
    "## Problem 2b: \n",
    "\n",
    "Take the output from Problem 1c and plot as an equal area projection (first by hand and then with **ipmag** functions).  The **ipmag** functions call **pmagplotlib** and use **matplotlib**, so these will have to be imported as well. "
   ]
  },
  {
   "cell_type": "code",
   "execution_count": 9,
   "metadata": {},
   "outputs": [],
   "source": [
    "import pmagpy.pmagplotlib as pmagplotlib\n",
    "import matplotlib.pyplot as plt\n",
    "# this 'magic command' (starts with %) let's us plot things in the notebook\n",
    "%matplotlib inline "
   ]
  },
  {
   "cell_type": "code",
   "execution_count": 10,
   "metadata": {},
   "outputs": [
    {
     "data": {
      "image/png": "[encoded data removed]",
      "text/plain": [
       "<matplotlib.figure.Figure at 0x10ec5fe48>"
      ]
     },
     "metadata": {},
     "output_type": "display_data"
    }
   ],
   "source": [
    "ipmag.plot_net(1) # make an equal angle net\n",
    "ipmag.plot_di(data[0],data[1]) # put on the dots"
   ]
  },
  {
   "cell_type": "markdown",
   "metadata": {},
   "source": [
    "### Problem 3: \n",
    "Use the dipole formula ($\\tan (I) = 2 \\tan (\\lambda)$ where $I$ is inclination and $\\lambda$ is latitude and calculate the GAD field at 36 $^{\\circ}$N.  Note that declination is always zero for a GAD field.  We can make a **lambda** function for this!"
   ]
  },
  {
   "cell_type": "code",
   "execution_count": 11,
   "metadata": {},
   "outputs": [
    {
     "name": "stdout",
     "output_type": "stream",
     "text": [
      "   55.5\n"
     ]
    }
   ],
   "source": [
    "lat = np.radians(36.) # remember to convert to radians!\n",
    "inc = lambda lat: np.degrees(np.arctan(2.*np.tan(lat)))  # and back! \n",
    "print ('%7.1f'%(inc(lat))) # and print it out"
   ]
  },
  {
   "cell_type": "markdown",
   "metadata": {},
   "source": [
    "Let's use the pmag function **dia_vgp**.  First let's figure out what it does:"
   ]
  },
  {
   "cell_type": "code",
   "execution_count": 7,
   "metadata": {},
   "outputs": [
    {
     "name": "stdout",
     "output_type": "stream",
     "text": [
      "Help on function dia_vgp in module pmagpy.pmag:\n",
      "\n",
      "dia_vgp(*args)\n",
      "    Converts directional data (declination, inclination, alpha95) at a given\n",
      "    location (Site latitude, Site longitude) to pole position (pole longitude,\n",
      "    pole latitude, dp, dm)\n",
      "    \n",
      "    Parameters\n",
      "    ----------\n",
      "    Takes input as (Dec, Inc, a95, Site latitude, Site longitude)\n",
      "    Input can be as individual values (5 parameters)\n",
      "    or\n",
      "    as a list of lists: [[Dec, Inc, a95, lat, lon],[Dec, Inc, a95, lat, lon]]\n",
      "    \n",
      "    Returns\n",
      "    ----------\n",
      "    if input is individual values for one pole the return is:\n",
      "    pole longitude, pole latitude, dp, dm\n",
      "    \n",
      "    if input is list of lists the return is:\n",
      "    list of pole longitudes, list of pole latitude, list of dp, list of dm\n",
      "\n"
     ]
    }
   ],
   "source": [
    "help(pmag.dia_vgp)"
   ]
  },
  {
   "cell_type": "markdown",
   "metadata": {},
   "source": [
    "Now we can use it to convert our directions to VGPs. Note that alpha95 is require but is not given here so we supply a zero in its place. Note also that westward longitudes are indicated by minus signs"
   ]
  },
  {
   "cell_type": "code",
   "execution_count": 13,
   "metadata": {},
   "outputs": [
    {
     "name": "stdout",
     "output_type": "stream",
     "text": [
      "  130.6    75.1\n"
     ]
    }
   ],
   "source": [
    "vgp_lat,vgp_lon,dp,dp= pmag.dia_vgp(345,47,0.,36,-112) \n",
    "print ('%7.1f %7.1f'%(vgp_lat,vgp_lon))"
   ]
  }
 ],
 "metadata": {
  "kernelspec": {
   "display_name": "Python 3",
   "language": "python",
   "name": "python3"
  },
  "language_info": {
   "codemirror_mode": {
    "name": "ipython",
    "version": 3
   },
   "file_extension": ".py",
   "mimetype": "text/x-python",
   "name": "python",
   "nbconvert_exporter": "python",
   "pygments_lexer": "ipython3",
   "version": "3.7.0"
  }
 },
 "nbformat": 4,
 "nbformat_minor": 1
}
