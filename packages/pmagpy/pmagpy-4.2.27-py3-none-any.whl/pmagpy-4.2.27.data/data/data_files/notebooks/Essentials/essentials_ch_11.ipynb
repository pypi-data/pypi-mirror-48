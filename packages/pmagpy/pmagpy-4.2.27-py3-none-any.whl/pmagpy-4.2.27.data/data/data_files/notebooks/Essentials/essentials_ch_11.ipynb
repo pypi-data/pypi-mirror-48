{
 "cells": [
  {
   "cell_type": "markdown",
   "metadata": {},
   "source": [
    "# Jupyter Notebook  problems in the Essentials of Paleomagnetism Textbook by L. Tauxe"
   ]
  },
  {
   "cell_type": "markdown",
   "metadata": {},
   "source": [
    "## Problems in Chapter 11"
   ]
  },
  {
   "cell_type": "markdown",
   "metadata": {},
   "source": [
    "## Problem 1a"
   ]
  },
  {
   "cell_type": "markdown",
   "metadata": {},
   "source": [
    "To do this problem, we need to call a few functions from **pmag** and **ipmag** to create the Fisher distributed set of directions and then plot them.  "
   ]
  },
  {
   "cell_type": "code",
   "execution_count": 1,
   "metadata": {},
   "outputs": [],
   "source": [
    "# import PmagPy functions\n",
    "import pmagpy.pmag as pmag # import the pmag module\n",
    "import pmagpy.ipmag as ipmag \n",
    "import numpy as np # while we are at it, let's import numpy\n",
    "# allows plotting figures in the notebook\n",
    "%matplotlib inline "
   ]
  },
  {
   "cell_type": "markdown",
   "metadata": {},
   "source": [
    "Let's first use **ipmag.fishrot()** to generate a Fisher distributed set of directions and then plot it with the pair of functions **ipmag.plot_net()** and **ipmag.plot_di()**.   "
   ]
  },
  {
   "cell_type": "code",
   "execution_count": 2,
   "metadata": {},
   "outputs": [
    {
     "name": "stdout",
     "output_type": "stream",
     "text": [
      "Help on function fishrot in module pmagpy.ipmag:\n",
      "\n",
      "fishrot(k=20, n=100, dec=0, inc=90, di_block=True)\n",
      "    Generates Fisher distributed unit vectors from a specified distribution\n",
      "    using the pmag.py fshdev and dodirot functions.\n",
      "    \n",
      "    Parameters\n",
      "    ----------\n",
      "    k : kappa precision parameter (default is 20)\n",
      "    n : number of vectors to determine (default is 100)\n",
      "    dec : mean declination of distribution (default is 0)\n",
      "    inc : mean inclination of distribution (default is 90)\n",
      "    di_block : this function returns a nested list of [dec,inc,1.0] as the default\n",
      "    if di_block = False it will return a list of dec and a list of inc\n",
      "    \n",
      "    Returns\n",
      "    ---------\n",
      "    di_block : a nested list of [dec,inc,1.0] (default)\n",
      "    dec, inc : a list of dec and a list of inc (if di_block = False)\n",
      "    \n",
      "    Examples\n",
      "    --------\n",
      "    >>> ipmag.fishrot(k=20, n=5, dec=40, inc=60)\n",
      "    [[44.766285502555775, 37.440866867657235, 1.0],\n",
      "     [33.866315796883725, 64.732532250463436, 1.0],\n",
      "     [47.002912770597163, 54.317853800896977, 1.0],\n",
      "     [36.762165614432547, 56.857240672884252, 1.0],\n",
      "     [71.43950604474395, 59.825830945715431, 1.0]]\n",
      "\n"
     ]
    }
   ],
   "source": [
    "help(ipmag.fishrot)"
   ]
  },
  {
   "cell_type": "markdown",
   "metadata": {},
   "source": [
    "So we can just define the parameters and assign the output to a list"
   ]
  },
  {
   "cell_type": "code",
   "execution_count": 6,
   "metadata": {},
   "outputs": [],
   "source": [
    "prob1a_data=ipmag.fishrot(k=25,n=20, dec=12,inc=45)"
   ]
  },
  {
   "cell_type": "code",
   "execution_count": 7,
   "metadata": {},
   "outputs": [
    {
     "name": "stdout",
     "output_type": "stream",
     "text": [
      "Help on function plot_di in module pmagpy.ipmag:\n",
      "\n",
      "plot_di(dec=None, inc=None, di_block=None, color='k', marker='o', markersize=20, legend='no', label='', title='', edge='')\n",
      "    Plot declination, inclination data on an equal area plot.\n",
      "    \n",
      "    Before this function is called a plot needs to be initialized with code that looks\n",
      "    something like:\n",
      "    >fignum = 1\n",
      "    >plt.figure(num=fignum,figsize=(10,10),dpi=160)\n",
      "    >ipmag.plot_net(fignum)\n",
      "    \n",
      "    Required Parameters\n",
      "    -----------\n",
      "    dec : declination being plotted\n",
      "    inc : inclination being plotted\n",
      "    \n",
      "    or\n",
      "    \n",
      "    di_block: a nested list of [dec,inc,1.0]\n",
      "    (di_block can be provided instead of dec, inc in which case it will be used)\n",
      "    \n",
      "    Optional Parameters (defaults are used if not specified)\n",
      "    -----------\n",
      "    color : the default color is black. Other colors can be chosen (e.g. 'r')\n",
      "    marker : the default marker is a circle ('o')\n",
      "    markersize : default size is 20\n",
      "    label : the default label is blank ('')\n",
      "    legend : the default is no legend ('no'). Putting 'yes' will plot a legend.\n",
      "    edge : marker edge color - if blank, is color of marker\n",
      "\n"
     ]
    }
   ],
   "source": [
    "help(ipmag.plot_di)"
   ]
  },
  {
   "cell_type": "code",
   "execution_count": 8,
   "metadata": {},
   "outputs": [
    {
     "data": {
      "image/png": "[encoded data removed]",
      "text/plain": [
       "<Figure size 432x288 with 1 Axes>"
      ]
     },
     "metadata": {
      "needs_background": "light"
     },
     "output_type": "display_data"
    }
   ],
   "source": [
    "ipmag.plot_net(1)\n",
    "ipmag.plot_di(di_block=prob1a_data,title=\"Fisher distributed directions\")"
   ]
  },
  {
   "cell_type": "markdown",
   "metadata": {},
   "source": [
    "## Problem 1b"
   ]
  },
  {
   "cell_type": "markdown",
   "metadata": {},
   "source": [
    "Here we have to write a program to calcualate the Fisher statistics for the data in Problem 1a (here called prob1a_data). We can re-use some of the code we wrote in the  Chapter 2 problem sets (dir2cart and cart2dir) (which also happen to be part of the **pmag** module) and write a new function for doing the Fisher statistics.  Notice the use of a doc string (enclosed in triple quotes) at the front of the function. "
   ]
  },
  {
   "cell_type": "code",
   "execution_count": 9,
   "metadata": {},
   "outputs": [],
   "source": [
    "def fisher_mean(data):\n",
    "    \"\"\"\n",
    "    calculates fisher statistics for data where data is an array of Dec, inc pairs.\n",
    "    Returns a dictionary fpars with  dec, inc, n, R, alpha95 and CSD as keys. \n",
    "    dec and inc are the mean dec and inc for the data set. \n",
    "    \"\"\"\n",
    "    R = 0 # initialize R, the resultant vector length to zero\n",
    "    Xbar,X=[0,0,0],[]# initialize Xbar, the container for mean x,y,z\n",
    "    fpars={} # dictionary for the Fisher statistics\n",
    "    N=len(data) # number of data points incoming\n",
    "    if N <2: # You can't do Fisher statistics on less than 2 numbers. \n",
    "       return fpars\n",
    "    # call to dir2cart transforms directions to cartesian coordinates\n",
    "    X=pmag.dir2cart(data) # pmag needs to be imported before calling. \n",
    "    for i in range(len(X)):\n",
    "        for c in range(3):\n",
    "           Xbar[c]+=X[i][c]  # get the sum of each cartesian coordinate\n",
    "    for c in range(3):\n",
    "        R+=Xbar[c]**2  # get the sum of squares of the component sums.  \n",
    "    R=np.sqrt(R) # take the square root\n",
    "    for c in range(3):\n",
    "        Xbar[c]=Xbar[c]/R  # normalize by the Resultant vector length\n",
    "    dir=pmag.cart2dir(Xbar) # convert back to directions\n",
    "    fpars[\"dec\"]=dir[0]\n",
    "    fpars[\"inc\"]=dir[1]\n",
    "    fpars[\"n\"]=N\n",
    "    fpars[\"r\"]=R\n",
    "    if N!=R: # if perfectly aligned kappa infinite! \n",
    "        k=(N-1.)/(N-R)\n",
    "        fpars[\"k\"]=k\n",
    "        csd=81./np.sqrt(k)\n",
    "    else:\n",
    "        fpars['k']='inf'\n",
    "        csd=0.\n",
    "    b=20.**(1./(N-1.)) -1\n",
    "    a=1-b*(N-R)/R\n",
    "    if a<-1:a=-1\n",
    "    a95=np.arccos(a)*180./np.pi\n",
    "    fpars[\"alpha95\"]=a95\n",
    "    fpars[\"csd\"]=csd\n",
    "    if a<0: fpars[\"alpha95\"] = 180.0\n",
    "    return fpars\n"
   ]
  },
  {
   "cell_type": "code",
   "execution_count": 10,
   "metadata": {},
   "outputs": [
    {
     "name": "stdout",
     "output_type": "stream",
     "text": [
      "{'dec': 7.457529005317821, 'inc': 43.47061916238313, 'n': 20, 'r': 19.069300597577413, 'k': 20.414754700114226, 'alpha95': 7.402790860280717, 'csd': 17.92721949746367}\n"
     ]
    }
   ],
   "source": [
    "fpars= fisher_mean(prob1a_data)\n",
    "print (fpars) # it isn't pretty, but it works.  "
   ]
  },
  {
   "cell_type": "markdown",
   "metadata": {},
   "source": [
    "## Problem 1c"
   ]
  },
  {
   "cell_type": "markdown",
   "metadata": {},
   "source": [
    "Here we call **ipmag.fishrot()** again.  "
   ]
  },
  {
   "cell_type": "code",
   "execution_count": 11,
   "metadata": {},
   "outputs": [
    {
     "name": "stdout",
     "output_type": "stream",
     "text": [
      "{'dec': 16.830991512248627, 'inc': 43.23446681066173, 'n': 20, 'r': 19.119814781567243, 'k': 21.586365689974976, 'alpha95': 7.189292651211202, 'csd': 17.43392823164575}\n"
     ]
    }
   ],
   "source": [
    "prob1c_data=ipmag.fishrot(k=25,n=20, dec=12,inc=45)\n",
    "fpars2=fisher_mean(prob1c_data)\n",
    "print (fpars2)"
   ]
  },
  {
   "cell_type": "markdown",
   "metadata": {},
   "source": [
    "Now we can write a little function to calculate Watson's F statistic (Equation 11.16 in the Essentials textbook).  "
   ]
  },
  {
   "cell_type": "code",
   "execution_count": 12,
   "metadata": {},
   "outputs": [],
   "source": [
    "def watsons_f(DI1,DI2):\n",
    "    # first calculate R for the combined data set, then R1 and R2 for each individually.\n",
    "    DI=np.concatenate((DI1,DI2),axis=0) # create a new array from two smaller ones\n",
    "    fpars=fisher_mean(DI) # re-use our functionfrom problem 1b\n",
    "    fpars1=fisher_mean(DI1)\n",
    "    fpars2=fisher_mean(DI2)\n",
    "    N=fpars['n']\n",
    "    R=fpars['r']\n",
    "    R1=fpars1['r']\n",
    "    R2=fpars2['r']\n",
    "    F=(N-2.)*((R1+R2-R)/(N-R1-R2))\n",
    "    return F"
   ]
  },
  {
   "cell_type": "markdown",
   "metadata": {},
   "source": [
    "And now we call it. "
   ]
  },
  {
   "cell_type": "code",
   "execution_count": 13,
   "metadata": {},
   "outputs": [
    {
     "name": "stdout",
     "output_type": "stream",
     "text": [
      "F =    1.41733\n"
     ]
    }
   ],
   "source": [
    "print ('F = %10.5f'%watsons_f(prob1a_data,prob1c_data))"
   ]
  },
  {
   "cell_type": "markdown",
   "metadata": {},
   "source": [
    "So, how do we figure out what the critical value of F is?  I found this website with F tables at:\n",
    "http://www.socr.ucla.edu/Applets.dir/F_Table.html\n",
    "looking at the table for $\\alpha$=0.05 (95% confidence) with df$_1$=2 and  df$_2$= 2(N-2), I found the value of 3.117.  Our value above is much lower than that, so indeed these two data sets are probably drawn from the same distribution.   \n",
    "\n",
    "Better yet,  there is a function **pmag.fcalc( )** that will also help...   "
   ]
  },
  {
   "cell_type": "code",
   "execution_count": 14,
   "metadata": {},
   "outputs": [
    {
     "name": "stdout",
     "output_type": "stream",
     "text": [
      "Help on function fcalc in module pmagpy.pmag:\n",
      "\n",
      "fcalc(col, row)\n",
      "    looks up an F-test stastic from F tables F(col,row), where row is number of degrees of freedom - this is 95% confidence (p=0.05).\n",
      "    \n",
      "      Parameters\n",
      "      _________\n",
      "          col : degrees of freedom column\n",
      "          row : degrees of freedom row\n",
      "    \n",
      "      Returns\n",
      "          F : value for 95% confidence from the F-table\n",
      "\n"
     ]
    }
   ],
   "source": [
    "help(pmag.fcalc)"
   ]
  },
  {
   "cell_type": "code",
   "execution_count": 15,
   "metadata": {},
   "outputs": [
    {
     "data": {
      "text/plain": [
       "3.117"
      ]
     },
     "execution_count": 15,
     "metadata": {},
     "output_type": "execute_result"
    }
   ],
   "source": [
    "pmag.fcalc(2,2*(fpars['n']+fpars2['n']-2))"
   ]
  },
  {
   "cell_type": "markdown",
   "metadata": {},
   "source": [
    "## Problem 1d"
   ]
  },
  {
   "cell_type": "markdown",
   "metadata": {},
   "source": [
    "So here all our work will pay off, because we can just re-use the functions we already wrote.  "
   ]
  },
  {
   "cell_type": "code",
   "execution_count": 17,
   "metadata": {},
   "outputs": [
    {
     "name": "stdout",
     "output_type": "stream",
     "text": [
      "F =   43.08511\n"
     ]
    }
   ],
   "source": [
    "prob1d_data=ipmag.fishrot(k=25,n=20, dec=55,inc=60)\n",
    "print ('F = %10.5f'%(watsons_f(prob1a_data,prob1d_data))) # we already did the tranpose thing"
   ]
  },
  {
   "cell_type": "markdown",
   "metadata": {},
   "source": [
    "And those two are clearly NOT drawn from the same distribution!"
   ]
  },
  {
   "cell_type": "markdown",
   "metadata": {},
   "source": [
    "To check with the function **pmag.watsons_f**:"
   ]
  },
  {
   "cell_type": "code",
   "execution_count": 18,
   "metadata": {},
   "outputs": [
    {
     "name": "stdout",
     "output_type": "stream",
     "text": [
      "Help on function watsons_f in module pmagpy.pmag:\n",
      "\n",
      "watsons_f(DI1, DI2)\n",
      "    calculates Watson's F statistic (equation 11.16 in Essentials text book).\n",
      "    \n",
      "    Parameters\n",
      "    _________\n",
      "    DI1 : nested array of [Dec,Inc] pairs\n",
      "    DI2 : nested array of [Dec,Inc] pairs\n",
      "    \n",
      "    Returns\n",
      "    _______\n",
      "    F : Watson's F\n",
      "    Fcrit : critical value from F table\n",
      "\n"
     ]
    }
   ],
   "source": [
    "help(pmag.watsons_f)"
   ]
  },
  {
   "cell_type": "markdown",
   "metadata": {},
   "source": [
    "So now we do this:"
   ]
  },
  {
   "cell_type": "code",
   "execution_count": 19,
   "metadata": {},
   "outputs": [
    {
     "data": {
      "text/plain": [
       "(1.417329638522164, 3.117)"
      ]
     },
     "execution_count": 19,
     "metadata": {},
     "output_type": "execute_result"
    }
   ],
   "source": [
    "pmag.watsons_f(prob1a_data,prob1c_data)"
   ]
  },
  {
   "cell_type": "markdown",
   "metadata": {},
   "source": [
    "These are the values for F and the critical value of F for this N. The first value is way less than 3.1, so these two data sets are likely drawn from the same distribution.  \n",
    "\n",
    "Now we re-run it with ps11_prob1d.dat and see what we get:  "
   ]
  },
  {
   "cell_type": "code",
   "execution_count": 20,
   "metadata": {},
   "outputs": [
    {
     "data": {
      "text/plain": [
       "(43.085106586142196, 3.117)"
      ]
     },
     "execution_count": 20,
     "metadata": {},
     "output_type": "execute_result"
    }
   ],
   "source": [
    "pmag.watsons_f(prob1a_data,prob1d_data)"
   ]
  },
  {
   "cell_type": "markdown",
   "metadata": {},
   "source": [
    "Looks like these two are different....    \n",
    "So our code is working the same way **watsons_f.py** works.  "
   ]
  },
  {
   "cell_type": "markdown",
   "metadata": {},
   "source": [
    "## Problem 1e"
   ]
  },
  {
   "cell_type": "markdown",
   "metadata": {},
   "source": [
    "Now we can run the function **ipmag.common_mean_watson( )**  for use within a notebok  and see how the two Watson methods compare. \n"
   ]
  },
  {
   "cell_type": "code",
   "execution_count": 21,
   "metadata": {},
   "outputs": [
    {
     "name": "stdout",
     "output_type": "stream",
     "text": [
      "Help on function common_mean_watson in module pmagpy.ipmag:\n",
      "\n",
      "common_mean_watson(Data1, Data2, NumSims=5000, print_result=True, plot='no', save=False, save_folder='.', fmt='svg')\n",
      "    Conduct a Watson V test for a common mean on two directional data sets.\n",
      "    \n",
      "    This function calculates Watson's V statistic from input files through\n",
      "    Monte Carlo simulation in order to test whether two populations of\n",
      "    directional data could have been drawn from a common mean. The critical\n",
      "    angle between the two sample mean directions and the corresponding\n",
      "    McFadden and McElhinny (1990) classification is printed.\n",
      "    \n",
      "    Parameters\n",
      "    ----------\n",
      "    Data1 : a nested list of directional data [dec,inc] (a di_block)\n",
      "    Data2 : a nested list of directional data [dec,inc] (a di_block)\n",
      "    NumSims : number of Monte Carlo simulations (default is 5000)\n",
      "    print_result : default is to print the test result (True)\n",
      "    plot : the default is no plot ('no'). Putting 'yes' will the plot the CDF\n",
      "        from the Monte Carlo simulations.\n",
      "    save : optional save of plots (default is False)\n",
      "    save_folder : path to where plots will be saved (default is current)\n",
      "    fmt : format of figures to be saved (default is 'svg')\n",
      "    \n",
      "    Returns\n",
      "    -------\n",
      "    printed text : text describing the test result is printed\n",
      "    result : a boolean where 0 is fail and 1 is pass\n",
      "    angle : angle between the Fisher means of the two data sets\n",
      "    critical_angle : critical angle for the test to pass\n",
      "    \n",
      "    Examples\n",
      "    --------\n",
      "    Develop two populations of directions using ``ipmag.fishrot``. Use the\n",
      "    function to determine if they share a common mean.\n",
      "    \n",
      "    >>> directions_A = ipmag.fishrot(k=20, n=30, dec=40, inc=60)\n",
      "    >>> directions_B = ipmag.fishrot(k=35, n=25, dec=42, inc=57)\n",
      "    >>> ipmag.common_mean_watson(directions_A, directions_B)\n",
      "\n"
     ]
    }
   ],
   "source": [
    "help(ipmag.common_mean_watson)"
   ]
  },
  {
   "cell_type": "code",
   "execution_count": 37,
   "metadata": {},
   "outputs": [
    {
     "name": "stdout",
     "output_type": "stream",
     "text": [
      "Results of Watson V test: \n",
      "\n",
      "Watson's V:           3.5\n",
      "Critical value of V:  6.3\n",
      "\"Pass\": Since V is less than Vcrit, the null hypothesis\n",
      "that the two populations are drawn from distributions\n",
      "that share a common mean direction can not be rejected.\n",
      "\n",
      "M&M1990 classification:\n",
      "\n",
      "Angle between data set means: 6.3\n",
      "Critical angle for M&M1990:   8.4\n",
      "The McFadden and McElhinny (1990) classification for\n",
      "this test is: 'B'\n"
     ]
    },
    {
     "data": {
      "image/png": "[encoded data removed]",
      "text/plain": [
       "<matplotlib.figure.Figure at 0x109cf59e8>"
      ]
     },
     "metadata": {},
     "output_type": "display_data"
    },
    {
     "data": {
      "text/plain": [
       "(1, 6.2501882511592033, 8.44448050102773)"
      ]
     },
     "execution_count": 37,
     "metadata": {},
     "output_type": "execute_result"
    }
   ],
   "source": [
    "ipmag.common_mean_watson(prob1a_data,prob1c_data,plot='yes')"
   ]
  },
  {
   "cell_type": "markdown",
   "metadata": {},
   "source": [
    "Re-doing this for the other pair of files:"
   ]
  },
  {
   "cell_type": "code",
   "execution_count": 38,
   "metadata": {},
   "outputs": [
    {
     "name": "stdout",
     "output_type": "stream",
     "text": [
      "Results of Watson V test: \n",
      "\n",
      "Watson's V:           64.4\n",
      "Critical value of V:  6.0\n",
      "\"Fail\": Since V is greater than Vcrit, the two means can\n",
      "be distinguished at the 95% confidence level.\n",
      "\n",
      "M&M1990 classification:\n",
      "\n",
      "Angle between data set means: 29.2\n",
      "Critical angle for M&M1990:   8.9\n",
      "\n"
     ]
    },
    {
     "data": {
      "image/png": "[encoded data removed]",
      "text/plain": [
       "<matplotlib.figure.Figure at 0x11698ab70>"
      ]
     },
     "metadata": {},
     "output_type": "display_data"
    },
    {
     "data": {
      "text/plain": [
       "(0, 29.190965523872098, 8.8987701592550383)"
      ]
     },
     "execution_count": 38,
     "metadata": {},
     "output_type": "execute_result"
    }
   ],
   "source": [
    "ipmag.common_mean_watson(prob1a_data,prob1d_data,plot='yes')"
   ]
  },
  {
   "cell_type": "markdown",
   "metadata": {},
   "source": [
    "So the two methods give the same answer.  "
   ]
  },
  {
   "cell_type": "markdown",
   "metadata": {},
   "source": [
    "## Problem 2a"
   ]
  },
  {
   "cell_type": "markdown",
   "metadata": {},
   "source": [
    "For this, we use **ipmag.fishrot()** as before.  But that returns a nested list of declination, inclination data, so to just work on the inclinations, I should turn it into an array, take the transpose (so declination is in the first row and inclination is in the second). Then I can get the inclinations out easily and calculate the average inclination value (using  the **Numpy** functions for Gaussian statistics).  "
   ]
  },
  {
   "cell_type": "code",
   "execution_count": 56,
   "metadata": {},
   "outputs": [
    {
     "data": {
      "text/plain": [
       "array([ 55.1309232 ,  63.12423536,  59.95168288,  65.29808285,\n",
       "        63.28924271,  61.74565482,  49.23345375,  57.36373912,\n",
       "        55.6771035 ,  55.15047068,  42.59171052,  65.97123302,\n",
       "        32.28870883,  37.06095759,  53.97790742,  48.20784012,\n",
       "        66.363052  ,  33.00330053,  59.07110272,  32.337026  ])"
      ]
     },
     "execution_count": 56,
     "metadata": {},
     "output_type": "execute_result"
    }
   ],
   "source": [
    "prob2a_data=np.array(ipmag.fishrot(k=20,n=20,inc=50)) # I'm using the same N and kappa as for the others\n",
    "Incs=prob2a_data.transpose()[1] # fish out the inclinations\n",
    "Incs"
   ]
  },
  {
   "cell_type": "code",
   "execution_count": 57,
   "metadata": {},
   "outputs": [
    {
     "data": {
      "text/plain": [
       "52.841871381264852"
      ]
     },
     "execution_count": 57,
     "metadata": {},
     "output_type": "execute_result"
    }
   ],
   "source": [
    "Incs.mean() # gaussian mean of the inclinations"
   ]
  },
  {
   "cell_type": "markdown",
   "metadata": {},
   "source": [
    "## Problem 2b"
   ]
  },
  {
   "cell_type": "markdown",
   "metadata": {},
   "source": [
    "For this, I can re-use **fisher_mean( )** from above.  I like this function stuff - it saves a lot of time!"
   ]
  },
  {
   "cell_type": "code",
   "execution_count": 59,
   "metadata": {},
   "outputs": [
    {
     "data": {
      "text/plain": [
       "{'alpha95': 8.2323694743552718,\n",
       " 'csd': 19.824226813241047,\n",
       " 'dec': 1.0512241332572441,\n",
       " 'inc': 56.023289973817199,\n",
       " 'k': 16.694657816355814,\n",
       " 'n': 20,\n",
       " 'r': 18.861911384527712}"
      ]
     },
     "execution_count": 59,
     "metadata": {},
     "output_type": "execute_result"
    }
   ],
   "source": [
    "fisher_mean(prob2a_data)"
   ]
  },
  {
   "cell_type": "markdown",
   "metadata": {},
   "source": [
    "See how the Fisher mean is steeper than the gaussian mean?  "
   ]
  },
  {
   "cell_type": "markdown",
   "metadata": {},
   "source": [
    "## Program 2c"
   ]
  },
  {
   "cell_type": "markdown",
   "metadata": {},
   "source": [
    "I'm going to call **pmag.doincfish( )** to see if we can get a less biassed estimate for inclination."
   ]
  },
  {
   "cell_type": "code",
   "execution_count": 60,
   "metadata": {},
   "outputs": [
    {
     "name": "stdout",
     "output_type": "stream",
     "text": [
      "Help on function doincfish in module pmagpy.pmag:\n",
      "\n",
      "doincfish(inc)\n",
      "    gets fisher mean inc from inc only data\n",
      "    input: list of inclination values\n",
      "    output: dictionary of\n",
      "        'n' : number of inclination values supplied\n",
      "        'ginc' : gaussian mean of inclinations\n",
      "        'inc' : estimated Fisher mean\n",
      "        'r' : estimated Fisher R value\n",
      "        'k' : estimated Fisher kappa\n",
      "        'alpha95' : estimated fisher alpha_95\n",
      "        'csd' : estimated circular standard deviation\n",
      "\n"
     ]
    }
   ],
   "source": [
    "help(pmag.doincfish)"
   ]
  },
  {
   "cell_type": "code",
   "execution_count": 61,
   "metadata": {},
   "outputs": [
    {
     "name": "stdout",
     "output_type": "stream",
     "text": [
      "{'n': 20, 'ginc': 52.841871381264866, 'inc': 54.511871381264761, 'r': 19.210197802185128, 'k': 24.056656277441206, 'alpha95': 0.99586692010255651, 'csd': 16.514574456112801}\n"
     ]
    }
   ],
   "source": [
    "print (pmag.doincfish(Incs))"
   ]
  },
  {
   "cell_type": "markdown",
   "metadata": {},
   "source": [
    "So that program did better at fixing the problem!"
   ]
  },
  {
   "cell_type": "markdown",
   "metadata": {},
   "source": [
    "## Problem 3a"
   ]
  },
  {
   "cell_type": "markdown",
   "metadata": {},
   "source": [
    "For this problem, we first need to read in the data file _ps11_prob3a.dat_  from the Chapter_11 folder and peel off the declination, inclination data.  "
   ]
  },
  {
   "cell_type": "code",
   "execution_count": 73,
   "metadata": {},
   "outputs": [
    {
     "name": "stdout",
     "output_type": "stream",
     "text": [
      "     dec   inc  dip_dir   dip\n",
      "0    9.7  53.0    105.0  22.0\n",
      "1  317.0  44.2    105.0  22.0\n",
      "2  333.1   8.9    105.0  22.0\n",
      "3  354.3  -0.1    105.0  22.0\n",
      "4  338.9  50.2    105.0  22.0\n"
     ]
    }
   ],
   "source": [
    "data=np.loadtxt('Chapter_11/ps11_prob3a.dat') # read in the data\n",
    "import pandas as pd  # let's use this cool module for wrangling data!\n",
    "df=pd.DataFrame(data,columns=['dec','inc','dip_dir','dip'])\n",
    "print (df.head())"
   ]
  },
  {
   "cell_type": "markdown",
   "metadata": {},
   "source": [
    "And because we now know how, let's make a quickie plot.  "
   ]
  },
  {
   "cell_type": "code",
   "execution_count": 74,
   "metadata": {},
   "outputs": [
    {
     "data": {
      "image/png": "[encoded data removed]",
      "text/plain": [
       "<matplotlib.figure.Figure at 0x11693b048>"
      ]
     },
     "metadata": {},
     "output_type": "display_data"
    }
   ],
   "source": [
    "di_block=df[['dec','inc']].values\n",
    "ipmag.plot_net(2) # make the net\n",
    "ipmag.plot_di(di_block=di_block) # plot the dec,inc data"
   ]
  },
  {
   "cell_type": "markdown",
   "metadata": {},
   "source": [
    "Now we can use the function **pmag.doprinc( )** to calculate the principal component of the directional data."
   ]
  },
  {
   "cell_type": "code",
   "execution_count": 75,
   "metadata": {},
   "outputs": [
    {
     "name": "stdout",
     "output_type": "stream",
     "text": [
      "Help on function doprinc in module pmagpy.pmag:\n",
      "\n",
      "doprinc(data)\n",
      "    Gets principal components from data in form of a list of [dec,inc] data.\n",
      "    \n",
      "    Parameters\n",
      "    ----------\n",
      "    data : nested list of dec, inc directions\n",
      "    \n",
      "    Returns\n",
      "    -------\n",
      "    ppars : dictionary with the principal components\n",
      "        dec : principal directiion declination\n",
      "        inc : principal direction inclination\n",
      "        V2dec : intermediate eigenvector declination\n",
      "        V2inc : intermediate eigenvector inclination\n",
      "        V3dec : minor eigenvector declination\n",
      "        V3inc : minor eigenvector inclination\n",
      "        tau1 : major eigenvalue\n",
      "        tau2 : intermediate eigenvalue\n",
      "        tau3 : minor eigenvalue\n",
      "        N  : number of points\n",
      "        Edir : elongation direction [dec, inc, length]\n",
      "\n"
     ]
    }
   ],
   "source": [
    "help(pmag.doprinc)"
   ]
  },
  {
   "cell_type": "code",
   "execution_count": 76,
   "metadata": {},
   "outputs": [
    {
     "name": "stdout",
     "output_type": "stream",
     "text": [
      "{'Edir': array([ 335.70255066,  -34.70332457,    1.        ]), 'dec': 358.61577458597367, 'inc': 53.062603657226539, 'N': 80, 'tau1': 0.723094464380168, 'tau2': 0.2306561374717023, 'tau3': 0.046249398148129589, 'V2dec': 155.70255066070376, 'V2inc': 34.703324574333955, 'V3dec': 253.50393161917111, 'V3inc': 11.089856927852408}\n"
     ]
    }
   ],
   "source": [
    "princ_pars=pmag.doprinc(di_block)\n",
    "print (princ_pars)"
   ]
  },
  {
   "cell_type": "markdown",
   "metadata": {},
   "source": [
    "Any vector with an angle of > 90 from the principal direction **princ_pars['dec']** and **princ_pars['inc']** belongs in the reverse polarity group.  So we can use the function **pmag.angle( )** to separate the two groups. First let's paste on the principal directions to our panda frame."
   ]
  },
  {
   "cell_type": "code",
   "execution_count": 77,
   "metadata": {},
   "outputs": [
    {
     "name": "stdout",
     "output_type": "stream",
     "text": [
      "     dec   inc  dip_dir   dip  principal_dec  principal_inc\n",
      "0    9.7  53.0    105.0  22.0     358.615775      53.062604\n",
      "1  317.0  44.2    105.0  22.0     358.615775      53.062604\n",
      "2  333.1   8.9    105.0  22.0     358.615775      53.062604\n",
      "3  354.3  -0.1    105.0  22.0     358.615775      53.062604\n",
      "4  338.9  50.2    105.0  22.0     358.615775      53.062604\n"
     ]
    }
   ],
   "source": [
    "df['principal_dec']=princ_pars['dec'] # add the principal components to the panda frame.\n",
    "df['principal_inc']=princ_pars['inc']\n",
    "print (frame.head()) # I love how this works"
   ]
  },
  {
   "cell_type": "markdown",
   "metadata": {},
   "source": [
    "Let's find out what pmag.angle expects.   "
   ]
  },
  {
   "cell_type": "code",
   "execution_count": 78,
   "metadata": {},
   "outputs": [
    {
     "name": "stdout",
     "output_type": "stream",
     "text": [
      "Help on function angle in module pmagpy.pmag:\n",
      "\n",
      "angle(D1, D2)\n",
      "    Calculate the angle between two directions.\n",
      "    \n",
      "    Parameters\n",
      "    ----------\n",
      "    D1 : Direction 1 as an array of [declination, inclination] pair or pairs\n",
      "    D2 : Direction 2 as an array of [declination, inclination] pair or pairs\n",
      "    \n",
      "    Returns\n",
      "    -------\n",
      "    angle : angle between the directions as a single-element array\n",
      "    \n",
      "    Examples\n",
      "    --------\n",
      "    >>> pmag.angle([350.0,10.0],[320.0,20.0])\n",
      "    array([ 30.59060998])\n",
      "\n"
     ]
    }
   ],
   "source": [
    "help(pmag.angle)"
   ]
  },
  {
   "cell_type": "markdown",
   "metadata": {},
   "source": [
    "So first we have to set up **D2** with the principal directions (DI1 is already set up - it is DI). Then we call **pmag.angle( )**."
   ]
  },
  {
   "cell_type": "code",
   "execution_count": 80,
   "metadata": {},
   "outputs": [
    {
     "name": "stdout",
     "output_type": "stream",
     "text": [
      "     dec   inc  dip_dir   dip  principal_dec  principal_inc      angle\n",
      "0    9.7  53.0    105.0  22.0     358.615775      53.062604   6.659466\n",
      "1  317.0  44.2    105.0  22.0     358.615775      53.062604  28.438617\n",
      "2  333.1   8.9    105.0  22.0     358.615775      53.062604  48.741348\n",
      "3  354.3  -0.1    105.0  22.0     358.615775      53.062604  53.284495\n",
      "4  338.9  50.2    105.0  22.0     358.615775      53.062604  12.524863\n"
     ]
    }
   ],
   "source": [
    "PD=np.array([df['principal_dec'],df['principal_inc']]).transpose()\n",
    "df['angle']=pmag.angle(di_block,PD)\n",
    "print (df.head())"
   ]
  },
  {
   "cell_type": "markdown",
   "metadata": {},
   "source": [
    "Now all we have to do is test the angle and sort the two directions into their own frames."
   ]
  },
  {
   "cell_type": "code",
   "execution_count": 81,
   "metadata": {},
   "outputs": [],
   "source": [
    "Mode_1= df[df['angle']<=90] # these are the normal directions\n",
    "Mode_2=df[df['angle']>90] # these are the reverse directions"
   ]
  },
  {
   "cell_type": "code",
   "execution_count": 84,
   "metadata": {},
   "outputs": [],
   "source": [
    "Mode_2_flip=Mode_2.copy() # make a copy of Mode_2.  \n",
    "Mode_2_flip['dec']=(Mode_2['dec']-180.)%360. # subtracts 180 but does modular 360 (stays 0=>360 this way.)\n",
    "Mode_2_flip['inc']=-Mode_2['inc'] # take the negative of the inclination\n",
    "flip_df=pd.concat([Mode_1,Mode_2_flip]) # this is the list of all the data, flipping the reverse mode."
   ]
  },
  {
   "cell_type": "markdown",
   "metadata": {},
   "source": [
    "Now we can call our old friend **fisher_mean** from Problem 1b and finish the job. "
   ]
  },
  {
   "cell_type": "code",
   "execution_count": 85,
   "metadata": {},
   "outputs": [
    {
     "name": "stdout",
     "output_type": "stream",
     "text": [
      "Fisher statistics for flipped data set {'dec': 358.94196930277531, 'inc': 51.257553593765508, 'n': 80, 'r': 66.842155995160539, 'k': 6.0040231493049898, 'alpha95': 7.0721041360252466, 'csd': 33.057030603962104}\n"
     ]
    }
   ],
   "source": [
    "DIflip=np.array([flip_df['dec'],flip_df['inc']]).transpose()\n",
    "geo_stats=fisher_mean(DIflip)\n",
    "# print out the statistics for the (flipped) geographic reference frame.\n",
    "print ('Fisher statistics for flipped data set',geo_stats)"
   ]
  },
  {
   "cell_type": "markdown",
   "metadata": {},
   "source": [
    "Now we can call **pmag.dotilt_V( )**  similar to in Chapter 9, but this one works on arrays of input data.  We can the values from the pandas DataFrame **flip_frame** using the syntax **df.Series.values** where **df** is a DataFrame and **Series** is the column name.  "
   ]
  },
  {
   "cell_type": "code",
   "execution_count": 86,
   "metadata": {},
   "outputs": [
    {
     "data": {
      "text/html": [
       "<div>\n",
       "<style scoped>\n",
       "    .dataframe tbody tr th:only-of-type {\n",
       "        vertical-align: middle;\n",
       "    }\n",
       "\n",
       "    .dataframe tbody tr th {\n",
       "        vertical-align: top;\n",
       "    }\n",
       "\n",
       "    .dataframe thead th {\n",
       "        text-align: right;\n",
       "    }\n",
       "</style>\n",
       "<table border=\"1\" class=\"dataframe\">\n",
       "  <thead>\n",
       "    <tr style=\"text-align: right;\">\n",
       "      <th></th>\n",
       "      <th>dec</th>\n",
       "      <th>inc</th>\n",
       "      <th>dip_dir</th>\n",
       "      <th>dip</th>\n",
       "      <th>principal_dec</th>\n",
       "      <th>principal_inc</th>\n",
       "      <th>angle</th>\n",
       "      <th>dec_rot</th>\n",
       "      <th>inc_rot</th>\n",
       "    </tr>\n",
       "  </thead>\n",
       "  <tbody>\n",
       "    <tr>\n",
       "      <th>0</th>\n",
       "      <td>9.7</td>\n",
       "      <td>53.0</td>\n",
       "      <td>105.0</td>\n",
       "      <td>22.0</td>\n",
       "      <td>358.615775</td>\n",
       "      <td>53.062604</td>\n",
       "      <td>6.659466</td>\n",
       "      <td>37.452467</td>\n",
       "      <td>49.579497</td>\n",
       "    </tr>\n",
       "    <tr>\n",
       "      <th>1</th>\n",
       "      <td>317.0</td>\n",
       "      <td>44.2</td>\n",
       "      <td>105.0</td>\n",
       "      <td>22.0</td>\n",
       "      <td>358.615775</td>\n",
       "      <td>53.062604</td>\n",
       "      <td>28.438617</td>\n",
       "      <td>336.467520</td>\n",
       "      <td>60.944720</td>\n",
       "    </tr>\n",
       "    <tr>\n",
       "      <th>2</th>\n",
       "      <td>333.1</td>\n",
       "      <td>8.9</td>\n",
       "      <td>105.0</td>\n",
       "      <td>22.0</td>\n",
       "      <td>358.615775</td>\n",
       "      <td>53.062604</td>\n",
       "      <td>48.741348</td>\n",
       "      <td>338.016562</td>\n",
       "      <td>22.992294</td>\n",
       "    </tr>\n",
       "    <tr>\n",
       "      <th>3</th>\n",
       "      <td>354.3</td>\n",
       "      <td>-0.1</td>\n",
       "      <td>105.0</td>\n",
       "      <td>22.0</td>\n",
       "      <td>358.615775</td>\n",
       "      <td>53.062604</td>\n",
       "      <td>53.284495</td>\n",
       "      <td>355.656248</td>\n",
       "      <td>7.515567</td>\n",
       "    </tr>\n",
       "    <tr>\n",
       "      <th>4</th>\n",
       "      <td>338.9</td>\n",
       "      <td>50.2</td>\n",
       "      <td>105.0</td>\n",
       "      <td>22.0</td>\n",
       "      <td>358.615775</td>\n",
       "      <td>53.062604</td>\n",
       "      <td>12.524863</td>\n",
       "      <td>8.176957</td>\n",
       "      <td>58.607949</td>\n",
       "    </tr>\n",
       "  </tbody>\n",
       "</table>\n",
       "</div>"
      ],
      "text/plain": [
       "     dec   inc  dip_dir   dip  principal_dec  principal_inc      angle  \\\n",
       "0    9.7  53.0    105.0  22.0     358.615775      53.062604   6.659466   \n",
       "1  317.0  44.2    105.0  22.0     358.615775      53.062604  28.438617   \n",
       "2  333.1   8.9    105.0  22.0     358.615775      53.062604  48.741348   \n",
       "3  354.3  -0.1    105.0  22.0     358.615775      53.062604  53.284495   \n",
       "4  338.9  50.2    105.0  22.0     358.615775      53.062604  12.524863   \n",
       "\n",
       "      dec_rot    inc_rot  \n",
       "0   37.452467  49.579497  \n",
       "1  336.467520  60.944720  \n",
       "2  338.016562  22.992294  \n",
       "3  355.656248   7.515567  \n",
       "4    8.176957  58.607949  "
      ]
     },
     "execution_count": 86,
     "metadata": {},
     "output_type": "execute_result"
    }
   ],
   "source": [
    "flip_data=np.array([flip_frame.dec.values,flip_frame.inc.values,flip_frame.dip_dir.values,flip_frame.dip.values]).transpose()\n",
    "rot=pmag.dotilt_V(flip_data)\n",
    "flip_df['dec_rot']=rot[0]\n",
    "flip_df['inc_rot']=rot[1]\n",
    "flip_df.head()"
   ]
  },
  {
   "cell_type": "markdown",
   "metadata": {},
   "source": [
    "Repeat **fisher_mean( )** call with tilt corrected data: "
   ]
  },
  {
   "cell_type": "code",
   "execution_count": 87,
   "metadata": {},
   "outputs": [
    {
     "name": "stdout",
     "output_type": "stream",
     "text": [
      "Fisher statistics for Mode 1 {'dec': 359.13686781062501, 'inc': 36.082941162612741, 'n': 80, 'r': 73.932311919916472, 'k': 13.019785947683799, 'alpha95': 4.5647302763823205, 'csd': 22.448281345346874}\n"
     ]
    }
   ],
   "source": [
    "DItilt=np.array([flip_df['dec_rot'],flip_df['inc_rot']]).transpose()\n",
    "tilt_stats=fisher_mean(DItilt)\n",
    "print ('Fisher statistics for Mode 1',tilt_stats)"
   ]
  },
  {
   "cell_type": "markdown",
   "metadata": {},
   "source": [
    "To finish this off, we take the ratio of the two k values (before and after tilt) and compare with the F-table values ($\\alpha$=.05 and degrees of freedom 2(N1-1) and 2(N2-1).   Now you should know that there is also a pmag.fcalc()"
   ]
  },
  {
   "cell_type": "code",
   "execution_count": 88,
   "metadata": {},
   "outputs": [
    {
     "name": "stdout",
     "output_type": "stream",
     "text": [
      "0.461146072096\n"
     ]
    }
   ],
   "source": [
    "print (geo_stats['k']/tilt_stats['k'])"
   ]
  },
  {
   "cell_type": "code",
   "execution_count": 89,
   "metadata": {},
   "outputs": [
    {
     "name": "stdout",
     "output_type": "stream",
     "text": [
      "1.6366\n"
     ]
    }
   ],
   "source": [
    "print (pmag.fcalc(2*geo_stats['n']-1,2*tilt_stats['n']))"
   ]
  },
  {
   "cell_type": "markdown",
   "metadata": {},
   "source": [
    "So our F value would pass the McElhinny fold test."
   ]
  }
 ],
 "metadata": {
  "kernelspec": {
   "display_name": "Python 3",
   "language": "python",
   "name": "python3"
  },
  "language_info": {
   "codemirror_mode": {
    "name": "ipython",
    "version": 3
   },
   "file_extension": ".py",
   "mimetype": "text/x-python",
   "name": "python",
   "nbconvert_exporter": "python",
   "pygments_lexer": "ipython3",
   "version": "3.7.0"
  }
 },
 "nbformat": 4,
 "nbformat_minor": 1
}
