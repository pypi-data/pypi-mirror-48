{
 "cells": [
  {
   "cell_type": "markdown",
   "metadata": {},
   "source": [
    "# Jupyter Notebook  problems in the Essentials of Paleomagnetism Textbook by L. Tauxe"
   ]
  },
  {
   "cell_type": "markdown",
   "metadata": {},
   "source": [
    "## Problems in Chapter 10"
   ]
  },
  {
   "cell_type": "markdown",
   "metadata": {},
   "source": [
    "## Problem 1a-e"
   ]
  },
  {
   "cell_type": "markdown",
   "metadata": {},
   "source": [
    "I went to the website: http://earthref.org/doi/10.1002/2016GC006307\n",
    "and downloaded the data file.  I put that into something called _Chapter_10/Problem_1_ in my working folder.   "
   ]
  },
  {
   "cell_type": "code",
   "execution_count": 1,
   "metadata": {},
   "outputs": [
    {
     "name": "stdout",
     "output_type": "stream",
     "text": [
      "Help on function download_magic in module pmagpy.ipmag:\n",
      "\n",
      "download_magic(infile, dir_path='.', input_dir_path='.', overwrite=False, print_progress=True, data_model=3.0, separate_locs=False)\n",
      "    takes the name of a text file downloaded from the MagIC database and\n",
      "    unpacks it into magic-formatted files. by default, download_magic assumes\n",
      "    that you are doing everything in your current directory. if not, you may\n",
      "    provide optional arguments dir_path (where you want the results to go) and\n",
      "    input_dir_path (where the downloaded file is).\n",
      "    \n",
      "    Parameters\n",
      "    ----------\n",
      "    infile : str\n",
      "        MagIC-format file to unpack\n",
      "    dir_path : str\n",
      "        output directory (default \".\")\n",
      "    input_dir : str\n",
      "        input directory (default \".\")\n",
      "    overwrite: bool\n",
      "        overwrite current directory (default False)\n",
      "    print_progress: bool\n",
      "        verbose output (default True)\n",
      "    data_model : float\n",
      "        MagIC data model 2.5 or 3 (default 3)\n",
      "    separate_locs : bool\n",
      "        create a separate directory for each location (Location_*)\n",
      "        (default False)\n",
      "\n"
     ]
    }
   ],
   "source": [
    "import pmagpy.ipmag as ipmag\n",
    "help(ipmag.download_magic)"
   ]
  },
  {
   "cell_type": "markdown",
   "metadata": {},
   "source": [
    "Now I need to unpack it with **ipmag.download_magic()**.  But first I made a working directory named 'Myfiles'. "
   ]
  },
  {
   "cell_type": "code",
   "execution_count": 73,
   "metadata": {},
   "outputs": [
    {
     "name": "stdout",
     "output_type": "stream",
     "text": [
      "1  records written to file  Chapter_10/Myfiles/contribution.txt\n",
      "8  records written to file  Chapter_10/Myfiles/locations.txt\n",
      "23  records written to file  Chapter_10/Myfiles/sites.txt\n",
      "106  records written to file  Chapter_10/Myfiles/samples.txt\n",
      "377  records written to file  Chapter_10/Myfiles/specimens.txt\n",
      "14124  records written to file  Chapter_10/Myfiles/measurements.txt\n",
      "23  records written to file  Chapter_10/Myfiles/ages.txt\n"
     ]
    },
    {
     "data": {
      "text/plain": [
       "True"
      ]
     },
     "execution_count": 73,
     "metadata": {},
     "output_type": "execute_result"
    }
   ],
   "source": [
    "ipmag.download_magic('magic_contribution_12848.txt',dir_path='Chapter_10/Myfiles',input_dir_path='Chapter_10/Problem_1',print_progress=False)"
   ]
  },
  {
   "cell_type": "markdown",
   "metadata": {},
   "source": [
    "I can establish the specimen hierarchy using the pmagpy.contribution_builders (nb) **add_sites_to_meas_table()** function.  Here I import contribution_builder and get the help message:"
   ]
  },
  {
   "cell_type": "code",
   "execution_count": 1,
   "metadata": {
    "scrolled": false
   },
   "outputs": [
    {
     "name": "stdout",
     "output_type": "stream",
     "text": [
      "Help on function add_sites_to_meas_table in module pmagpy.contribution_builder:\n",
      "\n",
      "add_sites_to_meas_table(dir_path)\n",
      "    Add site columns to measurements table (e.g., to plot intensity data),\n",
      "    or generate an informative error message.\n",
      "    \n",
      "    Parameters\n",
      "    ----------\n",
      "    dir_path : str\n",
      "        directory with data files\n",
      "    \n",
      "    \n",
      "    Returns\n",
      "    ----------\n",
      "    status : bool\n",
      "        True if successful, else False\n",
      "    data : pandas DataFrame\n",
      "        measurement data with site/sample\n",
      "\n"
     ]
    }
   ],
   "source": [
    "import pmagpy.contribution_builder as cb\n",
    "help(cb.add_sites_to_meas_table)"
   ]
  },
  {
   "cell_type": "markdown",
   "metadata": {},
   "source": [
    "Ah, I can just do this!"
   ]
  },
  {
   "cell_type": "code",
   "execution_count": 75,
   "metadata": {},
   "outputs": [],
   "source": [
    "# read in the measurements with sites, samples added\n",
    "status,meas=cb.add_sites_to_meas_table('Chapter_10/Myfiles')\n"
   ]
  },
  {
   "cell_type": "markdown",
   "metadata": {},
   "source": [
    "In the **\\_PmagPy\\_nb** notebook I learned that  I can convert the dataframe to a list of dictionaries with the command **df.to_dict('records')** and then use **pmag.magic_write()**. "
   ]
  },
  {
   "cell_type": "code",
   "execution_count": 76,
   "metadata": {},
   "outputs": [
    {
     "name": "stdout",
     "output_type": "stream",
     "text": [
      "Help on function magic_write in module pmagpy.pmag:\n",
      "\n",
      "magic_write(ofile, Recs, file_type)\n",
      "    Parameters\n",
      "    _________\n",
      "    ofile : path to output file\n",
      "    Recs : list of dictionaries in MagIC format\n",
      "    file_type : MagIC table type (e.g., specimens)\n",
      "    \n",
      "    Return :\n",
      "    [True,False] : True if successful\n",
      "    ofile : same as input\n",
      "    \n",
      "    Effects :\n",
      "        writes a MagIC formatted file from Recs\n",
      "\n"
     ]
    }
   ],
   "source": [
    "import pmagpy.pmag as pmag\n",
    "help(pmag.magic_write)"
   ]
  },
  {
   "cell_type": "code",
   "execution_count": 78,
   "metadata": {},
   "outputs": [
    {
     "name": "stdout",
     "output_type": "stream",
     "text": [
      "1366  records written to file  Chapter_10/Myfiles/measurements.txt\n"
     ]
    },
    {
     "data": {
      "text/plain": [
       "(True, 'Chapter_10/Myfiles/measurements.txt')"
      ]
     },
     "execution_count": 78,
     "metadata": {},
     "output_type": "execute_result"
    }
   ],
   "source": [
    "# uncomment the mkdir command to make a directory.  \n",
    "# or you can do this with your operating system, e.g. in the Finder on Macs\n",
    "#!mkdir Myfiles \n",
    "HW1960_dict=HW1960.to_dict('records')\n",
    "pmag.magic_write('Chapter_10/Myfiles/measurements.txt',HW1960_dict,'measurements')\n"
   ]
  },
  {
   "cell_type": "markdown",
   "metadata": {},
   "source": [
    "I used Thellier GUI and looked through the data.  Some are pretty bad!     I think the selection criteria of Cromwell et al. (2015) work very well (ccrit_criteria.txt in the Chapter_10/Problem_1 directory.  "
   ]
  },
  {
   "cell_type": "markdown",
   "metadata": {},
   "source": [
    "## Problem 2a\n",
    "\n",
    "Make a new directory Myfles2.  Go to the website, download and unpack the file"
   ]
  },
  {
   "cell_type": "code",
   "execution_count": 25,
   "metadata": {},
   "outputs": [
    {
     "name": "stdout",
     "output_type": "stream",
     "text": [
      "1  records written to file  Chapter_10/Myfiles2/contribution.txt\n",
      "1  records written to file  Chapter_10/Myfiles2/locations.txt\n",
      "2332  records written to file  Chapter_10/Myfiles2/sites.txt\n",
      "2325  records written to file  Chapter_10/Myfiles2/samples.txt\n",
      "6989  records written to file  Chapter_10/Myfiles2/specimens.txt\n",
      "9328  records written to file  Chapter_10/Myfiles2/measurements.txt\n",
      "2325  records written to file  Chapter_10/Myfiles2/ages.txt\n"
     ]
    },
    {
     "data": {
      "text/plain": [
       "True"
      ]
     },
     "execution_count": 25,
     "metadata": {},
     "output_type": "execute_result"
    }
   ],
   "source": [
    "ipmag.download_magic('magic_contribution_14132.txt',dir_path='Chapter_10/Myfiles2',input_dir_path='Chapter_10/Problem_2',print_progress=False)\n"
   ]
  },
  {
   "cell_type": "markdown",
   "metadata": {},
   "source": [
    "Read in the _measurements.txt_ file and get  a unique list of method codes.  While we are at it, we might as well read in the whole specimen hierarchy (because we will need it later):"
   ]
  },
  {
   "cell_type": "code",
   "execution_count": 26,
   "metadata": {},
   "outputs": [
    {
     "data": {
      "text/plain": [
       "array(['LT-AF-Z', 'LT-AF-I', 'LT-IRM', 'LP-X'], dtype=object)"
      ]
     },
     "execution_count": 26,
     "metadata": {},
     "output_type": "execute_result"
    }
   ],
   "source": [
    "status,meas=cb.add_sites_to_meas_table('Chapter_10/Myfiles2')\n",
    "methods=meas.method_codes.unique()\n",
    "methods"
   ]
  },
  {
   "cell_type": "markdown",
   "metadata": {},
   "source": [
    "Looking at the MagIC Method Codes website, these are:\n",
    "- AF demagnetization step\n",
    "- ARM acquisition step\n",
    "- IRM acquisition step\n",
    "- magnetic susceptibility measurement \n",
    "\n",
    "So we can get the ARM and IRM  data out like this: "
   ]
  },
  {
   "cell_type": "code",
   "execution_count": 27,
   "metadata": {},
   "outputs": [
    {
     "data": {
      "text/plain": [
       "Index(['citations_x', 'dir_dec_x', 'dir_inc_x', 'experiment_x', 'magn_mass_x',\n",
       "       'meas_temp_x', 'measurement_x', 'method_codes_x', 'quality_x',\n",
       "       'specimen', 'standard_x', 'susc_chi_mass_x', 'treat_ac_field_x',\n",
       "       'treat_dc_field_x', 'treat_temp_x', 'sample_x', 'site_x', 'citations_y',\n",
       "       'dir_dec_y', 'dir_inc_y', 'experiment_y', 'magn_mass_y', 'meas_temp_y',\n",
       "       'measurement_y', 'method_codes_y', 'quality_y', 'standard_y',\n",
       "       'susc_chi_mass_y', 'treat_ac_field_y', 'treat_dc_field_y',\n",
       "       'treat_temp_y', 'sample_y', 'site_y'],\n",
       "      dtype='object')"
      ]
     },
     "execution_count": 27,
     "metadata": {},
     "output_type": "execute_result"
    }
   ],
   "source": [
    "ARMs=meas[meas.method_codes.str.contains('LT-AF-I')]\n",
    "ARMs=ARMs.dropna(subset=['magn_mass'])\n",
    "IRMs=meas[meas.method_codes.str.contains('LT-IRM')]\n",
    "IRMs=IRMs.dropna(subset=['magn_mass'])\n",
    "RMRMs=pd.merge(ARMs,IRMs, on='specimen',how='inner')\n",
    "RMRMs.columns"
   ]
  },
  {
   "cell_type": "markdown",
   "metadata": {},
   "source": [
    "and to plot, we need to import matplotlib and to tell the notebook to show the plots in the notebook."
   ]
  },
  {
   "cell_type": "code",
   "execution_count": 28,
   "metadata": {},
   "outputs": [],
   "source": [
    "import matplotlib.pyplot as plt\n",
    "%matplotlib inline "
   ]
  },
  {
   "cell_type": "markdown",
   "metadata": {},
   "source": [
    "and plot:"
   ]
  },
  {
   "cell_type": "code",
   "execution_count": 30,
   "metadata": {},
   "outputs": [
    {
     "data": {
      "image/png": "[encoded data removed]",
      "text/plain": [
       "<matplotlib.figure.Figure at 0x113f47278>"
      ]
     },
     "metadata": {},
     "output_type": "display_data"
    }
   ],
   "source": [
    "plt.plot(RMRMs.magn_mass_x,RMRMs.magn_mass_y,'ro',markeredgecolor='black');"
   ]
  },
  {
   "cell_type": "markdown",
   "metadata": {},
   "source": [
    "## Problem 2b\n",
    "For this problem we need to:\n",
    "- Read in the specimen level data file\n",
    "- This data set has duplicate information, so we will just look for the contribution by Tauxe and Yamazaki but filtering the citation key for 'Yamazaki'.  \n",
    "- Pair the specimen with the site age (or height) information.  For these data the specimen name is the same as the site (one specimen per sedimentary horizon).  So, we just make a column named 'site' in the specimen table and merge it with the site table on site.  that will transfer all the info from the site table (including age and core_depth) to the specimen table. \n",
    "- make the plot."
   ]
  },
  {
   "cell_type": "code",
   "execution_count": 31,
   "metadata": {},
   "outputs": [],
   "source": [
    "import pandas as pd"
   ]
  },
  {
   "cell_type": "code",
   "execution_count": 32,
   "metadata": {},
   "outputs": [
    {
     "data": {
      "text/plain": [
       "Index(['analysts', 'citations_x', 'description', 'dir_dec', 'dir_inc',\n",
       "       'dir_nrm_origin', 'dir_polarity', 'dir_tilt_correction',\n",
       "       'geologic_classes_x', 'geologic_types_x', 'int_corr', 'int_rel',\n",
       "       'lithologies_x', 'method_codes', 'result_quality', 'result_type',\n",
       "       'sample', 'scientists', 'specimen', 'specimen_alternatives', 'volume',\n",
       "       'weight', 'site', 'age', 'age_unit', 'citations_y', 'core_depth',\n",
       "       'geologic_classes_y', 'geologic_types_y', 'lithologies_y', 'location'],\n",
       "      dtype='object')"
      ]
     },
     "execution_count": 32,
     "metadata": {},
     "output_type": "execute_result"
    }
   ],
   "source": [
    "specimens=pd.read_csv('Chapter_10/Myfiles2/specimens.txt',sep='\\t',header=1)\n",
    "specimens=specimens[specimens.citations.str.contains('Yamazaki')]\n",
    "sites=pd.read_csv('Chapter_10/Myfiles2//sites.txt',sep='\\t',header=1)\n",
    "specimens['site']=specimens['specimen']\n",
    "RPI=pd.merge(specimens,sites,on='site')\n",
    "RPI.columns"
   ]
  },
  {
   "cell_type": "code",
   "execution_count": 33,
   "metadata": {},
   "outputs": [
    {
     "data": {
      "image/png": "[encoded data removed]",
      "text/plain": [
       "<matplotlib.figure.Figure at 0x11d747cc0>"
      ]
     },
     "metadata": {},
     "output_type": "display_data"
    }
   ],
   "source": [
    "plt.figure(1,(10,5))\n",
    "plt.plot(RPI.age,RPI.int_rel,'b-');"
   ]
  },
  {
   "cell_type": "markdown",
   "metadata": {},
   "source": [
    "It looks like the age data are not in order, so we should sort by age"
   ]
  },
  {
   "cell_type": "code",
   "execution_count": 34,
   "metadata": {},
   "outputs": [],
   "source": [
    "RPI=RPI.sort_values('age')"
   ]
  },
  {
   "cell_type": "code",
   "execution_count": 35,
   "metadata": {},
   "outputs": [
    {
     "data": {
      "image/png": "[encoded data removed]",
      "text/plain": [
       "<matplotlib.figure.Figure at 0x11d6efbe0>"
      ]
     },
     "metadata": {},
     "output_type": "display_data"
    }
   ],
   "source": [
    "plt.figure(1,(10,5))\n",
    "plt.plot(RPI.age,RPI.int_rel,'b-');"
   ]
  },
  {
   "cell_type": "markdown",
   "metadata": {},
   "source": [
    "That's better!.  \n",
    "\n",
    "The minimal criteria would be a linear relationship between IRM and ARM and a range in concentrations that does not exceed 10.  These data pass these minimal criteria.  But it would be nice to replicate the data somewhere else too.  And Yamazaki has done this recently....  "
   ]
  }
 ],
 "metadata": {
  "kernelspec": {
   "display_name": "Python 3",
   "language": "python",
   "name": "python3"
  },
  "language_info": {
   "codemirror_mode": {
    "name": "ipython",
    "version": 3
   },
   "file_extension": ".py",
   "mimetype": "text/x-python",
   "name": "python",
   "nbconvert_exporter": "python",
   "pygments_lexer": "ipython3",
   "version": "3.7.0"
  }
 },
 "nbformat": 4,
 "nbformat_minor": 1
}
