{
 "cells": [
  {
   "cell_type": "code",
   "execution_count": 1,
   "metadata": {},
   "outputs": [
    {
     "data": {
      "application/vnd.jupyter.widget-view+json": {
       "model_id": "95c46c8527dd4fa4b696a91945cdd063",
       "version_major": 2,
       "version_minor": 0
      },
      "text/plain": [
       "JSProxyWidget(status='Not yet rendered')"
      ]
     },
     "metadata": {},
     "output_type": "display_data"
    }
   ],
   "source": [
    "%load_ext autoreload\n",
    "%autoreload 2\n",
    "        \n",
    "import spikeforestwidgets as SFW\n",
    "import spikeextractors as se\n",
    "import vdomr as vd\n",
    "\n",
    "vd.config_jupyter()"
   ]
  },
  {
   "cell_type": "code",
   "execution_count": 2,
   "metadata": {},
   "outputs": [],
   "source": [
    "from spikeforest import spikewidgets as sw"
   ]
  },
  {
   "cell_type": "code",
   "execution_count": 3,
   "metadata": {},
   "outputs": [],
   "source": [
    "recording,sorting=se.example_datasets.toy_example1(duration=30,num_channels=4,samplerate=30000)"
   ]
  },
  {
   "cell_type": "code",
   "execution_count": 4,
   "metadata": {},
   "outputs": [
    {
     "name": "stdout",
     "output_type": "stream",
     "text": [
      "rendering featurespacewidget...\n"
     ]
    },
    {
     "data": {
      "text/html": [
       "<div id=SFFeatureSpaceWidget-83b3beab-9d84-423e-83e7-54230b090b93><div id=\"SFFeatureSpaceWidget-83b3beab-9d84-423e-83e7-54230b090b93\"></div></div>"
      ],
      "text/plain": [
       "<spikeforestwidgets.featurespacewidget.featurespacewidget.FeatureSpaceWidget at 0x7f0eb6eaf208>"
      ]
     },
     "metadata": {},
     "output_type": "display_data"
    }
   ],
   "source": [
    "s = SFW.FeatureSpaceWidget(recording=recording,\n",
    "                                         sorting=sorting,\n",
    "                                         max_num_spikes_per_unit=500,\n",
    "                                         snippet_len=40,height=10,\n",
    "                                        unit_ids=None)\n",
    "display(s)"
   ]
  },
  {
   "cell_type": "code",
   "execution_count": null,
   "metadata": {},
   "outputs": [],
   "source": []
  }
 ],
 "metadata": {
  "kernelspec": {
   "display_name": "Python 3",
   "language": "python",
   "name": "python3"
  },
  "language_info": {
   "codemirror_mode": {
    "name": "ipython",
    "version": 3
   },
   "file_extension": ".py",
   "mimetype": "text/x-python",
   "name": "python",
   "nbconvert_exporter": "python",
   "pygments_lexer": "ipython3",
   "version": "3.7.0"
  }
 },
 "nbformat": 4,
 "nbformat_minor": 2
}
