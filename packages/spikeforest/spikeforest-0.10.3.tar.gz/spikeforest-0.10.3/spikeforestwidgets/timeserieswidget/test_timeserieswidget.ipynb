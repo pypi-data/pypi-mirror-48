{
 "cells": [
  {
   "cell_type": "code",
   "execution_count": 1,
   "metadata": {},
   "outputs": [
    {
     "data": {
      "application/vnd.jupyter.widget-view+json": {
       "model_id": "ef637e635b2f4db3b67fabf32618c000",
       "version_major": 2,
       "version_minor": 0
      },
      "text/plain": [
       "JSProxyWidget(status='Not yet rendered')"
      ]
     },
     "metadata": {},
     "output_type": "display_data"
    }
   ],
   "source": [
    "%load_ext autoreload\n",
    "%autoreload 2\n",
    "        \n",
    "import spikeforestwidgets as SFW\n",
    "import spikeextractors as se\n",
    "import vdomr as vd\n",
    "\n",
    "vd.config_jupyter()"
   ]
  },
  {
   "cell_type": "code",
   "execution_count": 2,
   "metadata": {},
   "outputs": [],
   "source": [
    "recording,sorting=se.example_datasets.toy_example1(duration=1,num_channels=4,samplerate=30000)"
   ]
  },
  {
   "cell_type": "code",
   "execution_count": 3,
   "metadata": {},
   "outputs": [
    {
     "name": "stdout",
     "output_type": "stream",
     "text": [
      "(4, 30000)\n",
      "length of b64: 640028\n",
      "rendering timeserieswidget...\n"
     ]
    },
    {
     "data": {
      "text/html": [
       "<div id=SFTimeseriesWidget-47bf24ed-1430-4e0c-ada4-679527e71a18><div id=\"SFTimeseriesWidget-47bf24ed-1430-4e0c-ada4-679527e71a18\"></div></div>"
      ],
      "text/plain": [
       "<spikeforestwidgets.timeserieswidget.timeserieswidget.TimeseriesWidget at 0x7fe08b06fc88>"
      ]
     },
     "metadata": {},
     "output_type": "display_data"
    }
   ],
   "source": [
    "X=SFW.TimeseriesWidget(recording=recording,sorting=sorting)\n",
    "display(X)"
   ]
  },
  {
   "cell_type": "code",
   "execution_count": 4,
   "metadata": {},
   "outputs": [
    {
     "data": {
      "text/html": [
       "<div>hello</div>"
      ],
      "text/plain": [
       "<vdomr.vdom.VDOM at 0x7fe08b11aa90>"
      ]
     },
     "metadata": {},
     "output_type": "display_data"
    }
   ],
   "source": [
    "display(vd.div('hello'))"
   ]
  },
  {
   "cell_type": "code",
   "execution_count": null,
   "metadata": {},
   "outputs": [],
   "source": []
  }
 ],
 "metadata": {
  "kernelspec": {
   "display_name": "Python 3",
   "language": "python",
   "name": "python3"
  },
  "language_info": {
   "codemirror_mode": {
    "name": "ipython",
    "version": 3
   },
   "file_extension": ".py",
   "mimetype": "text/x-python",
   "name": "python",
   "nbconvert_exporter": "python",
   "pygments_lexer": "ipython3",
   "version": "3.7.0"
  }
 },
 "nbformat": 4,
 "nbformat_minor": 2
}
