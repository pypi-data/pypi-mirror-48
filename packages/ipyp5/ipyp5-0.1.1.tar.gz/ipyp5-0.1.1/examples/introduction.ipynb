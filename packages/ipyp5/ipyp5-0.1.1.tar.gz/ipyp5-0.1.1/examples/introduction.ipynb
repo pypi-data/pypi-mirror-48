{
 "cells": [
  {
   "cell_type": "markdown",
   "metadata": {},
   "source": [
    "# p5.js in Jupyter"
   ]
  },
  {
   "cell_type": "code",
   "execution_count": null,
   "metadata": {},
   "outputs": [],
   "source": [
    "from ipyp5 import Sketch"
   ]
  },
  {
   "cell_type": "code",
   "execution_count": null,
   "metadata": {},
   "outputs": [],
   "source": [
    "w = Sketch()\n",
    "w.value = \"\"\"\n",
    "    const [W, H] = [400, 400];\n",
    "    p.setup = function () {\n",
    "      p.createCanvas(W, H);\n",
    "      p.rectMode(p.CENTER);\n",
    "    }\n",
    "\n",
    "    p.draw = function () {\n",
    "      p.background('#ddd');\n",
    "      p.translate(200, 200);\n",
    "      for (let i = 0; i < 4; i++) {\n",
    "        p.push();\n",
    "        p.rotate(p.frameCount / 200 * (i + 1));\n",
    "        p.fill(i * 5, i * 100, i * 150);\n",
    "        p.rect(0, 0, 200, 200);\n",
    "        p.pop();\n",
    "      }\n",
    "    }\n",
    "\"\"\"\n",
    "w"
   ]
  }
 ],
 "metadata": {
  "kernelspec": {
   "display_name": "Python 3",
   "language": "python",
   "name": "python3"
  },
  "language_info": {
   "codemirror_mode": {
    "name": "ipython",
    "version": 3
   },
   "file_extension": ".py",
   "mimetype": "text/x-python",
   "name": "python",
   "nbconvert_exporter": "python",
   "pygments_lexer": "ipython3",
   "version": "3.6.5"
  }
 },
 "nbformat": 4,
 "nbformat_minor": 2
}
