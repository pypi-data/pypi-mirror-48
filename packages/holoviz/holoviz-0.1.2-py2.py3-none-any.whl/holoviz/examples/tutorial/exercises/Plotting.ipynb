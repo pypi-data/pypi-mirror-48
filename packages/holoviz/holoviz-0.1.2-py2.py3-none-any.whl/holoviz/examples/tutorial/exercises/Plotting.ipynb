{
 "cells": [
  {
   "cell_type": "markdown",
   "metadata": {},
   "source": [
    "<a href='http://www.holoviews.org'><img src=\"../../assets/pn_hv_gv_bk_ds_pa.png\" alt=\"HoloViz logos\" width=\"40%;\" align=\"left\"/></a>\n",
    "<div style=\"float:right;\"><h2>Exercises 3-5: Plotting</h2></div>"
   ]
  },
  {
   "cell_type": "markdown",
   "metadata": {},
   "source": [
    "<div class=\"alert alert-warning\" role=\"alert\"> <strong>WORK IN PROGRESS:</strong> We are in the progress of updating these materials in anticipation of a tutorial at the 2019 SciPy conference. Work will be complete by the morning of July 8th 2019. Check out <a href=\"https://github.com/pyviz/holoviz/tree/v0.1.1\">this tag</a> to access the materials as they were before these changes started. For the latest version of the tutorial, visit <a href=\"https://holoviz.org/tutorial\">holoviz.org</a>.\n",
    "</div>"
   ]
  },
  {
   "cell_type": "markdown",
   "metadata": {},
   "source": [
    "### Exercise 3\n",
    "\n",
    "Add some visualizations via the `.plot` API to the dashboard."
   ]
  },
  {
   "cell_type": "markdown",
   "metadata": {},
   "source": [
    "Start by reading in the data from the parquet file.\n",
    "\n",
    "<details><summary>Hint</summary><br>\n",
    "\n",
    "Use tab complete to find the `read_parquet` method in the `dask.dataframe` module (`dd`)\n",
    "\n",
    "</details>"
   ]
  },
  {
   "cell_type": "code",
   "execution_count": null,
   "metadata": {},
   "outputs": [],
   "source": []
  },
  {
   "cell_type": "markdown",
   "metadata": {},
   "source": [
    "<details><summary>Solution</summary><br>\n",
    "\n",
    "```python\n",
    "import dask.dataframe as dd\n",
    "\n",
    "df = dd.read_parquet('../../data/earthquakes.parq')\n",
    "```\n",
    "\n",
    "<br></details>\n",
    "\n",
    "Make a datashaded scatter of all the earthquakes. Call this plot `earthquake_scatter`.\n",
    "\n",
    "<details><summary>Hint</summary><br>\n",
    "\n",
    "Don't forget to include `datashade=True` and to import `hvplot.dask`\n",
    "\n",
    "</details>"
   ]
  },
  {
   "cell_type": "code",
   "execution_count": null,
   "metadata": {},
   "outputs": [],
   "source": []
  },
  {
   "cell_type": "markdown",
   "metadata": {},
   "source": [
    "<details><summary>Solution</summary><br>\n",
    "    \n",
    "```python\n",
    "import hvplot.dask\n",
    "    \n",
    "earthquake_scatter = df.hvplot.scatter(x='longitude', y='latitude', datashade=True)\n",
    "earthquake_scatter\n",
    "```\n",
    "    \n",
    "<br></details>\n",
    "\n",
    "Include this plot in the panel layout that you build in Exercises 1 and 2.\n",
    "\n",
    "<details><summary>Hint</summary><br>\n",
    "\n",
    "The panel object is indexable just like a list or a DataFrame, so just replace the item in. Call `print(dashboard)` to inspect the hierarchy\n",
    "\n",
    "</details>"
   ]
  },
  {
   "cell_type": "code",
   "execution_count": null,
   "metadata": {},
   "outputs": [],
   "source": []
  },
  {
   "cell_type": "markdown",
   "metadata": {},
   "source": [
    "<details><summary>Solution</summary><br>\n",
    "\n",
    "```python\n",
    "dashboard[0] = earthquake_scatter\n",
    "dashboard\n",
    "```\n",
    "\n",
    "<br></details>\n",
    "\n",
    "You should now have a datashaded scatter plot that shows up in your dashboard.\n",
    "\n",
    "<details><summary>I don't</summary><br>\n",
    "\n",
    "```python\n",
    "import dask.dataframe as dd\n",
    "import hvplot.dask\n",
    "\n",
    "earthquake_scatter = df.hvplot.scatter(x='longitude', y='latitude', datashade=True)\n",
    "dashboard = pn.Column('## Earthquakes', earthquake_scatter)\n",
    "dashboard\n",
    "```\n",
    "\n",
    "<br></details>"
   ]
  },
  {
   "cell_type": "markdown",
   "metadata": {},
   "source": [
    "### Exercise 4\n",
    "\n",
    "Add a linked visualization with holoviews."
   ]
  },
  {
   "cell_type": "markdown",
   "metadata": {},
   "source": [
    "### Exercise 5\n",
    "\n",
    "Add a datashaded visualization to the dashboard."
   ]
  }
 ],
 "metadata": {
  "language_info": {
   "name": "python",
   "pygments_lexer": "ipython3"
  }
 },
 "nbformat": 4,
 "nbformat_minor": 4
}
