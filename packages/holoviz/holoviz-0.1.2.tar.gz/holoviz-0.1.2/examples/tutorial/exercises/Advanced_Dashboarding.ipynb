{
 "cells": [
  {
   "cell_type": "markdown",
   "metadata": {},
   "source": [
    "<a href='http://www.holoviews.org'><img src=\"../../assets/pn_hv_gv_bk_ds_pa.png\" alt=\"HoloViz logos\" width=\"40%;\" align=\"left\"/></a>\n",
    "<div style=\"float:right;\"><h2>Exercise 6: Advanced Dashboarding</h2></div>"
   ]
  },
  {
   "cell_type": "markdown",
   "metadata": {},
   "source": [
    "<div class=\"alert alert-warning\" role=\"alert\"> <strong>WORK IN PROGRESS:</strong> We are in the progress of updating these materials in anticipation of a tutorial at the 2019 SciPy conference. Work will be complete by the morning of July 8th 2019. Check out <a href=\"https://github.com/pyviz/holoviz/tree/v0.1.1\">this tag</a> to access the materials as they were before these changes started. For the latest version of the tutorial, visit <a href=\"https://holoviz.org/tutorial\">holoviz.org</a>.\n",
    "</div>"
   ]
  }
 ],
 "metadata": {
  "language_info": {
   "name": "python",
   "pygments_lexer": "ipython3"
  }
 },
 "nbformat": 4,
 "nbformat_minor": 4
}
