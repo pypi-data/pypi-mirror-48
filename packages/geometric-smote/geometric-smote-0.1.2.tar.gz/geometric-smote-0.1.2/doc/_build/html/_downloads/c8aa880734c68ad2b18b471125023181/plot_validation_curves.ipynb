{
  "cells": [
    {
      "cell_type": "code",
      "execution_count": null,
      "metadata": {
        "collapsed": false
      },
      "outputs": [],
      "source": [
        "%matplotlib inline"
      ]
    },
    {
      "cell_type": "markdown",
      "metadata": {},
      "source": [
        "\n# Plotting validation curves\n\n\nIn this example the impact of the Geometric SMOTE's hyperparameters is examined.\nThe validation scores of a Geometric SMOTE-GBC classifier is presented for\ndifferent values of the Geometric SMOTE's hyperparameters.\n"
      ]
    },
    {
      "cell_type": "code",
      "execution_count": null,
      "metadata": {
        "collapsed": false
      },
      "outputs": [],
      "source": [
        "# Author: Georgios Douzas <gdouzas@icloud.com>\n# Licence: MIT\n\nimport matplotlib.pyplot as plt\nimport numpy as np\n\nfrom sklearn.tree import DecisionTreeClassifier\nfrom sklearn.svm import LinearSVC\nfrom sklearn.model_selection import validation_curve\nfrom sklearn.metrics import make_scorer, cohen_kappa_score\nfrom sklearn.datasets import make_classification\nfrom imblearn.pipeline import make_pipeline\nfrom imblearn.metrics import geometric_mean_score\n\nfrom gsmote import GeometricSMOTE\n\nprint(__doc__)\n\nRANDOM_STATE = 10\nSCORER = make_scorer(geometric_mean_score)\n\n\ndef generate_imbalanced_data(weights, n_samples, n_features, n_informative):\n    \"\"\"Generate imbalanced data.\"\"\"\n    X, y = make_classification(n_classes=2, class_sep=2,\n                               weights=weights, n_informative=n_informative,\n                               n_redundant=1, flip_y=0, n_features=n_features,\n                               n_clusters_per_class=2, n_samples=n_samples,\n                               random_state=RANDOM_STATE)\n    return X, y\n\n\ndef generate_validation_curve_info(estimator, X, y, param_range, param_name, scoring):\n    \"\"\"Generate information for the validation curve.\"\"\"    \n    _, test_scores = validation_curve(estimator, X, y, param_name=param_name, \n                                      param_range=param_range, cv=3, scoring=scoring, \n                                      n_jobs=-1)\n    test_scores_mean = np.mean(test_scores, axis=1)\n    test_scores_std = np.std(test_scores, axis=1)\n    return test_scores_mean, test_scores_std, param_range\n\n\ndef plot_validation_curve(validation_curve_info, scoring_name, title):\n    \"\"\"Plot the validation curve.\"\"\"\n    fig = plt.figure()\n    ax = fig.add_subplot(1, 1, 1)\n    test_scores_mean, test_scores_std, param_range = validation_curve_info\n    plt.plot(param_range, test_scores_mean)\n    ax.fill_between(param_range, test_scores_mean + test_scores_std,\n                    test_scores_mean - test_scores_std, alpha=0.2)\n    idx_max = np.argmax(test_scores_mean)\n    plt.scatter(param_range[idx_max], test_scores_mean[idx_max])\n    plt.title(title)\n    plt.ylabel(scoring_name)\n    ax.spines['top'].set_visible(False)\n    ax.spines['right'].set_visible(False)\n    ax.get_xaxis().tick_bottom()\n    ax.get_yaxis().tick_left()\n    ax.spines['left'].set_position(('outward', 10))\n    ax.spines['bottom'].set_position(('outward', 10))\n    plt.ylim([0.9, 1.0])"
      ]
    },
    {
      "cell_type": "markdown",
      "metadata": {},
      "source": [
        "Low Imbalance Ratio or high Samples to Features Ratio\n##############################################################################\n\n"
      ]
    },
    {
      "cell_type": "markdown",
      "metadata": {},
      "source": [
        "When $\\text{IR} = \\frac{\\text{\\# majority samples}}{\\text{\\# minority\nsamples}}$ (Imbalance Ratio) is low or $\\text{SFR} = \\frac{\\text{\\#\nsamples}}{\\text{\\# features}}$ (Samples to Features Ratio) is high then the\nminority selection strategy and higher absolute values of the truncation and\ndeformation factors dominate as optimal hyperparameters.\n\n"
      ]
    },
    {
      "cell_type": "code",
      "execution_count": null,
      "metadata": {
        "collapsed": false
      },
      "outputs": [],
      "source": [
        "X, y = generate_imbalanced_data([0.3, 0.7], 2000, 6, 4)\ngsmote_gbc = make_pipeline(GeometricSMOTE(random_state=RANDOM_STATE), \n                           DecisionTreeClassifier(random_state=RANDOM_STATE))\n\nscoring_name = 'Geometric Mean Score'\nvalidation_curve_info = generate_validation_curve_info(gsmote_gbc, X, y, range(1, 8), \"geometricsmote__k_neighbors\", SCORER)\nplot_validation_curve(validation_curve_info, scoring_name, 'K Neighbors')\n\nvalidation_curve_info = generate_validation_curve_info(gsmote_gbc, X, y, np.linspace(-1.0, 1.0, 9), \"geometricsmote__truncation_factor\", SCORER)\nplot_validation_curve(validation_curve_info, scoring_name, 'Truncation Factor')\n\nvalidation_curve_info = generate_validation_curve_info(gsmote_gbc, X, y, np.linspace(0.0, 1.0, 5), \"geometricsmote__deformation_factor\", SCORER)\nplot_validation_curve(validation_curve_info, scoring_name, 'Deformation Factor')\n\nvalidation_curve_info = generate_validation_curve_info(gsmote_gbc, X, y, ['minority', 'majority', 'combined'], \"geometricsmote__selection_strategy\", SCORER)\nplot_validation_curve(validation_curve_info, scoring_name, 'Selection Strategy')"
      ]
    },
    {
      "cell_type": "markdown",
      "metadata": {},
      "source": [
        "High Imbalance Ratio or low Samples to Features Ratio\n##############################################################################\n\n"
      ]
    },
    {
      "cell_type": "markdown",
      "metadata": {},
      "source": [
        "When $\\text{IR}$ is high or $\\text{SFR}$ is low then the majority\nor combined selection strategies and lower absolute values of the truncation\nand deformation factors dominate as optimal hyperparameters.\n\n"
      ]
    },
    {
      "cell_type": "code",
      "execution_count": null,
      "metadata": {
        "collapsed": false
      },
      "outputs": [],
      "source": [
        "X, y = generate_imbalanced_data([0.1, 0.9], 2000, 400, 200)\ngsmote_gbc = make_pipeline(GeometricSMOTE(random_state=RANDOM_STATE), \n                           LinearSVC(random_state=RANDOM_STATE, max_iter=1e5))\n\nscoring_name = 'Geometric Mean Score'\nvalidation_curve_info = generate_validation_curve_info(gsmote_gbc, X, y, range(1, 8), \"geometricsmote__k_neighbors\", SCORER)\nplot_validation_curve(validation_curve_info, scoring_name, 'K Neighbors')\n\nvalidation_curve_info = generate_validation_curve_info(gsmote_gbc, X, y, np.linspace(-1.0, 1.0, 9), \"geometricsmote__truncation_factor\", SCORER)\nplot_validation_curve(validation_curve_info, scoring_name, 'Truncation Factor')\n\nvalidation_curve_info = generate_validation_curve_info(gsmote_gbc, X, y, np.linspace(0.0, 1.0, 5), \"geometricsmote__deformation_factor\", SCORER)\nplot_validation_curve(validation_curve_info, scoring_name, 'Deformation Factor')\n\nvalidation_curve_info = generate_validation_curve_info(gsmote_gbc, X, y, ['minority', 'majority', 'combined'], \"geometricsmote__selection_strategy\", SCORER)\nplot_validation_curve(validation_curve_info, scoring_name, 'Selection Strategy')"
      ]
    }
  ],
  "metadata": {
    "kernelspec": {
      "display_name": "Python 3",
      "language": "python",
      "name": "python3"
    },
    "language_info": {
      "codemirror_mode": {
        "name": "ipython",
        "version": 3
      },
      "file_extension": ".py",
      "mimetype": "text/x-python",
      "name": "python",
      "nbconvert_exporter": "python",
      "pygments_lexer": "ipython3",
      "version": "3.7.3"
    }
  },
  "nbformat": 4,
  "nbformat_minor": 0
}