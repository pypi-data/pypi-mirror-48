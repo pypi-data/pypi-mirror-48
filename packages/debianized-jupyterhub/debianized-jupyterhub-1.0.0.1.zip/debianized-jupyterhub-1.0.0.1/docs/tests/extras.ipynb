{
 "cells": [
  {
   "cell_type": "markdown",
   "metadata": {},
   "source": [
    "# JupyterHub Integration Tests"
   ]
  },
  {
   "cell_type": "code",
   "execution_count": null,
   "metadata": {},
   "outputs": [],
   "source": [
    "import pandas as pd\n",
    "import plotly.offline as py\n",
    "import plotly.figure_factory as ff\n",
    "\n",
    "use_cdn = True  # use CDN, or embed about 6 MiB of JS?\n",
    "py.init_notebook_mode(connected=use_cdn)\n",
    "\n",
    "problems = []\n",
    "def problem(msg, *args, **kwargs):\n",
    "    \"\"\"Record a problem.\"\"\"\n",
    "    problems.append(msg.format(*args, **kwargs))"
   ]
  },
  {
   "cell_type": "markdown",
   "metadata": {},
   "source": [
    "## Common Problems"
   ]
  },
  {
   "cell_type": "markdown",
   "metadata": {},
   "source": [
    "Pillow installation with freetype support?"
   ]
  },
  {
   "cell_type": "code",
   "execution_count": null,
   "metadata": {},
   "outputs": [],
   "source": [
    "from PIL import ImageFont\n",
    "try:\n",
    "    ImageFont.truetype('arial', 10)\n",
    "except ImportError as cause:\n",
    "    problem('Pillow fonts: {}', cause)"
   ]
  },
  {
   "cell_type": "markdown",
   "metadata": {},
   "source": [
    "## Summary"
   ]
  },
  {
   "cell_type": "code",
   "execution_count": null,
   "metadata": {},
   "outputs": [],
   "source": [
    "table = ff.create_table(pd.DataFrame(problems, columns=['Message']))\n",
    "py.iplot(table)"
   ]
  }
 ],
 "metadata": {
  "kernelspec": {
   "display_name": "Python 3",
   "language": "python",
   "name": "python3"
  },
  "language_info": {
   "codemirror_mode": {
    "name": "ipython",
    "version": 3
   },
   "file_extension": ".py",
   "mimetype": "text/x-python",
   "name": "python",
   "nbconvert_exporter": "python",
   "pygments_lexer": "ipython3",
   "version": "3.6.8"
  }
 },
 "nbformat": 4,
 "nbformat_minor": 2
}
