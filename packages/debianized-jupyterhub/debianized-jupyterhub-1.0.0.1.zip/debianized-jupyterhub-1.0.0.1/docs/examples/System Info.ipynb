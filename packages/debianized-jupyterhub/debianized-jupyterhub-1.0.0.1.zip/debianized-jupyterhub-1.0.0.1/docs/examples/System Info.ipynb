{
 "cells": [
  {
   "cell_type": "code",
   "execution_count": null,
   "metadata": {},
   "outputs": [],
   "source": [
    "import os, sys, getpass, socket\n",
    "import jupyterhub\n",
    "print(sys.version, sys.prefix, os.getcwd(), getpass.getuser(), \n",
    "      'JupyterHub v' + jupyterhub.__version__,\n",
    "      socket.gethostname(), '\\n + '.join(sys.path), sep='\\n')"
   ]
  },
  {
   "cell_type": "code",
   "execution_count": null,
   "metadata": {},
   "outputs": [],
   "source": [
    "try:\n",
    "    import distro\n",
    "    info = distro.info()\n",
    "except ImportError:\n",
    "    info = 'pip install distro'\n",
    "info"
   ]
  }
 ],
 "metadata": {
  "kernelspec": {
   "display_name": "Python 3",
   "language": "python",
   "name": "python3"
  },
  "language_info": {
   "codemirror_mode": {
    "name": "ipython",
    "version": 3
   },
   "file_extension": ".py",
   "mimetype": "text/x-python",
   "name": "python",
   "nbconvert_exporter": "python",
   "pygments_lexer": "ipython3",
   "version": "3.5.3"
  }
 },
 "nbformat": 4,
 "nbformat_minor": 2
}
